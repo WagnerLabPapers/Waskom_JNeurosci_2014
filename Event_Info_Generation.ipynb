{
 "metadata": {
  "name": "Event_Info_Generation"
 },
 "nbformat": 3,
 "nbformat_minor": 0,
 "worksheets": [
  {
   "cells": [
    {
     "cell_type": "heading",
     "level": 1,
     "metadata": {},
     "source": [
      "Event Info Generation"
     ]
    },
    {
     "cell_type": "markdown",
     "metadata": {},
     "source": [
      "The cells in this notebook read the comprehensive behavioral data record (which itself has been generated from the `.mat` originally written by the PsychToolBox experimental code) and generate event files (in `.csv` form) for each subject and analysis problem.\n",
      "\n",
      "The basic format of the event files is a Pandas `DataFrame` with at least the following \n",
      "\n",
      "- `run`\n",
      "- `condition`\n",
      "- `onset`\n",
      "\n",
      "Additionally, the `duration` and `amplitude` fields can be specified, which are used in the iterated single-trial deconvolution routines. Further fields can be used for confounded regression -- in the code below, we save the `rt` (reaction time) fields for this purpose."
     ]
    },
    {
     "cell_type": "code",
     "collapsed": false,
     "input": [
      "import sys\n",
      "import os.path as op\n",
      "import numpy as np\n",
      "import pandas as pd"
     ],
     "language": "python",
     "metadata": {},
     "outputs": [],
     "prompt_number": 1
    },
    {
     "cell_type": "code",
     "collapsed": false,
     "input": [
      "subjects = np.loadtxt(\"../lyman/subjects.txt\", str)\n",
      "data_dir = \"/Users/mwaskom/Studies/DKsort/data\"\n",
      "behav_temp = op.join(data_dir, \"%s/behav/behav_data.csv\")\n",
      "event_temp = op.join(data_dir, \"%s/events/%s.csv\")\n",
      "\n",
      "dim_rules = [\"shape\", \"color\", \"pattern\"]\n",
      "dec_rules = [\"same\", \"different\"]\n",
      "\n",
      "sched_columns = [\"run\", \"condition\", \"onset\", \"rt\"]"
     ],
     "language": "python",
     "metadata": {},
     "outputs": [],
     "prompt_number": 2
    },
    {
     "cell_type": "code",
     "collapsed": false,
     "input": [
      "def dimension_rules(subj):\n",
      "\n",
      "    subj_df = pd.read_csv(behav_temp % subj)\n",
      "    sched = pd.DataFrame(columns=sched_columns, index=subj_df.index)\n",
      "    subj_df = subj_df[subj_df[\"clean\"] & subj_df[\"correct\"]]\n",
      "    sched.update(subj_df)\n",
      "    sched[\"condition\"] = subj_df.dim_rule.map(dict(enumerate(dim_rules)))\n",
      "    sched[\"onset\"] = subj_df.stim_time\n",
      "    sched = sched.dropna()\n",
      "    sched.to_csv(event_temp % (subj, \"dimension\"), index=False)"
     ],
     "language": "python",
     "metadata": {},
     "outputs": [],
     "prompt_number": 3
    },
    {
     "cell_type": "code",
     "collapsed": false,
     "input": [
      "def decision_rules(subj):\n",
      "\n",
      "    subj_df = pd.read_csv(behav_temp % subj)\n",
      "    sched = pd.DataFrame(columns=sched_columns, index=subj_df.index)\n",
      "    subj_df = subj_df[subj_df[\"clean\"] & subj_df[\"correct\"]]\n",
      "    sched.update(subj_df)\n",
      "    sched[\"condition\"] = subj_df.dec_rule.map(dict(enumerate(dec_rules)))\n",
      "    sched[\"onset\"] = subj_df.stim_time\n",
      "    sched = sched.dropna()\n",
      "    sched.to_csv(event_temp % (subj, \"decision\"), index=False)"
     ],
     "language": "python",
     "metadata": {},
     "outputs": [],
     "prompt_number": 4
    },
    {
     "cell_type": "code",
     "collapsed": false,
     "input": [
      "def dimension_cues(subj):\n",
      "\n",
      "    subj_df = pd.read_csv(behav_temp % subj)\n",
      "    sched = pd.DataFrame(columns=sched_columns, index=subj_df.index)\n",
      "    subj_df = subj_df[subj_df[\"clean\"] & subj_df[\"correct\"]]\n",
      "    subj_df = subj_df[subj_df.block_pos == 0]\n",
      "    sched.update(subj_df)\n",
      "    sched[\"condition\"] = subj_df.dim_rule.map(dict(enumerate(dim_rules)))\n",
      "    sched[\"onset\"] = subj_df.stim_time - 12\n",
      "    sched = sched.dropna()\n",
      "    sched.to_csv(event_temp % (subj, \"dimension_cue\"), index=False)"
     ],
     "language": "python",
     "metadata": {},
     "outputs": [],
     "prompt_number": 5
    },
    {
     "cell_type": "code",
     "collapsed": false,
     "input": [
      "for subj in subjects:\n",
      "    dimension_rules(subj)\n",
      "    decision_rules(subj)\n",
      "    dimension_cues(subj)"
     ],
     "language": "python",
     "metadata": {},
     "outputs": [],
     "prompt_number": 6
    }
   ],
   "metadata": {}
  }
 ]
}