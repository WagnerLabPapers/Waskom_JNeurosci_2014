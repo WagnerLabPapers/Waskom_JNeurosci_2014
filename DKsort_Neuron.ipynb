{
 "metadata": {
  "name": "DKsort_Neuron"
 },
 "nbformat": 3,
 "nbformat_minor": 0,
 "worksheets": [
  {
   "cells": [
    {
     "cell_type": "heading",
     "level": 1,
     "metadata": {},
     "source": [
      "DKsort Neuron Analysis Notebook"
     ]
    },
    {
     "cell_type": "code",
     "collapsed": false,
     "input": [
      "import itertools\n",
      "import numpy as np\n",
      "import scipy as sp\n",
      "import pandas as pd\n",
      "from scipy import stats\n",
      "import statsmodels.api as sm\n",
      "import statsmodels.formula.api as smf\n",
      "from sklearn.linear_model import LogisticRegression\n",
      "from sklearn.decomposition import PCA\n",
      "from scipy.interpolate import interp1d"
     ],
     "language": "python",
     "metadata": {},
     "outputs": [],
     "prompt_number": 1
    },
    {
     "cell_type": "code",
     "collapsed": false,
     "input": [
      "from lyman import mvpa, evoked\n",
      "import moss"
     ],
     "language": "python",
     "metadata": {},
     "outputs": [
      {
       "output_type": "stream",
       "stream": "stderr",
       "text": [
        "/Library/Frameworks/Python.framework/Versions/7.1/lib/python2.7/site-packages/nose/util.py:14: DeprecationWarning: The compiler package is deprecated and removed in Python 3.x.\n",
        "  from compiler.consts import CO_GENERATOR\n"
       ]
      }
     ],
     "prompt_number": 2
    },
    {
     "cell_type": "code",
     "collapsed": false,
     "input": [
      "%pylab inline\n",
      "import seaborn as sns\n",
      "sns.set(context=\"paper\")"
     ],
     "language": "python",
     "metadata": {},
     "outputs": [
      {
       "output_type": "stream",
       "stream": "stdout",
       "text": [
        "\n",
        "Welcome to pylab, a matplotlib-based Python environment [backend: module://IPython.zmq.pylab.backend_inline].\n",
        "For more information, type 'help(pylab)'.\n"
       ]
      }
     ],
     "prompt_number": 3
    },
    {
     "cell_type": "code",
     "collapsed": false,
     "input": [
      "%load_ext rmagic\n",
      "%R require(lme4);"
     ],
     "language": "python",
     "metadata": {},
     "outputs": [
      {
       "output_type": "display_data",
       "text": [
        "Loading required package: lme4\n",
        "Loading required package: Matrix\n",
        "Loading required package: lattice\n",
        "\n",
        "Attaching package: 'Matrix'\n",
        "\n",
        "The following object(s) are masked from 'package:base':\n",
        "\n",
        "    det\n",
        "\n",
        "\n",
        "Attaching package: 'lme4'\n",
        "\n",
        "The following object(s) are masked from 'package:stats':\n",
        "\n",
        "    AIC, BIC\n",
        "\n",
        "Warning messages:\n",
        "1: package 'lme4' was built under R version 2.13.2 \n",
        "2: package 'Matrix' was built under R version 2.13.2 \n"
       ]
      }
     ],
     "prompt_number": 4
    },
    {
     "cell_type": "code",
     "collapsed": false,
     "input": [
      "from IPython.parallel import Client\n",
      "dv = Client()[:]"
     ],
     "language": "python",
     "metadata": {},
     "outputs": [
      {
       "output_type": "stream",
       "stream": "stderr",
       "text": [
        "/Library/Frameworks/Python.framework/Versions/7.1/lib/python2.7/site-packages/ipython-0.13-py2.7.egg/IPython/parallel/client/client.py:441: RuntimeWarning: \n",
        "            Controller appears to be listening on localhost, but not on this machine.\n",
        "            If this is true, you should specify Client(...,sshserver='you@171.64.204.212')\n",
        "            or instruct your controller to listen on an external IP.\n",
        "  RuntimeWarning)\n"
       ]
      }
     ],
     "prompt_number": 5
    },
    {
     "cell_type": "code",
     "collapsed": false,
     "input": [
      "def save_figure(fig, figname):\n",
      "    fig.savefig(\"/Users/mwaskom/Dropbox/Manuscripts/DKsort_Neuron/figures/%s.pdf\" % figname)"
     ],
     "language": "python",
     "metadata": {},
     "outputs": [],
     "prompt_number": 6
    },
    {
     "cell_type": "code",
     "collapsed": false,
     "input": [
      "subjects = loadtxt(\"subjects.txt\", str)"
     ],
     "language": "python",
     "metadata": {},
     "outputs": [],
     "prompt_number": 7
    },
    {
     "cell_type": "heading",
     "level": 2,
     "metadata": {},
     "source": [
      "Behavioral Results"
     ]
    },
    {
     "cell_type": "code",
     "collapsed": false,
     "input": [
      "# Prepare the long-form behavioral data\n",
      "behav_temp = \"../data/%s/behav/behav_data.csv\"\n",
      "behav_data = []\n",
      "behav_data_resp = []\n",
      "response_acc = []\n",
      "for subj in subjects:\n",
      "    df = pd.read_csv(behav_temp % subj, index_col=\"trial\")\n",
      "    df[\"subj\"] = repeat(subj, len(df))\n",
      "    behav_data.append(df)\n",
      "behav_df = pd.concat(behav_data)\n",
      "behav_resp_df = behav_df[behav_df[\"made_resp\"]]\n",
      "behav_clean_df = behav_df[behav_df[\"clean\"] & behav_df[\"correct\"]]\n",
      "behav = moss.df_to_struct(behav_df)"
     ],
     "language": "python",
     "metadata": {},
     "outputs": [],
     "prompt_number": 8
    },
    {
     "cell_type": "code",
     "collapsed": false,
     "input": [
      "subj_accs = behav_df.groupby(\"subj\").mean()[\"correct\"]\n",
      "print \"Accuracy across subjects: Mean %.2g; Std %.2g; Min: %.2g\" % (mean(subj_accs), std(subj_accs), min(subj_accs))"
     ],
     "language": "python",
     "metadata": {},
     "outputs": [
      {
       "output_type": "stream",
       "stream": "stdout",
       "text": [
        "Accuracy across subjects: Mean 0.95; Std 0.032; Min: 0.87\n"
       ]
      }
     ],
     "prompt_number": 9
    },
    {
     "cell_type": "code",
     "collapsed": false,
     "input": [
      "subj_rts = behav_resp_df.groupby(\"subj\").median()[\"rt\"]\n",
      "print \"Median RT across subjects: Mean %.3g; Std %.3g\" % (mean(subj_rts), std(subj_rts)) \n",
      "subj_rt_iqrs = behav_resp_df.groupby(\"subj\").aggregate(moss.iqr)[\"rt\"]\n",
      "print \"RT IQRs across subjects: Mean: %.3g, Std %.3g\" % (mean(subj_rt_iqrs), std(subj_rt_iqrs))"
     ],
     "language": "python",
     "metadata": {},
     "outputs": [
      {
       "output_type": "stream",
       "stream": "stdout",
       "text": [
        "Median RT across subjects: Mean 0.826; Std 0.201\n",
        "RT IQRs across subjects: Mean: 0.314, Std 0.0998\n"
       ]
      }
     ],
     "prompt_number": 10
    },
    {
     "cell_type": "code",
     "collapsed": false,
     "input": [
      "%%R -i behav\n",
      "behav$dim = factor(behav$dim_rule, labels=c(\"shape\", \"color\", \"pattern\"))\n",
      "behav$dec = factor(behav$dec_rule, labels=c(\"match\", \"nonmatch\"))\n",
      "behav_resp = behav[behav$made_resp, ]"
     ],
     "language": "python",
     "metadata": {},
     "outputs": [],
     "prompt_number": 11
    },
    {
     "cell_type": "code",
     "collapsed": false,
     "input": [
      "%%R  # Test for interaction in RT model\n",
      "\n",
      "m.rt.int = lmer(rt ~ dim * dec + (dim + dec | subj), behav_resp, REML=F)\n",
      "m.rt.add = lmer(rt ~ dim + dec + (dim + dec | subj), behav_resp, REML=F)\n",
      "print(anova(m.rt.int))\n",
      "print(anova(m.rt.int, m.rt.add))"
     ],
     "language": "python",
     "metadata": {},
     "outputs": [
      {
       "output_type": "display_data",
       "text": [
        "Analysis of Variance Table\n",
        "        Df  Sum Sq Mean Sq F value\n",
        "dim      2 0.03792 0.01896  0.2443\n",
        "dec      1 2.26023 2.26023 29.1194\n",
        "dim:dec  2 0.08815 0.04407  0.5678\n",
        "Data: behav_resp\n",
        "Models:\n",
        "m.rt.add: rt ~ dim + dec + (dim + dec | subj)\n",
        "m.rt.int: rt ~ dim * dec + (dim + dec | subj)\n",
        "         Df    AIC    BIC  logLik  Chisq Chi Df Pr(>Chisq)\n",
        "m.rt.add 15 1331.7 1427.0 -650.86                         \n",
        "m.rt.int 17 1334.6 1442.6 -650.29 1.1354      2     0.5668\n"
       ]
      }
     ],
     "prompt_number": 12
    },
    {
     "cell_type": "code",
     "collapsed": false,
     "input": [
      "%%R # Summary of the full additive model\n",
      "\n",
      "print(summary(m.rt.add))\n",
      "print(anova(m.rt.add))"
     ],
     "language": "python",
     "metadata": {},
     "outputs": [
      {
       "output_type": "display_data",
       "text": [
        "Linear mixed model fit by maximum likelihood \n",
        "Formula: rt ~ dim + dec + (dim + dec | subj) \n",
        "   Data: behav_resp \n",
        "  AIC  BIC logLik deviance REMLdev\n",
        " 1332 1427 -650.9     1302    1326\n",
        "Random effects:\n",
        " Groups   Name        Variance   Std.Dev. Corr                 \n",
        " subj     (Intercept) 0.04469256 0.211406                      \n",
        "          dimcolor    0.00105934 0.032548 -0.033               \n",
        "          dimpattern  0.00020008 0.014145 -0.441 -0.882        \n",
        "          decnonmatch 0.00299906 0.054764 -0.376  0.283 -0.077 \n",
        " Residual             0.07764131 0.278642                      \n",
        "Number of obs: 4237, groups: subj, 15\n",
        "\n",
        "Fixed effects:\n",
        "            Estimate Std. Error t value\n",
        "(Intercept) 0.826277   0.055254  14.954\n",
        "dimcolor    0.017373   0.013428   1.294\n",
        "dimpattern  0.005406   0.011114   0.486\n",
        "decnonmatch 0.089202   0.016531   5.396\n",
        "\n",
        "Correlation of Fixed Effects:\n",
        "            (Intr) dimclr dmpttr\n",
        "dimcolor    -0.095              \n",
        "dimpattern  -0.233  0.187       \n",
        "decnonmatch -0.358  0.152 -0.019\n",
        "Analysis of Variance Table\n",
        "    Df  Sum Sq Mean Sq F value\n",
        "dim  2 0.03786 0.01893  0.2438\n",
        "dec  1 2.26076 2.26076 29.1180\n"
       ]
      }
     ],
     "prompt_number": 13
    },
    {
     "cell_type": "code",
     "collapsed": false,
     "input": [
      "%%R  # Tests of main effects in additive RT model\n",
      "\n",
      "m.rt.dim = lmer(rt ~ dec + (dim + dec | subj), behav_resp, REML=F)\n",
      "m.rt.dec = lmer(rt ~ dim + (dim + dec | subj), behav_resp, REML=F)\n",
      "cat(\"\\n\\nTest of dimension rule main effect\\n\")\n",
      "print(anova(m.rt.add, m.rt.dim))\n",
      "cat(\"\\n\\nTest of decision rule main effect\\n\")\n",
      "print(anova(m.rt.add, m.rt.dec))"
     ],
     "language": "python",
     "metadata": {},
     "outputs": [
      {
       "output_type": "display_data",
       "text": [
        "\n",
        "\n",
        "Test of dimension rule main effect\n",
        "Data: behav_resp\n",
        "Models:\n",
        "m.rt.dim: rt ~ dec + (dim + dec | subj)\n",
        "m.rt.add: rt ~ dim + dec + (dim + dec | subj)\n",
        "         Df    AIC  BIC  logLik  Chisq Chi Df Pr(>Chisq)\n",
        "m.rt.dim 13 1329.4 1412 -651.70                         \n",
        "m.rt.add 15 1331.7 1427 -650.86 1.6749      2     0.4328\n",
        "\n",
        "\n",
        "Test of decision rule main effect\n",
        "Data: behav_resp\n",
        "Models:\n",
        "m.rt.dec: rt ~ dim + (dim + dec | subj)\n",
        "m.rt.add: rt ~ dim + dec + (dim + dec | subj)\n",
        "         Df    AIC    BIC  logLik  Chisq Chi Df Pr(>Chisq)    \n",
        "m.rt.dec 14 1345.9 1434.8 -658.95                             \n",
        "m.rt.add 15 1331.7 1427.0 -650.86 16.191      1  5.726e-05 ***\n",
        "---\n",
        "Signif. codes:  0 '***' 0.001 '**' 0.01 '*' 0.05 '.' 0.1 ' ' 1 \n"
       ]
      }
     ],
     "prompt_number": 14
    },
    {
     "cell_type": "code",
     "collapsed": false,
     "input": [
      "diff_rule_cost = np.diff(pd.pivot_table(behav_resp_df, \"rt\", \"subj\", \"dec_rule\", np.median), axis=1)\n",
      "diff_rule_boots = moss.bootstrap(diff_rule_cost)\n",
      "ci_low, ci_high = moss.percentiles(diff_rule_boots, [2.5, 97.5])\n",
      "print \"'Different' rule effect: Mean %.3g, CI: [%.3g, %.3g]\" % (diff_rule_boots.mean(), ci_low, ci_high)"
     ],
     "language": "python",
     "metadata": {},
     "outputs": [
      {
       "output_type": "stream",
       "stream": "stdout",
       "text": [
        "'Different' rule effect: Mean 0.0964, CI: [0.0689, 0.125]\n"
       ]
      }
     ],
     "prompt_number": 15
    },
    {
     "cell_type": "code",
     "collapsed": false,
     "input": [
      "%%R # Test of interactive vs additive model in mixed logit model for accuracy\n",
      "\n",
      "m.acc.int = lmer(correct ~ dim * dec + (dim + dec | subj), behav, family=\"binomial\")\n",
      "m.acc.add = lmer(correct ~ dim + dec + (dim + dec | subj), behav, family=\"binomial\")\n",
      "print(anova(m.acc.int, m.acc.add))"
     ],
     "language": "python",
     "metadata": {},
     "outputs": [
      {
       "output_type": "display_data",
       "text": [
        "Data: behav\n",
        "Models:\n",
        "m.acc.add: correct ~ dim + dec + (dim + dec | subj)\n",
        "m.acc.int: correct ~ dim * dec + (dim + dec | subj)\n",
        "          Df    AIC    BIC  logLik  Chisq Chi Df Pr(>Chisq)\n",
        "m.acc.add 14 1695.3 1784.5 -833.65                         \n",
        "m.acc.int 16 1699.2 1801.2 -833.61 0.0823      2     0.9597\n"
       ]
      }
     ],
     "prompt_number": 16
    },
    {
     "cell_type": "code",
     "collapsed": false,
     "input": [
      "%%R # Summary table for accuracy mixed model\n",
      "\n",
      "print(summary(m.acc.add))"
     ],
     "language": "python",
     "metadata": {},
     "outputs": [
      {
       "output_type": "display_data",
       "text": [
        "Generalized linear mixed model fit by the Laplace approximation \n",
        "Formula: correct ~ dim + dec + (dim + dec | subj) \n",
        "   Data: behav \n",
        "  AIC  BIC logLik deviance\n",
        " 1695 1784 -833.7     1667\n",
        "Random effects:\n",
        " Groups Name        Variance Std.Dev. Corr                 \n",
        " subj   (Intercept) 0.40052  0.63287                       \n",
        "        dimcolor    0.30248  0.54998  -0.307               \n",
        "        dimpattern  0.15899  0.39874  -0.478  0.983        \n",
        "        decnonmatch 0.15594  0.39489  -0.043 -0.416 -0.376 \n",
        "Number of obs: 4320, groups: subj, 15\n",
        "\n",
        "Fixed effects:\n",
        "            Estimate Std. Error z value Pr(>|z|)    \n",
        "(Intercept)   3.3614     0.2260  14.875   <2e-16 ***\n",
        "dimcolor      0.1406     0.2352   0.598   0.5499    \n",
        "dimpattern   -0.1755     0.2013  -0.872   0.3832    \n",
        "decnonmatch  -0.4031     0.1805  -2.233   0.0255 *  \n",
        "---\n",
        "Signif. codes:  0 '***' 0.001 '**' 0.01 '*' 0.05 '.' 0.1 ' ' 1 \n",
        "\n",
        "Correlation of Fixed Effects:\n",
        "            (Intr) dimclr dmpttr\n",
        "dimcolor    -0.442              \n",
        "dimpattern  -0.536  0.667       \n",
        "decnonmatch -0.330 -0.155 -0.116\n"
       ]
      }
     ],
     "prompt_number": 17
    },
    {
     "cell_type": "code",
     "collapsed": false,
     "input": [
      "%%R # Likelihood ratio tests for the main effects in the additive accuracy model\n",
      "\n",
      "m.acc.dim = lmer(correct ~ dec + (dim + dec | subj), behav, REML=F, family=\"binomial\")\n",
      "m.acc.dec = lmer(correct ~ dim + (dim + dec | subj), behav, REML=F, family=\"binomial\")\n",
      "cat(\"\\n\\nTest of dimension rule main effect\\n\")\n",
      "print(anova(m.acc.add, m.acc.dim))\n",
      "cat(\"\\n\\nTest of decision rule main effect\\n\")\n",
      "print(anova(m.acc.add, m.acc.dec))"
     ],
     "language": "python",
     "metadata": {},
     "outputs": [
      {
       "output_type": "display_data",
       "text": [
        "\n",
        "\n",
        "Test of dimension rule main effect\n",
        "Data: behav\n",
        "Models:\n",
        "m.acc.dim: correct ~ dec + (dim + dec | subj)\n",
        "m.acc.add: correct ~ dim + dec + (dim + dec | subj)\n",
        "          Df    AIC    BIC  logLik  Chisq Chi Df Pr(>Chisq)\n",
        "m.acc.dim 12 1693.9 1770.3 -834.93                         \n",
        "m.acc.add 14 1695.3 1784.5 -833.65 2.5628      2     0.2777\n",
        "\n",
        "\n",
        "Test of decision rule main effect\n",
        "Data: behav\n",
        "Models:\n",
        "m.acc.dec: correct ~ dim + (dim + dec | subj)\n",
        "m.acc.add: correct ~ dim + dec + (dim + dec | subj)\n",
        "          Df    AIC    BIC  logLik  Chisq Chi Df Pr(>Chisq)  \n",
        "m.acc.dec 13 1697.1 1779.9 -835.54                           \n",
        "m.acc.add 14 1695.3 1784.5 -833.65 3.7819      1    0.05181 .\n",
        "---\n",
        "Signif. codes:  0 '***' 0.001 '**' 0.01 '*' 0.05 '.' 0.1 ' ' 1 \n"
       ]
      }
     ],
     "prompt_number": 18
    },
    {
     "cell_type": "code",
     "collapsed": false,
     "input": [
      "diff_corr_cost = np.diff(pd.pivot_table(behav_df, \"correct\", \"subj\", \"dec_rule\"), axis=1).mean()\n",
      "print \"'Different' rule correctness cost: %.3g%%\" % (diff_corr_cost * -100)"
     ],
     "language": "python",
     "metadata": {},
     "outputs": [
      {
       "output_type": "stream",
       "stream": "stdout",
       "text": [
        "'Different' rule correctness cost: 1.94%\n"
       ]
      }
     ],
     "prompt_number": 19
    },
    {
     "cell_type": "heading",
     "level": 2,
     "metadata": {},
     "source": [
      "Context Decoding in Lateral PFC"
     ]
    },
    {
     "cell_type": "code",
     "collapsed": false,
     "input": [
      "def accuracy_table(rois, accs):\n",
      "    as_dict = {roi: accs[roi].mean(axis=0) for roi in rois}\n",
      "    as_df = pd.DataFrame(as_dict, index=frames * 2, columns=rois).T\n",
      "    as_df[\"max\"] = as_df.max(axis=1)\n",
      "    return as_df"
     ],
     "language": "python",
     "metadata": {},
     "outputs": [],
     "prompt_number": 20
    },
    {
     "cell_type": "code",
     "collapsed": false,
     "input": [
      "rules = [\"dimension\", \"decision\"]\n",
      "roi_colors = dict(IFS=\"#CC3333\", aMFG=\"#3380CC\", pMFG=\"#33CC80\", pSFS=\"#CC8033\",\n",
      "                  IFG=\"#6464D8\", FPC=\"#CCCC33\", IPS=\"#2A4380\", OTC=\"#24913C\")\n",
      "                  "
     ],
     "language": "python",
     "metadata": {},
     "outputs": [],
     "prompt_number": 21
    },
    {
     "cell_type": "code",
     "collapsed": false,
     "input": [
      "pfc_rois = [\"IFS\", \"aMFG\", \"pMFG\", \"FPC\", \"pSFS\", \"IFG\"]\n",
      "pfc_masks = [\"ifs\", \"amfg\", \"pmfg\", \"fpc\", \"psfs\", \"lifg\"]"
     ],
     "language": "python",
     "metadata": {},
     "outputs": [],
     "prompt_number": 22
    },
    {
     "cell_type": "code",
     "collapsed": false,
     "input": [
      "# Set some parameters\n",
      "frames = np.arange(-1, 5)\n",
      "model = LogisticRegression()\n",
      "n_shuffle = 100\n",
      "shuffle_seed = 42\n",
      "n_tests = len(frames) * len(pfc_rois)\n",
      "dv = dv"
     ],
     "language": "python",
     "metadata": {},
     "outputs": [],
     "prompt_number": 23
    },
    {
     "cell_type": "code",
     "collapsed": false,
     "input": [
      "pfc_accs = dict()\n",
      "pfc_chance = dict()\n",
      "pfc_counts = dict()\n",
      "\n",
      "for rule in rules:\n",
      "    pfc_accs[rule] = dict()\n",
      "    pfc_counts[rule] = dict()\n",
      "    pfc_chance[rule] = dict()\n",
      "\n",
      "    null_dists = dict()\n",
      "    \n",
      "    # Load the data, decode, and perform shuffle tests\n",
      "    for roi, mask in zip(pfc_rois, pfc_masks):\n",
      "        ds = mvpa.load_datasets(rule, roi, \"yeo17_%s-graymid\" % mask, frames)\n",
      "        pfc_accs[rule][roi] = mvpa.decode_group(ds, model)\n",
      "        null_dists[roi] = mvpa.classifier_permutations(ds, model, n_iter=n_shuffle, random_seed=shuffle_seed, dv=dv)\n",
      "        pfc_chance[rule][roi] = np.array([np.mean(d, axis=0) for d in null_dists[roi]])\n",
      "    \n",
      "    # Calculate a null distribution of the max statistic for each subject\n",
      "    max_dists = []\n",
      "    for i_s, subj in enumerate(subjects):\n",
      "        subj_dist = np.reshape([null_dists[roi][i_s] for roi in pfc_rois], (n_shuffle, n_tests))\n",
      "        max_dists.append(np.max(subj_dist, axis=1))\n",
      "    criterion = np.array([moss.percentiles(x, 95) for x in max_dists])[:, None]\n",
      "    \n",
      "    # Count the number of subjects exceeding the max statistic criterion\n",
      "    for roi in pfc_rois:\n",
      "        pfc_counts[rule][roi] = np.sum(np.any(pfc_accs[rule][roi] > criterion, axis=1))"
     ],
     "language": "python",
     "metadata": {},
     "outputs": [],
     "prompt_number": 24
    },
    {
     "cell_type": "code",
     "collapsed": true,
     "input": [
      "t_vals = dict()\n",
      "corr_p_vals = dict()\n",
      "for rule in rules:\n",
      "    t_vals[rule] = dict()\n",
      "    null_t_dists = []\n",
      "    for roi in pfc_rois:\n",
      "        t_vals[rule][roi] = [] \n",
      "        for tr_i, tr_data in enumerate(pfc_accs[rule][roi].T):\n",
      "            chance = pfc_chance[rule][roi].T[tr_i]\n",
      "            score = tr_data - chance\n",
      "            t, p, null_dist = moss.randomize_onesample(score, 10000, random_seed=shuffle_seed, return_dist=True)\n",
      "            t_vals[rule][roi].append(t)\n",
      "            null_t_dists.append(null_dist)\n",
      "    max_t_dist = np.max(null_t_dists, axis=0)\n",
      "    cdf = sm.distributions.ECDF(max_t_dist)\n",
      "    corr_p_vals[rule] = {roi: 1 - cdf(t) for roi, t in t_vals[rule].items()}"
     ],
     "language": "python",
     "metadata": {},
     "outputs": [],
     "prompt_number": 25
    },
    {
     "cell_type": "code",
     "collapsed": false,
     "input": [
      "f = figure(figsize=(10.5, 5.5))\n",
      "\n",
      "# Plot the accuracy timeseries in each region\n",
      "ax = f.add_axes([.05, .05, .73, .9])\n",
      "x = arange(-1, 5)\n",
      "for roi in pfc_rois:\n",
      "    accs = pfc_accs[\"dimension\"][roi]\n",
      "    sns.tsplot(x, accs, color=roi_colors[roi], label=roi, ax=ax)\n",
      "chance = np.array(pfc_chance[\"dimension\"].values()).reshape(-1, 6).mean(axis=0)\n",
      "ax.plot(x, chance, c=\"k\", ls=\"--\", label=\"chance\")\n",
      "ax.axvline(0, c=\"k\", ls=\":\", lw=1.5)\n",
      "ax.set_xlim(-1, 4)\n",
      "ax.set_ylabel(\"Cross-Validated Decoding Accuracy\")\n",
      "ax.set_xticklabels(arange(-1, 5) * 2)\n",
      "ax.set_xlabel(\"Peristimulus Time (s)\")\n",
      "ax.legend(prop=dict(size=12))\n",
      "\n",
      "# Plot the number of subjects exceeding the criterion\n",
      "ax_bar = f.add_axes([.8, .05, .15, .9])\n",
      "for i, roi in enumerate(pfc_rois):\n",
      "    bar_color = sns.desaturate(roi_colors[roi], .7)\n",
      "    ax_bar.bar(i, pfc_counts[\"dimension\"][roi], width=1, color=bar_color, ec=\"none\")\n",
      "ax_bar.yaxis.tick_right()\n",
      "ax_bar.yaxis.set_label_position(\"right\")\n",
      "ax_bar.set_ylim((0, 15))\n",
      "ax_bar.set_yticks(arange(16))\n",
      "ax_bar.set_xticklabels(pfc_rois, rotation=60)\n",
      "ax_bar.set_ylabel(\"Subjects with Above-Chance Decoding\", fontdict=dict(rotation=270));"
     ],
     "language": "python",
     "metadata": {},
     "outputs": [
      {
       "output_type": "display_data",
       "png": "[encoded data removed]"
      }
     ],
     "prompt_number": 26
    },
    {
     "cell_type": "code",
     "collapsed": false,
     "input": [
      "accuracy_table(pfc_rois, pfc_accs[\"dimension\"])"
     ],
     "language": "python",
     "metadata": {},
     "outputs": [
      {
       "html": [
        "<div style=\"max-height:1000px;max-width:1500px;overflow:auto;\">\n",
        "<table border=\"1\" class=\"dataframe\">\n",
        "  <thead>\n",
        "    <tr style=\"text-align: right;\">\n",
        "      <th></th>\n",
        "      <th>-2</th>\n",
        "      <th>0</th>\n",
        "      <th>2</th>\n",
        "      <th>4</th>\n",
        "      <th>6</th>\n",
        "      <th>8</th>\n",
        "      <th>max</th>\n",
        "    </tr>\n",
        "  </thead>\n",
        "  <tbody>\n",
        "    <tr>\n",
        "      <td><strong>IFS</strong></td>\n",
        "      <td> 0.342102</td>\n",
        "      <td> 0.346934</td>\n",
        "      <td> 0.461368</td>\n",
        "      <td> 0.440152</td>\n",
        "      <td> 0.358985</td>\n",
        "      <td> 0.366935</td>\n",
        "      <td> 0.461368</td>\n",
        "    </tr>\n",
        "    <tr>\n",
        "      <td><strong>aMFG</strong></td>\n",
        "      <td> 0.352507</td>\n",
        "      <td> 0.359267</td>\n",
        "      <td> 0.365798</td>\n",
        "      <td> 0.386032</td>\n",
        "      <td> 0.346620</td>\n",
        "      <td> 0.350618</td>\n",
        "      <td> 0.386032</td>\n",
        "    </tr>\n",
        "    <tr>\n",
        "      <td><strong>pMFG</strong></td>\n",
        "      <td> 0.348797</td>\n",
        "      <td> 0.361218</td>\n",
        "      <td> 0.380029</td>\n",
        "      <td> 0.385163</td>\n",
        "      <td> 0.344696</td>\n",
        "      <td> 0.341535</td>\n",
        "      <td> 0.385163</td>\n",
        "    </tr>\n",
        "    <tr>\n",
        "      <td><strong>FPC</strong></td>\n",
        "      <td> 0.336256</td>\n",
        "      <td> 0.355172</td>\n",
        "      <td> 0.360313</td>\n",
        "      <td> 0.358835</td>\n",
        "      <td> 0.351340</td>\n",
        "      <td> 0.324812</td>\n",
        "      <td> 0.360313</td>\n",
        "    </tr>\n",
        "    <tr>\n",
        "      <td><strong>pSFS</strong></td>\n",
        "      <td> 0.329364</td>\n",
        "      <td> 0.333158</td>\n",
        "      <td> 0.374377</td>\n",
        "      <td> 0.367362</td>\n",
        "      <td> 0.357672</td>\n",
        "      <td> 0.353590</td>\n",
        "      <td> 0.374377</td>\n",
        "    </tr>\n",
        "    <tr>\n",
        "      <td><strong>IFG</strong></td>\n",
        "      <td> 0.342905</td>\n",
        "      <td> 0.334300</td>\n",
        "      <td> 0.360146</td>\n",
        "      <td> 0.349180</td>\n",
        "      <td> 0.340078</td>\n",
        "      <td> 0.337541</td>\n",
        "      <td> 0.360146</td>\n",
        "    </tr>\n",
        "  </tbody>\n",
        "</table>\n",
        "</div>"
       ],
       "output_type": "pyout",
       "prompt_number": 27,
       "text": [
        "            -2         0         2         4         6         8       max\n",
        "IFS   0.342102  0.346934  0.461368  0.440152  0.358985  0.366935  0.461368\n",
        "aMFG  0.352507  0.359267  0.365798  0.386032  0.346620  0.350618  0.386032\n",
        "pMFG  0.348797  0.361218  0.380029  0.385163  0.344696  0.341535  0.385163\n",
        "FPC   0.336256  0.355172  0.360313  0.358835  0.351340  0.324812  0.360313\n",
        "pSFS  0.329364  0.333158  0.374377  0.367362  0.357672  0.353590  0.374377\n",
        "IFG   0.342905  0.334300  0.360146  0.349180  0.340078  0.337541  0.360146"
       ]
      }
     ],
     "prompt_number": 27
    },
    {
     "cell_type": "code",
     "collapsed": false,
     "input": [
      "pd.DataFrame(t_vals[\"dimension\"], index=frames * 2).T"
     ],
     "language": "python",
     "metadata": {},
     "outputs": [
      {
       "html": [
        "<div style=\"max-height:1000px;max-width:1500px;overflow:auto;\">\n",
        "<table border=\"1\" class=\"dataframe\">\n",
        "  <thead>\n",
        "    <tr style=\"text-align: right;\">\n",
        "      <th></th>\n",
        "      <th>-2</th>\n",
        "      <th>0</th>\n",
        "      <th>2</th>\n",
        "      <th>4</th>\n",
        "      <th>6</th>\n",
        "      <th>8</th>\n",
        "    </tr>\n",
        "  </thead>\n",
        "  <tbody>\n",
        "    <tr>\n",
        "      <td><strong>FPC</strong></td>\n",
        "      <td> 0.168649</td>\n",
        "      <td> 1.903455</td>\n",
        "      <td> 3.755338</td>\n",
        "      <td> 3.132938</td>\n",
        "      <td> 1.536052</td>\n",
        "      <td>-0.965680</td>\n",
        "    </tr>\n",
        "    <tr>\n",
        "      <td><strong>IFG</strong></td>\n",
        "      <td> 0.946641</td>\n",
        "      <td> 0.017508</td>\n",
        "      <td> 1.851856</td>\n",
        "      <td> 1.749640</td>\n",
        "      <td> 0.662463</td>\n",
        "      <td> 0.408564</td>\n",
        "    </tr>\n",
        "    <tr>\n",
        "      <td><strong>IFS</strong></td>\n",
        "      <td> 0.724373</td>\n",
        "      <td> 1.364049</td>\n",
        "      <td> 9.021113</td>\n",
        "      <td> 8.715893</td>\n",
        "      <td> 2.331451</td>\n",
        "      <td> 4.537186</td>\n",
        "    </tr>\n",
        "    <tr>\n",
        "      <td><strong>aMFG</strong></td>\n",
        "      <td> 1.351897</td>\n",
        "      <td> 2.936085</td>\n",
        "      <td> 2.398311</td>\n",
        "      <td> 5.932964</td>\n",
        "      <td> 1.414728</td>\n",
        "      <td> 2.020006</td>\n",
        "    </tr>\n",
        "    <tr>\n",
        "      <td><strong>pMFG</strong></td>\n",
        "      <td> 1.661842</td>\n",
        "      <td> 2.848816</td>\n",
        "      <td> 3.562821</td>\n",
        "      <td> 6.570917</td>\n",
        "      <td> 1.545931</td>\n",
        "      <td> 0.722503</td>\n",
        "    </tr>\n",
        "    <tr>\n",
        "      <td><strong>pSFS</strong></td>\n",
        "      <td>-0.352618</td>\n",
        "      <td>-0.010227</td>\n",
        "      <td> 2.815338</td>\n",
        "      <td> 3.359814</td>\n",
        "      <td> 2.197993</td>\n",
        "      <td> 2.344230</td>\n",
        "    </tr>\n",
        "  </tbody>\n",
        "</table>\n",
        "</div>"
       ],
       "output_type": "pyout",
       "prompt_number": 28,
       "text": [
        "            -2         0         2         4         6         8\n",
        "FPC   0.168649  1.903455  3.755338  3.132938  1.536052 -0.965680\n",
        "IFG   0.946641  0.017508  1.851856  1.749640  0.662463  0.408564\n",
        "IFS   0.724373  1.364049  9.021113  8.715893  2.331451  4.537186\n",
        "aMFG  1.351897  2.936085  2.398311  5.932964  1.414728  2.020006\n",
        "pMFG  1.661842  2.848816  3.562821  6.570917  1.545931  0.722503\n",
        "pSFS -0.352618 -0.010227  2.815338  3.359814  2.197993  2.344230"
       ]
      }
     ],
     "prompt_number": 28
    },
    {
     "cell_type": "code",
     "collapsed": false,
     "input": [
      "pd.DataFrame(corr_p_vals[\"dimension\"], index=frames * 2).T"
     ],
     "language": "python",
     "metadata": {},
     "outputs": [
      {
       "html": [
        "<div style=\"max-height:1000px;max-width:1500px;overflow:auto;\">\n",
        "<table border=\"1\" class=\"dataframe\">\n",
        "  <thead>\n",
        "    <tr style=\"text-align: right;\">\n",
        "      <th></th>\n",
        "      <th>-2</th>\n",
        "      <th>0</th>\n",
        "      <th>2</th>\n",
        "      <th>4</th>\n",
        "      <th>6</th>\n",
        "      <th>8</th>\n",
        "    </tr>\n",
        "  </thead>\n",
        "  <tbody>\n",
        "    <tr>\n",
        "      <td><strong>FPC</strong></td>\n",
        "      <td> 0.9993</td>\n",
        "      <td> 0.5552</td>\n",
        "      <td> 0.0308</td>\n",
        "      <td> 0.0941</td>\n",
        "      <td> 0.7396</td>\n",
        "      <td> 1.0000</td>\n",
        "    </tr>\n",
        "    <tr>\n",
        "      <td><strong>IFG</strong></td>\n",
        "      <td> 0.9414</td>\n",
        "      <td> 0.9998</td>\n",
        "      <td> 0.5819</td>\n",
        "      <td> 0.6367</td>\n",
        "      <td> 0.9817</td>\n",
        "      <td> 0.9963</td>\n",
        "    </tr>\n",
        "    <tr>\n",
        "      <td><strong>IFS</strong></td>\n",
        "      <td> 0.9766</td>\n",
        "      <td> 0.8099</td>\n",
        "      <td> 0.0000</td>\n",
        "      <td> 0.0000</td>\n",
        "      <td> 0.3374</td>\n",
        "      <td> 0.0077</td>\n",
        "    </tr>\n",
        "    <tr>\n",
        "      <td><strong>aMFG</strong></td>\n",
        "      <td> 0.8156</td>\n",
        "      <td> 0.1309</td>\n",
        "      <td> 0.3054</td>\n",
        "      <td> 0.0001</td>\n",
        "      <td> 0.7913</td>\n",
        "      <td> 0.4930</td>\n",
        "    </tr>\n",
        "    <tr>\n",
        "      <td><strong>pMFG</strong></td>\n",
        "      <td> 0.6828</td>\n",
        "      <td> 0.1525</td>\n",
        "      <td> 0.0434</td>\n",
        "      <td> 0.0001</td>\n",
        "      <td> 0.7348</td>\n",
        "      <td> 0.9769</td>\n",
        "    </tr>\n",
        "    <tr>\n",
        "      <td><strong>pSFS</strong></td>\n",
        "      <td> 1.0000</td>\n",
        "      <td> 0.9999</td>\n",
        "      <td> 0.1615</td>\n",
        "      <td> 0.0637</td>\n",
        "      <td> 0.4047</td>\n",
        "      <td> 0.3315</td>\n",
        "    </tr>\n",
        "  </tbody>\n",
        "</table>\n",
        "</div>"
       ],
       "output_type": "pyout",
       "prompt_number": 29,
       "text": [
        "          -2       0       2       4       6       8\n",
        "FPC   0.9993  0.5552  0.0308  0.0941  0.7396  1.0000\n",
        "IFG   0.9414  0.9998  0.5819  0.6367  0.9817  0.9963\n",
        "IFS   0.9766  0.8099  0.0000  0.0000  0.3374  0.0077\n",
        "aMFG  0.8156  0.1309  0.3054  0.0001  0.7913  0.4930\n",
        "pMFG  0.6828  0.1525  0.0434  0.0001  0.7348  0.9769\n",
        "pSFS  1.0000  0.9999  0.1615  0.0637  0.4047  0.3315"
       ]
      }
     ],
     "prompt_number": 29
    },
    {
     "cell_type": "code",
     "collapsed": false,
     "input": [
      "print \"ROIs with significant group test for dimension rule: \",\n",
      "print \", \".join([roi for roi, vals in corr_p_vals[\"dimension\"].items() if np.any(vals < 0.05)])"
     ],
     "language": "python",
     "metadata": {},
     "outputs": [
      {
       "output_type": "stream",
       "stream": "stdout",
       "text": [
        "ROIs with significant group test for dimension rule:  FPC, IFS, aMFG, pMFG\n"
       ]
      }
     ],
     "prompt_number": 30
    },
    {
     "cell_type": "code",
     "collapsed": false,
     "input": [
      "f, ax = subplots(1, 1, figsize=(7, 5.5))\n",
      "t_mat = np.zeros((6, 6))\n",
      "p_mat = np.zeros((6, 6))\n",
      "for i, roi_i in enumerate(pfc_rois):\n",
      "    for j, roi_j in enumerate(pfc_rois[(i + 1):], i + 1):\n",
      "        data_i = pfc_accs[\"dimension\"][roi_i].max(axis=1)\n",
      "        data_j = pfc_accs[\"dimension\"][roi_j].max(axis=1)\n",
      "        t, p = stats.ttest_rel(data_i, data_j)\n",
      "        t_mat[[(i, j), (j, i)]], p_mat[[(i, j), (j, i)]] = t, p\n",
      "t_mat = np.abs(t_mat)\n",
      "sns.symmatplot(t_mat, p_mat, names=pfc_rois, cmap=\"YlOrRd_r\", cmap_range=(0, 10), ax=ax);"
     ],
     "language": "python",
     "metadata": {},
     "outputs": [
      {
       "output_type": "display_data",
       "png": "[encoded data removed]"
      }
     ],
     "prompt_number": 31
    },
    {
     "cell_type": "code",
     "collapsed": false,
     "input": [
      "control_rois = [\"AllRegions\", \"IFS-lh\", \"IFS-rh\"]\n",
      "control_masks = [\"dksort_pfc\", \"lh.yeo17_ifs\", \"rh.yeo17_ifs\"]"
     ],
     "language": "python",
     "metadata": {},
     "outputs": [],
     "prompt_number": 32
    },
    {
     "cell_type": "code",
     "collapsed": false,
     "input": [
      "control_accs = dict()\n",
      "for roi, mask in zip(control_rois, control_masks):\n",
      "    ds = mvpa.load_datasets(\"dimension\", roi, mask + \"-graymid\", frames)\n",
      "    control_accs[roi] = mvpa.decode_group(ds, model)\n",
      "\n",
      "pca_data = []\n",
      "for ds_i in mvpa.load_datasets(\"dimension\", \"IFS\", \"yeo17_ifs-graymid\", frames):\n",
      "    ds_i[\"roi_name\"] = \"IFS-PCA2\"\n",
      "    ds_i[\"X\"] = np.array([PCA(2).fit_transform(tr) for tr in ds_i[\"X\"]])\n",
      "    pca_data.append(ds_i)\n",
      "pca_accs = mvpa.decode_group(pca_data, model, n_jobs=4)\n",
      "control_accs[\"IFS-PCA2\"] = pca_accs"
     ],
     "language": "python",
     "metadata": {},
     "outputs": [],
     "prompt_number": 33
    },
    {
     "cell_type": "code",
     "collapsed": false,
     "input": [
      "control_rois.append(\"IFS-PCA2\")\n",
      "control_rois.insert(0, \"IFS\")\n",
      "control_accs[\"IFS\"] = pfc_accs[\"dimension\"][\"IFS\"]"
     ],
     "language": "python",
     "metadata": {},
     "outputs": [],
     "prompt_number": 34
    },
    {
     "cell_type": "code",
     "collapsed": false,
     "input": [
      "control_peaks = {roi: accs.max(axis=1) for roi, accs in control_accs.items()}\n",
      "vs_all = stats.ttest_rel(control_peaks[\"IFS\"], control_peaks[\"AllRegions\"])\n",
      "print \"IFS versus all regions: t = %.3g, p = %.3g\" % vs_all\n",
      "lateral = stats.ttest_rel(control_peaks[\"IFS-lh\"], control_peaks[\"IFS-rh\"])\n",
      "print \"Left versus right: t = %.3g, p = %.3g\" % lateral\n",
      "vs_left = stats.ttest_rel(control_peaks[\"IFS\"], control_peaks[\"IFS-lh\"])\n",
      "vs_right = stats.ttest_rel(control_peaks[\"IFS\"], control_peaks[\"IFS-rh\"])\n",
      "print \"All IFS versus left: t = %.3g, p = %.3g\" % vs_left\n",
      "print \"All IFS versus right: t = %.3g, p = %.3g\" % vs_right"
     ],
     "language": "python",
     "metadata": {},
     "outputs": [
      {
       "output_type": "stream",
       "stream": "stdout",
       "text": [
        "IFS versus all regions: t = 3.85, p = 0.00178\n",
        "Left versus right: t = 0.714, p = 0.487\n",
        "All IFS versus left: t = 3.53, p = 0.00336\n",
        "All IFS versus right: t = 5.85, p = 4.23e-05\n"
       ]
      }
     ],
     "prompt_number": 35
    },
    {
     "cell_type": "code",
     "collapsed": false,
     "input": [
      "pca_null = mvpa.classifier_permutations(pca_data, model, 1000, random_seed=shuffle_seed, dv=dv)\n",
      "pca_chance = np.array([d.mean(axis=0) for d in pca_null])\n",
      "pca_score = pca_accs - pca_chance\n",
      "pca_t, pca_p = np.array([moss.randomize_onesample(a) for a in pca_score.T]).T\n",
      "if not (pca_p < 0.1).any():\n",
      "    print \"All timepoints in reduced dimension model p > 0.1\""
     ],
     "language": "python",
     "metadata": {},
     "outputs": [
      {
       "output_type": "stream",
       "stream": "stdout",
       "text": [
        "All timepoints in reduced dimension model p > 0.1\n"
       ]
      }
     ],
     "prompt_number": 36
    },
    {
     "cell_type": "code",
     "collapsed": false,
     "input": [
      "accuracy_table(control_rois, control_accs)"
     ],
     "language": "python",
     "metadata": {},
     "outputs": [
      {
       "html": [
        "<div style=\"max-height:1000px;max-width:1500px;overflow:auto;\">\n",
        "<table border=\"1\" class=\"dataframe\">\n",
        "  <thead>\n",
        "    <tr style=\"text-align: right;\">\n",
        "      <th></th>\n",
        "      <th>-2</th>\n",
        "      <th>0</th>\n",
        "      <th>2</th>\n",
        "      <th>4</th>\n",
        "      <th>6</th>\n",
        "      <th>8</th>\n",
        "      <th>max</th>\n",
        "    </tr>\n",
        "  </thead>\n",
        "  <tbody>\n",
        "    <tr>\n",
        "      <td><strong>IFS</strong></td>\n",
        "      <td> 0.342102</td>\n",
        "      <td> 0.346934</td>\n",
        "      <td> 0.461368</td>\n",
        "      <td> 0.440152</td>\n",
        "      <td> 0.358985</td>\n",
        "      <td> 0.366935</td>\n",
        "      <td> 0.461368</td>\n",
        "    </tr>\n",
        "    <tr>\n",
        "      <td><strong>AllRegions</strong></td>\n",
        "      <td> 0.350684</td>\n",
        "      <td> 0.360617</td>\n",
        "      <td> 0.430604</td>\n",
        "      <td> 0.424197</td>\n",
        "      <td> 0.366956</td>\n",
        "      <td> 0.360736</td>\n",
        "      <td> 0.430604</td>\n",
        "    </tr>\n",
        "    <tr>\n",
        "      <td><strong>IFS-lh</strong></td>\n",
        "      <td> 0.333141</td>\n",
        "      <td> 0.339729</td>\n",
        "      <td> 0.431764</td>\n",
        "      <td> 0.414495</td>\n",
        "      <td> 0.352198</td>\n",
        "      <td> 0.345965</td>\n",
        "      <td> 0.431764</td>\n",
        "    </tr>\n",
        "    <tr>\n",
        "      <td><strong>IFS-rh</strong></td>\n",
        "      <td> 0.342941</td>\n",
        "      <td> 0.342606</td>\n",
        "      <td> 0.411467</td>\n",
        "      <td> 0.409934</td>\n",
        "      <td> 0.360733</td>\n",
        "      <td> 0.362746</td>\n",
        "      <td> 0.411467</td>\n",
        "    </tr>\n",
        "    <tr>\n",
        "      <td><strong>IFS-PCA2</strong></td>\n",
        "      <td> 0.331828</td>\n",
        "      <td> 0.344819</td>\n",
        "      <td> 0.353139</td>\n",
        "      <td> 0.346357</td>\n",
        "      <td> 0.343434</td>\n",
        "      <td> 0.342614</td>\n",
        "      <td> 0.353139</td>\n",
        "    </tr>\n",
        "  </tbody>\n",
        "</table>\n",
        "</div>"
       ],
       "output_type": "pyout",
       "prompt_number": 37,
       "text": [
        "                  -2         0         2         4         6         8       max\n",
        "IFS         0.342102  0.346934  0.461368  0.440152  0.358985  0.366935  0.461368\n",
        "AllRegions  0.350684  0.360617  0.430604  0.424197  0.366956  0.360736  0.430604\n",
        "IFS-lh      0.333141  0.339729  0.431764  0.414495  0.352198  0.345965  0.431764\n",
        "IFS-rh      0.342941  0.342606  0.411467  0.409934  0.360733  0.362746  0.411467\n",
        "IFS-PCA2    0.331828  0.344819  0.353139  0.346357  0.343434  0.342614  0.353139"
       ]
      }
     ],
     "prompt_number": 37
    },
    {
     "cell_type": "code",
     "collapsed": false,
     "input": [
      "cue_data = mvpa.load_datasets(\"dimension_cue\", \"IFS\", \"yeo17_ifs-graymid\", frames)\n",
      "cue_accs = mvpa.decode_group(cue_data, model)\n",
      "cue_perms = mvpa.classifier_permutations(cue_data, model, n_iter=n_shuffle, random_seed=shuffle_seed)\n",
      "cue_chance = np.array([a.mean(axis=0) for a in cue_perms])\n",
      "cue_max = np.array([a.max(axis=1) for a in cue_perms])\n",
      "cue_crit = np.array([moss.percentiles(a, 95) for a in cue_max])\n",
      "cue_sig = np.any(cue_accs > cue_crit[:, None], axis=1)\n",
      "cue_score = cue_accs - cue_chance\n",
      "print \"%d/15 significant cue models\" % cue_sig.sum()"
     ],
     "language": "python",
     "metadata": {},
     "outputs": [
      {
       "output_type": "stream",
       "stream": "stdout",
       "text": [
        "0/15 significant cue models\n"
       ]
      }
     ],
     "prompt_number": 38
    },
    {
     "cell_type": "code",
     "collapsed": false,
     "input": [
      "cue_t_vals = []\n",
      "cue_null_ts = []\n",
      "cue_p_vals = []\n",
      "for tr_i, tr_data in enumerate(cue_accs.T):\n",
      "    score = cue_score[:, tr_i]\n",
      "    t, p, null_dist = moss.randomize_onesample(score, 10000, random_seed=shuffle_seed, return_dist=True)\n",
      "    cue_t_vals.append(t)\n",
      "    cue_null_ts.append(null_dist)\n",
      "    max_t_dist = np.max(cue_null_ts, axis=0)\n",
      "cdf = sm.distributions.ECDF(max_t_dist)\n",
      "cue_p_vals = np.array([1 - cdf(t) for t in cue_t_vals])\n",
      "if not (cue_p_vals <= 0.1).any():\n",
      "    print \"All cue timepoints p > 0.1 in group test\""
     ],
     "language": "python",
     "metadata": {},
     "outputs": [
      {
       "output_type": "stream",
       "stream": "stdout",
       "text": [
        "All cue timepoints p > 0.1 in group test\n"
       ]
      }
     ],
     "prompt_number": 39
    },
    {
     "cell_type": "code",
     "collapsed": false,
     "input": [
      "accuracy_table([\"IFS\"], dict(IFS=cue_accs))"
     ],
     "language": "python",
     "metadata": {},
     "outputs": [
      {
       "html": [
        "<div style=\"max-height:1000px;max-width:1500px;overflow:auto;\">\n",
        "<table border=\"1\" class=\"dataframe\">\n",
        "  <thead>\n",
        "    <tr style=\"text-align: right;\">\n",
        "      <th></th>\n",
        "      <th>-2</th>\n",
        "      <th>0</th>\n",
        "      <th>2</th>\n",
        "      <th>4</th>\n",
        "      <th>6</th>\n",
        "      <th>8</th>\n",
        "      <th>max</th>\n",
        "    </tr>\n",
        "  </thead>\n",
        "  <tbody>\n",
        "    <tr>\n",
        "      <td><strong>IFS</strong></td>\n",
        "      <td> 0.346528</td>\n",
        "      <td> 0.307639</td>\n",
        "      <td> 0.346528</td>\n",
        "      <td> 0.357639</td>\n",
        "      <td> 0.346528</td>\n",
        "      <td> 0.341667</td>\n",
        "      <td> 0.357639</td>\n",
        "    </tr>\n",
        "  </tbody>\n",
        "</table>\n",
        "</div>"
       ],
       "output_type": "pyout",
       "prompt_number": 40,
       "text": [
        "           -2         0         2         4         6         8       max\n",
        "IFS  0.346528  0.307639  0.346528  0.357639  0.346528  0.341667  0.357639"
       ]
      }
     ],
     "prompt_number": 40
    },
    {
     "cell_type": "code",
     "collapsed": true,
     "input": [
      "rt_anova = []\n",
      "for s, d_i in behav_clean_df.groupby(\"subj\"):\n",
      "    rt_anova.append(stats.oneway(*[d_j[\"rt\"] for r, d_j in d_i.groupby(\"dim_rule\")]))\n",
      "rt_f, rt_p = np.array(rt_anova).T\n",
      "print \"Number of subjects with trending oneway ANOVA: %d\" % np.sum(rt_p < 0.1)\n",
      "rt_mask = rt_p >= 0.1\n",
      "ifs_peak = pfc_accs[\"dimension\"][\"IFS\"].max(axis=1)\n",
      "rt_relate = stats.spearmanr(rt_f, ifs_peak)\n",
      "print \"Relationship between decoding accuracy and rt effect: r = %.3g, p = %.3f\" % rt_relate\n",
      "print \"Mean peak accuracy in subjects without RT effect: %.3g\" % ifs_peak[rt_mask].mean()\n",
      "rt_remove = stats.ttest_ind(ifs_peak, ifs_peak[rt_mask])\n",
      "print \"Indepentent t-test of change from removing these subjects: t = %.3g, p = %.3g\" % rt_remove"
     ],
     "language": "python",
     "metadata": {},
     "outputs": [
      {
       "output_type": "stream",
       "stream": "stdout",
       "text": [
        "Number of subjects with trending oneway ANOVA: 3\n",
        "Relationship between decoding accuracy and rt effect: r = 0.532, p = 0.041\n",
        "Mean peak accuracy in subjects without RT effect: 0.471\n",
        "Indepentent t-test of change from removing these subjects: t = 0.511, p = 0.614\n"
       ]
      }
     ],
     "prompt_number": 41
    },
    {
     "cell_type": "heading",
     "level": 3,
     "metadata": {},
     "source": [
      "Decision Rule"
     ]
    },
    {
     "cell_type": "code",
     "collapsed": false,
     "input": [
      "f = figure(figsize=(10.5, 5.5))\n",
      "ax = f.add_axes([.05, .05, .73, .9])\n",
      "x = arange(-1, 5)\n",
      "for roi in pfc_rois:\n",
      "    accs = pfc_accs[\"decision\"][roi]\n",
      "    sns.tsplot(x, accs, color=roi_colors[roi], label=roi, ax=ax)\n",
      "chance = np.array(pfc_chance[\"decision\"].values()).reshape(-1, 6).mean(axis=0)\n",
      "ax.plot(x, chance, c=\"k\", ls=\"--\", label=\"chance\")\n",
      "ax.axvline(0, c=\"k\", ls=\":\", lw=1.5)\n",
      "ax.set_xlim(-1, 4)\n",
      "ax.set_ylim(.46, .65)\n",
      "ax.set_ylabel(\"Cross-Validated Decoding Accuracy\")\n",
      "ax.set_xticklabels(arange(-1, 5) * 2)\n",
      "ax.set_xlabel(\"Peristimulus Time (s)\")\n",
      "ax.legend(prop=dict(size=12))\n",
      "\n",
      "ax_bar = f.add_axes([.8, .05, .15, .9])\n",
      "for i, roi in enumerate(pfc_rois):\n",
      "    bar_color = sns.desaturate(roi_colors[roi], .8)\n",
      "    ax_bar.bar(i, pfc_counts[\"decision\"][roi], width=1, color=bar_color, ec=\"none\")\n",
      "ax_bar.yaxis.tick_right()\n",
      "ax_bar.yaxis.set_label_position(\"right\")\n",
      "ax_bar.set_ylim((0, 15))\n",
      "ax_bar.set_yticks(arange(16))\n",
      "ax_bar.set_xticks(arange(6))\n",
      "ax_bar.set_xticklabels(pfc_rois, rotation=60)\n",
      "ax_bar.set_ylabel(\"Subjects with Above-Chance Decoding\", fontdict=dict(rotation=270));"
     ],
     "language": "python",
     "metadata": {},
     "outputs": [
      {
       "output_type": "display_data",
       "png": "[encoded data removed]"
      }
     ],
     "prompt_number": 42
    },
    {
     "cell_type": "code",
     "collapsed": false,
     "input": [
      "accuracy_table(pfc_rois, pfc_accs[\"decision\"])"
     ],
     "language": "python",
     "metadata": {},
     "outputs": [
      {
       "html": [
        "<div style=\"max-height:1000px;max-width:1500px;overflow:auto;\">\n",
        "<table border=\"1\" class=\"dataframe\">\n",
        "  <thead>\n",
        "    <tr style=\"text-align: right;\">\n",
        "      <th></th>\n",
        "      <th>-2</th>\n",
        "      <th>0</th>\n",
        "      <th>2</th>\n",
        "      <th>4</th>\n",
        "      <th>6</th>\n",
        "      <th>8</th>\n",
        "      <th>max</th>\n",
        "    </tr>\n",
        "  </thead>\n",
        "  <tbody>\n",
        "    <tr>\n",
        "      <td><strong>IFS</strong></td>\n",
        "      <td> 0.525351</td>\n",
        "      <td> 0.510063</td>\n",
        "      <td> 0.550268</td>\n",
        "      <td> 0.560010</td>\n",
        "      <td> 0.516073</td>\n",
        "      <td> 0.508188</td>\n",
        "      <td> 0.560010</td>\n",
        "    </tr>\n",
        "    <tr>\n",
        "      <td><strong>aMFG</strong></td>\n",
        "      <td> 0.509707</td>\n",
        "      <td> 0.509641</td>\n",
        "      <td> 0.527647</td>\n",
        "      <td> 0.528622</td>\n",
        "      <td> 0.508229</td>\n",
        "      <td> 0.520042</td>\n",
        "      <td> 0.528622</td>\n",
        "    </tr>\n",
        "    <tr>\n",
        "      <td><strong>pMFG</strong></td>\n",
        "      <td> 0.503901</td>\n",
        "      <td> 0.503562</td>\n",
        "      <td> 0.533052</td>\n",
        "      <td> 0.529161</td>\n",
        "      <td> 0.503839</td>\n",
        "      <td> 0.509311</td>\n",
        "      <td> 0.533052</td>\n",
        "    </tr>\n",
        "    <tr>\n",
        "      <td><strong>FPC</strong></td>\n",
        "      <td> 0.512846</td>\n",
        "      <td> 0.512612</td>\n",
        "      <td> 0.486712</td>\n",
        "      <td> 0.513379</td>\n",
        "      <td> 0.506119</td>\n",
        "      <td> 0.499086</td>\n",
        "      <td> 0.513379</td>\n",
        "    </tr>\n",
        "    <tr>\n",
        "      <td><strong>pSFS</strong></td>\n",
        "      <td> 0.506646</td>\n",
        "      <td> 0.483851</td>\n",
        "      <td> 0.529153</td>\n",
        "      <td> 0.523687</td>\n",
        "      <td> 0.532394</td>\n",
        "      <td> 0.510841</td>\n",
        "      <td> 0.532394</td>\n",
        "    </tr>\n",
        "    <tr>\n",
        "      <td><strong>IFG</strong></td>\n",
        "      <td> 0.501200</td>\n",
        "      <td> 0.509278</td>\n",
        "      <td> 0.508078</td>\n",
        "      <td> 0.517706</td>\n",
        "      <td> 0.514526</td>\n",
        "      <td> 0.497646</td>\n",
        "      <td> 0.517706</td>\n",
        "    </tr>\n",
        "  </tbody>\n",
        "</table>\n",
        "</div>"
       ],
       "output_type": "pyout",
       "prompt_number": 43,
       "text": [
        "            -2         0         2         4         6         8       max\n",
        "IFS   0.525351  0.510063  0.550268  0.560010  0.516073  0.508188  0.560010\n",
        "aMFG  0.509707  0.509641  0.527647  0.528622  0.508229  0.520042  0.528622\n",
        "pMFG  0.503901  0.503562  0.533052  0.529161  0.503839  0.509311  0.533052\n",
        "FPC   0.512846  0.512612  0.486712  0.513379  0.506119  0.499086  0.513379\n",
        "pSFS  0.506646  0.483851  0.529153  0.523687  0.532394  0.510841  0.532394\n",
        "IFG   0.501200  0.509278  0.508078  0.517706  0.514526  0.497646  0.517706"
       ]
      }
     ],
     "prompt_number": 43
    },
    {
     "cell_type": "code",
     "collapsed": false,
     "input": [
      "pd.DataFrame(t_vals[\"decision\"], index=frames * 2).T"
     ],
     "language": "python",
     "metadata": {},
     "outputs": [
      {
       "html": [
        "<div style=\"max-height:1000px;max-width:1500px;overflow:auto;\">\n",
        "<table border=\"1\" class=\"dataframe\">\n",
        "  <thead>\n",
        "    <tr style=\"text-align: right;\">\n",
        "      <th></th>\n",
        "      <th>-2</th>\n",
        "      <th>0</th>\n",
        "      <th>2</th>\n",
        "      <th>4</th>\n",
        "      <th>6</th>\n",
        "      <th>8</th>\n",
        "    </tr>\n",
        "  </thead>\n",
        "  <tbody>\n",
        "    <tr>\n",
        "      <td><strong>FPC</strong></td>\n",
        "      <td> 1.395954</td>\n",
        "      <td> 1.339525</td>\n",
        "      <td>-1.506102</td>\n",
        "      <td> 1.226962</td>\n",
        "      <td> 0.587472</td>\n",
        "      <td>-0.303584</td>\n",
        "    </tr>\n",
        "    <tr>\n",
        "      <td><strong>IFG</strong></td>\n",
        "      <td>-0.122397</td>\n",
        "      <td> 0.770535</td>\n",
        "      <td> 0.721756</td>\n",
        "      <td> 1.528439</td>\n",
        "      <td> 1.811187</td>\n",
        "      <td>-0.473614</td>\n",
        "    </tr>\n",
        "    <tr>\n",
        "      <td><strong>IFS</strong></td>\n",
        "      <td> 2.790548</td>\n",
        "      <td> 0.997177</td>\n",
        "      <td> 3.181058</td>\n",
        "      <td> 5.130314</td>\n",
        "      <td> 1.213989</td>\n",
        "      <td> 0.828884</td>\n",
        "    </tr>\n",
        "    <tr>\n",
        "      <td><strong>aMFG</strong></td>\n",
        "      <td> 0.718264</td>\n",
        "      <td> 0.721507</td>\n",
        "      <td> 2.431899</td>\n",
        "      <td> 2.802945</td>\n",
        "      <td> 0.915008</td>\n",
        "      <td> 2.259802</td>\n",
        "    </tr>\n",
        "    <tr>\n",
        "      <td><strong>pMFG</strong></td>\n",
        "      <td> 0.355787</td>\n",
        "      <td> 0.431700</td>\n",
        "      <td> 2.409159</td>\n",
        "      <td> 2.862311</td>\n",
        "      <td> 0.221507</td>\n",
        "      <td> 0.782003</td>\n",
        "    </tr>\n",
        "    <tr>\n",
        "      <td><strong>pSFS</strong></td>\n",
        "      <td> 1.137800</td>\n",
        "      <td>-2.782537</td>\n",
        "      <td> 2.557108</td>\n",
        "      <td> 2.591883</td>\n",
        "      <td> 3.354520</td>\n",
        "      <td> 0.793315</td>\n",
        "    </tr>\n",
        "  </tbody>\n",
        "</table>\n",
        "</div>"
       ],
       "output_type": "pyout",
       "prompt_number": 44,
       "text": [
        "            -2         0         2         4         6         8\n",
        "FPC   1.395954  1.339525 -1.506102  1.226962  0.587472 -0.303584\n",
        "IFG  -0.122397  0.770535  0.721756  1.528439  1.811187 -0.473614\n",
        "IFS   2.790548  0.997177  3.181058  5.130314  1.213989  0.828884\n",
        "aMFG  0.718264  0.721507  2.431899  2.802945  0.915008  2.259802\n",
        "pMFG  0.355787  0.431700  2.409159  2.862311  0.221507  0.782003\n",
        "pSFS  1.137800 -2.782537  2.557108  2.591883  3.354520  0.793315"
       ]
      }
     ],
     "prompt_number": 44
    },
    {
     "cell_type": "code",
     "collapsed": false,
     "input": [
      "pd.DataFrame(corr_p_vals[\"decision\"], index=frames * 2).T"
     ],
     "language": "python",
     "metadata": {},
     "outputs": [
      {
       "html": [
        "<div style=\"max-height:1000px;max-width:1500px;overflow:auto;\">\n",
        "<table border=\"1\" class=\"dataframe\">\n",
        "  <thead>\n",
        "    <tr style=\"text-align: right;\">\n",
        "      <th></th>\n",
        "      <th>-2</th>\n",
        "      <th>0</th>\n",
        "      <th>2</th>\n",
        "      <th>4</th>\n",
        "      <th>6</th>\n",
        "      <th>8</th>\n",
        "    </tr>\n",
        "  </thead>\n",
        "  <tbody>\n",
        "    <tr>\n",
        "      <td><strong>FPC</strong></td>\n",
        "      <td> 0.8220</td>\n",
        "      <td> 0.8437</td>\n",
        "      <td> 1.0000</td>\n",
        "      <td> 0.8821</td>\n",
        "      <td> 0.9900</td>\n",
        "      <td> 1.0000</td>\n",
        "    </tr>\n",
        "    <tr>\n",
        "      <td><strong>IFG</strong></td>\n",
        "      <td> 1.0000</td>\n",
        "      <td> 0.9794</td>\n",
        "      <td> 0.9836</td>\n",
        "      <td> 0.7652</td>\n",
        "      <td> 0.6187</td>\n",
        "      <td> 1.0000</td>\n",
        "    </tr>\n",
        "    <tr>\n",
        "      <td><strong>IFS</strong></td>\n",
        "      <td> 0.1777</td>\n",
        "      <td> 0.9407</td>\n",
        "      <td> 0.0918</td>\n",
        "      <td> 0.0026</td>\n",
        "      <td> 0.8859</td>\n",
        "      <td> 0.9723</td>\n",
        "    </tr>\n",
        "    <tr>\n",
        "      <td><strong>aMFG</strong></td>\n",
        "      <td> 0.9836</td>\n",
        "      <td> 0.9836</td>\n",
        "      <td> 0.3077</td>\n",
        "      <td> 0.1731</td>\n",
        "      <td> 0.9572</td>\n",
        "      <td> 0.3867</td>\n",
        "    </tr>\n",
        "    <tr>\n",
        "      <td><strong>pMFG</strong></td>\n",
        "      <td> 0.9983</td>\n",
        "      <td> 0.9971</td>\n",
        "      <td> 0.3185</td>\n",
        "      <td> 0.1564</td>\n",
        "      <td> 0.9993</td>\n",
        "      <td> 0.9778</td>\n",
        "    </tr>\n",
        "    <tr>\n",
        "      <td><strong>pSFS</strong></td>\n",
        "      <td> 0.9088</td>\n",
        "      <td> 1.0000</td>\n",
        "      <td> 0.2571</td>\n",
        "      <td> 0.2442</td>\n",
        "      <td> 0.0692</td>\n",
        "      <td> 0.9767</td>\n",
        "    </tr>\n",
        "  </tbody>\n",
        "</table>\n",
        "</div>"
       ],
       "output_type": "pyout",
       "prompt_number": 45,
       "text": [
        "          -2       0       2       4       6       8\n",
        "FPC   0.8220  0.8437  1.0000  0.8821  0.9900  1.0000\n",
        "IFG   1.0000  0.9794  0.9836  0.7652  0.6187  1.0000\n",
        "IFS   0.1777  0.9407  0.0918  0.0026  0.8859  0.9723\n",
        "aMFG  0.9836  0.9836  0.3077  0.1731  0.9572  0.3867\n",
        "pMFG  0.9983  0.9971  0.3185  0.1564  0.9993  0.9778\n",
        "pSFS  0.9088  1.0000  0.2571  0.2442  0.0692  0.9767"
       ]
      }
     ],
     "prompt_number": 45
    },
    {
     "cell_type": "code",
     "collapsed": false,
     "input": [
      "print \"ROIs with significant group test for decision rule: \",\n",
      "print \", \".join([roi for roi, vals in corr_p_vals[\"decision\"].items() if np.any(vals < 0.05)])"
     ],
     "language": "python",
     "metadata": {},
     "outputs": [
      {
       "output_type": "stream",
       "stream": "stdout",
       "text": [
        "ROIs with significant group test for decision rule:  IFS\n"
       ]
      }
     ],
     "prompt_number": 46
    },
    {
     "cell_type": "heading",
     "level": 2,
     "metadata": {},
     "source": [
      "Context Decoding in Posterior Cortex"
     ]
    },
    {
     "cell_type": "code",
     "collapsed": false,
     "input": [
      "post_rois = [\"IPS\", \"OTC\"]\n",
      "post_masks = [\"ips\", \"viz\"]"
     ],
     "language": "python",
     "metadata": {},
     "outputs": [],
     "prompt_number": 47
    },
    {
     "cell_type": "code",
     "collapsed": false,
     "input": [
      "post_accs = dict()\n",
      "post_chance = dict()\n",
      "post_counts = dict()\n",
      "null_dists = dict()\n",
      "\n",
      "# Load the data, decode, and perform shuffle tests\n",
      "for roi, mask in zip(post_rois, post_masks):\n",
      "    ds = mvpa.load_datasets(\"dimension\", roi, \"yeo17_%s-graymid\" % mask, frames)\n",
      "    post_accs[roi] = mvpa.decode_group(ds, model)\n",
      "    null_dists[roi] = mvpa.classifier_permutations(ds, model, n_iter=n_shuffle, random_seed=shuffle_seed, dv=dv)\n",
      "    post_chance[roi] = np.array([np.mean(d, axis=0) for d in null_dists[roi]])\n",
      "    \n",
      "# Calculate a null distribution of the max statistic for each subject\n",
      "max_dists = []\n",
      "for i_s, subj in enumerate(subjects):\n",
      "    subj_dist = np.reshape([null_dists[roi][i_s] for roi in post_rois], (n_shuffle, 12))\n",
      "    max_dists.append(np.max(subj_dist, axis=1))\n",
      "criterion = np.array([moss.percentiles(x, 95) for x in max_dists])[:, None]\n",
      "    \n",
      "# Count the number of subjects exceeding the max statistic criterion\n",
      "for roi in post_rois:\n",
      "    post_counts[roi] = np.sum(np.any(post_accs[roi] > criterion, axis=1))"
     ],
     "language": "python",
     "metadata": {},
     "outputs": [],
     "prompt_number": 48
    },
    {
     "cell_type": "code",
     "collapsed": false,
     "input": [
      "post_rois.insert(0, \"IFS\")\n",
      "post_masks.insert(0, \"ifs\")\n",
      "post_accs[\"IFS\"] = pfc_accs[\"dimension\"][\"IFS\"]\n",
      "post_chance[\"IFS\"] = pfc_chance[\"dimension\"][\"IFS\"]"
     ],
     "language": "python",
     "metadata": {},
     "outputs": [],
     "prompt_number": 49
    },
    {
     "cell_type": "code",
     "collapsed": false,
     "input": [
      "f = figure(figsize=(10.5, 5.5))\n",
      "\n",
      "# Plot the accuracy timeseries in each region\n",
      "ax = f.add_axes([.05, .05, .73, .9])\n",
      "x = arange(-1, 5)\n",
      "for roi in post_rois:\n",
      "    accs = post_accs[roi]\n",
      "    sns.tsplot(x, accs, color=roi_colors[roi], label=roi, ax=ax)\n",
      "chance = np.array(post_chance.values()).reshape(-1, 6).mean(axis=0)\n",
      "ax.plot(x, chance, c=\"k\", ls=\"--\", label=\"chance\")\n",
      "ax.axvline(0, c=\"k\", ls=\":\", lw=1.5)\n",
      "ax.set_xlim(-1, 4)\n",
      "ax.set_ylabel(\"Cross-Validated Decoding Accuracy\")\n",
      "ax.set_xticklabels(arange(-1, 5) * 2)\n",
      "ax.set_xlabel(\"Peristimulus Time (s)\")\n",
      "ax.legend(prop=dict(size=12));"
     ],
     "language": "python",
     "metadata": {},
     "outputs": [
      {
       "output_type": "display_data",
       "png": "[encoded data removed]"
      }
     ],
     "prompt_number": 50
    },
    {
     "cell_type": "code",
     "collapsed": false,
     "input": [
      "accuracy_table(post_rois, post_accs)"
     ],
     "language": "python",
     "metadata": {},
     "outputs": [
      {
       "html": [
        "<div style=\"max-height:1000px;max-width:1500px;overflow:auto;\">\n",
        "<table border=\"1\" class=\"dataframe\">\n",
        "  <thead>\n",
        "    <tr style=\"text-align: right;\">\n",
        "      <th></th>\n",
        "      <th>-2</th>\n",
        "      <th>0</th>\n",
        "      <th>2</th>\n",
        "      <th>4</th>\n",
        "      <th>6</th>\n",
        "      <th>8</th>\n",
        "      <th>max</th>\n",
        "    </tr>\n",
        "  </thead>\n",
        "  <tbody>\n",
        "    <tr>\n",
        "      <td><strong>IFS</strong></td>\n",
        "      <td> 0.342102</td>\n",
        "      <td> 0.346934</td>\n",
        "      <td> 0.461368</td>\n",
        "      <td> 0.440152</td>\n",
        "      <td> 0.358985</td>\n",
        "      <td> 0.366935</td>\n",
        "      <td> 0.461368</td>\n",
        "    </tr>\n",
        "    <tr>\n",
        "      <td><strong>IPS</strong></td>\n",
        "      <td> 0.351273</td>\n",
        "      <td> 0.369667</td>\n",
        "      <td> 0.559962</td>\n",
        "      <td> 0.483710</td>\n",
        "      <td> 0.382184</td>\n",
        "      <td> 0.367607</td>\n",
        "      <td> 0.559962</td>\n",
        "    </tr>\n",
        "    <tr>\n",
        "      <td><strong>OTC</strong></td>\n",
        "      <td> 0.367415</td>\n",
        "      <td> 0.364407</td>\n",
        "      <td> 0.513085</td>\n",
        "      <td> 0.631910</td>\n",
        "      <td> 0.452973</td>\n",
        "      <td> 0.406115</td>\n",
        "      <td> 0.631910</td>\n",
        "    </tr>\n",
        "  </tbody>\n",
        "</table>\n",
        "</div>"
       ],
       "output_type": "pyout",
       "prompt_number": 51,
       "text": [
        "           -2         0         2         4         6         8       max\n",
        "IFS  0.342102  0.346934  0.461368  0.440152  0.358985  0.366935  0.461368\n",
        "IPS  0.351273  0.369667  0.559962  0.483710  0.382184  0.367607  0.559962\n",
        "OTC  0.367415  0.364407  0.513085  0.631910  0.452973  0.406115  0.631910"
       ]
      }
     ],
     "prompt_number": 51
    },
    {
     "cell_type": "code",
     "collapsed": false,
     "input": [
      "post_t_vals = dict()\n",
      "\n",
      "null_t_dists = []\n",
      "for roi in post_rois:\n",
      "    post_t_vals[roi] = [] \n",
      "    for tr_i, tr_data in enumerate(post_accs[roi].T):\n",
      "        chance = post_chance[roi].T[tr_i]\n",
      "        score = tr_data - chance         \n",
      "        t, p, null_dist = moss.randomize_onesample(score, 10000, random_seed=shuffle_seed, return_dist=True)\n",
      "        post_t_vals[roi].append(t)\n",
      "        null_t_dists.append(null_dist)\n",
      "    max_t_dist = np.max(null_t_dists, axis=0)\n",
      "    cdf = sm.distributions.ECDF(max_t_dist)\n",
      "post_corr_p_vals = {roi: 1 - cdf(t) for roi, t in post_t_vals.items()}"
     ],
     "language": "python",
     "metadata": {},
     "outputs": [],
     "prompt_number": 52
    },
    {
     "cell_type": "code",
     "collapsed": false,
     "input": [
      "pd.DataFrame(post_t_vals, index=frames * 2).T"
     ],
     "language": "python",
     "metadata": {},
     "outputs": [
      {
       "html": [
        "<div style=\"max-height:1000px;max-width:1500px;overflow:auto;\">\n",
        "<table border=\"1\" class=\"dataframe\">\n",
        "  <thead>\n",
        "    <tr style=\"text-align: right;\">\n",
        "      <th></th>\n",
        "      <th>-2</th>\n",
        "      <th>0</th>\n",
        "      <th>2</th>\n",
        "      <th>4</th>\n",
        "      <th>6</th>\n",
        "      <th>8</th>\n",
        "    </tr>\n",
        "  </thead>\n",
        "  <tbody>\n",
        "    <tr>\n",
        "      <td><strong>IFS</strong></td>\n",
        "      <td> 0.724373</td>\n",
        "      <td> 1.364049</td>\n",
        "      <td>  9.021113</td>\n",
        "      <td>  8.715893</td>\n",
        "      <td> 2.331451</td>\n",
        "      <td> 4.537186</td>\n",
        "    </tr>\n",
        "    <tr>\n",
        "      <td><strong>IPS</strong></td>\n",
        "      <td> 1.347088</td>\n",
        "      <td> 2.855335</td>\n",
        "      <td>  7.862480</td>\n",
        "      <td>  8.587655</td>\n",
        "      <td> 5.326361</td>\n",
        "      <td> 3.422736</td>\n",
        "    </tr>\n",
        "    <tr>\n",
        "      <td><strong>OTC</strong></td>\n",
        "      <td> 3.112400</td>\n",
        "      <td> 2.169101</td>\n",
        "      <td> 11.764777</td>\n",
        "      <td> 15.814094</td>\n",
        "      <td> 5.426719</td>\n",
        "      <td> 4.706712</td>\n",
        "    </tr>\n",
        "  </tbody>\n",
        "</table>\n",
        "</div>"
       ],
       "output_type": "pyout",
       "prompt_number": 53,
       "text": [
        "           -2         0          2          4         6         8\n",
        "IFS  0.724373  1.364049   9.021113   8.715893  2.331451  4.537186\n",
        "IPS  1.347088  2.855335   7.862480   8.587655  5.326361  3.422736\n",
        "OTC  3.112400  2.169101  11.764777  15.814094  5.426719  4.706712"
       ]
      }
     ],
     "prompt_number": 53
    },
    {
     "cell_type": "code",
     "collapsed": false,
     "input": [
      "pd.DataFrame(post_corr_p_vals, index=frames * 2).T"
     ],
     "language": "python",
     "metadata": {},
     "outputs": [
      {
       "html": [
        "<div style=\"max-height:1000px;max-width:1500px;overflow:auto;\">\n",
        "<table border=\"1\" class=\"dataframe\">\n",
        "  <thead>\n",
        "    <tr style=\"text-align: right;\">\n",
        "      <th></th>\n",
        "      <th>-2</th>\n",
        "      <th>0</th>\n",
        "      <th>2</th>\n",
        "      <th>4</th>\n",
        "      <th>6</th>\n",
        "      <th>8</th>\n",
        "    </tr>\n",
        "  </thead>\n",
        "  <tbody>\n",
        "    <tr>\n",
        "      <td><strong>IFS</strong></td>\n",
        "      <td> 0.7600</td>\n",
        "      <td> 0.4654</td>\n",
        "      <td> 0.0000</td>\n",
        "      <td> 0</td>\n",
        "      <td> 0.1369</td>\n",
        "      <td> 0.0039</td>\n",
        "    </tr>\n",
        "    <tr>\n",
        "      <td><strong>IPS</strong></td>\n",
        "      <td> 0.4726</td>\n",
        "      <td> 0.0604</td>\n",
        "      <td> 0.0002</td>\n",
        "      <td> 0</td>\n",
        "      <td> 0.0014</td>\n",
        "      <td> 0.0226</td>\n",
        "    </tr>\n",
        "    <tr>\n",
        "      <td><strong>OTC</strong></td>\n",
        "      <td> 0.0385</td>\n",
        "      <td> 0.1743</td>\n",
        "      <td> 0.0000</td>\n",
        "      <td> 0</td>\n",
        "      <td> 0.0012</td>\n",
        "      <td> 0.0033</td>\n",
        "    </tr>\n",
        "  </tbody>\n",
        "</table>\n",
        "</div>"
       ],
       "output_type": "pyout",
       "prompt_number": 54,
       "text": [
        "         -2       0       2   4       6       8\n",
        "IFS  0.7600  0.4654  0.0000   0  0.1369  0.0039\n",
        "IPS  0.4726  0.0604  0.0002   0  0.0014  0.0226\n",
        "OTC  0.0385  0.1743  0.0000   0  0.0012  0.0033"
       ]
      }
     ],
     "prompt_number": 54
    },
    {
     "cell_type": "code",
     "collapsed": false,
     "input": [
      "print post_counts"
     ],
     "language": "python",
     "metadata": {},
     "outputs": [
      {
       "output_type": "stream",
       "stream": "stdout",
       "text": [
        "{'IPS': 15, 'OTC': 15}\n"
       ]
      }
     ],
     "prompt_number": 55
    },
    {
     "cell_type": "code",
     "collapsed": false,
     "input": [
      "peak_time = pd.DataFrame(index=subjects)\n",
      "x_orig = linspace(-2, 8, 6)\n",
      "x_up = linspace(-2, 8, 1201)\n",
      "for roi in post_rois:\n",
      "    peak_time[roi] = np.argmax(interp1d(x_orig, post_accs[roi], \"cubic\")(x_up)[:, 201:-200], axis=1) / 100.\n",
      "diff_keys = []\n",
      "for roi_a, roi_b in itertools.combinations(post_rois, 2):\n",
      "    diff_key = \"-\".join([roi_a, roi_b])\n",
      "    diff_keys.append(diff_key)\n",
      "    peak_time[diff_key] = peak_time[roi_a] - peak_time[roi_b]"
     ],
     "language": "python",
     "metadata": {},
     "outputs": [],
     "prompt_number": 56
    },
    {
     "cell_type": "code",
     "collapsed": false,
     "input": [
      "f, ax = subplots(1, 1, figsize=(9, 7))\n",
      "ax.axhline(0, linestyle=\"--\", color=\"k\")\n",
      "sns.violin(np.array(peak_time[peak_time.columns[3:]]), inner=\"stick\", color=\"gray\", widths=.7, ax=ax)\n",
      "ax.set_xticklabels(peak_time.columns[3:])\n",
      "ax.set_ylim((-4, 4))\n",
      "ticks = ax.get_yticks()\n",
      "ax.set_title(\"Relative Timing of Information\")\n",
      "ax.set_ylabel(\"Peak Time Difference (s)\");"
     ],
     "language": "python",
     "metadata": {},
     "outputs": [
      {
       "output_type": "display_data",
       "png": "[encoded data removed]"
      }
     ],
     "prompt_number": 57
    },
    {
     "cell_type": "code",
     "collapsed": false,
     "input": [
      "peak_time.T"
     ],
     "language": "python",
     "metadata": {},
     "outputs": [
      {
       "html": [
        "<div style=\"max-height:1000px;max-width:1500px;overflow:auto;\">\n",
        "<table border=\"1\" class=\"dataframe\">\n",
        "  <thead>\n",
        "    <tr style=\"text-align: right;\">\n",
        "      <th></th>\n",
        "      <th>dk02</th>\n",
        "      <th>dk03</th>\n",
        "      <th>dk04</th>\n",
        "      <th>dk05</th>\n",
        "      <th>dk06</th>\n",
        "      <th>dk07</th>\n",
        "      <th>dk08</th>\n",
        "      <th>dk09</th>\n",
        "      <th>dk10</th>\n",
        "      <th>dk11</th>\n",
        "      <th>dk12</th>\n",
        "      <th>dk13</th>\n",
        "      <th>dk14</th>\n",
        "      <th>dk15</th>\n",
        "      <th>dk16</th>\n",
        "    </tr>\n",
        "  </thead>\n",
        "  <tbody>\n",
        "    <tr>\n",
        "      <td><strong>IFS</strong></td>\n",
        "      <td> 4.25</td>\n",
        "      <td> 4.59</td>\n",
        "      <td> 2.85</td>\n",
        "      <td> 2.60</td>\n",
        "      <td> 4.46</td>\n",
        "      <td> 3.36</td>\n",
        "      <td> 5.20</td>\n",
        "      <td> 2.83</td>\n",
        "      <td> 3.26</td>\n",
        "      <td> 3.88</td>\n",
        "      <td> 4.77</td>\n",
        "      <td> 4.55</td>\n",
        "      <td> 3.56</td>\n",
        "      <td> 4.05</td>\n",
        "      <td> 4.91</td>\n",
        "    </tr>\n",
        "    <tr>\n",
        "      <td><strong>IPS</strong></td>\n",
        "      <td> 5.17</td>\n",
        "      <td> 2.72</td>\n",
        "      <td> 2.58</td>\n",
        "      <td> 2.76</td>\n",
        "      <td> 4.92</td>\n",
        "      <td> 2.94</td>\n",
        "      <td> 2.82</td>\n",
        "      <td> 3.36</td>\n",
        "      <td> 3.11</td>\n",
        "      <td> 3.84</td>\n",
        "      <td> 4.00</td>\n",
        "      <td> 3.48</td>\n",
        "      <td> 3.42</td>\n",
        "      <td> 5.07</td>\n",
        "      <td> 3.61</td>\n",
        "    </tr>\n",
        "    <tr>\n",
        "      <td><strong>OTC</strong></td>\n",
        "      <td> 5.16</td>\n",
        "      <td> 4.69</td>\n",
        "      <td> 4.56</td>\n",
        "      <td> 4.28</td>\n",
        "      <td> 5.33</td>\n",
        "      <td> 5.18</td>\n",
        "      <td> 4.48</td>\n",
        "      <td> 5.06</td>\n",
        "      <td> 4.61</td>\n",
        "      <td> 5.23</td>\n",
        "      <td> 5.45</td>\n",
        "      <td> 5.22</td>\n",
        "      <td> 3.87</td>\n",
        "      <td> 5.64</td>\n",
        "      <td> 5.22</td>\n",
        "    </tr>\n",
        "    <tr>\n",
        "      <td><strong>IFS-IPS</strong></td>\n",
        "      <td>-0.92</td>\n",
        "      <td> 1.87</td>\n",
        "      <td> 0.27</td>\n",
        "      <td>-0.16</td>\n",
        "      <td>-0.46</td>\n",
        "      <td> 0.42</td>\n",
        "      <td> 2.38</td>\n",
        "      <td>-0.53</td>\n",
        "      <td> 0.15</td>\n",
        "      <td> 0.04</td>\n",
        "      <td> 0.77</td>\n",
        "      <td> 1.07</td>\n",
        "      <td> 0.14</td>\n",
        "      <td>-1.02</td>\n",
        "      <td> 1.30</td>\n",
        "    </tr>\n",
        "    <tr>\n",
        "      <td><strong>IFS-OTC</strong></td>\n",
        "      <td>-0.91</td>\n",
        "      <td>-0.10</td>\n",
        "      <td>-1.71</td>\n",
        "      <td>-1.68</td>\n",
        "      <td>-0.87</td>\n",
        "      <td>-1.82</td>\n",
        "      <td> 0.72</td>\n",
        "      <td>-2.23</td>\n",
        "      <td>-1.35</td>\n",
        "      <td>-1.35</td>\n",
        "      <td>-0.68</td>\n",
        "      <td>-0.67</td>\n",
        "      <td>-0.31</td>\n",
        "      <td>-1.59</td>\n",
        "      <td>-0.31</td>\n",
        "    </tr>\n",
        "    <tr>\n",
        "      <td><strong>IPS-OTC</strong></td>\n",
        "      <td> 0.01</td>\n",
        "      <td>-1.97</td>\n",
        "      <td>-1.98</td>\n",
        "      <td>-1.52</td>\n",
        "      <td>-0.41</td>\n",
        "      <td>-2.24</td>\n",
        "      <td>-1.66</td>\n",
        "      <td>-1.70</td>\n",
        "      <td>-1.50</td>\n",
        "      <td>-1.39</td>\n",
        "      <td>-1.45</td>\n",
        "      <td>-1.74</td>\n",
        "      <td>-0.45</td>\n",
        "      <td>-0.57</td>\n",
        "      <td>-1.61</td>\n",
        "    </tr>\n",
        "  </tbody>\n",
        "</table>\n",
        "</div>"
       ],
       "output_type": "pyout",
       "prompt_number": 58,
       "text": [
        "         dk02  dk03  dk04  dk05  dk06  dk07  dk08  dk09  dk10  dk11  dk12  dk13  dk14  dk15  \\\n",
        "IFS      4.25  4.59  2.85  2.60  4.46  3.36  5.20  2.83  3.26  3.88  4.77  4.55  3.56  4.05   \n",
        "IPS      5.17  2.72  2.58  2.76  4.92  2.94  2.82  3.36  3.11  3.84  4.00  3.48  3.42  5.07   \n",
        "OTC      5.16  4.69  4.56  4.28  5.33  5.18  4.48  5.06  4.61  5.23  5.45  5.22  3.87  5.64   \n",
        "IFS-IPS -0.92  1.87  0.27 -0.16 -0.46  0.42  2.38 -0.53  0.15  0.04  0.77  1.07  0.14 -1.02   \n",
        "IFS-OTC -0.91 -0.10 -1.71 -1.68 -0.87 -1.82  0.72 -2.23 -1.35 -1.35 -0.68 -0.67 -0.31 -1.59   \n",
        "IPS-OTC  0.01 -1.97 -1.98 -1.52 -0.41 -2.24 -1.66 -1.70 -1.50 -1.39 -1.45 -1.74 -0.45 -0.57   \n",
        "\n",
        "         dk16  \n",
        "IFS      4.91  \n",
        "IPS      3.61  \n",
        "OTC      5.22  \n",
        "IFS-IPS  1.30  \n",
        "IFS-OTC -0.31  \n",
        "IPS-OTC -1.61  "
       ]
      }
     ],
     "prompt_number": 58
    },
    {
     "cell_type": "code",
     "collapsed": false,
     "input": [
      "for comp in peak_time.columns[3:]:\n",
      "    times = np.array(peak_time[comp])\n",
      "    print comp.replace(\"-\", \" - \"),\n",
      "    boots = moss.bootstrap(times, func=np.median, smooth=True)\n",
      "    print \"\\tMedian: %.3g\" % median(boots),\n",
      "    print \"\\tt = %.3g, p = %.3g\" % stats.ttest_1samp(times, 0),\n",
      "    print \"\\t\\t95%% CI: [%.3g, %.3g]\" % tuple(moss.percentiles(boots, [2.5, 97.5]))"
     ],
     "language": "python",
     "metadata": {},
     "outputs": [
      {
       "output_type": "stream",
       "stream": "stdout",
       "text": [
        "IFS - IPS "
       ]
      },
      {
       "output_type": "stream",
       "stream": "stdout",
       "text": [
        "\tMedian: 0.256 \tt = 1.4, p = 0.182 \t\t95% CI: [-0.39, 1.01]\n",
        "IFS - OTC "
       ]
      },
      {
       "output_type": "stream",
       "stream": "stdout",
       "text": [
        "\tMedian: -1.03 \tt = -4.87, p = 0.000249 \t\t95% CI: [-1.61, -0.433]\n",
        "IPS - OTC "
       ]
      },
      {
       "output_type": "stream",
       "stream": "stdout",
       "text": [
        "\tMedian: -1.48 \tt = -7.81, p = 1.8e-06 \t\t95% CI: [-1.86, -0.908]\n"
       ]
      }
     ],
     "prompt_number": 59
    },
    {
     "cell_type": "code",
     "collapsed": false,
     "input": [
      "smf.rlm(\"OTC ~ IPS + IFS\", peak_time).fit().summary()"
     ],
     "language": "python",
     "metadata": {},
     "outputs": [
      {
       "html": [
        "<table class=\"simpletable\">\n",
        "<caption>Robust linear Model Regression Results</caption>\n",
        "<tr>\n",
        "  <th>Dep. Variable:</th>         <td>OTC</td>       <th>  No. Observations:  </th> <td>    15</td>\n",
        "</tr>\n",
        "<tr>\n",
        "  <th>Model:</th>                 <td>RLM</td>       <th>  Df Residuals:      </th> <td>    12</td>\n",
        "</tr>\n",
        "<tr>\n",
        "  <th>Method:</th>               <td>IRLS</td>       <th>  Df Model:          </th> <td>     2</td>\n",
        "</tr>\n",
        "<tr>\n",
        "  <th>Norm:</th>                <td>HuberT</td>      <th>                     </th>    <td> </td>  \n",
        "</tr>\n",
        "<tr>\n",
        "  <th>Scale Est.:</th>            <td>mad</td>       <th>                     </th>    <td> </td>  \n",
        "</tr>\n",
        "<tr>\n",
        "  <th>Cov Type:</th>              <td>H1</td>        <th>                     </th>    <td> </td>  \n",
        "</tr>\n",
        "<tr>\n",
        "  <th>Date:</th>           <td>Wed, 02 Jan 2013</td> <th>                     </th>    <td> </td>  \n",
        "</tr>\n",
        "<tr>\n",
        "  <th>Time:</th>               <td>17:08:52</td>     <th>                     </th>    <td> </td>  \n",
        "</tr>\n",
        "<tr>\n",
        "  <th>No. Iterations:</th>        <td>13</td>        <th>                     </th>    <td> </td>  \n",
        "</tr>\n",
        "</table>\n",
        "<table class=\"simpletable\">\n",
        "<tr>\n",
        "      <td></td>         <th>coef</th>     <th>std err</th>      <th>z</th>      <th>P>|z|</th> <th>[95.0% Conf. Int.]</th> \n",
        "</tr>\n",
        "<tr>\n",
        "  <th>Intercept</th> <td>    3.4524</td> <td>    0.537</td> <td>    6.428</td> <td> 0.000</td> <td>    2.400     4.505</td>\n",
        "</tr>\n",
        "<tr>\n",
        "  <th>IPS</th>       <td>    0.3286</td> <td>    0.118</td> <td>    2.784</td> <td> 0.005</td> <td>    0.097     0.560</td>\n",
        "</tr>\n",
        "<tr>\n",
        "  <th>IFS</th>       <td>    0.0855</td> <td>    0.124</td> <td>    0.691</td> <td> 0.489</td> <td>   -0.157     0.328</td>\n",
        "</tr>\n",
        "</table>"
       ],
       "output_type": "pyout",
       "prompt_number": 60,
       "text": [
        "<class 'statsmodels.iolib.summary.Summary'>\n",
        "\"\"\"\n",
        "                    Robust linear Model Regression Results                    \n",
        "==============================================================================\n",
        "Dep. Variable:                    OTC   No. Observations:                   15\n",
        "Model:                            RLM   Df Residuals:                       12\n",
        "Method:                          IRLS   Df Model:                            2\n",
        "Norm:                          HuberT                                         \n",
        "Scale Est.:                       mad                                         \n",
        "Cov Type:                          H1                                         \n",
        "Date:                Wed, 02 Jan 2013                                         \n",
        "Time:                        17:08:52                                         \n",
        "No. Iterations:                    13                                         \n",
        "==============================================================================\n",
        "                 coef    std err          z      P>|z|      [95.0% Conf. Int.]\n",
        "------------------------------------------------------------------------------\n",
        "Intercept      3.4524      0.537      6.428      0.000         2.400     4.505\n",
        "IPS            0.3286      0.118      2.784      0.005         0.097     0.560\n",
        "IFS            0.0855      0.124      0.691      0.489        -0.157     0.328\n",
        "==============================================================================\n",
        "\n",
        "If the model instance has been used for another fit with different fit\n",
        "parameters, then the fit options might not be the correct ones anymore .\n",
        "\"\"\""
       ]
      }
     ],
     "prompt_number": 60
    },
    {
     "cell_type": "code",
     "collapsed": false,
     "input": [
      "post_evoked = dict()\n",
      "for roi, mask in zip(post_rois, post_masks):\n",
      "    data = evoked.extract_group(\"yeo17_%s-graymid\" % mask, dv=dv)\n",
      "    fir = evoked.calculate_evoked(data, 6, problem=\"stim\", offset=-2)\n",
      "    post_evoked[roi] = fir\n",
      "    \n",
      "evoked_peak = pd.DataFrame(index=subjects)\n",
      "x_orig = linspace(-2, 8, 6)\n",
      "x_up = linspace(-2, 8, 1201)\n",
      "for roi in post_rois:\n",
      "    evoked_peak[roi] = np.argmax(interp1d(x_orig, post_evoked[roi].squeeze(), \"cubic\")(x_up)[:, 201:-200], axis=1) / 100.\n",
      "\n",
      "for roi_a, roi_b in itertools.combinations(post_rois, 2):\n",
      "    diff_key = \"-\".join([roi_a, roi_b])\n",
      "    evoked_peak[diff_key] = evoked_peak[roi_a] - evoked_peak[roi_b]"
     ],
     "language": "python",
     "metadata": {},
     "outputs": [],
     "prompt_number": 61
    },
    {
     "cell_type": "code",
     "collapsed": false,
     "input": [
      "for comp in diff_keys:\n",
      "    bold = evoked_peak[comp]\n",
      "    classifier = peak_time[comp]\n",
      "    print comp.replace(\"-\", \" - \"),\n",
      "    diff_diff = stats.ttest_rel(classifier, bold)\n",
      "    print \"t = %.3g, p = %.3g\" % diff_diff"
     ],
     "language": "python",
     "metadata": {},
     "outputs": [
      {
       "output_type": "stream",
       "stream": "stdout",
       "text": [
        "IFS - IPS t = 3.13, p = 0.00732\n",
        "IFS - OTC t = -1.43, p = 0.174\n",
        "IPS - OTC t = -4.68, p = 0.000355\n"
       ]
      }
     ],
     "prompt_number": 62
    },
    {
     "cell_type": "heading",
     "level": 2,
     "metadata": {},
     "source": [
      "Rule Shift Effects on Contextual Representations"
     ]
    },
    {
     "cell_type": "code",
     "collapsed": false,
     "input": [
      "shift_splits = []\n",
      "for subj, df_i in behav_clean_df.groupby(\"subj\"):\n",
      "    split = df_i[\"dim_shift\"] + 2 * df_i[\"dim_stay\"]\n",
      "    shift_splits.append(np.array(split))\n",
      "    \n",
      "shift_accs = dict()\n",
      "for roi, mask in zip(post_rois, post_masks):\n",
      "    ds = mvpa.load_datasets(\"dimension\", roi, \"yeo17_%s-graymid\" % mask, frames, collapse=slice(2, 4))\n",
      "    accs = mvpa.decode_group(ds, model, split_pred=shift_splits, split_name=\"rule_shift\", dv=dv)\n",
      "    shift_accs[roi] = accs[:, 1:]"
     ],
     "language": "python",
     "metadata": {},
     "outputs": [],
     "prompt_number": 63
    },
    {
     "cell_type": "code",
     "collapsed": false,
     "input": [
      "for roi in post_rois:\n",
      "    print \"Shift effect: \",\n",
      "    print \"%.3g\" % np.diff(shift_accs[roi], axis=1).mean(),\n",
      "    print \"Paired t test: \",\n",
      "    print \"t = %.3g, p = %.3g\" % stats.ttest_rel(*shift_accs[roi].T)"
     ],
     "language": "python",
     "metadata": {},
     "outputs": [
      {
       "output_type": "stream",
       "stream": "stdout",
       "text": [
        "Shift effect:  -0.0752 Paired t test:  t = 3.65, p = 0.00264\n",
        "Shift effect:  -0.0906 Paired t test:  t = 2.41, p = 0.0304\n",
        "Shift effect:  -0.0615 Paired t test:  t = 1.83, p = 0.0893\n"
       ]
      }
     ],
     "prompt_number": 64
    },
    {
     "cell_type": "code",
     "collapsed": false,
     "input": [
      "shift_lf = tile([\"shift\", \"stay\"], 15 * 3)\n",
      "subj_lf = tile(repeat(subjects, 2), 3)\n",
      "roi_lf = repeat(post_rois, 15 * 2)\n",
      "acc_lf = concatenate([shift_accs[roi].ravel() for roi in post_rois])\n",
      "\n",
      "shift_df = pd.DataFrame(dict(acc=acc_lf, shift=shift_lf, subj=subj_lf, roi=roi_lf))\n",
      "shift = moss.df_to_struct(shift_df)"
     ],
     "language": "python",
     "metadata": {},
     "outputs": [],
     "prompt_number": 65
    },
    {
     "cell_type": "code",
     "collapsed": false,
     "input": [
      "%%R -i shift\n",
      "\n",
      "shift$roi = as.factor(shift$roi)\n",
      "shift$shift = as.factor(shift$shift)\n",
      "shift$subj = as.factor(shift$subj)"
     ],
     "language": "python",
     "metadata": {},
     "outputs": [],
     "prompt_number": 66
    },
    {
     "cell_type": "code",
     "collapsed": false,
     "input": [
      "%%R  # Test for ROI by switch interaction\n",
      "\n",
      "m.ts.int = lmer(acc ~ roi * shift + (roi + shift | subj), shift, REML=F)\n",
      "m.ts.add = lmer(acc ~ roi + shift + (roi + shift | subj), shift, REML=F)\n",
      "print(anova(m.ts.int))\n",
      "print(anova(m.ts.int, m.ts.add))"
     ],
     "language": "python",
     "metadata": {},
     "outputs": [
      {
       "output_type": "display_data",
       "text": [
        "Analysis of Variance Table\n",
        "          Df   Sum Sq  Mean Sq F value\n",
        "roi        2 0.265857 0.132929 21.3312\n",
        "shift      1 0.078419 0.078419 12.5841\n",
        "roi:shift  2 0.003175 0.001587  0.2547\n",
        "Data: shift\n",
        "Models:\n",
        "m.ts.add: acc ~ roi + shift + (roi + shift | subj)\n",
        "m.ts.int: acc ~ roi * shift + (roi + shift | subj)\n",
        "         Df     AIC      BIC logLik  Chisq Chi Df Pr(>Chisq)\n",
        "m.ts.add 15 -143.13 -105.630 86.563                         \n",
        "m.ts.int 17 -139.63  -97.137 86.817 0.5066      2     0.7762\n"
       ]
      }
     ],
     "prompt_number": 67
    },
    {
     "cell_type": "code",
     "collapsed": false,
     "input": [
      "%%R  # Test the main effects in the task switching model\n",
      "\n",
      "print(summary(m.ts.add))\n",
      "print(anova(m.ts.add))\n",
      "cat(\"\\n\\n\")\n",
      "m.ts.roi = lmer(acc ~ shift + (roi + shift | subj), shift, REML=F)\n",
      "m.ts.switch = lmer(acc ~ roi + (roi + shift | subj), shift, REML=F)\n",
      "cat(\"Test for ROI Effect\\n\\n\")\n",
      "print(anova(m.ts.add, m.ts.roi))\n",
      "cat(\"\\n\\nTest for Shift Effect\\n\\n\")\n",
      "print(anova(m.ts.add, m.ts.switch))"
     ],
     "language": "python",
     "metadata": {},
     "outputs": [
      {
       "output_type": "display_data",
       "text": [
        "Linear mixed model fit by maximum likelihood \n",
        "Formula: acc ~ roi + shift + (roi + shift | subj) \n",
        "   Data: shift \n",
        "    AIC    BIC logLik deviance REMLdev\n",
        " -143.1 -105.6  86.56   -173.1  -148.8\n",
        "Random effects:\n",
        " Groups   Name        Variance   Std.Dev.   Corr              \n",
        " subj     (Intercept) 8.1485e-16 2.8546e-08                   \n",
        "          roiIPS      2.5016e-03 5.0016e-02 0.000             \n",
        "          roiOTC      2.2030e-03 4.6937e-02 0.000 0.554       \n",
        "          shiftstay   2.6526e-03 5.1503e-02 0.000 0.773 0.250 \n",
        " Residual             6.3022e-03 7.9386e-02                   \n",
        "Number of obs: 90, groups: subj, 15\n",
        "\n",
        "Fixed effects:\n",
        "            Estimate Std. Error t value\n",
        "(Intercept)  0.53169    0.01674   31.77\n",
        "roiIPS       0.10119    0.02423    4.18\n",
        "roiOTC       0.13624    0.02381    5.72\n",
        "shiftstay   -0.07578    0.02138   -3.55\n",
        "\n",
        "Correlation of Fixed Effects:\n",
        "          (Intr) roiIPS roiOTC\n",
        "roiIPS    -0.518              \n",
        "roiOTC    -0.527  0.514       \n",
        "shiftstay -0.391  0.256  0.079\n",
        "Analysis of Variance Table\n",
        "      Df   Sum Sq  Mean Sq F value\n",
        "roi    2 0.268688 0.134344  21.317\n",
        "shift  1 0.079171 0.079171  12.562\n",
        "\n",
        "\n",
        "Test for ROI Effect\n",
        "\n",
        "Data: shift\n",
        "Models:\n",
        "m.ts.roi: acc ~ shift + (roi + shift | subj)\n",
        "m.ts.add: acc ~ roi + shift + (roi + shift | subj)\n",
        "         Df     AIC      BIC logLik  Chisq Chi Df Pr(>Chisq)    \n",
        "m.ts.roi 13 -125.92  -93.424 75.961                             \n",
        "m.ts.add 15 -143.13 -105.630 86.563 21.206      2  2.485e-05 ***\n",
        "---\n",
        "Signif. codes:  0 '***' 0.001 '**' 0.01 '*' 0.05 '.' 0.1 ' ' 1 \n",
        "\n",
        "\n",
        "Test for Shift Effect\n",
        "\n",
        "Data: shift\n",
        "Models:\n",
        "m.ts.switch: acc ~ roi + (roi + shift | subj)\n",
        "m.ts.add: acc ~ roi + shift + (roi + shift | subj)\n",
        "            Df     AIC     BIC logLik  Chisq Chi Df Pr(>Chisq)   \n",
        "m.ts.switch 14 -135.49 -100.49 81.745                            \n",
        "m.ts.add    15 -143.13 -105.63 86.563 9.6374      1   0.001907 **\n",
        "---\n",
        "Signif. codes:  0 '***' 0.001 '**' 0.01 '*' 0.05 '.' 0.1 ' ' 1 \n"
       ]
      }
     ],
     "prompt_number": 68
    },
    {
     "cell_type": "code",
     "collapsed": false,
     "input": [
      "rt_lf = []\n",
      "shift_lf = []\n",
      "subj_lf = []\n",
      "for s, df_i in behav_clean_df.groupby(\"subj\"):\n",
      "    df_first = df_i[df_i[\"block_pos\"] == 0]\n",
      "    rts = df_first[\"rt\"]\n",
      "    rt_lf.append(rts)\n",
      "    shift = (df_first[\"dim_shift\"] + 2 * df_first[\"dim_stay\"]) - 1\n",
      "    shift_lf.append(shift)\n",
      "    subj_lf.append(np.repeat(s, len(df_first)))\n",
      "rt_lf = np.concatenate(rt_lf)\n",
      "shift_lf = np.concatenate(shift_lf)\n",
      "subj_lf = np.concatenate(subj_lf)\n",
      "shift_behav_df = pd.DataFrame(dict(rt=rt_lf, subj=subj_lf, shift=shift_lf))\n",
      "shift_behav = moss.df_to_struct(shift_behav_df)"
     ],
     "language": "python",
     "metadata": {},
     "outputs": [],
     "prompt_number": 69
    },
    {
     "cell_type": "code",
     "collapsed": false,
     "input": [
      "%%R  -i shift_behav\n",
      "\n",
      "shift_behav$subj = as.factor(shift_behav$subj)\n",
      "m.tsb = lmer(rt ~ shift + (shift | subj), shift_behav, REML=F)\n",
      "print(m.tsb)\n",
      "m.tsb.rt = lmer(rt ~ 1 + (shift | subj), shift_behav, REML=F)\n",
      "print(anova(m.tsb, m.tsb.rt))"
     ],
     "language": "python",
     "metadata": {},
     "outputs": [
      {
       "output_type": "display_data",
       "text": [
        "Linear mixed model fit by maximum likelihood \n",
        "Formula: rt ~ shift + (shift | subj) \n",
        "   Data: shift_behav \n",
        "   AIC   BIC logLik deviance REMLdev\n",
        " 398.9 429.9 -193.4    386.9   397.1\n",
        "Random effects:\n",
        " Groups   Name        Variance   Std.Dev. Corr  \n",
        " subj     (Intercept) 0.04283799 0.206973       \n",
        "          shift       0.00015216 0.012335 1.000 \n",
        " Residual             0.07536244 0.274522       \n",
        "Number of obs: 1298, groups: subj, 15\n",
        "\n",
        "Fixed effects:\n",
        "            Estimate Std. Error t value\n",
        "(Intercept)  0.88705    0.05419  16.368\n",
        "shift       -0.01234    0.01731  -0.713\n",
        "\n",
        "Correlation of Fixed Effects:\n",
        "      (Intr)\n",
        "shift 0.095 \n",
        "Data: shift_behav\n",
        "Models:\n",
        "m.tsb.rt: rt ~ 1 + (shift | subj)\n",
        "m.tsb: rt ~ shift + (shift | subj)\n",
        "         Df    AIC    BIC  logLik  Chisq Chi Df Pr(>Chisq)\n",
        "m.tsb.rt  5 397.38 423.22 -193.69                         \n",
        "m.tsb     6 398.87 429.88 -193.43 0.5078      1     0.4761\n"
       ]
      }
     ],
     "prompt_number": 70
    },
    {
     "cell_type": "heading",
     "level": 3,
     "metadata": {},
     "source": [
      "Rule Shift Lag"
     ]
    },
    {
     "cell_type": "code",
     "collapsed": false,
     "input": [
      "lag = []\n",
      "for i, shift_i in enumerate(behav_clean_df[\"dim_shift\"]):\n",
      "    if shift_i:\n",
      "        lag.append(0)\n",
      "    else:\n",
      "        lag.append(i - np.argwhere(behav_clean_df[\"dim_shift\"][:i]).max())\n",
      "behav_clean_df[\"dim_shift_lag\"] = lag\n",
      "lag_splits = [df_i[\"dim_shift_lag\"] for s, df_i in behav_clean_df.groupby(\"subj\")]"
     ],
     "language": "python",
     "metadata": {},
     "outputs": [],
     "prompt_number": 71
    },
    {
     "cell_type": "code",
     "collapsed": false,
     "input": [
      "lag_accs = dict()\n",
      "peak_accs = dict()\n",
      "for roi, mask in zip(post_rois, post_masks):\n",
      "    ds = mvpa.load_datasets(\"dimension\", roi, \"yeo17_%s-graymid\" % mask, frames, collapse=slice(2, 4))\n",
      "    accs = mvpa.decode_group(ds, model, split_pred=lag_splits, split_name=\"rule_shift_lag\", dv=dv)\n",
      "    lag_accs[roi] = np.array([a[:6] for a in accs])\n",
      "    peak_accs[roi] = mvpa.decode_group(ds, model, dv=dv)"
     ],
     "language": "python",
     "metadata": {},
     "outputs": [],
     "prompt_number": 72
    },
    {
     "cell_type": "code",
     "collapsed": false,
     "input": [
      "f, ax_list = subplots(1, 3, figsize=(9, 5.5))\n",
      "for i, roi in enumerate(post_rois):\n",
      "    ax = ax_list[i]\n",
      "    color = roi_colors[roi]\n",
      "    sns.tsplot(range(6), lag_accs[roi], err_style=[\"ci_bars\"], color=color, ax=ax)\n",
      "    peak_boots = moss.bootstrap(peak_accs[roi])\n",
      "    peak_ci = moss.percentiles(peak_boots, [16, 84])\n",
      "    ax.axhline(peak_boots.mean(), c=sns.desaturate(color, .5), ls=\"--\")\n",
      "    for bound in peak_ci:\n",
      "        ax.axhline(bound, c=sns.desaturate(color, .5), ls=\":\")\n",
      "    ax.set_ylim(.3, .7)\n",
      "    ax.set_yticks(linspace(.3, .7, 5))\n",
      "    ax.set_title(roi)\n",
      "    ax.set_xlim(-.5, 5.5)\n",
      "    ax.plot(ax.get_xlim(), [1./3, 1./3], \"k--\")\n",
      "    if i:\n",
      "        ax.set_yticklabels([])\n",
      "    else:\n",
      "        ax.set_ylabel(\"Cross-Validated Decoding Accuracy\")\n",
      "    if i == 1:\n",
      "        ax.set_xlabel(\"Trials Since Rule Shift\")\n",
      "subplots_adjust(wspace=.05)"
     ],
     "language": "python",
     "metadata": {},
     "outputs": [
      {
       "output_type": "display_data",
       "png": "[encoded data removed]"
      }
     ],
     "prompt_number": 73
    },
    {
     "cell_type": "code",
     "collapsed": false,
     "input": [
      "subj_lf = tile(repeat(subjects, 6), 3)\n",
      "roi_lf = repeat(post_rois, 15 * 6)\n",
      "lag_lf = tile(np.arange(6), 15 * 3)\n",
      "acc_lf = concatenate([lag_accs[roi].ravel() for roi in post_rois])\n",
      "\n",
      "lag_df = pd.DataFrame(dict(acc=acc_lf, lag=lag_lf, subj=subj_lf, roi=roi_lf))\n",
      "lag = moss.df_to_struct(lag_df)"
     ],
     "language": "python",
     "metadata": {},
     "outputs": [],
     "prompt_number": 74
    },
    {
     "cell_type": "code",
     "collapsed": false,
     "input": [
      "%%R -i lag\n",
      "\n",
      "lag$roi = as.factor(lag$roi)\n",
      "lag$subj = as.factor(lag$subj)\n",
      "lag$lag = poly(as.numeric(lag$lag), 2)  # was breaking with poly() otherwise"
     ],
     "language": "python",
     "metadata": {},
     "outputs": [],
     "prompt_number": 75
    },
    {
     "cell_type": "code",
     "collapsed": false,
     "input": [
      "%%R  # Test for ROI by lag interaction\n",
      "\n",
      "m.lag.int = lmer(acc ~ roi * lag + (roi + lag | subj), lag, REML=F)\n",
      "m.lag.add = lmer(acc ~ roi + lag + (roi + lag | subj), lag, REML=F)\n",
      "print(anova(m.lag.int))\n",
      "print(anova(m.lag.int, m.lag.add))"
     ],
     "language": "python",
     "metadata": {},
     "outputs": [
      {
       "output_type": "display_data",
       "text": [
        "Analysis of Variance Table\n",
        "        Df  Sum Sq  Mean Sq F value\n",
        "roi      2 0.39797 0.198985 27.5084\n",
        "lag      2 0.22003 0.110015 15.2089\n",
        "roi:lag  4 0.04463 0.011159  1.5426\n",
        "Data: lag\n",
        "Models:\n",
        "m.lag.add: acc ~ roi + lag + (roi + lag | subj)\n",
        "m.lag.int: acc ~ roi * lag + (roi + lag | subj)\n",
        "          Df     AIC     BIC logLik  Chisq Chi Df Pr(>Chisq)\n",
        "m.lag.add 21 -459.41 -383.84 250.70                         \n",
        "m.lag.int 25 -457.49 -367.53 253.75 6.0873      4     0.1927\n"
       ]
      }
     ],
     "prompt_number": 76
    },
    {
     "cell_type": "code",
     "collapsed": false,
     "input": [
      "%%R  # Test the main effects in the rule shifting lag model\n",
      "\n",
      "print(summary(m.lag.add))\n",
      "cat(\"\\n\\n\")\n",
      "m.lag.lin = lmer(acc ~ roi + lag[, 1] + (roi + lag | subj), lag, REML=F)\n",
      "m.lag.lag = lmer(acc ~ roi + (roi + lag | subj), lag, REML=F)\n",
      "cat(\"\\n\\nTest for Lag Effect\\n\\n\")\n",
      "print(anova(m.lag.add, m.lag.lin, m.lag.lag))"
     ],
     "language": "python",
     "metadata": {},
     "outputs": [
      {
       "output_type": "display_data",
       "text": [
        "Linear mixed model fit by maximum likelihood \n",
        "Formula: acc ~ roi + lag + (roi + lag | subj) \n",
        "   Data: lag \n",
        "    AIC    BIC logLik deviance REMLdev\n",
        " -459.4 -383.8  250.7   -501.4  -476.4\n",
        "Random effects:\n",
        " Groups   Name        Variance  Std.Dev. Corr                        \n",
        " subj     (Intercept) 0.0022783 0.047731                             \n",
        "          roiIPS      0.0035206 0.059335 -0.232                      \n",
        "          roiOTC      0.0040686 0.063785 -0.421  0.515               \n",
        "          lag1        0.0731435 0.270451  0.661  0.449  0.325        \n",
        "          lag2        0.0040858 0.063920 -0.914 -0.095  0.453 -0.692 \n",
        " Residual             0.0074320 0.086209                             \n",
        "Number of obs: 270, groups: subj, 15\n",
        "\n",
        "Fixed effects:\n",
        "            Estimate Std. Error t value\n",
        "(Intercept)  0.47267    0.01531  30.869\n",
        "roiIPS       0.08195    0.02000   4.098\n",
        "roiOTC       0.13214    0.02089   6.325\n",
        "lag1        -0.56434    0.11094  -5.087\n",
        "lag2         0.21348    0.08777   2.432\n",
        "\n",
        "Correlation of Fixed Effects:\n",
        "       (Intr) roiIPS roiOTC lag1  \n",
        "roiIPS -0.413                     \n",
        "roiOTC -0.525  0.509              \n",
        "lag1    0.335  0.217  0.161       \n",
        "lag2   -0.138 -0.014  0.067 -0.082\n",
        "\n",
        "\n",
        "\n",
        "\n",
        "Test for Lag Effect\n",
        "\n",
        "Data: lag\n",
        "Models:\n",
        "m.lag.lag: acc ~ roi + (roi + lag | subj)\n",
        "m.lag.lin: acc ~ roi + lag[, 1] + (roi + lag | subj)\n",
        "m.lag.add: acc ~ roi + lag + (roi + lag | subj)\n",
        "          Df     AIC     BIC logLik   Chisq Chi Df Pr(>Chisq)    \n",
        "m.lag.lag 19 -446.02 -377.65 242.01                              \n",
        "m.lag.lin 20 -455.69 -383.73 247.85 11.6786      1  0.0006322 ***\n",
        "m.lag.add 21 -459.41 -383.84 250.70  5.7114      1  0.0168548 *  \n",
        "---\n",
        "Signif. codes:  0 '***' 0.001 '**' 0.01 '*' 0.05 '.' 0.1 ' ' 1 \n"
       ]
      }
     ],
     "prompt_number": 77
    },
    {
     "cell_type": "heading",
     "level": 4,
     "metadata": {},
     "source": [
      "Shift Lag Effect on Evoked Signal"
     ]
    },
    {
     "cell_type": "code",
     "collapsed": false,
     "input": [
      "[np.array(df_k[\"stim_time\"]) for t, df_k in df_j.groupby(\"dim_shift_lag\") if t < 6]"
     ],
     "language": "python",
     "metadata": {},
     "outputs": [
      {
       "output_type": "pyout",
       "prompt_number": 104,
       "text": [
        "[array([   60.00023238,   108.00058616,   156.00107476,   204.00088008,\n",
        "         252.00024131,   300.00023812,   348.0006329 ,   396.00066305,\n",
        "         444.00096994,   492.00021506,   540.00100994,   588.00086795,\n",
        "         684.00007372,   780.00017175,   828.00064102,   924.00069206,\n",
        "         972.00069279,  1020.0009337 ,  1068.00081492,  1116.00050884]),\n",
        " array([   72.00773685,   120.00921539,   168.00785599,   216.0070667 ,\n",
        "         264.00751837,   312.00752087,   360.00838312,   408.00731523,\n",
        "         456.00777447,   504.00729164,   552.00710976,   600.008589  ,\n",
        "         696.0093961 ,   792.0074453 ,   840.00921554,   936.00896524,\n",
        "         984.00740866,  1032.00793296,  1080.00750805,  1128.00771888]),\n",
        " array([   84.33536701,   132.00742456,   180.00862821,   228.00772141,\n",
        "         276.00777927,   324.00687215,   372.00776563,   420.00845041,\n",
        "         468.00758391,   516.00739313,   564.00793111,   612.00739987,\n",
        "         708.00800033,   804.0076301 ,   852.00763797,   948.00765256,\n",
        "         996.00841413,  1092.00746971,  1140.00767617]),\n",
        " array([  36.0073074 ,  636.00012102,  732.00024874,  876.00016057]),\n",
        " array([ 648.00717008,  744.00734719,  888.00777691]),\n",
        " array([ 660.00874114,  756.00892735,  900.00889976])]"
       ]
      }
     ],
     "prompt_number": 104
    },
    {
     "cell_type": "code",
     "collapsed": false,
     "input": [
      "lag_onsets = []\n",
      "for s, df_i in behav_clean_df.groupby(\"subj\"):\n",
      "    lag_onsets.append([])\n",
      "    for lag in range(6):\n",
      "        lag_onsets[-1].append([])\n",
      "        for r, df_j in df_i.groupby(\"run\"):\n",
      "            lag_onsets[-1][-1].append(np.array(df_j[\"stim_time\"][df_j[\"dim_shift_lag\"] == lag]))\n",
      "lag_onsets = np.asarray(lag_onsets)"
     ],
     "language": "python",
     "metadata": {},
     "outputs": [],
     "prompt_number": 98
    },
    {
     "cell_type": "code",
     "collapsed": false,
     "input": [
      "reload(evoked)"
     ],
     "language": "python",
     "metadata": {},
     "outputs": [
      {
       "output_type": "pyout",
       "prompt_number": 110,
       "text": [
        "<module 'lyman.evoked' from '/Library/Frameworks/Python.framework/Versions/7.1/lib/python2.7/site-packages/lyman/evoked.pyc'>"
       ]
      }
     ],
     "prompt_number": 110
    },
    {
     "cell_type": "code",
     "collapsed": false,
     "input": [
      "evoked_lag = dict()\n",
      "evoked_all = dict()\n",
      "for roi, mask in zip(post_rois, post_masks):\n",
      "    data = evoked.extract_group(\"yeo17_%s-graymid\" % mask)\n",
      "    lag_signal = evoked.calculate_evoked(data, 6, lag_onsets, offset=-2)\n",
      "    evoked_lag[roi] = evoked.integrate_evoked(lag_signal)\n",
      "    all_signal = evoked.calculate_evoked(data, 6, problem=\"stim\", offset=-2)\n",
      "    evoked_all[roi] = evoked.integrate_evoked(all_signal)"
     ],
     "language": "python",
     "metadata": {},
     "outputs": [],
     "prompt_number": 111
    },
    {
     "cell_type": "code",
     "collapsed": false,
     "input": [
      "f, ax_list = subplots(1, 3, figsize=(9, 5.5))\n",
      "for i, roi in enumerate(post_rois):\n",
      "    ax = ax_list[i]\n",
      "    color = roi_colors[roi]\n",
      "    sns.tsplot(range(6), evoked_lag[roi], err_style=[\"ci_bars\"], color=color, ax=ax)\n",
      "    peak_boots = moss.bootstrap(evoked_all[roi])\n",
      "    peak_ci = moss.percentiles(peak_boots, [16, 84])\n",
      "    ax.axhline(peak_boots.mean(), c=sns.desaturate(color, .5), ls=\"--\")\n",
      "    for bound in peak_ci:\n",
      "        ax.axhline(bound, c=sns.desaturate(color, .5), ls=\":\")\n",
      "    ax.axhline(0, ls=\"--\", c=\"k\")\n",
      "    ax.set_title(roi)\n",
      "    ax.set_xlim(-.5, 5.5)\n",
      "    ax.set_ylim(-.5, 2.5)\n",
      "    if i:\n",
      "        ax.set_yticklabels([])\n",
      "    else:\n",
      "        ax.set_ylabel(\"Integrated Percent Signal Change\")\n",
      "    if i == 1:\n",
      "        ax.set_xlabel(\"Trials Since Rule Shift\")\n",
      "subplots_adjust(wspace=.05)"
     ],
     "language": "python",
     "metadata": {},
     "outputs": [
      {
       "output_type": "display_data",
       "png": "[encoded data removed]"
      }
     ],
     "prompt_number": 112
    },
    {
     "cell_type": "code",
     "collapsed": false,
     "input": [
      "subj_lf = tile(repeat(subjects, 6), 3)\n",
      "bold_lf = concatenate([evoked_lag[roi].ravel() for roi in post_rois])\n",
      "roi_lf = repeat(post_rois, 15 * 6)\n",
      "lag_lf = tile(np.arange(6), 15 * 3)\n",
      "\n",
      "bold_lag_df = pd.DataFrame(dict(bold=bold_lf, lag=lag_lf, subj=subj_lf, roi=roi_lf))\n",
      "bold_lag = moss.df_to_struct(bold_lag_df)"
     ],
     "language": "python",
     "metadata": {},
     "outputs": [],
     "prompt_number": 113
    },
    {
     "cell_type": "code",
     "collapsed": false,
     "input": [
      "%%R -i bold_lag\n",
      "\n",
      "bold_lag$roi = as.factor(bold_lag$roi)\n",
      "bold_lag$subj = as.factor(bold_lag$subj)"
     ],
     "language": "python",
     "metadata": {},
     "outputs": [],
     "prompt_number": 114
    },
    {
     "cell_type": "code",
     "collapsed": false,
     "input": [
      "%%R  # Test for ROI by lag interaction\n",
      "\n",
      "m.blag.int = lmer(bold ~ roi * lag + (roi + lag | subj), bold_lag, REML=F)\n",
      "m.blag.add = lmer(bold ~ roi + lag + (roi + lag | subj), bold_lag, REML=F)\n",
      "print(anova(m.blag.int))\n",
      "print(anova(m.blag.int, m.blag.add))"
     ],
     "language": "python",
     "metadata": {},
     "outputs": [
      {
       "output_type": "display_data",
       "text": [
        "Analysis of Variance Table\n",
        "        Df  Sum Sq Mean Sq F value\n",
        "roi      2 15.5531  7.7766 41.2942\n",
        "lag      1  0.4905  0.4905  2.6048\n",
        "roi:lag  2  0.2164  0.1082  0.5746\n",
        "Data: bold_lag\n",
        "Models:\n",
        "m.blag.add: bold ~ roi + lag + (roi + lag | subj)\n",
        "m.blag.int: bold ~ roi * lag + (roi + lag | subj)\n",
        "           Df    AIC    BIC  logLik  Chisq Chi Df Pr(>Chisq)\n",
        "m.blag.add 15 416.87 470.85 -193.44                         \n",
        "m.blag.int 17 419.72 480.90 -192.86 1.1463      2     0.5637\n"
       ]
      }
     ],
     "prompt_number": 115
    },
    {
     "cell_type": "code",
     "collapsed": false,
     "input": [
      "%%R  # Test the main effects in the rule shifting lag model\n",
      "\n",
      "print(summary(m.blag.add))\n",
      "cat(\"\\n\\n\")\n",
      "m.blag.lag = lmer(bold ~ roi + (roi + lag | subj), bold_lag, REML=F)\n",
      "cat(\"\\n\\nTest for Lag Effect\\n\\n\")\n",
      "print(anova(m.blag.add, m.blag.lag))"
     ],
     "language": "python",
     "metadata": {},
     "outputs": [
      {
       "output_type": "display_data",
       "text": [
        "Linear mixed model fit by maximum likelihood \n",
        "Formula: bold ~ roi + lag + (roi + lag | subj) \n",
        "   Data: bold_lag \n",
        "   AIC   BIC logLik deviance REMLdev\n",
        " 416.9 470.8 -193.4    386.9   401.6\n",
        "Random effects:\n",
        " Groups   Name        Variance  Std.Dev. Corr                 \n",
        " subj     (Intercept) 0.0592097 0.243330                      \n",
        "          roiIPS      0.0549475 0.234409  0.633               \n",
        "          roiOTC      0.2607279 0.510615 -0.570  0.202        \n",
        "          lag         0.0052761 0.072637 -0.419  0.405  0.973 \n",
        " Residual             0.1892828 0.435066                      \n",
        "Number of obs: 270, groups: subj, 15\n",
        "\n",
        "Fixed effects:\n",
        "            Estimate Std. Error t value\n",
        "(Intercept)  0.71990    0.08691   8.284\n",
        "roiIPS       0.63461    0.08871   7.154\n",
        "roiOTC       0.92762    0.14693   6.313\n",
        "lag          0.03931    0.02433   1.616\n",
        "\n",
        "Correlation of Fixed Effects:\n",
        "       (Intr) roiIPS roiOTC\n",
        "roiIPS  0.039              \n",
        "roiOTC -0.535  0.285       \n",
        "lag    -0.518  0.213  0.673\n",
        "\n",
        "\n",
        "\n",
        "\n",
        "Test for Lag Effect\n",
        "\n",
        "Data: bold_lag\n",
        "Models:\n",
        "m.blag.lag: bold ~ roi + (roi + lag | subj)\n",
        "m.blag.add: bold ~ roi + lag + (roi + lag | subj)\n",
        "           Df    AIC    BIC  logLik  Chisq Chi Df Pr(>Chisq)\n",
        "m.blag.lag 14 417.29 467.67 -194.64                         \n",
        "m.blag.add 15 416.87 470.85 -193.44 2.4179      1       0.12\n"
       ]
      }
     ],
     "prompt_number": 116
    },
    {
     "cell_type": "heading",
     "level": 4,
     "metadata": {},
     "source": [
      "Shift Lag Effect on RT"
     ]
    },
    {
     "cell_type": "code",
     "collapsed": false,
     "input": [
      "rt_lag_df = behav_clean_df[[\"subj\", \"rt\", \"dim_shift_lag\"]]\n",
      "rg_lag_df = rt_lag_df[rt_lag_df[\"dim_shift_lag\"] < 6]\n",
      "rt_lag = moss.df_to_struct(rt_lag_df)"
     ],
     "language": "python",
     "metadata": {},
     "outputs": [],
     "prompt_number": 117
    },
    {
     "cell_type": "code",
     "collapsed": false,
     "input": [
      "%%R -i rt_lag\n",
      "\n",
      "rt_lag$subj = as.factor(rt_lag$subj)\n",
      "rt_lag$dim_shift_lag = poly(as.numeric(rt_lag$dim_shift_lag), 2)\n",
      "\n",
      "m.rt = lmer(rt ~ dim_shift_lag + (dim_shift_lag | subj), rt_lag, REML=FALSE)\n",
      "m.rt.lag = lmer(rt ~ 1 + (dim_shift_lag | subj), rt_lag, REML=FALSE)\n",
      "print(summary(m.rt))\n",
      "print(anova(m.rt))\n",
      "print(anova(m.rt, m.rt.lag))"
     ],
     "language": "python",
     "metadata": {},
     "outputs": [
      {
       "output_type": "display_data",
       "text": [
        "Linear mixed model fit by maximum likelihood \n",
        "Formula: rt ~ dim_shift_lag + (dim_shift_lag | subj) \n",
        "   Data: rt_lag \n",
        "  AIC  BIC logLik deviance REMLdev\n",
        " 1045 1108 -512.7     1025    1031\n",
        "Random effects:\n",
        " Groups   Name           Variance Std.Dev. Corr          \n",
        " subj     (Intercept)    0.040559 0.20139                \n",
        "          dim_shift_lag1 0.067187 0.25920  -0.180        \n",
        "          dim_shift_lag2 0.087467 0.29575   0.643 -0.869 \n",
        " Residual                0.074350 0.27267                \n",
        "Number of obs: 3973, groups: subj, 15\n",
        "\n",
        "Fixed effects:\n",
        "               Estimate Std. Error t value\n",
        "(Intercept)     0.87228    0.05218  16.717\n",
        "dim_shift_lag1  0.07392    0.28215   0.262\n",
        "dim_shift_lag2  0.04464    0.28768   0.155\n",
        "\n",
        "Correlation of Fixed Effects:\n",
        "            (Intr) dm_s_1\n",
        "dm_shft_lg1 -0.043       \n",
        "dm_shft_lg2  0.170 -0.040\n",
        "Analysis of Variance Table\n",
        "              Df    Sum Sq   Mean Sq F value\n",
        "dim_shift_lag  2 0.0071609 0.0035805  0.0482\n",
        "Data: rt_lag\n",
        "Models:\n",
        "m.rt.lag: rt ~ 1 + (dim_shift_lag | subj)\n",
        "m.rt: rt ~ dim_shift_lag + (dim_shift_lag | subj)\n",
        "         Df    AIC    BIC  logLik  Chisq Chi Df Pr(>Chisq)\n",
        "m.rt.lag  8 1041.5 1091.8 -512.74                         \n",
        "m.rt     10 1045.3 1108.2 -512.66 0.1557      2     0.9251\n"
       ]
      }
     ],
     "prompt_number": 118
    },
    {
     "cell_type": "heading",
     "level": 3,
     "metadata": {},
     "source": [
      "Block Position"
     ]
    },
    {
     "cell_type": "code",
     "collapsed": false,
     "input": [
      "pos_splits = [df_i[\"block_pos\"] for subj, df_i in behav_clean_df.groupby(\"subj\")]\n",
      "\n",
      "pos_accs = dict()\n",
      "for roi, mask in zip(post_rois, post_masks):\n",
      "    ds = mvpa.load_datasets(\"dimension\", roi, \"yeo17_%s-graymid\" % mask, frames, collapse=slice(2, 4))\n",
      "    pos_accs[roi] = mvpa.decode_group(ds, model, split_pred=pos_splits, split_name=\"block_pos\", dv=dv)"
     ],
     "language": "python",
     "metadata": {},
     "outputs": [],
     "prompt_number": 119
    },
    {
     "cell_type": "code",
     "collapsed": false,
     "input": [
      "subj_lf = tile(repeat(subjects, 3), 3)\n",
      "roi_lf = repeat(post_rois, 15 * 3)\n",
      "acc_lf = concatenate([pos_accs[roi].ravel() for roi in post_rois])\n",
      "pos_lf = tile(range(3), 15 * 3)\n",
      "\n",
      "pos_df = pd.DataFrame(dict(acc=acc_lf, pos=pos_lf, subj=subj_lf, roi=roi_lf))\n",
      "pos = moss.df_to_struct(pos_df)"
     ],
     "language": "python",
     "metadata": {},
     "outputs": [],
     "prompt_number": 121
    },
    {
     "cell_type": "code",
     "collapsed": false,
     "input": [
      "%%R -i pos\n",
      "\n",
      "pos$roi = as.factor(pos$roi)\n",
      "pos$pos_fact = as.factor(pos$pos)\n",
      "pos$subj = as.factor(pos$subj)"
     ],
     "language": "python",
     "metadata": {},
     "outputs": [],
     "prompt_number": 122
    },
    {
     "cell_type": "code",
     "collapsed": false,
     "input": [
      "%%R  # Test for ROI by position interaction\n",
      "\n",
      "m.pos.int = lmer(acc ~ roi * pos + (roi + pos | subj), pos, REML=F)\n",
      "m.pos.add = lmer(acc ~ roi + pos + (roi + pos | subj), pos, REML=F)\n",
      "print(anova(m.pos.int))\n",
      "print(anova(m.pos.int, m.pos.add))"
     ],
     "language": "python",
     "metadata": {},
     "outputs": [
      {
       "output_type": "display_data",
       "text": [
        "Analysis of Variance Table\n",
        "        Df   Sum Sq  Mean Sq F value\n",
        "roi      2 0.092631 0.046315 20.9376\n",
        "pos      1 0.061334 0.061334 27.7269\n",
        "roi:pos  2 0.006121 0.003060  1.3835\n",
        "Data: pos\n",
        "Models:\n",
        "m.pos.add: acc ~ roi + pos + (roi + pos | subj)\n",
        "m.pos.int: acc ~ roi * pos + (roi + pos | subj)\n",
        "          Df     AIC     BIC logLik  Chisq Chi Df Pr(>Chisq)\n",
        "m.pos.add 15 -342.16 -298.58 186.08                         \n",
        "m.pos.int 17 -340.88 -291.49 187.44 2.7252      2      0.256\n"
       ]
      }
     ],
     "prompt_number": 123
    },
    {
     "cell_type": "code",
     "collapsed": false,
     "input": [
      "%%R  # Test the main effects in the block position model\n",
      "\n",
      "print(summary(m.pos.add))\n",
      "print(anova(m.pos.add))\n",
      "cat(\"\\n\\n\")\n",
      "m.pos.pos = lmer(acc ~ roi + (roi + pos | subj), pos, REML=F)\n",
      "cat(\"\\n\\nTest for Position Effect\\n\\n\")\n",
      "print(anova(m.pos.add, m.pos.pos))"
     ],
     "language": "python",
     "metadata": {},
     "outputs": [
      {
       "output_type": "display_data",
       "text": [
        "Linear mixed model fit by maximum likelihood \n",
        "Formula: acc ~ roi + pos + (roi + pos | subj) \n",
        "   Data: pos \n",
        "    AIC    BIC logLik deviance REMLdev\n",
        " -342.2 -298.6  186.1   -372.2  -343.7\n",
        "Random effects:\n",
        " Groups   Name        Variance   Std.Dev.  Corr                 \n",
        " subj     (Intercept) 1.4565e-03 0.0381644                      \n",
        "          roiIPS      3.9576e-03 0.0629095 -0.179               \n",
        "          roiOTC      3.7648e-03 0.0613577 -0.269  0.381        \n",
        "          pos         2.7539e-05 0.0052477 -0.433 -0.519 -0.690 \n",
        " Residual             2.2801e-03 0.0477502                      \n",
        "Number of obs: 135, groups: subj, 15\n",
        "\n",
        "Fixed effects:\n",
        "             Estimate Std. Error t value\n",
        "(Intercept)  0.513928   0.013157   39.06\n",
        "roiIPS       0.086418   0.019110    4.52\n",
        "roiOTC       0.131973   0.018770    7.03\n",
        "pos         -0.027062   0.005213   -5.19\n",
        "\n",
        "Correlation of Fixed Effects:\n",
        "       (Intr) roiIPS roiOTC\n",
        "roiIPS -0.315              \n",
        "roiOTC -0.375  0.415       \n",
        "pos    -0.454 -0.115 -0.152\n",
        "Analysis of Variance Table\n",
        "    Df   Sum Sq  Mean Sq F value\n",
        "roi  2 0.096069 0.048035  21.067\n",
        "pos  1 0.061404 0.061404  26.930\n",
        "\n",
        "\n",
        "\n",
        "\n",
        "Test for Position Effect\n",
        "\n",
        "Data: pos\n",
        "Models:\n",
        "m.pos.pos: acc ~ roi + (roi + pos | subj)\n",
        "m.pos.add: acc ~ roi + pos + (roi + pos | subj)\n",
        "          Df     AIC     BIC logLik  Chisq Chi Df Pr(>Chisq)    \n",
        "m.pos.pos 14 -325.80 -285.13 176.90                             \n",
        "m.pos.add 15 -342.16 -298.58 186.08 18.358      1  1.831e-05 ***\n",
        "---\n",
        "Signif. codes:  0 '***' 0.001 '**' 0.01 '*' 0.05 '.' 0.1 ' ' 1 \n"
       ]
      }
     ],
     "prompt_number": 124
    },
    {
     "cell_type": "heading",
     "level": 3,
     "metadata": {},
     "source": [
      "Reaction Time"
     ]
    },
    {
     "cell_type": "code",
     "collapsed": false,
     "input": [
      "speed_splits = []\n",
      "for s, df_i in behav_clean_df.groupby(\"subj\"):\n",
      "    speed = [df_j.rt < df_j.rt.median() for r, df_j in df_i.groupby(\"subj\")]\n",
      "    speed_splits.append(np.concatenate(speed).astype(int))"
     ],
     "language": "python",
     "metadata": {},
     "outputs": [],
     "prompt_number": 125
    },
    {
     "cell_type": "code",
     "collapsed": false,
     "input": [
      "speed_accs = dict()\n",
      "for roi, mask in zip(post_rois, post_masks):\n",
      "    ds = mvpa.load_datasets(\"dimension\", roi, \"yeo17_%s-graymid\" % mask, frames)\n",
      "    accs = mvpa.decode_group(ds, model, split_pred=speed_splits, split_name=\"response_speed\", dv=dv)\n",
      "    speed_accs[roi] = accs"
     ],
     "language": "python",
     "metadata": {},
     "outputs": [],
     "prompt_number": 126
    },
    {
     "cell_type": "code",
     "collapsed": false,
     "input": [
      "f, ax_list = subplots(1, 3, figsize=(14.5, 5.5))\n",
      "x = arange(-1, 5)\n",
      "for i, roi in enumerate(post_rois):\n",
      "    ax = ax_list[i]\n",
      "    color = roi_colors[roi]\n",
      "    accs = np.transpose(speed_accs[roi], (2, 0, 1))\n",
      "    sns.tsplot(x, accs[0], color=color, ax=ax)\n",
      "    sns.tsplot(x, accs[1], color=sns.desaturate(color, .4), ax=ax)\n",
      "    ax.set_xlim(-1, 4)\n",
      "    ax.set_ylabel(\"Cross-Validated Decoding Accuracy\")\n",
      "    ax.set_xticklabels(arange(-1, 5) * 2)\n",
      "    ax.set_xlabel(\"Peristimulus Time (s)\")\n",
      "    ax.legend(prop=dict(size=12));"
     ],
     "language": "python",
     "metadata": {},
     "outputs": [
      {
       "output_type": "stream",
       "stream": "stderr",
       "text": [
        "/Library/Frameworks/Python.framework/Versions/7.1/lib/python2.7/site-packages/matplotlib/axes.py:4368: UserWarning: No labeled objects found. Use label='...' kwarg on individual plots.\n",
        "  warnings.warn(\"No labeled objects found. \"\n"
       ]
      },
      {
       "output_type": "display_data",
       "png": "[encoded data removed]"
      }
     ],
     "prompt_number": 127
    }
   ],
   "metadata": {}
  }
 ]
}