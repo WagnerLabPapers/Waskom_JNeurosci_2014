{
 "metadata": {
  "name": "DKsort_Neuron"
 },
 "nbformat": 3,
 "nbformat_minor": 0,
 "worksheets": [
  {
   "cells": [
    {
     "cell_type": "heading",
     "level": 1,
     "metadata": {},
     "source": [
      "Contextual representations in prefrontal and parietal cortex make distinct contributions to cognitive control"
     ]
    },
    {
     "cell_type": "code",
     "collapsed": false,
     "input": [
      "import numpy as np\n",
      "import scipy as sp\n",
      "import pandas as pd\n",
      "from scipy import stats\n",
      "import statsmodels.api as sm\n",
      "from sklearn.linear_model import LogisticRegression\n",
      "from sklearn.decomposition import PCA"
     ],
     "language": "python",
     "metadata": {},
     "outputs": [],
     "prompt_number": 44
    },
    {
     "cell_type": "code",
     "collapsed": false,
     "input": [
      "from lyman import mvpa\n",
      "import moss"
     ],
     "language": "python",
     "metadata": {},
     "outputs": [],
     "prompt_number": 45
    },
    {
     "cell_type": "code",
     "collapsed": false,
     "input": [
      "%pylab inline\n",
      "import seaborn as sns\n",
      "sns.set(context=\"paper\")"
     ],
     "language": "python",
     "metadata": {},
     "outputs": [
      {
       "output_type": "stream",
       "stream": "stdout",
       "text": [
        "\n",
        "Welcome to pylab, a matplotlib-based Python environment [backend: module://IPython.zmq.pylab.backend_inline].\n",
        "For more information, type 'help(pylab)'.\n"
       ]
      }
     ],
     "prompt_number": 46
    },
    {
     "cell_type": "code",
     "collapsed": false,
     "input": [
      "%load_ext rmagic\n",
      "%R require(lme4);"
     ],
     "language": "python",
     "metadata": {},
     "outputs": [],
     "prompt_number": 47
    },
    {
     "cell_type": "code",
     "collapsed": false,
     "input": [
      "from IPython.parallel import Client\n",
      "dv = Client()[:]"
     ],
     "language": "python",
     "metadata": {},
     "outputs": [],
     "prompt_number": 48
    },
    {
     "cell_type": "code",
     "collapsed": false,
     "input": [
      "def save_figure(fig, figname):\n",
      "    fig.savefig(\"/Users/mwaskom/Dropbox/Manuscripts/DKsort_Neuron/figures/%s.pdf\" % figname)"
     ],
     "language": "python",
     "metadata": {},
     "outputs": [],
     "prompt_number": 49
    },
    {
     "cell_type": "code",
     "collapsed": false,
     "input": [
      "subjects = loadtxt(\"subjects.txt\", str)"
     ],
     "language": "python",
     "metadata": {},
     "outputs": [],
     "prompt_number": 50
    },
    {
     "cell_type": "heading",
     "level": 2,
     "metadata": {},
     "source": [
      "Behavioral Results"
     ]
    },
    {
     "cell_type": "code",
     "collapsed": false,
     "input": [
      "# Prepare the long-form behavioral data\n",
      "behav_temp = \"../data/%s/behav/behav_data.csv\"\n",
      "behav_data = []\n",
      "behav_data_resp = []\n",
      "response_acc = []\n",
      "for subj in subjects:\n",
      "    df = pd.read_csv(behav_temp % subj, index_col=\"trial\")\n",
      "    df[\"subj\"] = repeat(subj, len(df))\n",
      "    behav_data.append(df)\n",
      "behav_df = pd.concat(behav_data)\n",
      "behav_resp_df = behav_df[behav_df[\"made_resp\"]]\n",
      "behav_clean_df = behav_df[behav_df[\"clean\"] & behav_df[\"correct\"]]\n",
      "behav = moss.df_to_struct(behav_df)"
     ],
     "language": "python",
     "metadata": {},
     "outputs": [],
     "prompt_number": 51
    },
    {
     "cell_type": "code",
     "collapsed": false,
     "input": [
      "subj_accs = behav_df.groupby(\"subj\").mean()[\"correct\"]\n",
      "print \"Accuracy across subjects: Mean %.2g; Std %.2g; Min: %.2g\" % (mean(subj_accs), std(subj_accs), min(subj_accs))"
     ],
     "language": "python",
     "metadata": {},
     "outputs": [
      {
       "output_type": "stream",
       "stream": "stdout",
       "text": [
        "Accuracy across subjects: Mean 0.95; Std 0.032; Min: 0.87\n"
       ]
      }
     ],
     "prompt_number": 52
    },
    {
     "cell_type": "code",
     "collapsed": false,
     "input": [
      "subj_rts = behav_resp_df.groupby(\"subj\").median()[\"rt\"]\n",
      "print \"Median RT across subjects: Mean %.3g; Std %.3g\" % (mean(subj_rts), std(subj_rts)) \n",
      "subj_rt_iqrs = behav_resp_df.groupby(\"subj\").aggregate(moss.iqr)[\"rt\"]\n",
      "print \"RT IQRs across subjects: Mean: %.3g, Std %.3g\" % (mean(subj_rt_iqrs), std(subj_rt_iqrs))"
     ],
     "language": "python",
     "metadata": {},
     "outputs": [
      {
       "output_type": "stream",
       "stream": "stdout",
       "text": [
        "Median RT across subjects: Mean 0.826; Std 0.201\n",
        "RT IQRs across subjects: Mean: 0.314, Std 0.0998\n"
       ]
      }
     ],
     "prompt_number": 53
    },
    {
     "cell_type": "code",
     "collapsed": false,
     "input": [
      "%%R -i behav\n",
      "behav$dim = factor(behav$dim_rule, labels=c(\"shape\", \"color\", \"pattern\"))\n",
      "behav$dec = factor(behav$dec_rule, labels=c(\"match\", \"nonmatch\"))\n",
      "behav_resp = behav[behav$made_resp, ]"
     ],
     "language": "python",
     "metadata": {},
     "outputs": [],
     "prompt_number": 54
    },
    {
     "cell_type": "code",
     "collapsed": false,
     "input": [
      "%%R  # Test for interaction in RT model\n",
      "\n",
      "m.rt.int = lmer(rt ~ dim * dec + (dim + dec | subj), behav_resp, REML=F)\n",
      "m.rt.add = lmer(rt ~ dim + dec + (dim + dec | subj), behav_resp, REML=F)\n",
      "print(anova(m.rt.int))\n",
      "print(anova(m.rt.int, m.rt.add))"
     ],
     "language": "python",
     "metadata": {},
     "outputs": [
      {
       "output_type": "display_data",
       "text": [
        "Analysis of Variance Table\n",
        "        Df  Sum Sq Mean Sq F value\n",
        "dim      2 0.03792 0.01896  0.2443\n",
        "dec      1 2.26023 2.26023 29.1194\n",
        "dim:dec  2 0.08815 0.04407  0.5678\n",
        "Data: behav_resp\n",
        "Models:\n",
        "m.rt.add: rt ~ dim + dec + (dim + dec | subj)\n",
        "m.rt.int: rt ~ dim * dec + (dim + dec | subj)\n",
        "         Df    AIC    BIC  logLik  Chisq Chi Df Pr(>Chisq)\n",
        "m.rt.add 15 1331.7 1427.0 -650.86                         \n",
        "m.rt.int 17 1334.6 1442.6 -650.29 1.1354      2     0.5668\n"
       ]
      }
     ],
     "prompt_number": 55
    },
    {
     "cell_type": "code",
     "collapsed": false,
     "input": [
      "%%R # Summary of the full additive model\n",
      "\n",
      "print(summary(m.rt.add))\n",
      "print(anova(m.rt.add))"
     ],
     "language": "python",
     "metadata": {},
     "outputs": [
      {
       "output_type": "display_data",
       "text": [
        "Linear mixed model fit by maximum likelihood \n",
        "Formula: rt ~ dim + dec + (dim + dec | subj) \n",
        "   Data: behav_resp \n",
        "  AIC  BIC logLik deviance REMLdev\n",
        " 1332 1427 -650.9     1302    1326\n",
        "Random effects:\n",
        " Groups   Name        Variance   Std.Dev. Corr                 \n",
        " subj     (Intercept) 0.04469256 0.211406                      \n",
        "          dimcolor    0.00105934 0.032548 -0.033               \n",
        "          dimpattern  0.00020008 0.014145 -0.441 -0.882        \n",
        "          decnonmatch 0.00299906 0.054764 -0.376  0.283 -0.077 \n",
        " Residual             0.07764131 0.278642                      \n",
        "Number of obs: 4237, groups: subj, 15\n",
        "\n",
        "Fixed effects:\n",
        "            Estimate Std. Error t value\n",
        "(Intercept) 0.826277   0.055254  14.954\n",
        "dimcolor    0.017373   0.013428   1.294\n",
        "dimpattern  0.005406   0.011114   0.486\n",
        "decnonmatch 0.089202   0.016531   5.396\n",
        "\n",
        "Correlation of Fixed Effects:\n",
        "            (Intr) dimclr dmpttr\n",
        "dimcolor    -0.095              \n",
        "dimpattern  -0.233  0.187       \n",
        "decnonmatch -0.358  0.152 -0.019\n",
        "Analysis of Variance Table\n",
        "    Df  Sum Sq Mean Sq F value\n",
        "dim  2 0.03786 0.01893  0.2438\n",
        "dec  1 2.26076 2.26076 29.1180\n"
       ]
      }
     ],
     "prompt_number": 56
    },
    {
     "cell_type": "code",
     "collapsed": false,
     "input": [
      "%%R  # Tests of main effects in additive RT model\n",
      "\n",
      "m.rt.dim = lmer(rt ~ dec + (dim + dec | subj), behav_resp, REML=F)\n",
      "m.rt.dec = lmer(rt ~ dim + (dim + dec | subj), behav_resp, REML=F)\n",
      "cat(\"\\n\\nTest of dimension rule main effect\\n\")\n",
      "print(anova(m.rt.add, m.rt.dim))\n",
      "cat(\"\\n\\nTest of decision rule main effect\\n\")\n",
      "print(anova(m.rt.add, m.rt.dec))"
     ],
     "language": "python",
     "metadata": {},
     "outputs": [
      {
       "output_type": "display_data",
       "text": [
        "\n",
        "\n",
        "Test of dimension rule main effect\n",
        "Data: behav_resp\n",
        "Models:\n",
        "m.rt.dim: rt ~ dec + (dim + dec | subj)\n",
        "m.rt.add: rt ~ dim + dec + (dim + dec | subj)\n",
        "         Df    AIC  BIC  logLik  Chisq Chi Df Pr(>Chisq)\n",
        "m.rt.dim 13 1329.4 1412 -651.70                         \n",
        "m.rt.add 15 1331.7 1427 -650.86 1.6749      2     0.4328\n",
        "\n",
        "\n",
        "Test of decision rule main effect\n",
        "Data: behav_resp\n",
        "Models:\n",
        "m.rt.dec: rt ~ dim + (dim + dec | subj)\n",
        "m.rt.add: rt ~ dim + dec + (dim + dec | subj)\n",
        "         Df    AIC    BIC  logLik  Chisq Chi Df Pr(>Chisq)    \n",
        "m.rt.dec 14 1345.9 1434.8 -658.95                             \n",
        "m.rt.add 15 1331.7 1427.0 -650.86 16.191      1  5.726e-05 ***\n",
        "---\n",
        "Signif. codes:  0 '***' 0.001 '**' 0.01 '*' 0.05 '.' 0.1 ' ' 1 \n"
       ]
      }
     ],
     "prompt_number": 57
    },
    {
     "cell_type": "code",
     "collapsed": false,
     "input": [
      "diff_rule_cost = np.diff(pd.pivot_table(behav_resp_df, \"rt\", \"subj\", \"dec_rule\", np.median), axis=1)\n",
      "diff_rule_boots = moss.bootstrap(diff_rule_cost)\n",
      "ci_low, ci_high = moss.percentiles(diff_rule_boots, [2.5, 97.5])\n",
      "print \"'Different' rule effect: Mean %.3g, CI: [%.3g, %.3g]\" % (diff_rule_boots.mean(), ci_low, ci_high)"
     ],
     "language": "python",
     "metadata": {},
     "outputs": [
      {
       "output_type": "stream",
       "stream": "stdout",
       "text": [
        "'Different' rule effect: Mean 0.0965, CI: [0.0687, 0.126]\n"
       ]
      }
     ],
     "prompt_number": 58
    },
    {
     "cell_type": "code",
     "collapsed": false,
     "input": [
      "%%R # Test of interactive vs additive model in mixed logit model for accuracy\n",
      "\n",
      "m.acc.int = lmer(correct ~ dim * dec + (dim + dec | subj), behav, family=\"binomial\")\n",
      "m.acc.add = lmer(correct ~ dim + dec + (dim + dec | subj), behav, family=\"binomial\")\n",
      "print(anova(m.acc.int, m.acc.add))"
     ],
     "language": "python",
     "metadata": {},
     "outputs": [
      {
       "output_type": "display_data",
       "text": [
        "Data: behav\n",
        "Models:\n",
        "m.acc.add: correct ~ dim + dec + (dim + dec | subj)\n",
        "m.acc.int: correct ~ dim * dec + (dim + dec | subj)\n",
        "          Df    AIC    BIC  logLik  Chisq Chi Df Pr(>Chisq)\n",
        "m.acc.add 14 1695.3 1784.5 -833.65                         \n",
        "m.acc.int 16 1699.2 1801.2 -833.61 0.0823      2     0.9597\n"
       ]
      }
     ],
     "prompt_number": 59
    },
    {
     "cell_type": "code",
     "collapsed": false,
     "input": [
      "%%R # Summary table for accuracy mixed model\n",
      "\n",
      "print(summary(m.acc.add))"
     ],
     "language": "python",
     "metadata": {},
     "outputs": [
      {
       "output_type": "display_data",
       "text": [
        "Generalized linear mixed model fit by the Laplace approximation \n",
        "Formula: correct ~ dim + dec + (dim + dec | subj) \n",
        "   Data: behav \n",
        "  AIC  BIC logLik deviance\n",
        " 1695 1784 -833.7     1667\n",
        "Random effects:\n",
        " Groups Name        Variance Std.Dev. Corr                 \n",
        " subj   (Intercept) 0.40052  0.63287                       \n",
        "        dimcolor    0.30248  0.54998  -0.307               \n",
        "        dimpattern  0.15899  0.39874  -0.478  0.983        \n",
        "        decnonmatch 0.15594  0.39489  -0.043 -0.416 -0.376 \n",
        "Number of obs: 4320, groups: subj, 15\n",
        "\n",
        "Fixed effects:\n",
        "            Estimate Std. Error z value Pr(>|z|)    \n",
        "(Intercept)   3.3614     0.2260  14.875   <2e-16 ***\n",
        "dimcolor      0.1406     0.2352   0.598   0.5499    \n",
        "dimpattern   -0.1755     0.2013  -0.872   0.3832    \n",
        "decnonmatch  -0.4031     0.1805  -2.233   0.0255 *  \n",
        "---\n",
        "Signif. codes:  0 '***' 0.001 '**' 0.01 '*' 0.05 '.' 0.1 ' ' 1 \n",
        "\n",
        "Correlation of Fixed Effects:\n",
        "            (Intr) dimclr dmpttr\n",
        "dimcolor    -0.442              \n",
        "dimpattern  -0.536  0.667       \n",
        "decnonmatch -0.330 -0.155 -0.116\n"
       ]
      }
     ],
     "prompt_number": 60
    },
    {
     "cell_type": "code",
     "collapsed": false,
     "input": [
      "%%R # Likelihood ratio tests for the main effects in the additive accuracy model\n",
      "\n",
      "m.acc.dim = lmer(correct ~ dec + (dim + dec | subj), behav, REML=F, family=\"binomial\")\n",
      "m.acc.dec = lmer(correct ~ dim + (dim + dec | subj), behav, REML=F, family=\"binomial\")\n",
      "cat(\"\\n\\nTest of dimension rule main effect\\n\")\n",
      "print(anova(m.acc.add, m.acc.dim))\n",
      "cat(\"\\n\\nTest of decision rule main effect\\n\")\n",
      "print(anova(m.acc.add, m.acc.dec))"
     ],
     "language": "python",
     "metadata": {},
     "outputs": [
      {
       "output_type": "display_data",
       "text": [
        "\n",
        "\n",
        "Test of dimension rule main effect\n",
        "Data: behav\n",
        "Models:\n",
        "m.acc.dim: correct ~ dec + (dim + dec | subj)\n",
        "m.acc.add: correct ~ dim + dec + (dim + dec | subj)\n",
        "          Df    AIC    BIC  logLik  Chisq Chi Df Pr(>Chisq)\n",
        "m.acc.dim 12 1693.9 1770.3 -834.93                         \n",
        "m.acc.add 14 1695.3 1784.5 -833.65 2.5628      2     0.2777\n",
        "\n",
        "\n",
        "Test of decision rule main effect\n",
        "Data: behav\n",
        "Models:\n",
        "m.acc.dec: correct ~ dim + (dim + dec | subj)\n",
        "m.acc.add: correct ~ dim + dec + (dim + dec | subj)\n",
        "          Df    AIC    BIC  logLik  Chisq Chi Df Pr(>Chisq)  \n",
        "m.acc.dec 13 1697.1 1779.9 -835.54                           \n",
        "m.acc.add 14 1695.3 1784.5 -833.65 3.7819      1    0.05181 .\n",
        "---\n",
        "Signif. codes:  0 '***' 0.001 '**' 0.01 '*' 0.05 '.' 0.1 ' ' 1 \n"
       ]
      }
     ],
     "prompt_number": 61
    },
    {
     "cell_type": "code",
     "collapsed": false,
     "input": [
      "diff_corr_cost = np.diff(pd.pivot_table(behav_df, \"correct\", \"subj\", \"dec_rule\"), axis=1).mean()\n",
      "print \"'Different' rule correctness cost: %.3g%%\" % (diff_corr_cost * -100)"
     ],
     "language": "python",
     "metadata": {},
     "outputs": [
      {
       "output_type": "stream",
       "stream": "stdout",
       "text": [
        "'Different' rule correctness cost: 1.94%\n"
       ]
      }
     ],
     "prompt_number": 62
    },
    {
     "cell_type": "heading",
     "level": 2,
     "metadata": {},
     "source": [
      "Context Decoding in Lateral PFC"
     ]
    },
    {
     "cell_type": "code",
     "collapsed": false,
     "input": [
      "def accuracy_table(rois, accs):\n",
      "    as_dict = {roi: accs[roi].mean(axis=0) for roi in rois}\n",
      "    as_df = pd.DataFrame(as_dict, index=frames * 2, columns=rois).T\n",
      "    as_df[\"max\"] = as_df.max(axis=1)\n",
      "    return as_df"
     ],
     "language": "python",
     "metadata": {},
     "outputs": [],
     "prompt_number": 63
    },
    {
     "cell_type": "code",
     "collapsed": false,
     "input": [
      "rules = [\"dimension\", \"decision\"]\n",
      "roi_colors = dict(IFS=\"#CC3333\", aMFG=\"#3380CC\", pMFG=\"#33CC80\", pSFS=\"#CC8033\",\n",
      "                  IFG=\"#6464D8\", FPC=\"#CCCC33\", IPS=\"#2A4380\", OTC=\"#24913C\")\n",
      "                  "
     ],
     "language": "python",
     "metadata": {},
     "outputs": [],
     "prompt_number": 64
    },
    {
     "cell_type": "code",
     "collapsed": false,
     "input": [
      "pfc_rois = [\"IFS\", \"aMFG\", \"pMFG\", \"FPC\", \"pSFS\", \"IFG\"]\n",
      "pfc_masks = [\"ifs\", \"amfg\", \"pmfg\", \"fpc\", \"psfs\", \"lifg\"]"
     ],
     "language": "python",
     "metadata": {},
     "outputs": [],
     "prompt_number": 65
    },
    {
     "cell_type": "code",
     "collapsed": false,
     "input": [
      "# Set some parameters\n",
      "frames = np.arange(-1, 5)\n",
      "model = LogisticRegression()\n",
      "n_shuffle = 100\n",
      "shuffle_seed = 42\n",
      "n_tests = len(frames) * len(pfc_rois)\n",
      "dv = dv"
     ],
     "language": "python",
     "metadata": {},
     "outputs": [],
     "prompt_number": 66
    },
    {
     "cell_type": "code",
     "collapsed": false,
     "input": [
      "pfc_accs = dict()\n",
      "pfc_chance = dict()\n",
      "pfc_counts = dict()\n",
      "\n",
      "for rule in rules:\n",
      "    pfc_accs[rule] = dict()\n",
      "    pfc_counts[rule] = dict()\n",
      "    pfc_chance[rule] = dict()\n",
      "\n",
      "    null_dists = dict()\n",
      "    \n",
      "    # Load the data, decode, and perform shuffle tests\n",
      "    for roi, mask in zip(pfc_rois, pfc_masks):\n",
      "        ds = mvpa.load_datasets(rule, roi, \"yeo17_%s-graymid\" % mask, frames)\n",
      "        pfc_accs[rule][roi] = mvpa.decode_group(ds, model)\n",
      "        null_dists[roi] = mvpa.classifier_permutations(ds, model, n_iter=n_shuffle, random_seed=shuffle_seed, dv=dv)\n",
      "        pfc_chance[rule][roi] = np.array([np.mean(d, axis=0) for d in null_dists[roi]])\n",
      "    \n",
      "    # Calculate a null distribution of the max statistic for each subject\n",
      "    max_dists = []\n",
      "    for i_s, subj in enumerate(subjects):\n",
      "        subj_dist = np.reshape([null_dists[roi][i_s] for roi in pfc_rois], (n_shuffle, n_tests))\n",
      "        max_dists.append(np.max(subj_dist, axis=1))\n",
      "    criterion = np.array([moss.percentiles(x, 95) for x in max_dists])[:, None]\n",
      "    \n",
      "    # Count the number of subjects exceeding the max statistic criterion\n",
      "    for roi in pfc_rois:\n",
      "        pfc_counts[rule][roi] = np.sum(np.any(pfc_accs[rule][roi] > criterion, axis=1))"
     ],
     "language": "python",
     "metadata": {},
     "outputs": [],
     "prompt_number": 67
    },
    {
     "cell_type": "code",
     "collapsed": true,
     "input": [
      "t_vals = dict()\n",
      "corr_p_vals = dict()\n",
      "for rule in rules:\n",
      "    t_vals[rule] = dict()\n",
      "    null_t_dists = []\n",
      "    for roi in pfc_rois:\n",
      "        t_vals[rule][roi] = [] \n",
      "        for tr_i, tr_data in enumerate(pfc_accs[rule][roi].T):\n",
      "            chance = pfc_chance[rule][roi].T[tr_i]\n",
      "            score = tr_data - chance\n",
      "            t, p, null_dist = moss.randomize_onesample(score, 10000, random_seed=shuffle_seed, return_dist=True)\n",
      "            t_vals[rule][roi].append(t)\n",
      "            null_t_dists.append(null_dist)\n",
      "    max_t_dist = np.max(null_t_dists, axis=0)\n",
      "    cdf = sm.distributions.ECDF(max_t_dist)\n",
      "    corr_p_vals[rule] = {roi: 1 - cdf(t) for roi, t in t_vals[rule].items()}"
     ],
     "language": "python",
     "metadata": {},
     "outputs": [
      {
       "output_type": "stream",
       "stream": "stdout",
       "text": [
        "ROIs with significant group test for dimension rule:  FPC, IFS, aMFG, pMFG\n",
        "ROIs with significant group test for decision rule: "
       ]
      },
      {
       "output_type": "stream",
       "stream": "stdout",
       "text": [
        " IFS\n"
       ]
      }
     ],
     "prompt_number": 68
    },
    {
     "cell_type": "code",
     "collapsed": false,
     "input": [
      "f = figure(figsize=(10.5, 5.5))\n",
      "\n",
      "# Plot the accuracy timeseries in each region\n",
      "ax = f.add_axes([.05, .05, .73, .9])\n",
      "x = arange(-1, 5)\n",
      "for roi in pfc_rois:\n",
      "    accs = pfc_accs[\"dimension\"][roi]\n",
      "    sns.tsplot(x, accs, color=roi_colors[roi], label=roi, ax=ax)\n",
      "chance = np.array(pfc_chance[\"dimension\"].values()).reshape(-1, 6).mean(axis=0)\n",
      "ax.plot(x, chance, c=\"k\", ls=\"--\", label=\"chance\")\n",
      "ax.axvline(0, c=\"k\", ls=\":\", lw=1.5)\n",
      "ax.set_xlim(-1, 4)\n",
      "ax.set_ylabel(\"Cross-Validated Decoding Accuracy\")\n",
      "ax.set_xticklabels(arange(-1, 5) * 2)\n",
      "ax.set_xlabel(\"Peristimulus Time (s)\")\n",
      "ax.legend(prop=dict(size=12))\n",
      "\n",
      "# Plot the number of subjects exceeding the criterion\n",
      "ax_bar = f.add_axes([.8, .05, .15, .9])\n",
      "for i, roi in enumerate(pfc_rois):\n",
      "    bar_color = sns.desaturate(roi_colors[roi], .7)\n",
      "    ax_bar.bar(i, pfc_counts[\"dimension\"][roi], width=1, color=bar_color, ec=\"none\")\n",
      "ax_bar.yaxis.tick_right()\n",
      "ax_bar.yaxis.set_label_position(\"right\")\n",
      "ax_bar.set_ylim((0, 15))\n",
      "ax_bar.set_yticks(arange(16))\n",
      "ax_bar.set_xticklabels(pfc_rois, rotation=60)\n",
      "ax_bar.set_ylabel(\"Subjects with Above-Chance Decoding\", fontdict=dict(rotation=270));"
     ],
     "language": "python",
     "metadata": {},
     "outputs": [
      {
       "output_type": "display_data",
       "png": "[encoded data removed]"
      }
     ],
     "prompt_number": 69
    },
    {
     "cell_type": "code",
     "collapsed": false,
     "input": [
      "accuracy_table(pfc_rois, pfc_accs[\"dimension\"])"
     ],
     "language": "python",
     "metadata": {},
     "outputs": [
      {
       "html": [
        "<div style=\"max-height:1000px;max-width:1500px;overflow:auto;\">\n",
        "<table border=\"1\" class=\"dataframe\">\n",
        "  <thead>\n",
        "    <tr style=\"text-align: right;\">\n",
        "      <th></th>\n",
        "      <th>-2</th>\n",
        "      <th>0</th>\n",
        "      <th>2</th>\n",
        "      <th>4</th>\n",
        "      <th>6</th>\n",
        "      <th>8</th>\n",
        "      <th>max</th>\n",
        "    </tr>\n",
        "  </thead>\n",
        "  <tbody>\n",
        "    <tr>\n",
        "      <td><strong>IFS</strong></td>\n",
        "      <td> 0.342102</td>\n",
        "      <td> 0.346934</td>\n",
        "      <td> 0.461368</td>\n",
        "      <td> 0.440152</td>\n",
        "      <td> 0.358985</td>\n",
        "      <td> 0.366935</td>\n",
        "      <td> 0.461368</td>\n",
        "    </tr>\n",
        "    <tr>\n",
        "      <td><strong>aMFG</strong></td>\n",
        "      <td> 0.352507</td>\n",
        "      <td> 0.359267</td>\n",
        "      <td> 0.365798</td>\n",
        "      <td> 0.386032</td>\n",
        "      <td> 0.346620</td>\n",
        "      <td> 0.350618</td>\n",
        "      <td> 0.386032</td>\n",
        "    </tr>\n",
        "    <tr>\n",
        "      <td><strong>pMFG</strong></td>\n",
        "      <td> 0.348797</td>\n",
        "      <td> 0.361218</td>\n",
        "      <td> 0.380029</td>\n",
        "      <td> 0.385163</td>\n",
        "      <td> 0.344696</td>\n",
        "      <td> 0.341535</td>\n",
        "      <td> 0.385163</td>\n",
        "    </tr>\n",
        "    <tr>\n",
        "      <td><strong>FPC</strong></td>\n",
        "      <td> 0.336256</td>\n",
        "      <td> 0.355172</td>\n",
        "      <td> 0.360313</td>\n",
        "      <td> 0.358835</td>\n",
        "      <td> 0.351340</td>\n",
        "      <td> 0.324812</td>\n",
        "      <td> 0.360313</td>\n",
        "    </tr>\n",
        "    <tr>\n",
        "      <td><strong>pSFS</strong></td>\n",
        "      <td> 0.329364</td>\n",
        "      <td> 0.333158</td>\n",
        "      <td> 0.374377</td>\n",
        "      <td> 0.367362</td>\n",
        "      <td> 0.357672</td>\n",
        "      <td> 0.353590</td>\n",
        "      <td> 0.374377</td>\n",
        "    </tr>\n",
        "    <tr>\n",
        "      <td><strong>IFG</strong></td>\n",
        "      <td> 0.342905</td>\n",
        "      <td> 0.334300</td>\n",
        "      <td> 0.360146</td>\n",
        "      <td> 0.349180</td>\n",
        "      <td> 0.340078</td>\n",
        "      <td> 0.337541</td>\n",
        "      <td> 0.360146</td>\n",
        "    </tr>\n",
        "  </tbody>\n",
        "</table>\n",
        "</div>"
       ],
       "output_type": "pyout",
       "prompt_number": 111,
       "text": [
        "            -2         0         2         4         6         8       max\n",
        "IFS   0.342102  0.346934  0.461368  0.440152  0.358985  0.366935  0.461368\n",
        "aMFG  0.352507  0.359267  0.365798  0.386032  0.346620  0.350618  0.386032\n",
        "pMFG  0.348797  0.361218  0.380029  0.385163  0.344696  0.341535  0.385163\n",
        "FPC   0.336256  0.355172  0.360313  0.358835  0.351340  0.324812  0.360313\n",
        "pSFS  0.329364  0.333158  0.374377  0.367362  0.357672  0.353590  0.374377\n",
        "IFG   0.342905  0.334300  0.360146  0.349180  0.340078  0.337541  0.360146"
       ]
      }
     ],
     "prompt_number": 111
    },
    {
     "cell_type": "code",
     "collapsed": false,
     "input": [
      "pd.DataFrame(t_vals[\"dimension\"], index=frames * 2).T"
     ],
     "language": "python",
     "metadata": {},
     "outputs": [
      {
       "html": [
        "<div style=\"max-height:1000px;max-width:1500px;overflow:auto;\">\n",
        "<table border=\"1\" class=\"dataframe\">\n",
        "  <thead>\n",
        "    <tr style=\"text-align: right;\">\n",
        "      <th></th>\n",
        "      <th>-2</th>\n",
        "      <th>0</th>\n",
        "      <th>2</th>\n",
        "      <th>4</th>\n",
        "      <th>6</th>\n",
        "      <th>8</th>\n",
        "    </tr>\n",
        "  </thead>\n",
        "  <tbody>\n",
        "    <tr>\n",
        "      <td><strong>FPC</strong></td>\n",
        "      <td> 0.168649</td>\n",
        "      <td> 1.903455</td>\n",
        "      <td> 3.755338</td>\n",
        "      <td> 3.132938</td>\n",
        "      <td> 1.536052</td>\n",
        "      <td>-0.965680</td>\n",
        "    </tr>\n",
        "    <tr>\n",
        "      <td><strong>IFG</strong></td>\n",
        "      <td> 0.946641</td>\n",
        "      <td> 0.017508</td>\n",
        "      <td> 1.851856</td>\n",
        "      <td> 1.749640</td>\n",
        "      <td> 0.662463</td>\n",
        "      <td> 0.408564</td>\n",
        "    </tr>\n",
        "    <tr>\n",
        "      <td><strong>IFS</strong></td>\n",
        "      <td> 0.724373</td>\n",
        "      <td> 1.364049</td>\n",
        "      <td> 9.021113</td>\n",
        "      <td> 8.715893</td>\n",
        "      <td> 2.331451</td>\n",
        "      <td> 4.537186</td>\n",
        "    </tr>\n",
        "    <tr>\n",
        "      <td><strong>aMFG</strong></td>\n",
        "      <td> 1.351897</td>\n",
        "      <td> 2.936085</td>\n",
        "      <td> 2.398311</td>\n",
        "      <td> 5.932964</td>\n",
        "      <td> 1.414728</td>\n",
        "      <td> 2.020006</td>\n",
        "    </tr>\n",
        "    <tr>\n",
        "      <td><strong>pMFG</strong></td>\n",
        "      <td> 1.661842</td>\n",
        "      <td> 2.848816</td>\n",
        "      <td> 3.562821</td>\n",
        "      <td> 6.570917</td>\n",
        "      <td> 1.545931</td>\n",
        "      <td> 0.722503</td>\n",
        "    </tr>\n",
        "    <tr>\n",
        "      <td><strong>pSFS</strong></td>\n",
        "      <td>-0.352618</td>\n",
        "      <td>-0.010227</td>\n",
        "      <td> 2.815338</td>\n",
        "      <td> 3.359814</td>\n",
        "      <td> 2.197993</td>\n",
        "      <td> 2.344230</td>\n",
        "    </tr>\n",
        "  </tbody>\n",
        "</table>\n",
        "</div>"
       ],
       "output_type": "pyout",
       "prompt_number": 102,
       "text": [
        "            -2         0         2         4         6         8\n",
        "FPC   0.168649  1.903455  3.755338  3.132938  1.536052 -0.965680\n",
        "IFG   0.946641  0.017508  1.851856  1.749640  0.662463  0.408564\n",
        "IFS   0.724373  1.364049  9.021113  8.715893  2.331451  4.537186\n",
        "aMFG  1.351897  2.936085  2.398311  5.932964  1.414728  2.020006\n",
        "pMFG  1.661842  2.848816  3.562821  6.570917  1.545931  0.722503\n",
        "pSFS -0.352618 -0.010227  2.815338  3.359814  2.197993  2.344230"
       ]
      }
     ],
     "prompt_number": 102
    },
    {
     "cell_type": "code",
     "collapsed": false,
     "input": [
      "pd.DataFrame(corr_p_vals[\"dimension\"], index=frames * 2).T"
     ],
     "language": "python",
     "metadata": {},
     "outputs": [
      {
       "html": [
        "<div style=\"max-height:1000px;max-width:1500px;overflow:auto;\">\n",
        "<table border=\"1\" class=\"dataframe\">\n",
        "  <thead>\n",
        "    <tr style=\"text-align: right;\">\n",
        "      <th></th>\n",
        "      <th>-2</th>\n",
        "      <th>0</th>\n",
        "      <th>2</th>\n",
        "      <th>4</th>\n",
        "      <th>6</th>\n",
        "      <th>8</th>\n",
        "    </tr>\n",
        "  </thead>\n",
        "  <tbody>\n",
        "    <tr>\n",
        "      <td><strong>FPC</strong></td>\n",
        "      <td> 0.9993</td>\n",
        "      <td> 0.5552</td>\n",
        "      <td> 0.0308</td>\n",
        "      <td> 0.0941</td>\n",
        "      <td> 0.7396</td>\n",
        "      <td> 1.0000</td>\n",
        "    </tr>\n",
        "    <tr>\n",
        "      <td><strong>IFG</strong></td>\n",
        "      <td> 0.9414</td>\n",
        "      <td> 0.9998</td>\n",
        "      <td> 0.5819</td>\n",
        "      <td> 0.6367</td>\n",
        "      <td> 0.9817</td>\n",
        "      <td> 0.9963</td>\n",
        "    </tr>\n",
        "    <tr>\n",
        "      <td><strong>IFS</strong></td>\n",
        "      <td> 0.9766</td>\n",
        "      <td> 0.8099</td>\n",
        "      <td> 0.0000</td>\n",
        "      <td> 0.0000</td>\n",
        "      <td> 0.3374</td>\n",
        "      <td> 0.0077</td>\n",
        "    </tr>\n",
        "    <tr>\n",
        "      <td><strong>aMFG</strong></td>\n",
        "      <td> 0.8156</td>\n",
        "      <td> 0.1309</td>\n",
        "      <td> 0.3054</td>\n",
        "      <td> 0.0001</td>\n",
        "      <td> 0.7913</td>\n",
        "      <td> 0.4930</td>\n",
        "    </tr>\n",
        "    <tr>\n",
        "      <td><strong>pMFG</strong></td>\n",
        "      <td> 0.6828</td>\n",
        "      <td> 0.1525</td>\n",
        "      <td> 0.0434</td>\n",
        "      <td> 0.0001</td>\n",
        "      <td> 0.7348</td>\n",
        "      <td> 0.9769</td>\n",
        "    </tr>\n",
        "    <tr>\n",
        "      <td><strong>pSFS</strong></td>\n",
        "      <td> 1.0000</td>\n",
        "      <td> 0.9999</td>\n",
        "      <td> 0.1615</td>\n",
        "      <td> 0.0637</td>\n",
        "      <td> 0.4047</td>\n",
        "      <td> 0.3315</td>\n",
        "    </tr>\n",
        "  </tbody>\n",
        "</table>\n",
        "</div>"
       ],
       "output_type": "pyout",
       "prompt_number": 103,
       "text": [
        "          -2       0       2       4       6       8\n",
        "FPC   0.9993  0.5552  0.0308  0.0941  0.7396  1.0000\n",
        "IFG   0.9414  0.9998  0.5819  0.6367  0.9817  0.9963\n",
        "IFS   0.9766  0.8099  0.0000  0.0000  0.3374  0.0077\n",
        "aMFG  0.8156  0.1309  0.3054  0.0001  0.7913  0.4930\n",
        "pMFG  0.6828  0.1525  0.0434  0.0001  0.7348  0.9769\n",
        "pSFS  1.0000  0.9999  0.1615  0.0637  0.4047  0.3315"
       ]
      }
     ],
     "prompt_number": 103
    },
    {
     "cell_type": "code",
     "collapsed": false,
     "input": [
      "print \"ROIs with significant group test for dimension rule: \",\n",
      "print \", \".join([roi for roi, vals in corr_p_vals[\"dimension\"].items() if np.any(vals < 0.05)])"
     ],
     "language": "python",
     "metadata": {},
     "outputs": [
      {
       "output_type": "stream",
       "stream": "stdout",
       "text": [
        "ROIs with significant group test for dimension rule:  FPC, IFS, aMFG, pMFG\n"
       ]
      }
     ],
     "prompt_number": 113
    },
    {
     "cell_type": "code",
     "collapsed": false,
     "input": [
      "f, ax = subplots(1, 1, figsize=(7, 5.5))\n",
      "t_mat = np.zeros((6, 6))\n",
      "p_mat = np.zeros((6, 6))\n",
      "for i, roi_i in enumerate(pfc_rois):\n",
      "    for j, roi_j in enumerate(pfc_rois[(i + 1):], i + 1):\n",
      "        data_i = pfc_accs[\"dimension\"][roi_i].max(axis=1)\n",
      "        data_j = pfc_accs[\"dimension\"][roi_j].max(axis=1)\n",
      "        t, p = stats.ttest_rel(data_i, data_j)\n",
      "        t_mat[[(i, j), (j, i)]], p_mat[[(i, j), (j, i)]] = t, p\n",
      "t_mat = np.abs(t_mat)\n",
      "sns.symmatplot(t_mat, p_mat, names=pfc_rois, cmap=\"YlOrRd_r\", cmap_range=(0, 10), ax=ax);"
     ],
     "language": "python",
     "metadata": {},
     "outputs": [
      {
       "output_type": "display_data",
       "png": "[encoded data removed]"
      }
     ],
     "prompt_number": 71
    },
    {
     "cell_type": "code",
     "collapsed": false,
     "input": [
      "control_rois = [\"AllRegions\", \"IFS-lh\", \"IFS-rh\"]\n",
      "control_masks = [\"dksort_pfc\", \"lh.yeo17_ifs\", \"rh.yeo17_ifs\"]"
     ],
     "language": "python",
     "metadata": {},
     "outputs": [],
     "prompt_number": 72
    },
    {
     "cell_type": "code",
     "collapsed": false,
     "input": [
      "control_accs = dict()\n",
      "for roi, mask in zip(control_rois, control_masks):\n",
      "    ds = mvpa.load_datasets(\"dimension\", roi, mask + \"-graymid\", frames)\n",
      "    control_accs[roi] = mvpa.decode_group(ds, model)\n",
      "\n",
      "pca_data = []\n",
      "for ds_i in mvpa.load_datasets(\"dimension\", \"IFS\", \"yeo17_ifs-graymid\", frames):\n",
      "    ds_i[\"roi_name\"] = \"IFS-PCA2\"\n",
      "    ds_i[\"X\"] = np.array([PCA(2).fit_transform(tr) for tr in ds_i[\"X\"]])\n",
      "    pca_data.append(ds_i)\n",
      "pca_accs = mvpa.decode_group(pca_data, model, n_jobs=4)\n",
      "control_accs[\"IFS-PCA2\"] = pca_accs"
     ],
     "language": "python",
     "metadata": {},
     "outputs": [],
     "prompt_number": 73
    },
    {
     "cell_type": "code",
     "collapsed": false,
     "input": [
      "control_rois.append(\"IFS-PCA2\")\n",
      "control_rois.insert(0, \"IFS\")\n",
      "control_accs[\"IFS\"] = pfc_accs[\"dimension\"][\"IFS\"]"
     ],
     "language": "python",
     "metadata": {},
     "outputs": [],
     "prompt_number": 74
    },
    {
     "cell_type": "code",
     "collapsed": false,
     "input": [
      "control_peaks = {roi: accs.max(axis=1) for roi, accs in control_accs.items()}\n",
      "vs_all = stats.ttest_rel(control_peaks[\"IFS\"], control_peaks[\"AllRegions\"])\n",
      "print \"IFS versus all regions: t = %.3g, p = %.3g\" % vs_all\n",
      "lateral = stats.ttest_rel(control_peaks[\"IFS-lh\"], control_peaks[\"IFS-rh\"])\n",
      "print \"Left versus right: t = %.3g, p = %.3g\" % lateral\n",
      "vs_left = stats.ttest_rel(control_peaks[\"IFS\"], control_peaks[\"IFS-lh\"])\n",
      "vs_right = stats.ttest_rel(control_peaks[\"IFS\"], control_peaks[\"IFS-rh\"])\n",
      "print \"All IFS versus left: t = %.3g, p = %.3g\" % vs_left\n",
      "print \"All IFS versus right: t = %.3g, p = %.3g\" % vs_right"
     ],
     "language": "python",
     "metadata": {},
     "outputs": [
      {
       "output_type": "stream",
       "stream": "stdout",
       "text": [
        "IFS versus all regions: t = 3.85, p = 0.00178\n",
        "Left versus right: t = 0.714, p = 0.487\n",
        "All IFS versus left: t = 3.53, p = 0.00336\n",
        "All IFS versus right: t = 5.85, p = 4.23e-05\n"
       ]
      }
     ],
     "prompt_number": 75
    },
    {
     "cell_type": "code",
     "collapsed": false,
     "input": [
      "pca_null = mvpa.classifier_permutations(pca_data, model, 1000, random_seed=shuffle_seed, dv=dv)\n",
      "pca_chance = np.array([d.mean(axis=0) for d in pca_null])\n",
      "pca_score = pca_accs - pca_chance\n",
      "pca_t, pca_p = np.array([moss.randomize_onesample(a) for a in pca_score.T]).T\n",
      "if not (pca_p < 0.1).any():\n",
      "    print \"All timepoints in reduced dimension model p > 0.1\""
     ],
     "language": "python",
     "metadata": {},
     "outputs": [
      {
       "output_type": "stream",
       "stream": "stdout",
       "text": [
        "All timepoints in reduced dimension model p > 0.1\n"
       ]
      }
     ],
     "prompt_number": 76
    },
    {
     "cell_type": "code",
     "collapsed": false,
     "input": [
      "accuracy_table(control_rois, control_accs)"
     ],
     "language": "python",
     "metadata": {},
     "outputs": [
      {
       "html": [
        "<div style=\"max-height:1000px;max-width:1500px;overflow:auto;\">\n",
        "<table border=\"1\" class=\"dataframe\">\n",
        "  <thead>\n",
        "    <tr style=\"text-align: right;\">\n",
        "      <th></th>\n",
        "      <th>-2</th>\n",
        "      <th>0</th>\n",
        "      <th>2</th>\n",
        "      <th>4</th>\n",
        "      <th>6</th>\n",
        "      <th>8</th>\n",
        "      <th>max</th>\n",
        "    </tr>\n",
        "  </thead>\n",
        "  <tbody>\n",
        "    <tr>\n",
        "      <td><strong>IFS</strong></td>\n",
        "      <td> 0.342102</td>\n",
        "      <td> 0.346934</td>\n",
        "      <td> 0.461368</td>\n",
        "      <td> 0.440152</td>\n",
        "      <td> 0.358985</td>\n",
        "      <td> 0.366935</td>\n",
        "      <td> 0.461368</td>\n",
        "    </tr>\n",
        "    <tr>\n",
        "      <td><strong>AllRegions</strong></td>\n",
        "      <td> 0.350684</td>\n",
        "      <td> 0.360617</td>\n",
        "      <td> 0.430604</td>\n",
        "      <td> 0.424197</td>\n",
        "      <td> 0.366956</td>\n",
        "      <td> 0.360736</td>\n",
        "      <td> 0.430604</td>\n",
        "    </tr>\n",
        "    <tr>\n",
        "      <td><strong>IFS-lh</strong></td>\n",
        "      <td> 0.333141</td>\n",
        "      <td> 0.339729</td>\n",
        "      <td> 0.431764</td>\n",
        "      <td> 0.414495</td>\n",
        "      <td> 0.352198</td>\n",
        "      <td> 0.345965</td>\n",
        "      <td> 0.431764</td>\n",
        "    </tr>\n",
        "    <tr>\n",
        "      <td><strong>IFS-rh</strong></td>\n",
        "      <td> 0.342941</td>\n",
        "      <td> 0.342606</td>\n",
        "      <td> 0.411467</td>\n",
        "      <td> 0.409934</td>\n",
        "      <td> 0.360733</td>\n",
        "      <td> 0.362746</td>\n",
        "      <td> 0.411467</td>\n",
        "    </tr>\n",
        "    <tr>\n",
        "      <td><strong>IFS-PCA2</strong></td>\n",
        "      <td> 0.331828</td>\n",
        "      <td> 0.344819</td>\n",
        "      <td> 0.353139</td>\n",
        "      <td> 0.346357</td>\n",
        "      <td> 0.343434</td>\n",
        "      <td> 0.342614</td>\n",
        "      <td> 0.353139</td>\n",
        "    </tr>\n",
        "  </tbody>\n",
        "</table>\n",
        "</div>"
       ],
       "output_type": "pyout",
       "prompt_number": 77,
       "text": [
        "                  -2         0         2         4         6         8       max\n",
        "IFS         0.342102  0.346934  0.461368  0.440152  0.358985  0.366935  0.461368\n",
        "AllRegions  0.350684  0.360617  0.430604  0.424197  0.366956  0.360736  0.430604\n",
        "IFS-lh      0.333141  0.339729  0.431764  0.414495  0.352198  0.345965  0.431764\n",
        "IFS-rh      0.342941  0.342606  0.411467  0.409934  0.360733  0.362746  0.411467\n",
        "IFS-PCA2    0.331828  0.344819  0.353139  0.346357  0.343434  0.342614  0.353139"
       ]
      }
     ],
     "prompt_number": 77
    },
    {
     "cell_type": "code",
     "collapsed": true,
     "input": [
      "rt_anova = []\n",
      "for s, d_i in behav_clean_df.groupby(\"subj\"):\n",
      "    rt_anova.append(stats.oneway(*[d_j[\"rt\"] for r, d_j in d_i.groupby(\"dim_rule\")]))\n",
      "rt_f, rt_p = np.array(rt_anova).T\n",
      "print \"Number of subjects with trending oneway ANOVA: %d\" % np.sum(rt_p < 0.1)\n",
      "rt_mask = rt_p >= 0.1\n",
      "ifs_peak = pfc_accs[\"dimension\"][\"IFS\"].max(axis=1)\n",
      "rt_relate = stats.spearmanr(rt_f, ifs_peak)\n",
      "print \"Relationship between decoding accuracy and rt effect: r = %.3g, p = %.3f\" % rt_relate\n",
      "print \"Mean peak accuracy in subjects without RT effect: %.3g\" % ifs_peak[rt_mask].mean()\n",
      "rt_remove = stats.ttest_ind(ifs_peak, ifs_peak[rt_mask])\n",
      "print \"Indepentent t-test of change from removing these subjects: t = %.3g, p = %.3g\" % rt_remove"
     ],
     "language": "python",
     "metadata": {},
     "outputs": [
      {
       "output_type": "stream",
       "stream": "stdout",
       "text": [
        "Number of subjects with trending oneway ANOVA: 3\n",
        "Relationship between decoding accuracy and rt effect: r = 0.532, p = 0.041\n",
        "Mean peak accuracy in subjects without RT effect: 0.471\n",
        "Indepentent t-test of change from removing these subjects: t = 0.511, p = 0.614\n"
       ]
      }
     ],
     "prompt_number": 78
    },
    {
     "cell_type": "code",
     "collapsed": false,
     "input": [
      "f = figure(figsize=(10.5, 5.5))\n",
      "ax = f.add_axes([.05, .05, .73, .9])\n",
      "x = arange(-1, 5)\n",
      "for roi in pfc_rois:\n",
      "    accs = pfc_accs[\"decision\"][roi]\n",
      "    sns.tsplot(x, accs, color=roi_colors[roi], label=roi, ax=ax)\n",
      "chance = np.array(pfc_chance[\"decision\"].values()).reshape(-1, 6).mean(axis=0)\n",
      "ax.plot(x, chance, c=\"k\", ls=\"--\", label=\"chance\")\n",
      "ax.axvline(0, c=\"k\", ls=\":\", lw=1.5)\n",
      "ax.set_xlim(-1, 4)\n",
      "ax.set_ylim(.46, .65)\n",
      "ax.set_ylabel(\"Cross-Validated Decoding Accuracy\")\n",
      "ax.set_xticklabels(arange(-1, 5) * 2)\n",
      "ax.set_xlabel(\"Peristimulus Time (s)\")\n",
      "ax.legend(prop=dict(size=12))\n",
      "\n",
      "ax_bar = f.add_axes([.8, .05, .15, .9])\n",
      "for i, roi in enumerate(pfc_rois):\n",
      "    bar_color = sns.desaturate(roi_colors[roi], .8)\n",
      "    ax_bar.bar(i, pfc_counts[\"decision\"][roi], width=1, color=bar_color, ec=\"none\")\n",
      "ax_bar.yaxis.tick_right()\n",
      "ax_bar.yaxis.set_label_position(\"right\")\n",
      "ax_bar.set_ylim((0, 15))\n",
      "ax_bar.set_yticks(arange(16))\n",
      "ax_bar.set_xticks(arange(6))\n",
      "ax_bar.set_xticklabels(pfc_rois, rotation=60)\n",
      "ax_bar.set_ylabel(\"Subjects with Above-Chance Decoding\", fontdict=dict(rotation=270));"
     ],
     "language": "python",
     "metadata": {},
     "outputs": [
      {
       "output_type": "display_data",
       "png": "[encoded data removed]"
      }
     ],
     "prompt_number": 86
    },
    {
     "cell_type": "code",
     "collapsed": false,
     "input": [
      "accuracy_table(pfc_rois, pfc_accs[\"decision\"])"
     ],
     "language": "python",
     "metadata": {},
     "outputs": [
      {
       "html": [
        "<div style=\"max-height:1000px;max-width:1500px;overflow:auto;\">\n",
        "<table border=\"1\" class=\"dataframe\">\n",
        "  <thead>\n",
        "    <tr style=\"text-align: right;\">\n",
        "      <th></th>\n",
        "      <th>-2</th>\n",
        "      <th>0</th>\n",
        "      <th>2</th>\n",
        "      <th>4</th>\n",
        "      <th>6</th>\n",
        "      <th>8</th>\n",
        "      <th>max</th>\n",
        "    </tr>\n",
        "  </thead>\n",
        "  <tbody>\n",
        "    <tr>\n",
        "      <td><strong>IFS</strong></td>\n",
        "      <td> 0.525351</td>\n",
        "      <td> 0.510063</td>\n",
        "      <td> 0.550268</td>\n",
        "      <td> 0.560010</td>\n",
        "      <td> 0.516073</td>\n",
        "      <td> 0.508188</td>\n",
        "      <td> 0.560010</td>\n",
        "    </tr>\n",
        "    <tr>\n",
        "      <td><strong>aMFG</strong></td>\n",
        "      <td> 0.509707</td>\n",
        "      <td> 0.509641</td>\n",
        "      <td> 0.527647</td>\n",
        "      <td> 0.528622</td>\n",
        "      <td> 0.508229</td>\n",
        "      <td> 0.520042</td>\n",
        "      <td> 0.528622</td>\n",
        "    </tr>\n",
        "    <tr>\n",
        "      <td><strong>pMFG</strong></td>\n",
        "      <td> 0.503901</td>\n",
        "      <td> 0.503562</td>\n",
        "      <td> 0.533052</td>\n",
        "      <td> 0.529161</td>\n",
        "      <td> 0.503839</td>\n",
        "      <td> 0.509311</td>\n",
        "      <td> 0.533052</td>\n",
        "    </tr>\n",
        "    <tr>\n",
        "      <td><strong>FPC</strong></td>\n",
        "      <td> 0.512846</td>\n",
        "      <td> 0.512612</td>\n",
        "      <td> 0.486712</td>\n",
        "      <td> 0.513379</td>\n",
        "      <td> 0.506119</td>\n",
        "      <td> 0.499086</td>\n",
        "      <td> 0.513379</td>\n",
        "    </tr>\n",
        "    <tr>\n",
        "      <td><strong>pSFS</strong></td>\n",
        "      <td> 0.506646</td>\n",
        "      <td> 0.483851</td>\n",
        "      <td> 0.529153</td>\n",
        "      <td> 0.523687</td>\n",
        "      <td> 0.532394</td>\n",
        "      <td> 0.510841</td>\n",
        "      <td> 0.532394</td>\n",
        "    </tr>\n",
        "    <tr>\n",
        "      <td><strong>IFG</strong></td>\n",
        "      <td> 0.501200</td>\n",
        "      <td> 0.509278</td>\n",
        "      <td> 0.508078</td>\n",
        "      <td> 0.517706</td>\n",
        "      <td> 0.514526</td>\n",
        "      <td> 0.497646</td>\n",
        "      <td> 0.517706</td>\n",
        "    </tr>\n",
        "  </tbody>\n",
        "</table>\n",
        "</div>"
       ],
       "output_type": "pyout",
       "prompt_number": 80,
       "text": [
        "            -2         0         2         4         6         8       max\n",
        "IFS   0.525351  0.510063  0.550268  0.560010  0.516073  0.508188  0.560010\n",
        "aMFG  0.509707  0.509641  0.527647  0.528622  0.508229  0.520042  0.528622\n",
        "pMFG  0.503901  0.503562  0.533052  0.529161  0.503839  0.509311  0.533052\n",
        "FPC   0.512846  0.512612  0.486712  0.513379  0.506119  0.499086  0.513379\n",
        "pSFS  0.506646  0.483851  0.529153  0.523687  0.532394  0.510841  0.532394\n",
        "IFG   0.501200  0.509278  0.508078  0.517706  0.514526  0.497646  0.517706"
       ]
      }
     ],
     "prompt_number": 80
    },
    {
     "cell_type": "code",
     "collapsed": false,
     "input": [
      "pd.DataFrame(t_vals[\"decision\"], index=frames * 2).T"
     ],
     "language": "python",
     "metadata": {},
     "outputs": [
      {
       "html": [
        "<div style=\"max-height:1000px;max-width:1500px;overflow:auto;\">\n",
        "<table border=\"1\" class=\"dataframe\">\n",
        "  <thead>\n",
        "    <tr style=\"text-align: right;\">\n",
        "      <th></th>\n",
        "      <th>-2</th>\n",
        "      <th>0</th>\n",
        "      <th>2</th>\n",
        "      <th>4</th>\n",
        "      <th>6</th>\n",
        "      <th>8</th>\n",
        "    </tr>\n",
        "  </thead>\n",
        "  <tbody>\n",
        "    <tr>\n",
        "      <td><strong>FPC</strong></td>\n",
        "      <td> 1.395954</td>\n",
        "      <td> 1.339525</td>\n",
        "      <td>-1.506102</td>\n",
        "      <td> 1.226962</td>\n",
        "      <td> 0.587472</td>\n",
        "      <td>-0.303584</td>\n",
        "    </tr>\n",
        "    <tr>\n",
        "      <td><strong>IFG</strong></td>\n",
        "      <td>-0.122397</td>\n",
        "      <td> 0.770535</td>\n",
        "      <td> 0.721756</td>\n",
        "      <td> 1.528439</td>\n",
        "      <td> 1.811187</td>\n",
        "      <td>-0.473614</td>\n",
        "    </tr>\n",
        "    <tr>\n",
        "      <td><strong>IFS</strong></td>\n",
        "      <td> 2.790548</td>\n",
        "      <td> 0.997177</td>\n",
        "      <td> 3.181058</td>\n",
        "      <td> 5.130314</td>\n",
        "      <td> 1.213989</td>\n",
        "      <td> 0.828884</td>\n",
        "    </tr>\n",
        "    <tr>\n",
        "      <td><strong>aMFG</strong></td>\n",
        "      <td> 0.718264</td>\n",
        "      <td> 0.721507</td>\n",
        "      <td> 2.431899</td>\n",
        "      <td> 2.802945</td>\n",
        "      <td> 0.915008</td>\n",
        "      <td> 2.259802</td>\n",
        "    </tr>\n",
        "    <tr>\n",
        "      <td><strong>pMFG</strong></td>\n",
        "      <td> 0.355787</td>\n",
        "      <td> 0.431700</td>\n",
        "      <td> 2.409159</td>\n",
        "      <td> 2.862311</td>\n",
        "      <td> 0.221507</td>\n",
        "      <td> 0.782003</td>\n",
        "    </tr>\n",
        "    <tr>\n",
        "      <td><strong>pSFS</strong></td>\n",
        "      <td> 1.137800</td>\n",
        "      <td>-2.782537</td>\n",
        "      <td> 2.557108</td>\n",
        "      <td> 2.591883</td>\n",
        "      <td> 3.354520</td>\n",
        "      <td> 0.793315</td>\n",
        "    </tr>\n",
        "  </tbody>\n",
        "</table>\n",
        "</div>"
       ],
       "output_type": "pyout",
       "prompt_number": 104,
       "text": [
        "            -2         0         2         4         6         8\n",
        "FPC   1.395954  1.339525 -1.506102  1.226962  0.587472 -0.303584\n",
        "IFG  -0.122397  0.770535  0.721756  1.528439  1.811187 -0.473614\n",
        "IFS   2.790548  0.997177  3.181058  5.130314  1.213989  0.828884\n",
        "aMFG  0.718264  0.721507  2.431899  2.802945  0.915008  2.259802\n",
        "pMFG  0.355787  0.431700  2.409159  2.862311  0.221507  0.782003\n",
        "pSFS  1.137800 -2.782537  2.557108  2.591883  3.354520  0.793315"
       ]
      }
     ],
     "prompt_number": 104
    },
    {
     "cell_type": "code",
     "collapsed": false,
     "input": [
      "pd.DataFrame(corr_p_vals[\"decision\"], index=frames * 2).T"
     ],
     "language": "python",
     "metadata": {},
     "outputs": [
      {
       "html": [
        "<div style=\"max-height:1000px;max-width:1500px;overflow:auto;\">\n",
        "<table border=\"1\" class=\"dataframe\">\n",
        "  <thead>\n",
        "    <tr style=\"text-align: right;\">\n",
        "      <th></th>\n",
        "      <th>-2</th>\n",
        "      <th>0</th>\n",
        "      <th>2</th>\n",
        "      <th>4</th>\n",
        "      <th>6</th>\n",
        "      <th>8</th>\n",
        "    </tr>\n",
        "  </thead>\n",
        "  <tbody>\n",
        "    <tr>\n",
        "      <td><strong>FPC</strong></td>\n",
        "      <td> 0.8220</td>\n",
        "      <td> 0.8437</td>\n",
        "      <td> 1.0000</td>\n",
        "      <td> 0.8821</td>\n",
        "      <td> 0.9900</td>\n",
        "      <td> 1.0000</td>\n",
        "    </tr>\n",
        "    <tr>\n",
        "      <td><strong>IFG</strong></td>\n",
        "      <td> 1.0000</td>\n",
        "      <td> 0.9794</td>\n",
        "      <td> 0.9836</td>\n",
        "      <td> 0.7652</td>\n",
        "      <td> 0.6187</td>\n",
        "      <td> 1.0000</td>\n",
        "    </tr>\n",
        "    <tr>\n",
        "      <td><strong>IFS</strong></td>\n",
        "      <td> 0.1777</td>\n",
        "      <td> 0.9407</td>\n",
        "      <td> 0.0918</td>\n",
        "      <td> 0.0026</td>\n",
        "      <td> 0.8859</td>\n",
        "      <td> 0.9723</td>\n",
        "    </tr>\n",
        "    <tr>\n",
        "      <td><strong>aMFG</strong></td>\n",
        "      <td> 0.9836</td>\n",
        "      <td> 0.9836</td>\n",
        "      <td> 0.3077</td>\n",
        "      <td> 0.1731</td>\n",
        "      <td> 0.9572</td>\n",
        "      <td> 0.3867</td>\n",
        "    </tr>\n",
        "    <tr>\n",
        "      <td><strong>pMFG</strong></td>\n",
        "      <td> 0.9983</td>\n",
        "      <td> 0.9971</td>\n",
        "      <td> 0.3185</td>\n",
        "      <td> 0.1564</td>\n",
        "      <td> 0.9993</td>\n",
        "      <td> 0.9778</td>\n",
        "    </tr>\n",
        "    <tr>\n",
        "      <td><strong>pSFS</strong></td>\n",
        "      <td> 0.9088</td>\n",
        "      <td> 1.0000</td>\n",
        "      <td> 0.2571</td>\n",
        "      <td> 0.2442</td>\n",
        "      <td> 0.0692</td>\n",
        "      <td> 0.9767</td>\n",
        "    </tr>\n",
        "  </tbody>\n",
        "</table>\n",
        "</div>"
       ],
       "output_type": "pyout",
       "prompt_number": 105,
       "text": [
        "          -2       0       2       4       6       8\n",
        "FPC   0.8220  0.8437  1.0000  0.8821  0.9900  1.0000\n",
        "IFG   1.0000  0.9794  0.9836  0.7652  0.6187  1.0000\n",
        "IFS   0.1777  0.9407  0.0918  0.0026  0.8859  0.9723\n",
        "aMFG  0.9836  0.9836  0.3077  0.1731  0.9572  0.3867\n",
        "pMFG  0.9983  0.9971  0.3185  0.1564  0.9993  0.9778\n",
        "pSFS  0.9088  1.0000  0.2571  0.2442  0.0692  0.9767"
       ]
      }
     ],
     "prompt_number": 105
    },
    {
     "cell_type": "code",
     "collapsed": false,
     "input": [
      "print \"ROIs with significant group test for decision rule: \",\n",
      "print \", \".join([roi for roi, vals in corr_p_vals[\"decision\"].items() if np.any(vals < 0.05)])"
     ],
     "language": "python",
     "metadata": {},
     "outputs": [
      {
       "output_type": "stream",
       "stream": "stdout",
       "text": [
        "ROIs with significant group test for decision rule:  IFS\n"
       ]
      }
     ],
     "prompt_number": 114
    },
    {
     "cell_type": "heading",
     "level": 2,
     "metadata": {},
     "source": [
      "Context Decoding in Posterior Cortex"
     ]
    },
    {
     "cell_type": "code",
     "collapsed": false,
     "input": [
      "post_rois = [\"IPS\", \"OTC\"]\n",
      "post_masks = [\"ips\", \"viz\"]"
     ],
     "language": "python",
     "metadata": {},
     "outputs": [],
     "prompt_number": 81
    },
    {
     "cell_type": "code",
     "collapsed": false,
     "input": [
      "post_accs = dict()\n",
      "post_chance = dict()\n",
      "post_counts = dict()\n",
      "null_dists = dict()\n",
      "\n",
      "# Load the data, decode, and perform shuffle tests\n",
      "for roi, mask in zip(post_rois, post_masks):\n",
      "    ds = mvpa.load_datasets(\"dimension\", roi, \"yeo17_%s-graymid\" % mask, frames)\n",
      "    post_accs[roi] = mvpa.decode_group(ds, model)\n",
      "    null_dists[roi] = mvpa.classifier_permutations(ds, model, n_iter=n_shuffle, random_seed=shuffle_seed, dv=dv)\n",
      "    post_chance[roi] = np.array([np.mean(d, axis=0) for d in null_dists[roi]])\n",
      "    \n",
      "# Calculate a null distribution of the max statistic for each subject\n",
      "max_dists = []\n",
      "for i_s, subj in enumerate(subjects):\n",
      "    subj_dist = np.reshape([null_dists[roi][i_s] for roi in post_rois], (n_shuffle, 12))\n",
      "    max_dists.append(np.max(subj_dist, axis=1))\n",
      "criterion = np.array([moss.percentiles(x, 95) for x in max_dists])[:, None]\n",
      "    \n",
      "# Count the number of subjects exceeding the max statistic criterion\n",
      "for roi in post_rois:\n",
      "    post_counts[roi] = np.sum(np.any(post_accs[roi] > criterion, axis=1))"
     ],
     "language": "python",
     "metadata": {},
     "outputs": [],
     "prompt_number": 82
    },
    {
     "cell_type": "code",
     "collapsed": false,
     "input": [
      "print post_counts"
     ],
     "language": "python",
     "metadata": {},
     "outputs": [
      {
       "output_type": "stream",
       "stream": "stdout",
       "text": [
        "{'IPS': 15, 'OTC': 15}\n"
       ]
      }
     ],
     "prompt_number": 87
    },
    {
     "cell_type": "code",
     "collapsed": false,
     "input": [
      "post_rois.insert(0, \"IFS\")\n",
      "post_accs[\"IFS\"] = pfc_accs[\"dimension\"][\"IFS\"]\n",
      "post_chance[\"IFS\"] = pfc_chance[\"dimension\"][\"IFS\"]"
     ],
     "language": "python",
     "metadata": {},
     "outputs": [],
     "prompt_number": 91
    },
    {
     "cell_type": "code",
     "collapsed": false,
     "input": [
      "f = figure(figsize=(10.5, 5.5))\n",
      "\n",
      "# Plot the accuracy timeseries in each region\n",
      "ax = f.add_axes([.05, .05, .73, .9])\n",
      "x = arange(-1, 5)\n",
      "for roi in post_rois:\n",
      "    accs = post_accs[roi]\n",
      "    sns.tsplot(x, accs, color=roi_colors[roi], label=roi, ax=ax)\n",
      "chance = np.array(post_chance.values()).reshape(-1, 6).mean(axis=0)\n",
      "ax.plot(x, chance, c=\"k\", ls=\"--\", label=\"chance\")\n",
      "ax.axvline(0, c=\"k\", ls=\":\", lw=1.5)\n",
      "ax.set_xlim(-1, 4)\n",
      "ax.set_ylabel(\"Cross-Validated Decoding Accuracy\")\n",
      "ax.set_xticklabels(arange(-1, 5) * 2)\n",
      "ax.set_xlabel(\"Peristimulus Time (s)\")\n",
      "ax.legend(prop=dict(size=12));"
     ],
     "language": "python",
     "metadata": {},
     "outputs": [
      {
       "output_type": "display_data",
       "png": "[encoded data removed]"
      }
     ],
     "prompt_number": 84
    },
    {
     "cell_type": "code",
     "collapsed": false,
     "input": [
      "accuracy_table(post_rois, post_accs)"
     ],
     "language": "python",
     "metadata": {},
     "outputs": [
      {
       "html": [
        "<div style=\"max-height:1000px;max-width:1500px;overflow:auto;\">\n",
        "<table border=\"1\" class=\"dataframe\">\n",
        "  <thead>\n",
        "    <tr style=\"text-align: right;\">\n",
        "      <th></th>\n",
        "      <th>-2</th>\n",
        "      <th>0</th>\n",
        "      <th>2</th>\n",
        "      <th>4</th>\n",
        "      <th>6</th>\n",
        "      <th>8</th>\n",
        "      <th>max</th>\n",
        "    </tr>\n",
        "  </thead>\n",
        "  <tbody>\n",
        "    <tr>\n",
        "      <td><strong>IFS</strong></td>\n",
        "      <td> 0.342102</td>\n",
        "      <td> 0.346934</td>\n",
        "      <td> 0.461368</td>\n",
        "      <td> 0.440152</td>\n",
        "      <td> 0.358985</td>\n",
        "      <td> 0.366935</td>\n",
        "      <td> 0.461368</td>\n",
        "    </tr>\n",
        "    <tr>\n",
        "      <td><strong>IPS</strong></td>\n",
        "      <td> 0.351273</td>\n",
        "      <td> 0.369667</td>\n",
        "      <td> 0.559962</td>\n",
        "      <td> 0.483710</td>\n",
        "      <td> 0.382184</td>\n",
        "      <td> 0.367607</td>\n",
        "      <td> 0.559962</td>\n",
        "    </tr>\n",
        "    <tr>\n",
        "      <td><strong>OTC</strong></td>\n",
        "      <td> 0.367415</td>\n",
        "      <td> 0.364407</td>\n",
        "      <td> 0.513085</td>\n",
        "      <td> 0.631910</td>\n",
        "      <td> 0.452973</td>\n",
        "      <td> 0.406115</td>\n",
        "      <td> 0.631910</td>\n",
        "    </tr>\n",
        "  </tbody>\n",
        "</table>\n",
        "</div>"
       ],
       "output_type": "pyout",
       "prompt_number": 85,
       "text": [
        "           -2         0         2         4         6         8       max\n",
        "IFS  0.342102  0.346934  0.461368  0.440152  0.358985  0.366935  0.461368\n",
        "IPS  0.351273  0.369667  0.559962  0.483710  0.382184  0.367607  0.559962\n",
        "OTC  0.367415  0.364407  0.513085  0.631910  0.452973  0.406115  0.631910"
       ]
      }
     ],
     "prompt_number": 85
    },
    {
     "cell_type": "code",
     "collapsed": false,
     "input": [
      "post_t_vals = dict()\n",
      "\n",
      "null_t_dists = []\n",
      "for roi in post_rois:\n",
      "    post_t_vals[roi] = [] \n",
      "    for tr_i, tr_data in enumerate(post_accs[roi].T):\n",
      "        chance = post_chance[roi].T[tr_i]\n",
      "        score = tr_data - chance         \n",
      "        t, p, null_dist = moss.randomize_onesample(score, 10000, random_seed=shuffle_seed, return_dist=True)\n",
      "        post_t_vals[roi].append(t)\n",
      "        null_t_dists.append(null_dist)\n",
      "    max_t_dist = np.max(null_t_dists, axis=0)\n",
      "    cdf = sm.distributions.ECDF(max_t_dist)\n",
      "post_corr_p_vals = {roi: 1 - cdf(t) for roi, t in post_t_vals.items()}"
     ],
     "language": "python",
     "metadata": {},
     "outputs": [],
     "prompt_number": 95
    },
    {
     "cell_type": "code",
     "collapsed": false,
     "input": [
      "pd.DataFrame(post_t_vals, index=frames * 2).T"
     ],
     "language": "python",
     "metadata": {},
     "outputs": [
      {
       "html": [
        "<div style=\"max-height:1000px;max-width:1500px;overflow:auto;\">\n",
        "<table border=\"1\" class=\"dataframe\">\n",
        "  <thead>\n",
        "    <tr style=\"text-align: right;\">\n",
        "      <th></th>\n",
        "      <th>-2</th>\n",
        "      <th>0</th>\n",
        "      <th>2</th>\n",
        "      <th>4</th>\n",
        "      <th>6</th>\n",
        "      <th>8</th>\n",
        "    </tr>\n",
        "  </thead>\n",
        "  <tbody>\n",
        "    <tr>\n",
        "      <td><strong>IFS</strong></td>\n",
        "      <td> 0.724373</td>\n",
        "      <td> 1.364049</td>\n",
        "      <td>  9.021113</td>\n",
        "      <td>  8.715893</td>\n",
        "      <td> 2.331451</td>\n",
        "      <td> 4.537186</td>\n",
        "    </tr>\n",
        "    <tr>\n",
        "      <td><strong>IPS</strong></td>\n",
        "      <td> 1.347088</td>\n",
        "      <td> 2.855335</td>\n",
        "      <td>  7.862480</td>\n",
        "      <td>  8.587655</td>\n",
        "      <td> 5.326361</td>\n",
        "      <td> 3.422736</td>\n",
        "    </tr>\n",
        "    <tr>\n",
        "      <td><strong>OTC</strong></td>\n",
        "      <td> 3.112400</td>\n",
        "      <td> 2.169101</td>\n",
        "      <td> 11.764777</td>\n",
        "      <td> 15.814094</td>\n",
        "      <td> 5.426719</td>\n",
        "      <td> 4.706712</td>\n",
        "    </tr>\n",
        "  </tbody>\n",
        "</table>\n",
        "</div>"
       ],
       "output_type": "pyout",
       "prompt_number": 101,
       "text": [
        "           -2         0          2          4         6         8\n",
        "IFS  0.724373  1.364049   9.021113   8.715893  2.331451  4.537186\n",
        "IPS  1.347088  2.855335   7.862480   8.587655  5.326361  3.422736\n",
        "OTC  3.112400  2.169101  11.764777  15.814094  5.426719  4.706712"
       ]
      }
     ],
     "prompt_number": 101
    },
    {
     "cell_type": "code",
     "collapsed": false,
     "input": [
      "pd.DataFrame(post_corr_p_vals, index=frames * 2).T"
     ],
     "language": "python",
     "metadata": {},
     "outputs": [
      {
       "html": [
        "<div style=\"max-height:1000px;max-width:1500px;overflow:auto;\">\n",
        "<table border=\"1\" class=\"dataframe\">\n",
        "  <thead>\n",
        "    <tr style=\"text-align: right;\">\n",
        "      <th></th>\n",
        "      <th>-2</th>\n",
        "      <th>0</th>\n",
        "      <th>2</th>\n",
        "      <th>4</th>\n",
        "      <th>6</th>\n",
        "      <th>8</th>\n",
        "    </tr>\n",
        "  </thead>\n",
        "  <tbody>\n",
        "    <tr>\n",
        "      <td><strong>IFS</strong></td>\n",
        "      <td> 0.7600</td>\n",
        "      <td> 0.4654</td>\n",
        "      <td> 0.0000</td>\n",
        "      <td> 0</td>\n",
        "      <td> 0.1369</td>\n",
        "      <td> 0.0039</td>\n",
        "    </tr>\n",
        "    <tr>\n",
        "      <td><strong>IPS</strong></td>\n",
        "      <td> 0.4726</td>\n",
        "      <td> 0.0604</td>\n",
        "      <td> 0.0002</td>\n",
        "      <td> 0</td>\n",
        "      <td> 0.0014</td>\n",
        "      <td> 0.0226</td>\n",
        "    </tr>\n",
        "    <tr>\n",
        "      <td><strong>OTC</strong></td>\n",
        "      <td> 0.0385</td>\n",
        "      <td> 0.1743</td>\n",
        "      <td> 0.0000</td>\n",
        "      <td> 0</td>\n",
        "      <td> 0.0012</td>\n",
        "      <td> 0.0033</td>\n",
        "    </tr>\n",
        "  </tbody>\n",
        "</table>\n",
        "</div>"
       ],
       "output_type": "pyout",
       "prompt_number": 98,
       "text": [
        "         -2       0       2   4       6       8\n",
        "IFS  0.7600  0.4654  0.0000   0  0.1369  0.0039\n",
        "IPS  0.4726  0.0604  0.0002   0  0.0014  0.0226\n",
        "OTC  0.0385  0.1743  0.0000   0  0.0012  0.0033"
       ]
      }
     ],
     "prompt_number": 98
    },
    {
     "cell_type": "code",
     "collapsed": false,
     "input": [],
     "language": "python",
     "metadata": {},
     "outputs": []
    }
   ],
   "metadata": {}
  }
 ]
}