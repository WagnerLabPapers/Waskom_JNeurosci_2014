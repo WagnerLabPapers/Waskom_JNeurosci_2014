{
 "metadata": {
  "name": ""
 },
 "nbformat": 3,
 "nbformat_minor": 0,
 "worksheets": [
  {
   "cells": [
    {
     "cell_type": "heading",
     "level": 1,
     "metadata": {},
     "source": [
      "Main Analysis"
     ]
    },
    {
     "cell_type": "markdown",
     "metadata": {},
     "source": [
      "<h2>Contents</h2>\n",
      "<ul class=ult>\n",
      "  <li><a href=\"#Imports,-Definitions,-and-Project-Specific-Functions\">Imports, Definitions and Project-Specific Functions</a></li>\n",
      "  <li><a href=\"#Behavioral-Results\">Behavioral Analyses</a></li>\n",
      "  <li><a href=\"#ROI-and-Artifact-Statistics\">ROI and Artifact Statistics</a></li>\n",
      "  <li><a href=\"#Context-Decoding-in-Lateral-Prefrontal-Cortex\">Context Decoding in Lateral Prefrontal Cortex</a></li>\n",
      "  <li><a href=\"#Decoding-in-Posterior-Cortex\">Decoding in Posterior Cortex</a></li>\n",
      "  <li><a href=\"#Task-and-Stimulus-Repetition-Effects\">Task and Stimulus Repetition Effects</a></li>\n",
      "</ul>"
     ]
    },
    {
     "cell_type": "heading",
     "level": 2,
     "metadata": {},
     "source": [
      "Imports, Definitions, and Project Specific Functions"
     ]
    },
    {
     "cell_type": "markdown",
     "metadata": {},
     "source": [
      "First, import external packages that we'll use in this notebook"
     ]
    },
    {
     "cell_type": "code",
     "collapsed": false,
     "input": [
      "from __future__ import division\n",
      "import itertools\n",
      "import numpy as np\n",
      "import scipy as sp\n",
      "import pandas as pd\n",
      "import nibabel as nib\n",
      "from scipy import stats\n",
      "import statsmodels.api as sm\n",
      "import matplotlib.pyplot as plt\n",
      "from sklearn.linear_model import LogisticRegression\n",
      "from sklearn.metrics import r2_score"
     ],
     "language": "python",
     "metadata": {},
     "outputs": [],
     "prompt_number": 1
    },
    {
     "cell_type": "markdown",
     "metadata": {},
     "source": [
      "Pandas 0.12 prints a very annoying deprecation warning every time an HTML representation is created for a DataFrame. We're going to silence those here:"
     ]
    },
    {
     "cell_type": "code",
     "collapsed": false,
     "input": [
      "import warnings\n",
      "warnings.filterwarnings(\"ignore\", category=DeprecationWarning) "
     ],
     "language": "python",
     "metadata": {},
     "outputs": [],
     "prompt_number": 2
    },
    {
     "cell_type": "markdown",
     "metadata": {},
     "source": [
      "Now my personal libraries"
     ]
    },
    {
     "cell_type": "code",
     "collapsed": false,
     "input": [
      "import lyman\n",
      "from lyman import mvpa, evoked\n",
      "import seaborn as sns\n",
      "import moss"
     ],
     "language": "python",
     "metadata": {},
     "outputs": [],
     "prompt_number": 3
    },
    {
     "cell_type": "markdown",
     "metadata": {},
     "source": [
      "Set up display options for figures and tables"
     ]
    },
    {
     "cell_type": "code",
     "collapsed": false,
     "input": [
      "%matplotlib inline\n",
      "sns.set(context=\"paper\", font=\"Arial\")\n",
      "pd.set_option('display.precision', 3)"
     ],
     "language": "python",
     "metadata": {},
     "outputs": [],
     "prompt_number": 4
    },
    {
     "cell_type": "markdown",
     "metadata": {},
     "source": [
      "Activate 3D plotting for matplotlib"
     ]
    },
    {
     "cell_type": "code",
     "collapsed": false,
     "input": [
      "from mpl_toolkits import mplot3d\n",
      "from mpl_toolkits.mplot3d import Axes3D"
     ],
     "language": "python",
     "metadata": {},
     "outputs": [],
     "prompt_number": 5
    },
    {
     "cell_type": "markdown",
     "metadata": {},
     "source": [
      "Load the IPython magic extension to use R within this notebook and import external R packages we'll use."
     ]
    },
    {
     "cell_type": "code",
     "collapsed": false,
     "input": [
      "%load_ext rmagic\n",
      "%R library(lme4)\n",
      "%R library(multcomp)"
     ],
     "language": "python",
     "metadata": {},
     "outputs": [
      {
       "metadata": {},
       "output_type": "display_data",
       "text": [
        "Loading required package: Matrix\n",
        "Loading required package: lattice\n",
        "\n",
        "Attaching package: \u2018lme4\u2019\n",
        "\n",
        "The following objects are masked from \u2018package:stats\u2019:\n",
        "\n",
        "    AIC, BIC\n",
        "\n"
       ]
      },
      {
       "metadata": {},
       "output_type": "display_data",
       "text": [
        "Loading required package: mvtnorm\n",
        "Loading required package: survival\n",
        "Loading required package: splines\n"
       ]
      }
     ],
     "prompt_number": 6
    },
    {
     "cell_type": "markdown",
     "metadata": {},
     "source": [
      "Connect to an IPython cluster (this must be started separately) and get two direct view references -- one to all engines (we expect to run this on my 8-core Mac Pro) and one to only 4 engines. We use the `dv4` cluster view with the extraction functions so we can extract data in parallel without killing things by running too many parallel i/o processes."
     ]
    },
    {
     "cell_type": "code",
     "collapsed": false,
     "input": [
      "from IPython.parallel import Client, TimeoutError\n",
      "try:\n",
      "    dv = Client()[:]\n",
      "    dv4 = Client()[:4]\n",
      "except (IOError, TimeoutError):\n",
      "    dv = None\n",
      "    dv4 = None"
     ],
     "language": "python",
     "metadata": {},
     "outputs": [],
     "prompt_number": 7
    },
    {
     "cell_type": "markdown",
     "metadata": {},
     "source": [
      "Control saving figures globally with this function so it is easy to switch between file types and possibly other options."
     ]
    },
    {
     "cell_type": "code",
     "collapsed": false,
     "input": [
      "def save_figure(fig, figname):\n",
      "    fig.savefig(\"figures/%s.pdf\" % figname, dpi=300)"
     ],
     "language": "python",
     "metadata": {},
     "outputs": [],
     "prompt_number": 8
    },
    {
     "cell_type": "markdown",
     "metadata": {},
     "source": [
      "Get the list of subject IDs for all the analyses."
     ]
    },
    {
     "cell_type": "code",
     "collapsed": false,
     "input": [
      "subjects = pd.Series(lyman.determine_subjects(), name=\"subj\")"
     ],
     "language": "python",
     "metadata": {},
     "outputs": [],
     "prompt_number": 9
    },
    {
     "cell_type": "markdown",
     "metadata": {},
     "source": [
      "Set some colors globally to use in all figures."
     ]
    },
    {
     "cell_type": "code",
     "collapsed": false,
     "input": [
      "rule_colors = dict(dim=[\"#EE6F25\", \"#4BC75B\", \"#9370DB\"], dec=[\"#6495EB\", \"#FF6347\"])\n",
      "roi_colors = dict(IFS=\"#CC3333\", aMFG=\"#3380CC\", pMFG=\"#33CC80\", pSFS=\"#CC8732\", IFG=\"#6464D8\",\n",
      "                  aIns=\"#F08080\", FPC=\"#CCCC33\", IPS=\"#2A4380\", OTC=\"#24913C\")\n",
      "roi_colors.update({\"aIFS\": \"#863D3d\", \"pIFS\": \"#7A5252\",\n",
      "                   \"lh-IFS\": \"#D19494\", \"rh-IFS\": \"#C2A3A3\"})"
     ],
     "language": "python",
     "metadata": {},
     "outputs": [],
     "prompt_number": 10
    },
    {
     "cell_type": "markdown",
     "metadata": {},
     "source": [
      "Define an R function to facilitate reporting of likelihood ratio test of nested LMEMs."
     ]
    },
    {
     "cell_type": "code",
     "collapsed": false,
     "input": [
      "%%R\n",
      "lr_test = function(m1, m2, name){\n",
      "    out = anova(m1, m2)\n",
      "    chi2 = out$Chisq[2]\n",
      "    dof = out$\"Chi Df\"[2]\n",
      "    p = out$\"Pr(>Chisq)\"[2]\n",
      "    test_str = \"Likelihood ratio test for %s:\\n  Chisq(%d) = %.2f; p = %.3g\"\n",
      "    writeLines(sprintf(test_str, name, dof, chi2, p))\n",
      "}"
     ],
     "language": "python",
     "metadata": {},
     "outputs": [],
     "prompt_number": 11
    },
    {
     "cell_type": "heading",
     "level": 3,
     "metadata": {},
     "source": [
      "Behavioral/design information"
     ]
    },
    {
     "cell_type": "markdown",
     "metadata": {},
     "source": [
      "Read each subject's master behavioral file and build two group DataFrames -- one with all trials (`behav_full`) and one with only trials considered in the fMRI analyses (`behav_df`). The latter exludes incorrect trials as well as trials identified as artifacts in the fMRI preprocessing."
     ]
    },
    {
     "cell_type": "code",
     "collapsed": false,
     "input": [
      "def dksort_behav_join():\n",
      "    behav_temp = \"../data/%s/behav/behav_data.csv\"\n",
      "    behav_data = []\n",
      "    for subj in subjects:\n",
      "        df = pd.read_csv(behav_temp % subj, index_col=\"trial\")\n",
      "        df[\"subj\"] = np.repeat(subj, len(df))\n",
      "        behav_data.append(df)\n",
      "    behav_full = pd.concat(behav_data)\n",
      "    behav_df = behav_full[behav_full[\"clean\"] & behav_full[\"correct\"]]\n",
      "    return behav_full, behav_df\n",
      "    \n",
      "behav_full, behav_df = dksort_behav_join()\n",
      "%Rpush behav_df\n",
      "%Rpush behav_full"
     ],
     "language": "python",
     "metadata": {},
     "outputs": [],
     "prompt_number": 12
    },
    {
     "cell_type": "heading",
     "level": 3,
     "metadata": {},
     "source": [
      "fMRI Parameters and Functions"
     ]
    },
    {
     "cell_type": "markdown",
     "metadata": {},
     "source": [
      "Define some parameters shared across fMRI analyses below."
     ]
    },
    {
     "cell_type": "code",
     "collapsed": false,
     "input": [
      "pfc_rois = [\"IFS\", \"aMFG\", \"pMFG\", \"FPC\", \"IFG\", \"aIns\", \"pSFS\"]\n",
      "net_rois = [\"IFS\", \"IPS\", \"OTC\"]\n",
      "all_rois = pd.Series(pfc_rois + net_rois[1:], name=\"roi\")"
     ],
     "language": "python",
     "metadata": {},
     "outputs": [],
     "prompt_number": 13
    },
    {
     "cell_type": "code",
     "collapsed": false,
     "input": [
      "other_rois = [\"lh-IFS\", \"rh-IFS\", \"aIFS\", \"pIFS\", \"AllROIs\"]\n",
      "other_masks = [\"lh.yeo17_ifs\", \"rh.yeo17_ifs\", \"yeo17_aifs\", \"yeo17_pifs\", \"dksort_all_pfc\"]"
     ],
     "language": "python",
     "metadata": {},
     "outputs": [],
     "prompt_number": 14
    },
    {
     "cell_type": "code",
     "collapsed": false,
     "input": [
      "frames = np.arange(-1, 5)\n",
      "timepoints = frames * 2 + 1\n",
      "up_timepoints = (np.linspace(0, 12, 25) - 1)[:-1]\n",
      "model = LogisticRegression()\n",
      "n_shuffle = 1000\n",
      "peak = slice(2, 4)\n",
      "shuffle_seed = sum(map(ord, \"DKsort\"))"
     ],
     "language": "python",
     "metadata": {},
     "outputs": [],
     "prompt_number": 15
    },
    {
     "cell_type": "markdown",
     "metadata": {},
     "source": [
      "Define several functions to perform the same sequence of analyses on different sets of ROIs/events."
     ]
    },
    {
     "cell_type": "code",
     "collapsed": false,
     "input": [
      "def dksort_decode(rois, rule):\n",
      "    \"\"\"Do the all the main decoding steps across sets of ROIs.\n",
      "    \n",
      "    Parameters\n",
      "    ----------\n",
      "    rois: list of strings\n",
      "        list of ROI names that can be easily mapped to a mask name\n",
      "    rule: string\n",
      "        name of rule type corresponding to design file in data dir\n",
      "\n",
      "    Returns\n",
      "    -------\n",
      "    dictionary with the following entries\n",
      "        rois: list of roi names\n",
      "        accs: DataFrame with decoding accuracy. index is hierarchical with\n",
      "              (ROI, subject) and columns are timepoint\n",
      "        chance: DataFrame in same shape as `accs` with the mean value from\n",
      "                the shuffled null distribution for each test\n",
      "        peak: DataFrame with decoding accuracy from data averaged over 3s\n",
      "              and 5s. index is subject id and column is ROI\n",
      "        null: DataFrame with maximum shuffled accuracy across timepoints.\n",
      "              index is hierarchical with (subj, iteration) and columns\n",
      "              are ROIS\n",
      "        ttest: DataFrame with ROIs in the index and (t, p, max_tp) for the\n",
      "               group average test against empirical chance in the\n",
      "               columns. `t` is the t statistic for the peak accuracy value,\n",
      "               and `p` is the corresponding p value corrected for multiple\n",
      "               comparisons across region and timepoint. max_tp is in seconds\n",
      "               relative to stimulus onset\n",
      "        signif: DataFrame with the null distribution percentiles corresponding\n",
      "                to the best observed accuracy for each subject/ROI. index is\n",
      "                hierarchical with (correction, subject) where correction can be\n",
      "                `time` or `omni` for the space of tests the percentile is corrected\n",
      "                against. columns are ROIs.\n",
      "                \n",
      "    \"\"\"    \n",
      "    # Set up the DataFrames to hold the persisent outputs\n",
      "    roi_index = moss.product_index([rois, subjects], [\"ROI\", \"subj\"])\n",
      "    columns = pd.Series(timepoints, name=\"timepoints\")\n",
      "    accs = pd.DataFrame(index=roi_index, columns=columns, dtype=float)\n",
      "\n",
      "    null_index = moss.product_index([subjects, np.arange(n_shuffle)], [\"subj\", \"iter\"])\n",
      "    null = pd.DataFrame(index=null_index, columns=pd.Series(rois, name=\"ROI\"), dtype=float)\n",
      "\n",
      "    peak_df = pd.DataFrame(index=subjects, columns=pd.Series(rois, name=\"ROI\"))\n",
      "    chance = pd.DataFrame(index=roi_index, columns=timepoints, dtype=float)\n",
      "    \n",
      "    # For each ROI load the data, decode, and simulate the null distribution\n",
      "    for roi in rois:\n",
      "        mask = \"yeo17_\" + roi.lower()\n",
      "        \n",
      "        # Load the dataset and do the basic time-resolved decoding\n",
      "        ds = mvpa.extract_group(rule, roi, mask, frames, confounds=\"rt\", dv=dv4)\n",
      "        roi_accs = mvpa.decode_group(ds, model, dv=dv)\n",
      "        accs.loc[roi, :] = roi_accs\n",
      "        \n",
      "        # Now do the shuffling and save the partially transformed null distribution\n",
      "        roi_null = mvpa.classifier_permutations(ds, model, n_iter=n_shuffle,\n",
      "                                                random_seed=shuffle_seed, dv=dv)\n",
      "        chance.loc[roi, :] = roi_null.mean(axis=1)\n",
      "        null[roi] = roi_null.max(axis=-1).ravel()\n",
      "\n",
      "        # Finally re-load the data averaging over the peak timepoints and decode\n",
      "        peak_ds = mvpa.extract_group(rule, roi, mask, frames, peak, \"rt\", dv=dv4)\n",
      "        peak_df[roi] = mvpa.decode_group(peak_ds, model, dv=dv)\n",
      "\n",
      "    # Do the group t tests\n",
      "    wide_accs = accs.unstack(level=\"ROI\")\n",
      "    wide_chance = chance.unstack(level=\"ROI\")\n",
      "    mus = wide_accs.mean(axis=0)\n",
      "    sds = wide_accs.std(axis=0)\n",
      "    ts, ps = moss.randomize_onesample(wide_accs, h_0=wide_chance)\n",
      "\n",
      "    # Build the t test output\n",
      "    t_df = pd.DataFrame(dict(t=ts, p=ps, mu=mus, sd=sds),\n",
      "                        index=wide_accs.columns, columns=[\"mu\", \"sd\", \"t\", \"p\"])\n",
      "    ttest = t_df.groupby(level=\"ROI\").apply(lambda x: x.loc[x.mu.idxmax()])\n",
      "    ttest[\"tp\"] = t_df.groupby(level=\"ROI\").mu.apply(lambda x: x.idxmax()[0])\n",
      "\n",
      "    # From the null distribution, find the percentile corresponding to the observed score\n",
      "    signif_index = moss.product_index([[\"time\", \"omni\"], subjects], [\"correction\", \"subj\"])    \n",
      "    signif = pd.DataFrame(index=signif_index, columns=rois, dtype=float)\n",
      "    for roi, roi_accs in accs.max(axis=1).groupby(level=\"ROI\"):\n",
      "        for subj, score in roi_accs.groupby(level=\"subj\"):\n",
      "            signif.loc[(\"time\", subj), roi] = stats.percentileofscore(null[roi], score[0])\n",
      "            signif.loc[(\"omni\", subj), roi] = stats.percentileofscore(null.max(axis=1), score[0])    \n",
      "\n",
      "    return dict(rois=rois, accs=accs, chance=chance, peak=peak_df,\n",
      "                null=null, ttest=ttest, signif=signif)"
     ],
     "language": "python",
     "metadata": {},
     "outputs": [],
     "prompt_number": 16
    },
    {
     "cell_type": "code",
     "collapsed": false,
     "input": [
      "def dksort_timecourse_figure(ax, data, ytick_args, err_style=\"ci_band\", legend=True, err_kws=None, **kwargs):\n",
      "    \"\"\"Plot time-resolved decoding accuracies for multiple ROIs\"\"\"\n",
      "    # Represent chance empirically based on the null distribution\n",
      "    chance = np.array(data[\"chance\"].mean(axis=0))\n",
      "    ax.plot(timepoints, chance, \"k--\")\n",
      "\n",
      "    # Plot the stimulus onset\n",
      "    ax.plot([0, 0], ytick_args[:2], ls=\":\", c=\"k\")\n",
      "    \n",
      "    # Draw the accuracy timecourse for each ROI\n",
      "    colors = [roi_colors[roi] for roi in data[\"rois\"]]\n",
      "    interpolate = not err_style == \"ci_bars\"\n",
      "    accs = pd.melt(data[\"accs\"].reset_index(), [\"subj\", \"ROI\"], value_name=\"acc\")\n",
      "    sns.tsplot(accs, time=\"timepoints\", unit=\"subj\", condition=\"ROI\", value=\"acc\",\n",
      "               color=colors, err_style=err_style, interpolate=interpolate, legend=legend,\n",
      "               err_kws=err_kws, ax=ax, **kwargs)\n",
      "\n",
      "    # Adjust the axis scales and tick labels\n",
      "    ylim = ytick_args[:2]\n",
      "    yticks = np.linspace(*ytick_args)\n",
      "    \n",
      "    ax.set_xlim(timepoints.min(), timepoints.max())\n",
      "    ax.set_ylim(ylim)\n",
      "    ax.set_yticks(yticks)\n",
      "\n",
      "    # Label the axes\n",
      "    ax.set_xlabel(\"Time relative to stimulus onset (s)\")\n",
      "    ax.set_ylabel(\"Cross-validated decoding accuracy\")\n",
      "    \n",
      "    # Make a legend with the ROIs\n",
      "    ax.legend(frameon=False, loc=\"upper right\")"
     ],
     "language": "python",
     "metadata": {},
     "outputs": [],
     "prompt_number": 17
    },
    {
     "cell_type": "code",
     "collapsed": false,
     "input": [
      "def dksort_point_figure(ax, data, chance, ytick_args, yaxis_label):\n",
      "    \"\"\"Plot a point estimate and CI for the 3-5s accuracy by ROI.\"\"\"\n",
      "    # Plot the chance line\n",
      "    ax.axhline(chance, color=\"k\", ls=\"--\")\n",
      "\n",
      "    # Plot each accuracy and confidence interval\n",
      "    for i, roi in enumerate(data.columns):\n",
      "        color = roi_colors[roi]\n",
      "        accs = data[roi].values\n",
      "        ci = moss.ci(moss.bootstrap(accs), 68)\n",
      "        ax.plot(i, accs.mean(), \"o\", color=color, ms=5, mew=0, mec=color)\n",
      "        ax.plot([i, i], ci, color=color, lw=2, solid_capstyle=\"round\")\n",
      "\n",
      "    # Set the axis limits\n",
      "    ax.set_xlim(-.5, data.shape[1] - .5)\n",
      "    ax.set_ylim(*ytick_args[:2])\n",
      "    yticks = np.linspace(*ytick_args)\n",
      "    ax.set_yticks(yticks)\n",
      "    ax.set_yticklabels([\"%.2f\" % t for t in yticks])\n",
      "    ax.xaxis.grid(False)\n",
      "    \n",
      "    # Set the axis labels\n",
      "    ax.set_xticks(np.arange(len(data.columns)))\n",
      "    ax.set_xticklabels(data.columns, rotation=60)\n",
      "    if yaxis_label:\n",
      "        ax.set_ylabel(\"Cross-validated decoding accuracy\")\n",
      "    else:\n",
      "        ax.set_yticklabels([])"
     ],
     "language": "python",
     "metadata": {},
     "outputs": [],
     "prompt_number": 18
    },
    {
     "cell_type": "code",
     "collapsed": false,
     "input": [
      "def dksort_significance_figure(ax, data):\n",
      "    \"\"\"Plot the percentile of the null for each ROI by subject.\"\"\"\n",
      "    width = 2 / len(data)\n",
      "    xbase = np.arange(0, 1, width)\n",
      "    rois = data.columns\n",
      "    \n",
      "    # Plot percentile across ROI/time and time correction\n",
      "    for kind, kind_df in data.groupby(level=\"correction\"):\n",
      "        if kind == \"time\": continue\n",
      "        for i, roi in enumerate(rois):\n",
      "            height = kind_df[roi]\n",
      "            color = sns.desaturate(roi_colors[roi], .75)\n",
      "            edgecolor = sns.desaturate(color, .5)\n",
      "            alpha = .25 if kind == \"time\" else .7\n",
      "            \n",
      "            ax.bar(xbase + i, np.sort(height), width=width,\n",
      "                   color=color, edgecolor=edgecolor, lw=0.1, alpha=alpha)\n",
      "            if i:\n",
      "                ax.axvline(i, lw=.5, color=\"#555555\")\n",
      "\n",
      "    # Set the other plot aesthetics\n",
      "    ax.set_ylim(0, 100)\n",
      "    ax.axhline(95, c=\"#444444\", ls=\":\")\n",
      "    ax.set_xticks(np.arange(data.shape[1]) + .5)\n",
      "    ax.set_xticklabels(rois, rotation=60)\n",
      "    ax.xaxis.grid(False)\n",
      "    ax.set_ylabel(\"Percentile in null distribution\")"
     ],
     "language": "python",
     "metadata": {},
     "outputs": [],
     "prompt_number": 19
    },
    {
     "cell_type": "heading",
     "level": 2,
     "metadata": {},
     "source": [
      "Behavioral Results"
     ]
    },
    {
     "cell_type": "heading",
     "level": 3,
     "metadata": {},
     "source": [
      "Speed and accuracy summary"
     ]
    },
    {
     "cell_type": "markdown",
     "metadata": {},
     "source": [
      "Summarize overall accuracy and reaction time across subjects. Take medians for RT within subject, but report the group mean over these medians."
     ]
    },
    {
     "cell_type": "code",
     "collapsed": false,
     "input": [
      "def dksort_behav_summary():\n",
      "    accs = behav_full.groupby(\"subj\").correct.mean()\n",
      "    print \"Accuracy across subjects: Mean %.2g; Std %.2g; Min: %.2g\" % (accs.mean(), accs.std(), accs.min())\n",
      "    rts = behav_df.groupby(\"subj\").rt.median() * 1000\n",
      "    print \"Median RT across subjects (ms) - Mean %.3g; Std %.3g\" % (rts.mean(), rts.std()) \n",
      "    iqrs = behav_df.groupby(\"subj\").rt.apply(moss.iqr) * 1000\n",
      "    print \"RT IQRs across subjects (ms) - Mean: %.3g; Std %.3g\" % (iqrs.mean(), iqrs.std())\n",
      "\n",
      "dksort_behav_summary()"
     ],
     "language": "python",
     "metadata": {},
     "outputs": [
      {
       "output_type": "stream",
       "stream": "stdout",
       "text": [
        "Accuracy across subjects: Mean 0.95; Std 0.033; Min: 0.87\n",
        "Median RT across subjects (ms) - Mean 826; Std 209\n",
        "RT IQRs across subjects (ms) - Mean: 307; Std 101\n"
       ]
      }
     ],
     "prompt_number": 20
    },
    {
     "cell_type": "heading",
     "level": 3,
     "metadata": {},
     "source": [
      "Speed as a function of rule"
     ]
    },
    {
     "cell_type": "markdown",
     "metadata": {},
     "source": [
      "Next, test whether the task rules influence the speed of responses. We'll perform these analyses in R using linear mixed effects models (LMEMs), which account for both within- and between-subjects variance. To test the significance of the models, we'll use likelihood ratio tests ([Barr et al. 2013](http://idiom.ucsd.edu/~rlevy/papers/barr-etal-2013-jml.pdf)). Also following this paper, we will use random effects structures that model random slopes for all main effect terms considered in the fixed effects structure.\n",
      "\n",
      "First, we fit both an interactive model and additive model (betwen rulesets) predicting RT and use a likelihood ratio test to see whether the interaction is significant."
     ]
    },
    {
     "cell_type": "code",
     "collapsed": false,
     "input": [
      "%%R \n",
      "m.rt.int = lmer(rt ~ dim_rule * dec_rule + (dim_rule + dec_rule | subj), behav_df, REML=F)\n",
      "m.rt.add = lmer(rt ~ dim_rule + dec_rule + (dim_rule + dec_rule | subj), behav_df, REML=F)\n",
      "lr_test(m.rt.int, m.rt.add, \"interaction\")"
     ],
     "language": "python",
     "metadata": {},
     "outputs": [
      {
       "metadata": {},
       "output_type": "display_data",
       "text": [
        "Likelihood ratio test for interaction:\n",
        "  Chisq(2) = 0.57; p = 0.752\n"
       ]
      }
     ],
     "prompt_number": 21
    },
    {
     "cell_type": "markdown",
     "metadata": {},
     "source": [
      "Print the additive model coefficients and standard errors"
     ]
    },
    {
     "cell_type": "code",
     "collapsed": false,
     "input": [
      "%R print(m.rt.add, corr=FALSE)"
     ],
     "language": "python",
     "metadata": {},
     "outputs": [
      {
       "metadata": {},
       "output_type": "display_data",
       "text": [
        "Linear mixed model fit by maximum likelihood \n",
        "Formula: rt ~ dim_rule + dec_rule + (dim_rule + dec_rule | subj) \n",
        "   Data: behav_df \n",
        "   AIC  BIC logLik deviance REMLdev\n",
        " 925.4 1020 -447.7    895.4   920.1\n",
        "Random effects:\n",
        " Groups   Name            Variance   Std.Dev. Corr                 \n",
        " subj     (Intercept)     0.04205506 0.205073                      \n",
        "          dim_rulepattern 0.00140533 0.037488 -0.350               \n",
        "          dim_ruleshape   0.00094827 0.030794 -0.130  0.974        \n",
        "          dec_rulesame    0.00291850 0.054023 -0.022  0.174  0.179 \n",
        " Residual                 0.07148692 0.267370                      \n",
        "Number of obs: 3961, groups: subj, 15\n",
        "\n",
        "Fixed effects:\n",
        "                 Estimate Std. Error t value\n",
        "(Intercept)      0.923318   0.053624  17.218\n",
        "dim_rulepattern -0.009415   0.014222  -0.662\n",
        "dim_ruleshape   -0.016024   0.013077  -1.225\n",
        "dec_rulesame    -0.083386   0.016337  -5.104\n"
       ]
      }
     ],
     "prompt_number": 22
    },
    {
     "cell_type": "markdown",
     "metadata": {},
     "source": [
      "Report the omnibus test for the additive model and likelihood ratio tests for each main effect."
     ]
    },
    {
     "cell_type": "code",
     "collapsed": false,
     "input": [
      "%%R\n",
      "print(anova(m.rt.add))\n",
      "m.rt.dim = lmer(rt ~ dec_rule + (dim_rule + dec_rule | subj), behav_df, REML=F)\n",
      "m.rt.dec = lmer(rt ~ dim_rule + (dim_rule + dec_rule | subj), behav_df, REML=F)\n",
      "lr_test(m.rt.add, m.rt.dim, \"dimension rule\")\n",
      "lr_test(m.rt.add, m.rt.dec, \"decision rule\")"
     ],
     "language": "python",
     "metadata": {},
     "outputs": [
      {
       "metadata": {},
       "output_type": "display_data",
       "text": [
        "Analysis of Variance Table\n",
        "         Df  Sum Sq Mean Sq F value\n",
        "dim_rule  2 0.05954 0.02977  0.4164\n",
        "dec_rule  1 1.86241 1.86241 26.0524\n",
        "Likelihood ratio test for dimension rule:\n",
        "  Chisq(2) = 1.52; p = 0.467\n",
        "Likelihood ratio test for decision rule:\n",
        "  Chisq(1) = 15.09; p = 0.000103\n"
       ]
      }
     ],
     "prompt_number": 23
    },
    {
     "cell_type": "markdown",
     "metadata": {},
     "source": [
      "It's possible that the dimension rules may influence RTs differently for each participant and wash out in the group analysis. To examine this possiblitly, perform a one-way ANOVA across each ruleset within each participant and count the number of subjects with a trending or significant effect."
     ]
    },
    {
     "cell_type": "code",
     "collapsed": false,
     "input": [
      "def dksort_rt_anova():\n",
      "    subj_grouped = behav_df.groupby(\"subj\")\n",
      "    dim = subj_grouped.apply(moss.df_oneway, \"dim_rule\", \"rt\", False)\n",
      "    dec = subj_grouped.apply(moss.df_oneway, \"dec_rule\", \"rt\", False)\n",
      "    f_scores = pd.concat([dim, dec], keys=[\"dimension\", \"decision\"], names=[\"rules\", \"subj\"])\n",
      "    print \"Median F score: %.2f\" % f_scores.loc[\"dimension\"][\"F\"].median()\n",
      "    f_scores[\"p < 0.05\"] = f_scores.p < 0.05\n",
      "    f_scores[\"p < 0.1\"] = f_scores.p < 0.1\n",
      "    print f_scores.groupby(level=\"rules\")[[\"p < 0.05\", \"p < 0.1\"]].sum()\n",
      "    return subj_grouped, f_scores\n",
      "\n",
      "subj_grouped, f_scores = dksort_rt_anova()"
     ],
     "language": "python",
     "metadata": {},
     "outputs": [
      {
       "output_type": "stream",
       "stream": "stdout",
       "text": [
        "Median F score: 0.67\n",
        "           p < 0.05  p < 0.1\n",
        "rules                       \n",
        "dimension         2        2\n",
        "decision          8       10\n"
       ]
      }
     ],
     "prompt_number": 24
    },
    {
     "cell_type": "markdown",
     "metadata": {},
     "source": [
      "Also, to get a measurement of the slowing associated with the 'different' rule, take the difference in medians across the rules within subjects, then report the mean and bootstrapped confidence interval for the mean across subjects."
     ]
    },
    {
     "cell_type": "code",
     "collapsed": false,
     "input": [
      "def dksort_rule_rt_effect():\n",
      "    pivot = pd.pivot_table(behav_df, \"rt\", \"subj\", \"dec_rule\", np.median)\n",
      "    cost = np.diff(pivot, axis=1) * 1000\n",
      "    boots = moss.bootstrap(cost)\n",
      "    ci_low, ci_high = moss.ci(boots, 95)\n",
      "    print \"'Different' rule effect (ms): Mean %.3g, CI: [%.3g, %.3g]\" % (boots.mean(), ci_low, ci_high)\n",
      "\n",
      "dksort_rule_rt_effect()"
     ],
     "language": "python",
     "metadata": {},
     "outputs": [
      {
       "output_type": "stream",
       "stream": "stdout",
       "text": [
        "'Different' rule effect (ms): Mean -94.5, CI: [-123, -66.4]\n"
       ]
      }
     ],
     "prompt_number": 25
    },
    {
     "cell_type": "heading",
     "level": 3,
     "metadata": {},
     "source": [
      "Speed as a function of attended feature matching"
     ]
    },
    {
     "cell_type": "markdown",
     "metadata": {},
     "source": [
      "Next we'll ask whether RT is modulated by whether the attended features match"
     ]
    },
    {
     "cell_type": "code",
     "collapsed": false,
     "input": [
      "%%R\n",
      "m.match = lmer(rt ~ attend_match + (attend_match | subj), behav_df, REML=FALSE)\n",
      "m.match.drop = lmer(rt ~ (attend_match | subj), behav_df, REML=FALSE)\n",
      "print(m.match, corr=FALSE)\n",
      "lr_test(m.match, m.match.drop, \"attended matching\")"
     ],
     "language": "python",
     "metadata": {},
     "outputs": [
      {
       "metadata": {},
       "output_type": "display_data",
       "text": [
        "Linear mixed model fit by maximum likelihood \n",
        "Formula: rt ~ attend_match + (attend_match | subj) \n",
        "   Data: behav_df \n",
        "  AIC  BIC logLik deviance REMLdev\n",
        " 1028 1066 -508.2     1016    1028\n",
        "Random effects:\n",
        " Groups   Name             Variance   Std.Dev. Corr  \n",
        " subj     (Intercept)      0.04046794 0.201166       \n",
        "          attend_matchTRUE 0.00014153 0.011897 0.208 \n",
        " Residual                  0.07422838 0.272449       \n",
        "Number of obs: 3961, groups: subj, 15\n",
        "\n",
        "Fixed effects:\n",
        "                 Estimate Std. Error t value\n",
        "(Intercept)      0.866011   0.052302  16.558\n",
        "attend_matchTRUE 0.013382   0.009189   1.456\n",
        "Likelihood ratio test for attended matching:\n",
        "  Chisq(1) = 1.99; p = 0.159\n"
       ]
      }
     ],
     "prompt_number": 26
    },
    {
     "cell_type": "markdown",
     "metadata": {},
     "source": [
      "We'll also ask whether this interacts with the decision rule."
     ]
    },
    {
     "cell_type": "code",
     "collapsed": false,
     "input": [
      "%%R\n",
      "m.match.int = lmer(rt ~ attend_match * dec_rule + (attend_match + dec_rule | subj), behav_df, REML=FALSE)\n",
      "m.match.add = lmer(rt ~ attend_match + dec_rule + (attend_match + dec_rule | subj), behav_df, REML=FALSE)\n",
      "print(m.match.int, corr=FALSE)\n",
      "lr_test(m.match.int, m.match.add, \"interaction\")"
     ],
     "language": "python",
     "metadata": {},
     "outputs": [
      {
       "metadata": {},
       "output_type": "display_data",
       "text": [
        "Linear mixed model fit by maximum likelihood \n",
        "Formula: rt ~ attend_match * dec_rule + (attend_match + dec_rule | subj) \n",
        "   Data: behav_df \n",
        "   AIC   BIC logLik deviance REMLdev\n",
        " 842.3 911.4 -410.1    820.3   844.7\n",
        "Random effects:\n",
        " Groups   Name             Variance   Std.Dev. Corr          \n",
        " subj     (Intercept)      0.03968419 0.199209               \n",
        "          attend_matchTRUE 0.00017723 0.013313  0.322        \n",
        "          dec_rulesame     0.00299747 0.054749  0.010 -0.782 \n",
        " Residual                  0.07028425 0.265112               \n",
        "Number of obs: 3961, groups: subj, 15\n",
        "\n",
        "Fixed effects:\n",
        "                               Estimate Std. Error t value\n",
        "(Intercept)                    0.870299   0.052129  16.695\n",
        "attend_matchTRUE               0.088947   0.012443   7.148\n",
        "dec_rulesame                  -0.007847   0.018508  -0.424\n",
        "attend_matchTRUE:dec_rulesame -0.150621   0.016855  -8.936\n",
        "Likelihood ratio test for interaction:\n",
        "  Chisq(1) = 79.04; p = 6.08e-19\n"
       ]
      }
     ],
     "prompt_number": 27
    },
    {
     "cell_type": "heading",
     "level": 3,
     "metadata": {},
     "source": [
      "Response accuracy as a function of rule"
     ]
    },
    {
     "cell_type": "markdown",
     "metadata": {},
     "source": [
      "Now perform a similar sequence of analyses on response accuracy, here using mixed effects logistic regression models."
     ]
    },
    {
     "cell_type": "code",
     "collapsed": false,
     "input": [
      "%%R\n",
      "m.acc.int = lmer(correct ~ dim_rule * dec_rule +\n",
      "                 (dim_rule + dec_rule | subj), behav_full, family=binomial)\n",
      "m.acc.add = lmer(correct ~ dim_rule + dec_rule +\n",
      "                 (dim_rule + dec_rule | subj), behav_full, family=binomial)\n",
      "lr_test(m.acc.int, m.acc.add, \"interaction\")"
     ],
     "language": "python",
     "metadata": {},
     "outputs": [
      {
       "metadata": {},
       "output_type": "display_data",
       "text": [
        "Likelihood ratio test for interaction:\n",
        "  Chisq(2) = 0.15; p = 0.927\n"
       ]
      }
     ],
     "prompt_number": 28
    },
    {
     "cell_type": "code",
     "collapsed": false,
     "input": [
      "%R print(m.acc.add, corr=FALSE)"
     ],
     "language": "python",
     "metadata": {},
     "outputs": [
      {
       "metadata": {},
       "output_type": "display_data",
       "text": [
        "Generalized linear mixed model fit by the Laplace approximation \n",
        "Formula: correct ~ dim_rule + dec_rule + (dim_rule + dec_rule | subj) \n",
        "   Data: behav_full \n",
        "  AIC  BIC logLik deviance\n",
        " 1696 1785 -833.8     1668\n",
        "Random effects:\n",
        " Groups Name            Variance Std.Dev. Corr                 \n",
        " subj   (Intercept)     0.46217  0.67983                       \n",
        "        dim_rulepattern 0.01600  0.12649  -1.000               \n",
        "        dim_ruleshape   0.22851  0.47802  -0.250  0.250        \n",
        "        dec_rulesame    0.15589  0.39483  -0.285  0.285 -0.347 \n",
        "Number of obs: 4320, groups: subj, 15\n",
        "\n",
        "Fixed effects:\n",
        "                Estimate Std. Error z value Pr(>|z|)    \n",
        "(Intercept)       3.0981     0.2304  13.449   <2e-16 ***\n",
        "dim_rulepattern  -0.3197     0.1775  -1.801   0.0716 .  \n",
        "dim_ruleshape    -0.1417     0.2229  -0.636   0.5249    \n",
        "dec_rulesame      0.4053     0.1805   2.246   0.0247 *  \n",
        "---\n",
        "Signif. codes:  0 \u2018***\u2019 0.001 \u2018**\u2019 0.01 \u2018*\u2019 0.05 \u2018.\u2019 0.1 \u2018 \u2019 1\n"
       ]
      }
     ],
     "prompt_number": 29
    },
    {
     "cell_type": "code",
     "collapsed": false,
     "input": [
      "%%R\n",
      "m.acc.dim = lmer(correct ~ dec_rule + (dim_rule + dec_rule | subj), behav_full, family=binomial)\n",
      "m.acc.dec = lmer(correct ~ dim_rule + (dim_rule + dec_rule | subj), behav_full, family=binomial)\n",
      "lr_test(m.acc.add, m.acc.dim, \"dimension rules\")\n",
      "lr_test(m.acc.add, m.acc.dec, \"decision rules\")"
     ],
     "language": "python",
     "metadata": {},
     "outputs": [
      {
       "metadata": {},
       "output_type": "display_data",
       "text": [
        "Likelihood ratio test for dimension rules:\n",
        "  Chisq(2) = 2.64; p = 0.267\n",
        "Likelihood ratio test for decision rules:\n",
        "  Chisq(1) = 3.85; p = 0.0498\n"
       ]
      }
     ],
     "prompt_number": 30
    },
    {
     "cell_type": "code",
     "collapsed": false,
     "input": [
      "def dksort_rule_acc_effect():\n",
      "    pivot = pd.pivot_table(behav_full, \"correct\", \"subj\", \"dec_rule\")\n",
      "    cost = np.diff(pivot, axis=1) * 100\n",
      "    boots = moss.bootstrap(cost)\n",
      "    low, high = moss.ci(boots, 95)\n",
      "    args = cost.mean(), low, high\n",
      "    print \"'Different' rule response accuracy cost: %.2g%%; CI: [%.2g%%, %.2g%%]\" % args\n",
      "\n",
      "dksort_rule_acc_effect()"
     ],
     "language": "python",
     "metadata": {},
     "outputs": [
      {
       "output_type": "stream",
       "stream": "stdout",
       "text": [
        "'Different' rule response accuracy cost: 1.9%; CI: [0.32%, 3.7%]\n"
       ]
      }
     ],
     "prompt_number": 31
    },
    {
     "cell_type": "heading",
     "level": 3,
     "metadata": {},
     "source": [
      "Rule Switching Analyses"
     ]
    },
    {
     "cell_type": "markdown",
     "metadata": {},
     "source": [
      "Now consider how shifting back and forth between different rulesets influences response speed.\n",
      "\n",
      "First, analyze it as a function of how many trials have elapsed since the rule switch. We'll fit this in two separate models as the lag is frequently identical for each ruleset."
     ]
    },
    {
     "cell_type": "code",
     "collapsed": false,
     "input": [
      "%%R\n",
      "m.lag.dim = lmer(rt ~ dim_shift_lag + (dim_shift_lag | subj), behav_df, REML=FALSE)\n",
      "m.lag.dec = lmer(rt ~ dec_shift_lag + (dec_shift_lag | subj), behav_df, REML=FALSE)"
     ],
     "language": "python",
     "metadata": {},
     "outputs": [],
     "prompt_number": 32
    },
    {
     "cell_type": "code",
     "collapsed": false,
     "input": [
      "%R print(m.lag.dim, corr=FALSE)"
     ],
     "language": "python",
     "metadata": {},
     "outputs": [
      {
       "metadata": {},
       "output_type": "display_data",
       "text": [
        "Linear mixed model fit by maximum likelihood \n",
        "Formula: rt ~ dim_shift_lag + (dim_shift_lag | subj) \n",
        "   Data: behav_df \n",
        "  AIC  BIC logLik deviance REMLdev\n",
        " 1031 1068 -509.3     1019    1033\n",
        "Random effects:\n",
        " Groups   Name          Variance   Std.Dev.  Corr  \n",
        " subj     (Intercept)   4.0091e-02 0.2002269       \n",
        "          dim_shift_lag 1.0637e-06 0.0010314 1.000 \n",
        " Residual               7.4303e-02 0.2725866       \n",
        "Number of obs: 3961, groups: subj, 15\n",
        "\n",
        "Fixed effects:\n",
        "               Estimate Std. Error t value\n",
        "(Intercept)   0.8714653  0.0520818  16.733\n",
        "dim_shift_lag 0.0005944  0.0022995   0.258\n"
       ]
      }
     ],
     "prompt_number": 33
    },
    {
     "cell_type": "code",
     "collapsed": false,
     "input": [
      "%R print(m.lag.dec, corr=FALSE)"
     ],
     "language": "python",
     "metadata": {},
     "outputs": [
      {
       "metadata": {},
       "output_type": "display_data",
       "text": [
        "Linear mixed model fit by maximum likelihood \n",
        "Formula: rt ~ dec_shift_lag + (dec_shift_lag | subj) \n",
        "   Data: behav_df \n",
        "  AIC  BIC logLik deviance REMLdev\n",
        " 1022 1059 -504.9     1010    1024\n",
        "Random effects:\n",
        " Groups   Name          Variance   Std.Dev.  Corr   \n",
        " subj     (Intercept)   4.4698e-02 0.2114198        \n",
        "          dec_shift_lag 1.5458e-05 0.0039316 -0.830 \n",
        " Residual               7.4109e-02 0.2722290        \n",
        "Number of obs: 3961, groups: subj, 15\n",
        "\n",
        "Fixed effects:\n",
        "               Estimate Std. Error t value\n",
        "(Intercept)    0.885098   0.054989  16.096\n",
        "dec_shift_lag -0.004589   0.002155  -2.129\n"
       ]
      }
     ],
     "prompt_number": 34
    },
    {
     "cell_type": "code",
     "collapsed": false,
     "input": [
      "%%R\n",
      "m.lag.nodim = lmer(rt ~ 1 + (dim_shift_lag | subj), behav_df, REML=FALSE)\n",
      "m.lag.nodec = lmer(rt ~ 1 + (dec_shift_lag | subj), behav_df, REML=FALSE)\n",
      "lr_test(m.lag.dim, m.lag.nodim, \"dimension rules\")\n",
      "lr_test(m.lag.dec, m.lag.nodec, \"decision rules\")"
     ],
     "language": "python",
     "metadata": {},
     "outputs": [
      {
       "metadata": {},
       "output_type": "display_data",
       "text": [
        "Likelihood ratio test for dimension rules:\n",
        "  Chisq(1) = 0.07; p = 0.797\n",
        "Likelihood ratio test for decision rules:\n",
        "  Chisq(1) = 3.88; p = 0.0487\n"
       ]
      }
     ],
     "prompt_number": 35
    },
    {
     "cell_type": "markdown",
     "metadata": {},
     "source": [
      "Next, directly test switch costs by analyzing RT on the first trial of each block as a function of rule switches. We can do this in one model."
     ]
    },
    {
     "cell_type": "code",
     "collapsed": false,
     "input": [
      "%%R\n",
      "shift_subset = behav_df$block_pos == 0\n",
      "m.shift.add = lmer(rt ~ dim_shift + dec_shift + (dim_shift + dec_shift | subj),\n",
      "                   behav_df, subset=shift_subset, REML=FALSE)\n",
      "m.shift.int = lmer(rt ~ dim_shift * dec_shift + (dim_shift + dec_shift | subj), behav_df,\n",
      "                   subset=shift_subset, REML=FALSE)\n",
      "lr_test(m.shift.add, m.shift.int, \"interaction\")"
     ],
     "language": "python",
     "metadata": {},
     "outputs": [
      {
       "metadata": {},
       "output_type": "display_data",
       "text": [
        "Likelihood ratio test for interaction:\n",
        "  Chisq(1) = 0.61; p = 0.436\n"
       ]
      }
     ],
     "prompt_number": 36
    },
    {
     "cell_type": "code",
     "collapsed": false,
     "input": [
      "%R print(m.shift.add, corr=FALSE)"
     ],
     "language": "python",
     "metadata": {},
     "outputs": [
      {
       "metadata": {},
       "output_type": "display_data",
       "text": [
        "Linear mixed model fit by maximum likelihood \n",
        "Formula: rt ~ dim_shift + dec_shift + (dim_shift + dec_shift | subj) \n",
        "   Data: behav_df \n",
        " Subset: shift_subset \n",
        " AIC   BIC logLik deviance REMLdev\n",
        " 397 448.6 -188.5      377   393.7\n",
        "Random effects:\n",
        " Groups   Name          Variance   Std.Dev. Corr          \n",
        " subj     (Intercept)   0.04266668 0.206559               \n",
        "          dim_shiftTRUE 0.00013579 0.011653 -1.000        \n",
        "          dec_shiftTRUE 0.00056459 0.023761  1.000 -1.000 \n",
        " Residual               0.07488755 0.273656               \n",
        "Number of obs: 1290, groups: subj, 15\n",
        "\n",
        "Fixed effects:\n",
        "              Estimate Std. Error t value\n",
        "(Intercept)    0.86474    0.05606  15.426\n",
        "dim_shiftTRUE  0.01119    0.01728   0.648\n",
        "dec_shiftTRUE  0.01977    0.01668   1.185\n"
       ]
      }
     ],
     "prompt_number": 37
    },
    {
     "cell_type": "code",
     "collapsed": false,
     "input": [
      "%%R\n",
      "m.shift.nodim = lmer(rt ~ dec_shift + (dim_shift + dec_shift | subj),\n",
      "                     behav_df, subset=shift_subset, REML=FALSE)\n",
      "m.shift.nodec = lmer(rt ~ dim_shift + (dim_shift + dec_shift | subj),\n",
      "                     behav_df, subset=shift_subset, REML=FALSE)\n",
      "lr_test(m.shift.add, m.shift.nodim, \"dimension rule\")\n",
      "lr_test(m.shift.add, m.shift.nodec, \"decision rule\")"
     ],
     "language": "python",
     "metadata": {},
     "outputs": [
      {
       "metadata": {},
       "output_type": "display_data",
       "text": [
        "Likelihood ratio test for dimension rule:\n",
        "  Chisq(1) = 0.42; p = 0.517\n",
        "Likelihood ratio test for decision rule:\n",
        "  Chisq(1) = 1.39; p = 0.239\n"
       ]
      }
     ],
     "prompt_number": 38
    },
    {
     "cell_type": "heading",
     "level": 3,
     "metadata": {},
     "source": [
      "Behavioral Analysis Figures"
     ]
    },
    {
     "cell_type": "markdown",
     "metadata": {},
     "source": [
      "Here is the main behavioral analysis figure. There is a lot of information packed into this plot, so it is complicated to draw."
     ]
    },
    {
     "cell_type": "code",
     "collapsed": false,
     "input": [
      "def dksort_figure_2():\n",
      "    # Set up variables shared across subplots\n",
      "    dfs = [behav_df, behav_full]\n",
      "    measures = [\"rt\", \"correct\"]\n",
      "    agg_funcs = [np.median, np.mean, np.mean]\n",
      "    ci = 68\n",
      "    xlabels = [\"Dimension rules\", \"Attended features\", \"Trials since rule switch\"]\n",
      "    ylabels = [\"Reaction time (s)\", \"Response accuracy\"]\n",
      "    xticks = [range(3), range(2), range(1, 7)]\n",
      "    xticklabels = [[\"Shape\", \"Color\", \"Pattern\"], [\"Mismatch\", \"Match\"], range(1, 7)]\n",
      "    xlims = [[-.5, 2.5], [-.5, 1.5], [.25, 6.75]]\n",
      "    ylims = [[.67, 1.02], [.8, 1.02]]\n",
      "    yticks = [[.7, 1, 4], [.8, 1, 3]]\n",
      "    ms, mew, lw = 3.5, 1.2, 1.2\n",
      "    err_kws = dict(linewidth=lw, mew=mew)\n",
      "    lag_colors = dict(Dimension=\"black\", Decision=\"lightslategray\")\n",
      "    text_offset = (0.01, -0.01)\n",
      "    text_size = 11\n",
      "    \n",
      "    # Draw each plot\n",
      "    f, axes = plt.subplots(2, 3, figsize=(4.48, 3))\n",
      "    for i in range(2):\n",
      "\n",
      "        # First analyze RT/accuracy analysis sorted by rule types\n",
      "        pivots = []\n",
      "        for subj, df_subj in dfs[i].groupby(\"subj\"):\n",
      "            pivot = pd.pivot_table(df_subj, measures[i], \"dim_rule\", \"dec_rule\", agg_funcs[i])\n",
      "            pivots.append(np.array(pivot))\n",
      "        pivots = np.array(pivots, float)\n",
      "        means = pivots.mean(axis=0)\n",
      "        cis = moss.ci(moss.bootstrap(pivots, axis=0), ci, axis=0)\n",
      "    \n",
      "        # Plot the above results in plot columns\n",
      "        ax = axes[i, 0]\n",
      "        for dim in range(3):\n",
      "            color = rule_colors[\"dim\"][dim]\n",
      "            for dec in range(2):\n",
      "                x = dim + (dec - .5) / 3.5\n",
      "                y = means[dim, dec]\n",
      "                ci_x = cis[:, dim, dec]\n",
      "                mfc = ax.get_axis_bgcolor() if dec else color\n",
      "\n",
      "                # Plotting calls\n",
      "                ax.plot([x, x], ci_x, lw=lw, color=color)\n",
      "                ax.plot(x, y, \"o\", ms=ms, mew=mew, mfc=mfc, mec=color)\n",
      "    \n",
      "        # Draw two plots out of the axis range to support the legend\n",
      "        for j, rule in enumerate([\"Same\", \"Different\"]):\n",
      "\n",
      "            # Plotting calls\n",
      "            ax.plot(-1, -1, \"o\", color=\"#444444\", mec=\"#444444\", ms=ms,\n",
      "                    mfc=[\"none\", \"#444444\"][j], mew=mew, label=\"'%s' rule\" % rule)\n",
      "    \n",
      "        # Next plot the decision rule by feature matching analysis\n",
      "        pivots = []\n",
      "        for subj, df_subj in dfs[i].groupby(\"subj\"):\n",
      "            pivot = pd.pivot_table(df_subj, measures[i], \"attend_match\", \"dec_rule\", agg_funcs[i])\n",
      "            pivots.append(np.array(pivot))\n",
      "        pivots = np.array(pivots, float)\n",
      "        means = pivots.mean(axis=0)\n",
      "        cis = moss.ci(moss.bootstrap(pivots, axis=0), ci, axis=0)\n",
      "        \n",
      "        ax  = axes[i, 1]\n",
      "        for k, rule in enumerate([\"Same\", \"Different\"]):\n",
      "            color = rule_colors[\"dec\"][k]\n",
      "            x = np.array([0, 1])\n",
      "\n",
      "            # Plotting calls\n",
      "            sns.tsplot(pivots[..., 1 - k], time=x, err_style=\"ci_bars\", ci=ci,\n",
      "                       color=color, marker=\"o\", mec=color, label = \"'%s' rule\" % rule,\n",
      "                       ms=ms, mfc=color, mew=mew, lw=lw, err_kws=err_kws, ax=ax)\n",
      "    \n",
      "        # Now do the analysis as a function of rule switching\n",
      "        for j, ruleset in enumerate([\"Dimension\", \"Decision\"]):\n",
      "            color = lag_colors[ruleset]\n",
      "            pivot_cols = ruleset[:3].lower() + \"_shift_lag\"\n",
      "            lag_pivot = pd.pivot_table(dfs[i], measures[i], \"subj\", pivot_cols, agg_funcs[i])\n",
      "            ts_kws =  dict(err_style=\"ci_bars\", color=color, ci=ci,\n",
      "                           lw=lw, err_kws=err_kws, ax=axes[i, 2], marker=\"o\", ms=3)\n",
      "\n",
      "            # Plotting calls\n",
      "            sns.tsplot(lag_pivot.loc[:, :2].values, time=[1, 2, 3], **ts_kws)\n",
      "            sns.tsplot(lag_pivot.loc[:, (2, 3)].values, time=[3, 4], linestyle=\":\", **ts_kws)\n",
      "            sns.tsplot(lag_pivot.loc[:, 3:5].values, time=[4, 5, 6], label=ruleset + \" rules\", **ts_kws)\n",
      "    \n",
      "        # Finally, iterate through the plots and set more supporting variables\n",
      "        for j in range(3):\n",
      "            ax = axes[i, j]\n",
      "            yticks_ = np.linspace(*yticks[i])\n",
      "            ax.set_xticks(xticks[j])\n",
      "            ax.set_yticks(yticks_)\n",
      "            ax.set_xlim(*xlims[j])\n",
      "            ax.set_ylim(ylims[i])\n",
      "            if i:\n",
      "                ax.set_xlabel(xlabels[j])\n",
      "                ax.set_xticklabels(xticklabels[j])\n",
      "            else:\n",
      "                ax.set_xticklabels([])\n",
      "            if not j:\n",
      "                ax.set_ylabel(ylabels[i])\n",
      "                ax.set_yticklabels(yticks_)\n",
      "            else:\n",
      "                ax.set_yticklabels([])\n",
      "            if i:\n",
      "                ax.legend(loc=\"lower left\")\n",
      "            \n",
      "    f.subplots_adjust(wspace=.08, hspace=.08, left=.1, bottom=.12, top=.97, right=.97) \n",
      "    \n",
      "    # Label the facets\n",
      "    for ax, s in zip(f.axes, \"ACEBDF\"):\n",
      "        (x, _), (_, y) = ax.bbox.transformed(f.transFigure.inverted()).get_points()\n",
      "        x += text_offset[0]\n",
      "        y += text_offset[1]\n",
      "        f.text(x, y, s, size=text_size, ha=\"left\", va=\"top\")\n",
      "    \n",
      "    sns.despine()\n",
      "    save_figure(f, \"figure_2\")\n",
      "\n",
      "sns.set(context=\"paper\", style=\"nogrid\")\n",
      "try:\n",
      "    dksort_figure_2()\n",
      "finally:\n",
      "    sns.set(context=\"paper\", style=\"darkgrid\")"
     ],
     "language": "python",
     "metadata": {},
     "outputs": [
      {
       "metadata": {},
       "output_type": "display_data",
       "png": "[encoded data removed]",
       "text": [
        "<matplotlib.figure.Figure at 0x10d7c4450>"
       ]
      }
     ],
     "prompt_number": 39
    },
    {
     "cell_type": "markdown",
     "metadata": {},
     "source": [
      "<div style=\"width:585px;padding-left:120px\" align=\"justify\">\n",
      "**Main Behavioral Results:** Results of RTs on correct trials (top row) and proportion correct responses (bottom row) analyzed as a function of rule type (left column) or trials since rule switch (right column). Reaction times were first collapsed within subject by taking the median in each bin, and are relative to the onset of the second stimulus. All error bars represent bootstrapped 68% confidence intervals for the mean across subjects. Lines in the right column are dashed between trials 2 and 3 to indicate passage through a mini-block boundary, at which point a new rule cue was presented (even when the rules did not switch).\n",
      "</div>"
     ]
    },
    {
     "cell_type": "markdown",
     "metadata": {},
     "source": [
      "Now the supplemental behavioral figure."
     ]
    },
    {
     "cell_type": "code",
     "collapsed": false,
     "input": [
      "def dksort_supplemental_figure_1():\n",
      "    f, axes = plt.subplots(2, 1, figsize=(6.85, 6.3))\n",
      "    \n",
      "    positions = dict(dim=[.25, .5, .75], dec=[.33, .66])\n",
      "    widths = dict(dim=.18, dec=.25)\n",
      "    rules = dict(dim=[\"shape\", \"color\", \"pattern\"], dec=[\"same\", \"different\"])\n",
      "    \n",
      "    text_offset = (.01, -.015)\n",
      "    text_size = 12\n",
      "    \n",
      "    subj_medians = subj_grouped.rt.median()\n",
      "    subj_sorted = subjects[np.argsort(subj_medians)]\n",
      "    for ruleset, ax in zip([\"dimension\", \"decision\"], axes):\n",
      "        rs = ruleset[:3]\n",
      "        for i, subj in enumerate(subj_sorted):\n",
      "            df_i = behav_df[behav_df[\"subj\"] == subj]\n",
      "            for j, rule in enumerate(rules[rs]):\n",
      "                df_rule = df_i[df_i[rs + \"_rule\"] == rule]\n",
      "                pos = np.array([i + positions[rs][j]])\n",
      "                rule_rt = np.array(df_rule[\"rt\"])\n",
      "                color = sns.desaturate(rule_colors[rs][j], .7)\n",
      "                sns.boxplot([rule_rt], color=color, positions=pos, fliersize=2,\n",
      "                            whis=1.75, linewidth=1, widths=widths[rs], ax=ax)\n",
      "        ax.set_xlim(0, 15)\n",
      "        ax.set_xticks(np.arange(15) + 0.5)\n",
      "        rule_fs = f_scores[\"F\"][ruleset].reindex(subj_sorted)\n",
      "        ax.set_xticklabels([\"%.2g\" % _f for _f in rule_fs])\n",
      "        ax.set_ylabel(\"Reaction time (s)\")\n",
      "        ax.set_xlabel(\"One-way F score over rules\")\n",
      "        indiv_rules = rules[ruleset[:3]]\n",
      "        n_rules = len(indiv_rules)\n",
      "        ax.legend(ax.artists[:n_rules], indiv_rules, loc=4,\n",
      "                  ncol=n_rules)\n",
      "    f.tight_layout()\n",
      "    \n",
      "    f.text(.02, .96, \"A\", size=text_size)\n",
      "    f.text(.02, .47, \"B\", size=text_size)\n",
      "    \n",
      "    save_figure(f, \"supplemental_figure_1\")\n",
      "\n",
      "dksort_supplemental_figure_1()"
     ],
     "language": "python",
     "metadata": {},
     "outputs": [
      {
       "metadata": {},
       "output_type": "display_data",
       "png": "[encoded data removed]",
       "text": [
        "<matplotlib.figure.Figure at 0x10d7c7290>"
       ]
      }
     ],
     "prompt_number": 40
    },
    {
     "cell_type": "markdown",
     "metadata": {},
     "source": [
      "<div style=\"width:730px;padding-left:120px\" align=\"justify\">\n",
      "**Reaction time distributions by subject and rule type:** Each set of plots displays the reaction time distributions, sorted by rule, for each subject. Top plot sorts by the dimension rules; bottom plot sorts by decision rules. For each plot, the box represents 25th, 50th, and 75th percentile. Whiskers extend 1.75 times the interquartile range past the edge of the box, and points lying outside this range are individually marked as outliers. Plots are sorted on the x axis by median within-subject RT. The *F* score corresponding to the within subject one-way ANOVA over rules is displayed below each subject's set of plots.\n",
      "</div>"
     ]
    },
    {
     "cell_type": "heading",
     "level": 2,
     "metadata": {},
     "source": [
      "ROI and Artifact Statistics"
     ]
    },
    {
     "cell_type": "heading",
     "level": 3,
     "metadata": {},
     "source": [
      "ROI Sizes"
     ]
    },
    {
     "cell_type": "markdown",
     "metadata": {},
     "source": [
      "For each subject and ROI, load the mask file and count the number of voxels included in the mask."
     ]
    },
    {
     "cell_type": "code",
     "collapsed": false,
     "input": [
      "def dksort_roi_sizes():\n",
      "    roi_sizes = pd.DataFrame(columns=all_rois, index=subjects, dtype=float)\n",
      "    mask_template = \"../data/%s/masks/yeo17_%s.nii.gz\"\n",
      "    for roi in roi_sizes:\n",
      "        for subj in subjects:\n",
      "            vox_count = nib.load(mask_template % (subj, roi.lower())).get_data().sum()\n",
      "            roi_sizes.loc[subj, roi] = vox_count\n",
      "    return roi_sizes.describe().loc[[\"mean\", \"std\"]].astype(int)\n",
      "dksort_roi_sizes()"
     ],
     "language": "python",
     "metadata": {},
     "outputs": [
      {
       "html": [
        "<div style=\"max-height:1000px;max-width:1500px;overflow:auto;\">\n",
        "<table border=\"1\" class=\"dataframe\">\n",
        "  <thead>\n",
        "    <tr style=\"text-align: right;\">\n",
        "      <th>roi</th>\n",
        "      <th>IFS</th>\n",
        "      <th>aMFG</th>\n",
        "      <th>pMFG</th>\n",
        "      <th>FPC</th>\n",
        "      <th>IFG</th>\n",
        "      <th>aIns</th>\n",
        "      <th>pSFS</th>\n",
        "      <th>IPS</th>\n",
        "      <th>OTC</th>\n",
        "    </tr>\n",
        "  </thead>\n",
        "  <tbody>\n",
        "    <tr>\n",
        "      <th>mean</th>\n",
        "      <td> 626</td>\n",
        "      <td> 573</td>\n",
        "      <td> 468</td>\n",
        "      <td> 595</td>\n",
        "      <td> 534</td>\n",
        "      <td> 356</td>\n",
        "      <td> 277</td>\n",
        "      <td> 409</td>\n",
        "      <td> 1865</td>\n",
        "    </tr>\n",
        "    <tr>\n",
        "      <th>std</th>\n",
        "      <td>  83</td>\n",
        "      <td>  77</td>\n",
        "      <td>  68</td>\n",
        "      <td>  70</td>\n",
        "      <td>  63</td>\n",
        "      <td>  37</td>\n",
        "      <td>  61</td>\n",
        "      <td>  52</td>\n",
        "      <td>  218</td>\n",
        "    </tr>\n",
        "  </tbody>\n",
        "</table>\n",
        "</div>"
       ],
       "metadata": {},
       "output_type": "pyout",
       "prompt_number": 41,
       "text": [
        "roi   IFS  aMFG  pMFG  FPC  IFG  aIns  pSFS  IPS   OTC\n",
        "mean  626   573   468  595  534   356   277  409  1865\n",
        "std    83    77    68   70   63    37    61   52   218"
       ]
      }
     ],
     "prompt_number": 41
    },
    {
     "cell_type": "heading",
     "level": 3,
     "metadata": {},
     "source": [
      "Mean signal"
     ]
    },
    {
     "cell_type": "markdown",
     "metadata": {},
     "source": [
      "Now look at the mean signal across each ROI in the original (preprocessed) timecourse."
     ]
    },
    {
     "cell_type": "code",
     "collapsed": false,
     "input": [
      "def dksort_roi_signal():\n",
      "    roi_signal = pd.DataFrame(columns=all_rois, index=subjects, dtype=float)\n",
      "    for roi in all_rois:\n",
      "        signal = evoked.extract_group(\"yeo17_\" + roi.lower(), dv=dv4)\n",
      "        signal = [np.concatenate(d[\"data\"]).mean() for d in signal]\n",
      "        roi_signal[roi] = signal\n",
      "    return (roi_signal / 100).describe().loc[[\"mean\", \"std\"]]\n",
      "dksort_roi_signal()"
     ],
     "language": "python",
     "metadata": {},
     "outputs": [
      {
       "html": [
        "<div style=\"max-height:1000px;max-width:1500px;overflow:auto;\">\n",
        "<table border=\"1\" class=\"dataframe\">\n",
        "  <thead>\n",
        "    <tr style=\"text-align: right;\">\n",
        "      <th>roi</th>\n",
        "      <th>IFS</th>\n",
        "      <th>aMFG</th>\n",
        "      <th>pMFG</th>\n",
        "      <th>FPC</th>\n",
        "      <th>IFG</th>\n",
        "      <th>aIns</th>\n",
        "      <th>pSFS</th>\n",
        "      <th>IPS</th>\n",
        "      <th>OTC</th>\n",
        "    </tr>\n",
        "  </thead>\n",
        "  <tbody>\n",
        "    <tr>\n",
        "      <th>mean</th>\n",
        "      <td> 116.36</td>\n",
        "      <td> 118.42</td>\n",
        "      <td> 117.22</td>\n",
        "      <td> 101.45</td>\n",
        "      <td> 99.08</td>\n",
        "      <td> 117.86</td>\n",
        "      <td> 116.66</td>\n",
        "      <td> 138.02</td>\n",
        "      <td> 117.85</td>\n",
        "    </tr>\n",
        "    <tr>\n",
        "      <th>std</th>\n",
        "      <td>   2.51</td>\n",
        "      <td>   5.29</td>\n",
        "      <td>   4.75</td>\n",
        "      <td>   7.78</td>\n",
        "      <td>  6.01</td>\n",
        "      <td>   2.75</td>\n",
        "      <td>   3.80</td>\n",
        "      <td>   5.81</td>\n",
        "      <td>   5.37</td>\n",
        "    </tr>\n",
        "  </tbody>\n",
        "</table>\n",
        "</div>"
       ],
       "metadata": {},
       "output_type": "pyout",
       "prompt_number": 42,
       "text": [
        "roi      IFS    aMFG    pMFG     FPC    IFG    aIns    pSFS     IPS     OTC\n",
        "mean  116.36  118.42  117.22  101.45  99.08  117.86  116.66  138.02  117.85\n",
        "std     2.51    5.29    4.75    7.78   6.01    2.75    3.80    5.81    5.37"
       ]
      }
     ],
     "prompt_number": 42
    },
    {
     "cell_type": "heading",
     "level": 3,
     "metadata": {},
     "source": [
      "Functional Artifacts"
     ]
    },
    {
     "cell_type": "code",
     "collapsed": true,
     "input": [
      "def dksort_artifact_counts():\n",
      "    artifacts = []\n",
      "    for subj in subjects:\n",
      "        subj_artifacts = 0\n",
      "        for run in range(1, 5):\n",
      "            art = pd.read_csv(\"../analysis/dksort/%s/preproc/run_%d/artifacts.csv\" % (subj, run))\n",
      "            art = art.max(axis=1)\n",
      "            subj_artifacts += art.sum()\n",
      "        artifacts.append(subj_artifacts)\n",
      "    print \"Mean number of artifacts: %d\" % np.mean(artifacts)\n",
      "    print \"Percent artifact scans: %.1f%%\" % (np.mean(artifacts) / 2328 * 100)\n",
      "dksort_artifact_counts()"
     ],
     "language": "python",
     "metadata": {},
     "outputs": [
      {
       "output_type": "stream",
       "stream": "stdout",
       "text": [
        "Mean number of artifacts: 23\n",
        "Percent artifact scans: 1.0%\n"
       ]
      }
     ],
     "prompt_number": 43
    },
    {
     "cell_type": "heading",
     "level": 2,
     "metadata": {},
     "source": [
      "Context Decoding in Lateral Prefrontal Cortex"
     ]
    },
    {
     "cell_type": "markdown",
     "metadata": {},
     "source": [
      "Now we turn to the central fMRI analyses: multivariate decoding of task variables from voxel populations in our cortical ROIs."
     ]
    },
    {
     "cell_type": "heading",
     "level": 3,
     "metadata": {},
     "source": [
      "Decoding of Dimension Rules"
     ]
    },
    {
     "cell_type": "markdown",
     "metadata": {},
     "source": [
      "First try to decode the Dimension Rules -- that is, whether subjects should attend to the color, shape, or pattern of the multidimensional stimuli. We will fit separate models for each of the six prefrontal ROIs at each of six timepoints from one TR before stimulus onset (during which time there was an anticipatory cue that signlaed only an oncoming stimulus) through five TRs following stimulus onset.\n",
      "\n",
      "We defined a function above that does the heavy lifting on the analysis. We'll run that and then unpack the results over the next few cells."
     ]
    },
    {
     "cell_type": "code",
     "collapsed": false,
     "input": [
      "pfc_dimension = dksort_decode(pfc_rois, \"dimension\")"
     ],
     "language": "python",
     "metadata": {},
     "outputs": [],
     "prompt_number": 44
    },
    {
     "cell_type": "markdown",
     "metadata": {},
     "source": [
      "We calculate a t statistic for each region and timepoint by subtracting a shuffled chance estimate from each subject's accuracy and then using a randomization test against the null hypothesis that the group mean is 0. We then report the t statiatisc for the peak accuracy across time for each region, along with a p value that is corrected for multiple comparisons across time and region."
     ]
    },
    {
     "cell_type": "code",
     "collapsed": false,
     "input": [
      "pfc_dimension[\"ttest\"]"
     ],
     "language": "python",
     "metadata": {},
     "outputs": [
      {
       "html": [
        "<div style=\"max-height:1000px;max-width:1500px;overflow:auto;\">\n",
        "<table border=\"1\" class=\"dataframe\">\n",
        "  <thead>\n",
        "    <tr style=\"text-align: right;\">\n",
        "      <th></th>\n",
        "      <th>mu</th>\n",
        "      <th>sd</th>\n",
        "      <th>t</th>\n",
        "      <th>p</th>\n",
        "      <th>tp</th>\n",
        "    </tr>\n",
        "    <tr>\n",
        "      <th>ROI</th>\n",
        "      <th></th>\n",
        "      <th></th>\n",
        "      <th></th>\n",
        "      <th></th>\n",
        "      <th></th>\n",
        "    </tr>\n",
        "  </thead>\n",
        "  <tbody>\n",
        "    <tr>\n",
        "      <th>FPC</th>\n",
        "      <td> 0.36</td>\n",
        "      <td> 0.03</td>\n",
        "      <td> 3.31</td>\n",
        "      <td> 7.46e-02</td>\n",
        "      <td> 7</td>\n",
        "    </tr>\n",
        "    <tr>\n",
        "      <th>IFG</th>\n",
        "      <td> 0.36</td>\n",
        "      <td> 0.04</td>\n",
        "      <td> 2.44</td>\n",
        "      <td> 3.02e-01</td>\n",
        "      <td> 3</td>\n",
        "    </tr>\n",
        "    <tr>\n",
        "      <th>IFS</th>\n",
        "      <td> 0.46</td>\n",
        "      <td> 0.06</td>\n",
        "      <td> 7.95</td>\n",
        "      <td> 0.00e+00</td>\n",
        "      <td> 3</td>\n",
        "    </tr>\n",
        "    <tr>\n",
        "      <th>aIns</th>\n",
        "      <td> 0.37</td>\n",
        "      <td> 0.03</td>\n",
        "      <td> 4.48</td>\n",
        "      <td> 8.30e-03</td>\n",
        "      <td> 3</td>\n",
        "    </tr>\n",
        "    <tr>\n",
        "      <th>aMFG</th>\n",
        "      <td> 0.39</td>\n",
        "      <td> 0.04</td>\n",
        "      <td> 6.60</td>\n",
        "      <td> 6.00e-04</td>\n",
        "      <td> 5</td>\n",
        "    </tr>\n",
        "    <tr>\n",
        "      <th>pMFG</th>\n",
        "      <td> 0.38</td>\n",
        "      <td> 0.02</td>\n",
        "      <td> 8.69</td>\n",
        "      <td> 0.00e+00</td>\n",
        "      <td> 5</td>\n",
        "    </tr>\n",
        "    <tr>\n",
        "      <th>pSFS</th>\n",
        "      <td> 0.38</td>\n",
        "      <td> 0.03</td>\n",
        "      <td> 5.92</td>\n",
        "      <td> 8.00e-04</td>\n",
        "      <td> 5</td>\n",
        "    </tr>\n",
        "  </tbody>\n",
        "</table>\n",
        "</div>"
       ],
       "metadata": {},
       "output_type": "pyout",
       "prompt_number": 45,
       "text": [
        "        mu    sd     t         p  tp\n",
        "ROI                                 \n",
        "FPC   0.36  0.03  3.31  7.46e-02   7\n",
        "IFG   0.36  0.04  2.44  3.02e-01   3\n",
        "IFS   0.46  0.06  7.95  0.00e+00   3\n",
        "aIns  0.37  0.03  4.48  8.30e-03   3\n",
        "aMFG  0.39  0.04  6.60  6.00e-04   5\n",
        "pMFG  0.38  0.02  8.69  0.00e+00   5\n",
        "pSFS  0.38  0.03  5.92  8.00e-04   5"
       ]
      }
     ],
     "prompt_number": 45
    },
    {
     "cell_type": "markdown",
     "metadata": {},
     "source": [
      "We also use the shuffled null distribution to assess the significance of the individual subject decoding models. Report here how many subjects have at least one model over time for each region reach \"significance\", where signficiance is defined as p < 0.05, one-tailed, corrected for multiple comparisons either across regions and time or only across time."
     ]
    },
    {
     "cell_type": "code",
     "collapsed": false,
     "input": [
      "pfc_dimension[\"signif\"].groupby(level=\"correction\").apply(lambda x: (x > 95).sum())"
     ],
     "language": "python",
     "metadata": {},
     "outputs": [
      {
       "html": [
        "<div style=\"max-height:1000px;max-width:1500px;overflow:auto;\">\n",
        "<table border=\"1\" class=\"dataframe\">\n",
        "  <thead>\n",
        "    <tr style=\"text-align: right;\">\n",
        "      <th></th>\n",
        "      <th>IFS</th>\n",
        "      <th>aMFG</th>\n",
        "      <th>pMFG</th>\n",
        "      <th>FPC</th>\n",
        "      <th>IFG</th>\n",
        "      <th>aIns</th>\n",
        "      <th>pSFS</th>\n",
        "    </tr>\n",
        "    <tr>\n",
        "      <th>correction</th>\n",
        "      <th></th>\n",
        "      <th></th>\n",
        "      <th></th>\n",
        "      <th></th>\n",
        "      <th></th>\n",
        "      <th></th>\n",
        "      <th></th>\n",
        "    </tr>\n",
        "  </thead>\n",
        "  <tbody>\n",
        "    <tr>\n",
        "      <th>omni</th>\n",
        "      <td> 11</td>\n",
        "      <td> 2</td>\n",
        "      <td> 0</td>\n",
        "      <td> 3</td>\n",
        "      <td> 1</td>\n",
        "      <td> 1</td>\n",
        "      <td> 1</td>\n",
        "    </tr>\n",
        "    <tr>\n",
        "      <th>time</th>\n",
        "      <td> 13</td>\n",
        "      <td> 4</td>\n",
        "      <td> 6</td>\n",
        "      <td> 4</td>\n",
        "      <td> 4</td>\n",
        "      <td> 3</td>\n",
        "      <td> 4</td>\n",
        "    </tr>\n",
        "  </tbody>\n",
        "</table>\n",
        "</div>"
       ],
       "metadata": {},
       "output_type": "pyout",
       "prompt_number": 46,
       "text": [
        "            IFS  aMFG  pMFG  FPC  IFG  aIns  pSFS\n",
        "correction                                       \n",
        "omni         11     2     0    3    1     1     1\n",
        "time         13     4     6    4    4     3     4"
       ]
      }
     ],
     "prompt_number": 46
    },
    {
     "cell_type": "markdown",
     "metadata": {},
     "source": [
      "Now plot the main decoding figure for the PFC ROIs and the Dimension Rules."
     ]
    },
    {
     "cell_type": "markdown",
     "metadata": {},
     "source": [
      "Perform a paired T-test on the \"peak\" decoding accuracy between each PFC region. Use a Bonferroni correction on the P values for the 15-way comparisons.\n",
      "\n",
      "We don't actually use this figure, but the function presents a nice table. (And the plot is fairly striking -- perhaps we could stick it in the supplement but I think the point has mostly been made by the time we get here)."
     ]
    },
    {
     "cell_type": "code",
     "collapsed": false,
     "input": [
      "def dksort_pfc_paired_ttests():\n",
      "    pfc_paired_t = pd.DataFrame(index=pfc_rois, columns=pfc_rois, dtype=float)\n",
      "    pfc_paired_p = pd.DataFrame(index=pfc_rois, columns=pfc_rois, dtype=float)\n",
      "    for roi_i, roi_j in itertools.product(pfc_rois, pfc_rois):\n",
      "        peak_i = pfc_dimension[\"peak\"][roi_i]\n",
      "        peak_j = pfc_dimension[\"peak\"][roi_j]\n",
      "        t, p = stats.ttest_rel(peak_i, peak_j)\n",
      "        pfc_paired_t.loc[roi_i, roi_j] = t\n",
      "        pfc_paired_p.loc[roi_i, roi_j] = p\n",
      "    pfc_paired_p *= 15\n",
      "    sns.symmatplot(pfc_paired_t.values, pfc_paired_p.values,\n",
      "                   names=pfc_rois, cmap=\"RdPu_r\", cmap_range=(-10, 0))\n",
      "    plt.grid(lw=2.5)\n",
      "\n",
      "dksort_pfc_paired_ttests()"
     ],
     "language": "python",
     "metadata": {},
     "outputs": [
      {
       "metadata": {},
       "output_type": "display_data",
       "png": "[encoded data removed]",
       "text": [
        "<matplotlib.figure.Figure at 0x12d656910>"
       ]
      }
     ],
     "prompt_number": 94
    },
    {
     "cell_type": "heading",
     "level": 4,
     "metadata": {},
     "source": [
      "Other Dimension ROI Definitions"
     ]
    },
    {
     "cell_type": "markdown",
     "metadata": {},
     "source": [
      "The next set of analyses support the localization claims about dimension context representation in the IFS. This is a bit of a hodepodge, but we a) break up the IFS two ways (lateralization and anterior/posterior division), b) test the IFS against an agglomerative region with all PFC ROIs together, and c) test decoding after averaging the IFS signal across the voxels.\n",
      "\n",
      "We do all of these analyses on the \"peak\" data, which averages the BOLD data between the 3s and 5s timepoints before fitting the decoding models."
     ]
    },
    {
     "cell_type": "code",
     "collapsed": false,
     "input": [
      "def dksort_peak_decode(problem, rois, masks, comparison):\n",
      "    rois = pd.Series(rois, name=\"ROI\")\n",
      "    accs = pd.DataFrame(columns=rois, index=subjects, dtype=np.float)\n",
      "    ttest = pd.DataFrame(columns=rois, index=[\"t\", \"p\"],  dtype=np.float)\n",
      "    for roi, mask in zip(rois, masks):\n",
      "        ds = mvpa.extract_group(problem, roi, mask, frames, peak, \"rt\", dv=dv4)\n",
      "        roi_accs = mvpa.decode_group(ds, model, dv=dv).squeeze()\n",
      "        accs[roi] = roi_accs\n",
      "        ttest[roi] = stats.ttest_rel(roi_accs, comparison)\n",
      "    return dict(accs=accs, ttest=ttest, descrip=accs.describe())"
     ],
     "language": "python",
     "metadata": {},
     "outputs": [],
     "prompt_number": 48
    },
    {
     "cell_type": "code",
     "collapsed": false,
     "input": [
      "ifs_subrois = dksort_peak_decode(\"dimension\", other_rois, other_masks, pfc_dimension[\"peak\"][\"IFS\"])"
     ],
     "language": "python",
     "metadata": {},
     "outputs": [],
     "prompt_number": 49
    },
    {
     "cell_type": "code",
     "collapsed": false,
     "input": [
      "def dksort_ifs_mean_decode():\n",
      "    mean_ds = mvpa.extract_group(\"dimension\", \"IFS\", \"yeo17_ifs\", frames, peak, \"rt\")\n",
      "\n",
      "    for ds in mean_ds:\n",
      "        ds[\"X\"] = ds[\"X\"].mean(axis=1).reshape(-1, 1)\n",
      "        ds[\"roi_name\"] = \"IFS_mean\"\n",
      "        \n",
      "    accs = mvpa.decode_group(mean_ds, model, dv=dv).squeeze()\n",
      "    null = mvpa.classifier_permutations(mean_ds, model, n_shuffle,\n",
      "                                        random_seed=shuffle_seed, dv=dv).squeeze()\n",
      "    thresh = moss.percentiles(null, 95, axis=1)\n",
      "    \n",
      "    ifs_subrois[\"accs\"][\"IFS_mean\"] = accs\n",
      "    ifs_subrois[\"ttest\"][\"IFS_mean\"] = stats.ttest_rel(accs, pfc_dimension[\"peak\"][\"IFS\"])\n",
      "    \n",
      "    return dict(accs=accs, null=null, thresh=thresh)\n",
      "\n",
      "ifs_mean = dksort_ifs_mean_decode()"
     ],
     "language": "python",
     "metadata": {},
     "outputs": [],
     "prompt_number": 50
    },
    {
     "cell_type": "markdown",
     "metadata": {},
     "source": [
      "Look at the summary statistics for these ROIs across subjects."
     ]
    },
    {
     "cell_type": "code",
     "collapsed": false,
     "input": [
      "ifs_subrois[\"accs\"].describe().T"
     ],
     "language": "python",
     "metadata": {},
     "outputs": [
      {
       "html": [
        "<div style=\"max-height:1000px;max-width:1500px;overflow:auto;\">\n",
        "<table border=\"1\" class=\"dataframe\">\n",
        "  <thead>\n",
        "    <tr style=\"text-align: right;\">\n",
        "      <th></th>\n",
        "      <th>count</th>\n",
        "      <th>mean</th>\n",
        "      <th>std</th>\n",
        "      <th>min</th>\n",
        "      <th>25%</th>\n",
        "      <th>50%</th>\n",
        "      <th>75%</th>\n",
        "      <th>max</th>\n",
        "    </tr>\n",
        "    <tr>\n",
        "      <th>ROI</th>\n",
        "      <th></th>\n",
        "      <th></th>\n",
        "      <th></th>\n",
        "      <th></th>\n",
        "      <th></th>\n",
        "      <th></th>\n",
        "      <th></th>\n",
        "      <th></th>\n",
        "    </tr>\n",
        "  </thead>\n",
        "  <tbody>\n",
        "    <tr>\n",
        "      <th>lh-IFS</th>\n",
        "      <td> 15</td>\n",
        "      <td> 0.45</td>\n",
        "      <td> 0.05</td>\n",
        "      <td> 0.37</td>\n",
        "      <td> 0.41</td>\n",
        "      <td> 0.43</td>\n",
        "      <td> 0.48</td>\n",
        "      <td> 0.57</td>\n",
        "    </tr>\n",
        "    <tr>\n",
        "      <th>rh-IFS</th>\n",
        "      <td> 15</td>\n",
        "      <td> 0.44</td>\n",
        "      <td> 0.05</td>\n",
        "      <td> 0.38</td>\n",
        "      <td> 0.39</td>\n",
        "      <td> 0.45</td>\n",
        "      <td> 0.48</td>\n",
        "      <td> 0.52</td>\n",
        "    </tr>\n",
        "    <tr>\n",
        "      <th>aIFS</th>\n",
        "      <td> 15</td>\n",
        "      <td> 0.45</td>\n",
        "      <td> 0.06</td>\n",
        "      <td> 0.35</td>\n",
        "      <td> 0.40</td>\n",
        "      <td> 0.45</td>\n",
        "      <td> 0.50</td>\n",
        "      <td> 0.55</td>\n",
        "    </tr>\n",
        "    <tr>\n",
        "      <th>pIFS</th>\n",
        "      <td> 15</td>\n",
        "      <td> 0.45</td>\n",
        "      <td> 0.04</td>\n",
        "      <td> 0.39</td>\n",
        "      <td> 0.43</td>\n",
        "      <td> 0.45</td>\n",
        "      <td> 0.47</td>\n",
        "      <td> 0.53</td>\n",
        "    </tr>\n",
        "    <tr>\n",
        "      <th>AllROIs</th>\n",
        "      <td> 15</td>\n",
        "      <td> 0.44</td>\n",
        "      <td> 0.05</td>\n",
        "      <td> 0.36</td>\n",
        "      <td> 0.40</td>\n",
        "      <td> 0.44</td>\n",
        "      <td> 0.47</td>\n",
        "      <td> 0.54</td>\n",
        "    </tr>\n",
        "    <tr>\n",
        "      <th>IFS_mean</th>\n",
        "      <td> 15</td>\n",
        "      <td> 0.35</td>\n",
        "      <td> 0.03</td>\n",
        "      <td> 0.30</td>\n",
        "      <td> 0.32</td>\n",
        "      <td> 0.36</td>\n",
        "      <td> 0.37</td>\n",
        "      <td> 0.39</td>\n",
        "    </tr>\n",
        "  </tbody>\n",
        "</table>\n",
        "</div>"
       ],
       "metadata": {},
       "output_type": "pyout",
       "prompt_number": 51,
       "text": [
        "          count  mean   std   min   25%   50%   75%   max\n",
        "ROI                                                      \n",
        "lh-IFS       15  0.45  0.05  0.37  0.41  0.43  0.48  0.57\n",
        "rh-IFS       15  0.44  0.05  0.38  0.39  0.45  0.48  0.52\n",
        "aIFS         15  0.45  0.06  0.35  0.40  0.45  0.50  0.55\n",
        "pIFS         15  0.45  0.04  0.39  0.43  0.45  0.47  0.53\n",
        "AllROIs      15  0.44  0.05  0.36  0.40  0.44  0.47  0.54\n",
        "IFS_mean     15  0.35  0.03  0.30  0.32  0.36  0.37  0.39"
       ]
      }
     ],
     "prompt_number": 51
    },
    {
     "cell_type": "code",
     "collapsed": false,
     "input": [
      "ifs_subrois[\"accs\"].apply(lambda d: pd.Series(moss.ci(moss.bootstrap(d), 95), index=[2.5, 97.5]), axis=0)"
     ],
     "language": "python",
     "metadata": {},
     "outputs": [
      {
       "html": [
        "<div style=\"max-height:1000px;max-width:1500px;overflow:auto;\">\n",
        "<table border=\"1\" class=\"dataframe\">\n",
        "  <thead>\n",
        "    <tr style=\"text-align: right;\">\n",
        "      <th>ROI</th>\n",
        "      <th>lh-IFS</th>\n",
        "      <th>rh-IFS</th>\n",
        "      <th>aIFS</th>\n",
        "      <th>pIFS</th>\n",
        "      <th>AllROIs</th>\n",
        "      <th>IFS_mean</th>\n",
        "    </tr>\n",
        "  </thead>\n",
        "  <tbody>\n",
        "    <tr>\n",
        "      <th>2.5 </th>\n",
        "      <td> 0.42</td>\n",
        "      <td> 0.42</td>\n",
        "      <td> 0.42</td>\n",
        "      <td> 0.43</td>\n",
        "      <td> 0.41</td>\n",
        "      <td> 0.34</td>\n",
        "    </tr>\n",
        "    <tr>\n",
        "      <th>97.5</th>\n",
        "      <td> 0.47</td>\n",
        "      <td> 0.47</td>\n",
        "      <td> 0.48</td>\n",
        "      <td> 0.47</td>\n",
        "      <td> 0.46</td>\n",
        "      <td> 0.36</td>\n",
        "    </tr>\n",
        "  </tbody>\n",
        "</table>\n",
        "</div>"
       ],
       "metadata": {},
       "output_type": "pyout",
       "prompt_number": 52,
       "text": [
        "ROI   lh-IFS  rh-IFS  aIFS  pIFS  AllROIs  IFS_mean\n",
        "2.5     0.42    0.42  0.42  0.43     0.41      0.34\n",
        "97.5    0.47    0.47  0.48  0.47     0.46      0.36"
       ]
      }
     ],
     "prompt_number": 52
    },
    {
     "cell_type": "markdown",
     "metadata": {},
     "source": [
      "Look at the paired T test for each \"other\" ROI against the original IFS data."
     ]
    },
    {
     "cell_type": "code",
     "collapsed": false,
     "input": [
      "ifs_subrois[\"ttest\"].T"
     ],
     "language": "python",
     "metadata": {},
     "outputs": [
      {
       "html": [
        "<div style=\"max-height:1000px;max-width:1500px;overflow:auto;\">\n",
        "<table border=\"1\" class=\"dataframe\">\n",
        "  <thead>\n",
        "    <tr style=\"text-align: right;\">\n",
        "      <th></th>\n",
        "      <th>t</th>\n",
        "      <th>p</th>\n",
        "    </tr>\n",
        "    <tr>\n",
        "      <th>ROI</th>\n",
        "      <th></th>\n",
        "      <th></th>\n",
        "    </tr>\n",
        "  </thead>\n",
        "  <tbody>\n",
        "    <tr>\n",
        "      <th>lh-IFS</th>\n",
        "      <td>-4.25</td>\n",
        "      <td> 8.11e-04</td>\n",
        "    </tr>\n",
        "    <tr>\n",
        "      <th>rh-IFS</th>\n",
        "      <td>-5.31</td>\n",
        "      <td> 1.10e-04</td>\n",
        "    </tr>\n",
        "    <tr>\n",
        "      <th>aIFS</th>\n",
        "      <td>-3.82</td>\n",
        "      <td> 1.87e-03</td>\n",
        "    </tr>\n",
        "    <tr>\n",
        "      <th>pIFS</th>\n",
        "      <td>-4.14</td>\n",
        "      <td> 1.01e-03</td>\n",
        "    </tr>\n",
        "    <tr>\n",
        "      <th>AllROIs</th>\n",
        "      <td>-4.71</td>\n",
        "      <td> 3.33e-04</td>\n",
        "    </tr>\n",
        "    <tr>\n",
        "      <th>IFS_mean</th>\n",
        "      <td>-9.24</td>\n",
        "      <td> 2.46e-07</td>\n",
        "    </tr>\n",
        "  </tbody>\n",
        "</table>\n",
        "</div>"
       ],
       "metadata": {},
       "output_type": "pyout",
       "prompt_number": 53,
       "text": [
        "             t         p\n",
        "ROI                     \n",
        "lh-IFS   -4.25  8.11e-04\n",
        "rh-IFS   -5.31  1.10e-04\n",
        "aIFS     -3.82  1.87e-03\n",
        "pIFS     -4.14  1.01e-03\n",
        "AllROIs  -4.71  3.33e-04\n",
        "IFS_mean -9.24  2.46e-07"
       ]
      }
     ],
     "prompt_number": 53
    },
    {
     "cell_type": "code",
     "collapsed": false,
     "input": [
      "def dksort_figure_4():\n",
      "    f = plt.figure(figsize=(4.48, 5.5))\n",
      "    \n",
      "    ax_ts = f.add_axes([.12, .53, .86, .45])\n",
      "    dksort_timecourse_figure(ax_ts, pfc_dimension, (.32, .48, 5))\n",
      "    \n",
      "    ax_sig = f.add_axes([.12, .07, .34, .35])\n",
      "    dksort_significance_figure(ax_sig, pfc_dimension[\"signif\"])\n",
      "    \n",
      "    ax_pfc_peak = f.add_axes([.59, .07, .22, .35])\n",
      "    dksort_point_figure(ax_pfc_peak, pfc_dimension[\"peak\"], .33, (.32, .5, 7), True)\n",
      "    \n",
      "    ax_sub_peak = f.add_axes([.86, .07, .12, .35])\n",
      "    dksort_point_figure(ax_sub_peak, ifs_subrois[\"accs\"].filter(regex=\"IFS$\"), .33, (.32, .5, 7), False)\n",
      "    \n",
      "    f.text(.01, .97, \"A\", size=12)\n",
      "    f.text(.01, .42, \"B\", size=12)\n",
      "    f.text(.48, .42, \"C\", size=12)\n",
      "    f.text(.825, .42, \"D\", size=12)\n",
      "    \n",
      "    save_figure(f, \"figure_4\")\n",
      "\n",
      "dksort_figure_4()"
     ],
     "language": "python",
     "metadata": {},
     "outputs": [
      {
       "metadata": {},
       "output_type": "display_data",
       "png": "[encoded data removed]",
       "text": [
        "<matplotlib.figure.Figure at 0x10cdf4ad0>"
       ]
      }
     ],
     "prompt_number": 54
    },
    {
     "cell_type": "markdown",
     "metadata": {},
     "source": [
      "Directly test for laterality."
     ]
    },
    {
     "cell_type": "code",
     "collapsed": false,
     "input": [
      "def dksort_ifs_lateralization_test():\n",
      "    diff = ifs_subrois[\"accs\"][\"lh-IFS\"] - ifs_subrois[\"accs\"][\"rh-IFS\"]\n",
      "    low, high = moss.ci(moss.bootstrap(diff), 95)\n",
      "    t, p = stats.ttest_1samp(diff, 0)\n",
      "    args = (diff.mean(), low, high, t, p)\n",
      "    print \"Test for laterality: mean difference = %.3f; 95%% CI: %.3f, %.3f, t = %.2f; p = %.3g \" % args\n",
      "\n",
      "dksort_ifs_lateralization_test()"
     ],
     "language": "python",
     "metadata": {},
     "outputs": [
      {
       "output_type": "stream",
       "stream": "stdout",
       "text": [
        "Test for laterality: mean difference = 0.004; 95% CI: -0.022, 0.028, t = 0.29; p = 0.775 \n"
       ]
      }
     ],
     "prompt_number": 55
    },
    {
     "cell_type": "markdown",
     "metadata": {},
     "source": [
      "Directly test for a rostro-caudal difference in decoding performance."
     ]
    },
    {
     "cell_type": "code",
     "collapsed": false,
     "input": [
      "def dksort_ifs_rostral_test():\n",
      "    diff = ifs_subrois[\"accs\"][\"aIFS\"] - ifs_subrois[\"accs\"][\"pIFS\"]\n",
      "    low, high = moss.ci(moss.bootstrap(diff), 95)\n",
      "    t, p = stats.ttest_1samp(diff, 0)\n",
      "    print \"Test for rosto-caudal organization: mean difference = %.3f; \" % diff.mean(),\n",
      "    print \"95%% CI: %.3f, %.3f, t = %.2f; p = %.3g \" % (low, high, t, p)\n",
      "\n",
      "dksort_ifs_rostral_test()"
     ],
     "language": "python",
     "metadata": {},
     "outputs": [
      {
       "output_type": "stream",
       "stream": "stdout",
       "text": [
        "Test for rosto-caudal organization: mean difference = 0.002;  95% CI: -0.022, 0.024, t = 0.13; p = 0.896 \n"
       ]
      }
     ],
     "prompt_number": 56
    },
    {
     "cell_type": "markdown",
     "metadata": {},
     "source": [
      "Test the reduced dimensionality dataset against chance."
     ]
    },
    {
     "cell_type": "code",
     "collapsed": false,
     "input": [
      "def dksort_ifs_mean_test():\n",
      "    low, high = moss.ci(moss.bootstrap(ifs_mean[\"accs\"]), 95)\n",
      "    chance = ifs_mean[\"null\"].mean()\n",
      "    delta = ifs_mean[\"accs\"] - chance\n",
      "    t, p = moss.randomize_onesample(delta)\n",
      "    signif = ifs_mean[\"accs\"] > ifs_mean[\"thresh\"]\n",
      "        \n",
      "    print \"IFS_Mean ROI:\"\n",
      "    print \"  mean accuracy = %.3f; 95%% CI: %.3f, %.3f;\" % (ifs_mean[\"accs\"].mean(), low, high),\n",
      "    print \"chance = %.3f; t = %.2f; p = %.3g \" % (chance, t, p)\n",
      "    print \"  %d/15 significant IFS_Mean models\" % signif.sum()\n",
      "    \n",
      "dksort_ifs_mean_test()"
     ],
     "language": "python",
     "metadata": {},
     "outputs": [
      {
       "output_type": "stream",
       "stream": "stdout",
       "text": [
        "IFS_Mean ROI:\n",
        "  mean accuracy = 0.350; 95% CI: 0.335, 0.364; chance = 0.339; t = 1.52; p = 0.0784 \n",
        "  2/15 significant IFS_Mean models\n"
       ]
      }
     ],
     "prompt_number": 57
    },
    {
     "cell_type": "heading",
     "level": 4,
     "metadata": {},
     "source": [
      "Dimension Decoding During Cue Period"
     ]
    },
    {
     "cell_type": "markdown",
     "metadata": {},
     "source": [
      "Now test whether we can decode the Dimension Rules during the cue period. This is both a) possibly interesting on its own and b) serves as a control against certain interpretations of our main results."
     ]
    },
    {
     "cell_type": "code",
     "collapsed": true,
     "input": [
      "pfc_cue = dksort_decode([\"IFS\"], \"dimension_cue\")"
     ],
     "language": "python",
     "metadata": {},
     "outputs": [],
     "prompt_number": 58
    },
    {
     "cell_type": "markdown",
     "metadata": {},
     "source": [
      "Take the mean accuracy across subjects and look at the maximum over time."
     ]
    },
    {
     "cell_type": "code",
     "collapsed": false,
     "input": [
      "def dksort_cue_test():\n",
      "    accs = pfc_cue[\"accs\"].mean(axis=0)\n",
      "    peak_tp = np.argmax(accs)\n",
      "    max_accs = pfc_cue[\"accs\"].values[:, peak_tp]\n",
      "    low, high = moss.ci(moss.bootstrap(max_accs), 95)\n",
      "    peak_time = pfc_cue[\"accs\"].columns[peak_tp]\n",
      "    args = max_accs.mean(), peak_time, low, high\n",
      "    print \"Max accuracy: %.3f at %ds; 95%% CI: %.3f, %.3f\" % args\n",
      "\n",
      "dksort_cue_test()"
     ],
     "language": "python",
     "metadata": {},
     "outputs": [
      {
       "output_type": "stream",
       "stream": "stdout",
       "text": [
        "Max accuracy: 0.363 at 5s; 95% CI: 0.338, 0.390\n"
       ]
      }
     ],
     "prompt_number": 59
    },
    {
     "cell_type": "markdown",
     "metadata": {},
     "source": [
      "Now look at the maximum t statistic across time. The p value is corrected for multiple comparisons, here just across time."
     ]
    },
    {
     "cell_type": "code",
     "collapsed": false,
     "input": [
      "pfc_cue[\"ttest\"]"
     ],
     "language": "python",
     "metadata": {},
     "outputs": [
      {
       "html": [
        "<div style=\"max-height:1000px;max-width:1500px;overflow:auto;\">\n",
        "<table border=\"1\" class=\"dataframe\">\n",
        "  <thead>\n",
        "    <tr style=\"text-align: right;\">\n",
        "      <th></th>\n",
        "      <th>mu</th>\n",
        "      <th>sd</th>\n",
        "      <th>t</th>\n",
        "      <th>p</th>\n",
        "      <th>tp</th>\n",
        "    </tr>\n",
        "    <tr>\n",
        "      <th>ROI</th>\n",
        "      <th></th>\n",
        "      <th></th>\n",
        "      <th></th>\n",
        "      <th></th>\n",
        "      <th></th>\n",
        "    </tr>\n",
        "  </thead>\n",
        "  <tbody>\n",
        "    <tr>\n",
        "      <th>IFS</th>\n",
        "      <td> 0.36</td>\n",
        "      <td> 0.05</td>\n",
        "      <td> 2.12</td>\n",
        "      <td> 0.13</td>\n",
        "      <td> 5</td>\n",
        "    </tr>\n",
        "  </tbody>\n",
        "</table>\n",
        "</div>"
       ],
       "metadata": {},
       "output_type": "pyout",
       "prompt_number": 60,
       "text": [
        "       mu    sd     t     p  tp\n",
        "ROI                            \n",
        "IFS  0.36  0.05  2.12  0.13   5"
       ]
      }
     ],
     "prompt_number": 60
    },
    {
     "cell_type": "heading",
     "level": 3,
     "metadata": {},
     "source": [
      "Decoding of Decision Rules"
     ]
    },
    {
     "cell_type": "markdown",
     "metadata": {},
     "source": [
      "Next we turn to the Decision Rules (i.e. whether \"yes\" means \"same\" or \"different\"). We just repeat the main steps from above. First load up all the data and do the heavy lifting on the analysis side of things."
     ]
    },
    {
     "cell_type": "code",
     "collapsed": false,
     "input": [
      "pfc_decision = dksort_decode(pfc_rois, \"decision\")"
     ],
     "language": "python",
     "metadata": {},
     "outputs": [],
     "prompt_number": 61
    },
    {
     "cell_type": "markdown",
     "metadata": {},
     "source": [
      "Print the results of the group t test against chance."
     ]
    },
    {
     "cell_type": "code",
     "collapsed": false,
     "input": [
      "pfc_decision[\"ttest\"]"
     ],
     "language": "python",
     "metadata": {},
     "outputs": [
      {
       "html": [
        "<div style=\"max-height:1000px;max-width:1500px;overflow:auto;\">\n",
        "<table border=\"1\" class=\"dataframe\">\n",
        "  <thead>\n",
        "    <tr style=\"text-align: right;\">\n",
        "      <th></th>\n",
        "      <th>mu</th>\n",
        "      <th>sd</th>\n",
        "      <th>t</th>\n",
        "      <th>p</th>\n",
        "      <th>tp</th>\n",
        "    </tr>\n",
        "    <tr>\n",
        "      <th>ROI</th>\n",
        "      <th></th>\n",
        "      <th></th>\n",
        "      <th></th>\n",
        "      <th></th>\n",
        "      <th></th>\n",
        "    </tr>\n",
        "  </thead>\n",
        "  <tbody>\n",
        "    <tr>\n",
        "      <th>FPC</th>\n",
        "      <td> 0.49</td>\n",
        "      <td> 0.06</td>\n",
        "      <td>-0.97</td>\n",
        "      <td> 1.00</td>\n",
        "      <td> 1</td>\n",
        "    </tr>\n",
        "    <tr>\n",
        "      <th>IFG</th>\n",
        "      <td> 0.48</td>\n",
        "      <td> 0.06</td>\n",
        "      <td>-1.45</td>\n",
        "      <td> 1.00</td>\n",
        "      <td> 1</td>\n",
        "    </tr>\n",
        "    <tr>\n",
        "      <th>IFS</th>\n",
        "      <td> 0.51</td>\n",
        "      <td> 0.06</td>\n",
        "      <td> 0.40</td>\n",
        "      <td> 0.93</td>\n",
        "      <td> 5</td>\n",
        "    </tr>\n",
        "    <tr>\n",
        "      <th>aIns</th>\n",
        "      <td> 0.50</td>\n",
        "      <td> 0.05</td>\n",
        "      <td> 0.24</td>\n",
        "      <td> 0.96</td>\n",
        "      <td>-1</td>\n",
        "    </tr>\n",
        "    <tr>\n",
        "      <th>aMFG</th>\n",
        "      <td> 0.50</td>\n",
        "      <td> 0.06</td>\n",
        "      <td>-0.32</td>\n",
        "      <td> 1.00</td>\n",
        "      <td> 5</td>\n",
        "    </tr>\n",
        "    <tr>\n",
        "      <th>pMFG</th>\n",
        "      <td> 0.50</td>\n",
        "      <td> 0.05</td>\n",
        "      <td> 0.11</td>\n",
        "      <td> 0.97</td>\n",
        "      <td> 5</td>\n",
        "    </tr>\n",
        "    <tr>\n",
        "      <th>pSFS</th>\n",
        "      <td> 0.50</td>\n",
        "      <td> 0.03</td>\n",
        "      <td>-0.02</td>\n",
        "      <td> 0.98</td>\n",
        "      <td> 3</td>\n",
        "    </tr>\n",
        "  </tbody>\n",
        "</table>\n",
        "</div>"
       ],
       "metadata": {},
       "output_type": "pyout",
       "prompt_number": 62,
       "text": [
        "        mu    sd     t     p  tp\n",
        "ROI                             \n",
        "FPC   0.49  0.06 -0.97  1.00   1\n",
        "IFG   0.48  0.06 -1.45  1.00   1\n",
        "IFS   0.51  0.06  0.40  0.93   5\n",
        "aIns  0.50  0.05  0.24  0.96  -1\n",
        "aMFG  0.50  0.06 -0.32  1.00   5\n",
        "pMFG  0.50  0.05  0.11  0.97   5\n",
        "pSFS  0.50  0.03 -0.02  0.98   3"
       ]
      }
     ],
     "prompt_number": 62
    },
    {
     "cell_type": "markdown",
     "metadata": {},
     "source": [
      "Now also look at whether any individual models were significant."
     ]
    },
    {
     "cell_type": "code",
     "collapsed": false,
     "input": [
      "pfc_decision[\"signif\"].groupby(level=\"correction\").apply(lambda x: (x > 95).sum())"
     ],
     "language": "python",
     "metadata": {},
     "outputs": [
      {
       "html": [
        "<div style=\"max-height:1000px;max-width:1500px;overflow:auto;\">\n",
        "<table border=\"1\" class=\"dataframe\">\n",
        "  <thead>\n",
        "    <tr style=\"text-align: right;\">\n",
        "      <th></th>\n",
        "      <th>IFS</th>\n",
        "      <th>aMFG</th>\n",
        "      <th>pMFG</th>\n",
        "      <th>FPC</th>\n",
        "      <th>IFG</th>\n",
        "      <th>aIns</th>\n",
        "      <th>pSFS</th>\n",
        "    </tr>\n",
        "    <tr>\n",
        "      <th>correction</th>\n",
        "      <th></th>\n",
        "      <th></th>\n",
        "      <th></th>\n",
        "      <th></th>\n",
        "      <th></th>\n",
        "      <th></th>\n",
        "      <th></th>\n",
        "    </tr>\n",
        "  </thead>\n",
        "  <tbody>\n",
        "    <tr>\n",
        "      <th>omni</th>\n",
        "      <td> 1</td>\n",
        "      <td> 0</td>\n",
        "      <td> 0</td>\n",
        "      <td> 0</td>\n",
        "      <td> 0</td>\n",
        "      <td> 1</td>\n",
        "      <td> 0</td>\n",
        "    </tr>\n",
        "    <tr>\n",
        "      <th>time</th>\n",
        "      <td> 3</td>\n",
        "      <td> 1</td>\n",
        "      <td> 1</td>\n",
        "      <td> 0</td>\n",
        "      <td> 0</td>\n",
        "      <td> 4</td>\n",
        "      <td> 1</td>\n",
        "    </tr>\n",
        "  </tbody>\n",
        "</table>\n",
        "</div>"
       ],
       "metadata": {},
       "output_type": "pyout",
       "prompt_number": 63,
       "text": [
        "            IFS  aMFG  pMFG  FPC  IFG  aIns  pSFS\n",
        "correction                                       \n",
        "omni          1     0     0    0    0     1     0\n",
        "time          3     1     1    0    0     4     1"
       ]
      }
     ],
     "prompt_number": 63
    },
    {
     "cell_type": "code",
     "collapsed": false,
     "input": [
      "other_decision = dksort_peak_decode(\"decision\", other_rois, other_masks, pfc_decision[\"peak\"][\"IFS\"])"
     ],
     "language": "python",
     "metadata": {},
     "outputs": [],
     "prompt_number": 64
    },
    {
     "cell_type": "code",
     "collapsed": false,
     "input": [
      "def dksort_figure_5():\n",
      "    f = plt.figure(figsize=(4.48, 5.5))\n",
      "\n",
      "    ax_ts = f.add_axes([.12, .53, .86, .45])\n",
      "    dksort_timecourse_figure(ax_ts, pfc_decision, (.43, .67, 7))\n",
      "\n",
      "    ax_sig = f.add_axes([.12, .07, .34, .35])\n",
      "    dksort_significance_figure(ax_sig, pfc_decision[\"signif\"])\n",
      "\n",
      "    ax_pfc_peak = f.add_axes([.59, .07, .22, .35])\n",
      "    dksort_point_figure(ax_pfc_peak, pfc_decision[\"peak\"], .5, (.43, .67, 7), True)\n",
      "\n",
      "    ax_sub_peak = f.add_axes([.86, .07, .12, .35])\n",
      "    dksort_point_figure(ax_sub_peak, other_decision[\"accs\"].filter(regex=\"IFS$\"), .5, (.43, .67, 7), False)\n",
      "\n",
      "    f.text(.01, .97, \"A\", size=12)\n",
      "    f.text(.01, .42, \"B\", size=12)\n",
      "    f.text(.48, .42, \"C\", size=12)\n",
      "    f.text(.825, .42, \"D\", size=12)\n",
      "\n",
      "    save_figure(f, \"figure_5\")\n",
      "\n",
      "dksort_figure_5()"
     ],
     "language": "python",
     "metadata": {},
     "outputs": [
      {
       "metadata": {},
       "output_type": "display_data",
       "png": "[encoded data removed]",
       "text": [
        "<matplotlib.figure.Figure at 0x10bd73850>"
       ]
      }
     ],
     "prompt_number": 65
    },
    {
     "cell_type": "heading",
     "level": 2,
     "metadata": {},
     "source": [
      "Decoding in Posterior Cortex"
     ]
    },
    {
     "cell_type": "markdown",
     "metadata": {},
     "source": [
      "We now return to the Dimension rules and build decoding models to predict these rules from patterns in posterior cortex ROIS (specifically IPS and OTC). We'll carry forward the IFS ROI as we are interested in how the profile of information in this region is similar or different to the other regions. Lacking a good name for this collection of ROIs, we'll call them `net` as they form a sort of goal-directed attention network."
     ]
    },
    {
     "cell_type": "heading",
     "level": 3,
     "metadata": {},
     "source": [
      "Spatiotemporal Decoding in IPS and Visual Cortex"
     ]
    },
    {
     "cell_type": "code",
     "collapsed": true,
     "input": [
      "net_dimension = dksort_decode(net_rois, \"dimension\")"
     ],
     "language": "python",
     "metadata": {},
     "outputs": [],
     "prompt_number": 66
    },
    {
     "cell_type": "code",
     "collapsed": false,
     "input": [
      "net_dimension[\"signif\"].groupby(level=\"correction\").apply(lambda x: (x > 95).sum())"
     ],
     "language": "python",
     "metadata": {},
     "outputs": [
      {
       "html": [
        "<div style=\"max-height:1000px;max-width:1500px;overflow:auto;\">\n",
        "<table border=\"1\" class=\"dataframe\">\n",
        "  <thead>\n",
        "    <tr style=\"text-align: right;\">\n",
        "      <th></th>\n",
        "      <th>IFS</th>\n",
        "      <th>IPS</th>\n",
        "      <th>OTC</th>\n",
        "    </tr>\n",
        "    <tr>\n",
        "      <th>correction</th>\n",
        "      <th></th>\n",
        "      <th></th>\n",
        "      <th></th>\n",
        "    </tr>\n",
        "  </thead>\n",
        "  <tbody>\n",
        "    <tr>\n",
        "      <th>omni</th>\n",
        "      <td> 11</td>\n",
        "      <td> 15</td>\n",
        "      <td> 15</td>\n",
        "    </tr>\n",
        "    <tr>\n",
        "      <th>time</th>\n",
        "      <td> 13</td>\n",
        "      <td> 15</td>\n",
        "      <td> 15</td>\n",
        "    </tr>\n",
        "  </tbody>\n",
        "</table>\n",
        "</div>"
       ],
       "metadata": {},
       "output_type": "pyout",
       "prompt_number": 67,
       "text": [
        "            IFS  IPS  OTC\n",
        "correction               \n",
        "omni         11   15   15\n",
        "time         13   15   15"
       ]
      }
     ],
     "prompt_number": 67
    },
    {
     "cell_type": "code",
     "collapsed": false,
     "input": [
      "net_dimension[\"ttest\"]"
     ],
     "language": "python",
     "metadata": {},
     "outputs": [
      {
       "html": [
        "<div style=\"max-height:1000px;max-width:1500px;overflow:auto;\">\n",
        "<table border=\"1\" class=\"dataframe\">\n",
        "  <thead>\n",
        "    <tr style=\"text-align: right;\">\n",
        "      <th></th>\n",
        "      <th>mu</th>\n",
        "      <th>sd</th>\n",
        "      <th>t</th>\n",
        "      <th>p</th>\n",
        "      <th>tp</th>\n",
        "    </tr>\n",
        "    <tr>\n",
        "      <th>ROI</th>\n",
        "      <th></th>\n",
        "      <th></th>\n",
        "      <th></th>\n",
        "      <th></th>\n",
        "      <th></th>\n",
        "    </tr>\n",
        "  </thead>\n",
        "  <tbody>\n",
        "    <tr>\n",
        "      <th>IFS</th>\n",
        "      <td> 0.46</td>\n",
        "      <td> 0.06</td>\n",
        "      <td>  7.95</td>\n",
        "      <td> 1.00e-04</td>\n",
        "      <td> 3</td>\n",
        "    </tr>\n",
        "    <tr>\n",
        "      <th>IPS</th>\n",
        "      <td> 0.56</td>\n",
        "      <td> 0.10</td>\n",
        "      <td>  8.87</td>\n",
        "      <td> 1.00e-04</td>\n",
        "      <td> 3</td>\n",
        "    </tr>\n",
        "    <tr>\n",
        "      <th>OTC</th>\n",
        "      <td> 0.61</td>\n",
        "      <td> 0.07</td>\n",
        "      <td> 14.76</td>\n",
        "      <td> 0.00e+00</td>\n",
        "      <td> 5</td>\n",
        "    </tr>\n",
        "  </tbody>\n",
        "</table>\n",
        "</div>"
       ],
       "metadata": {},
       "output_type": "pyout",
       "prompt_number": 68,
       "text": [
        "       mu    sd      t         p  tp\n",
        "ROI                                 \n",
        "IFS  0.46  0.06   7.95  1.00e-04   3\n",
        "IPS  0.56  0.10   8.87  1.00e-04   3\n",
        "OTC  0.61  0.07  14.76  0.00e+00   5"
       ]
      }
     ],
     "prompt_number": 68
    },
    {
     "cell_type": "heading",
     "level": 3,
     "metadata": {},
     "source": [
      "Spatial scale of context information"
     ]
    },
    {
     "cell_type": "markdown",
     "metadata": {},
     "source": [
      "We are interested in dissociating the information within this network. First we inquire about its spatial resolution. We do so by computing the first-order spatial autocorrelation on the maps of learned coefficients. Basically, what happens is that you extract the coefficients and put them in the native image space. Then, shift the map one voxel along each axis and compute the correlation with itself (ignoring the voxels that get pushed outside of the mask). Because there are three Dimension rules, the Logistic Regression model actually has three binary models with associated weights. So we end up with correlation value for each axis/model, which we average to obtain a score for each subject and ROI."
     ]
    },
    {
     "cell_type": "code",
     "collapsed": false,
     "input": [
      "def dksort_calculate_ar1():\n",
      "    # Set up the dataframe\n",
      "    roi_index = moss.product_index([net_rois, subjects], [\"roi\", \"subj\"])\n",
      "    ar1s = pd.Series(index=roi_index, name=\"ar1\", dtype=float)\n",
      "    shifters = [(0, 0, 1), (0, 1, 0), (1, 0, 0)]\n",
      "    \n",
      "    for roi in net_rois:\n",
      "        mask_name = \"yeo17_\" + roi.lower()\n",
      "        ds = mvpa.extract_group(\"dimension\", roi, mask_name, frames, peak, \"rt\")\n",
      "        coefs = mvpa.model_coefs(ds, model, flat=False)\n",
      "        \n",
      "        for subj, coef_s in zip(subjects, coefs):\n",
      "            ar1_vals = []\n",
      "            \n",
      "            # Average over the three underlying models\n",
      "            for coef_c in coef_s.transpose(3, 0, 1, 2):\n",
      "                mask = ~np.isnan(coef_c)\n",
      "                orig = coef_c[mask]\n",
      "                locs = np.argwhere(mask)\n",
      "                \n",
      "                # Average over shifts in the x, y, and z direction\n",
      "                for shifter in shifters:\n",
      "                    x, y, z = (locs + shifter).T\n",
      "                    shifted = coef_c[x, y, z]\n",
      "                    notnan = ~np.isnan(shifted)\n",
      "                    r, p = stats.pearsonr(orig[notnan], shifted[notnan])\n",
      "                    ar1_vals.append(r)\n",
      "                    \n",
      "            ar1s.loc[(roi, subj)] = np.mean(ar1_vals)\n",
      "    \n",
      "    # Print descriptive statistics about the autocorrelation\n",
      "    for roi in net_rois:\n",
      "        m, sd = ar1s.loc[roi].describe()[[\"mean\", \"std\"]]\n",
      "        print \"%s Spatial AR1: M = %.3g (SD = %.2g)\" % (roi, m, sd)\n",
      "    \n",
      "    # Perform pairwise tests for each ROI combination\n",
      "    for roi_a, roi_b in itertools.combinations(net_rois, 2):\n",
      "        t, p = stats.ttest_rel(ar1s.loc[roi_a], ar1s.loc[roi_b])\n",
      "        dof = len(ar1s.loc[roi_a]) - 1\n",
      "        print \"Test for %s vs. %s: t(%d) = %.3f; p = %.3g\" % (roi_a, roi_b, dof, t, p)   \n",
      "    \n",
      "    ar1_df = ar1s.reset_index()\n",
      "    return ar1_df\n",
      "\n",
      "ar1_df = dksort_calculate_ar1()"
     ],
     "language": "python",
     "metadata": {},
     "outputs": [
      {
       "output_type": "stream",
       "stream": "stdout",
       "text": [
        "IFS Spatial AR1: M = 0.153 (SD = 0.035)\n",
        "IPS Spatial AR1: M = 0.151 (SD = 0.043)\n",
        "OTC Spatial AR1: M = 0.249 (SD = 0.034)\n",
        "Test for IFS vs. IPS: t(14) = 0.133; p = 0.896\n",
        "Test for IFS vs. OTC: t(14) = -8.835; p = 4.23e-07\n",
        "Test for IPS vs. OTC: t(14) = -6.498; p = 1.41e-05\n"
       ]
      }
     ],
     "prompt_number": 69
    },
    {
     "cell_type": "markdown",
     "metadata": {},
     "source": [
      "Perform an omnibus test over the ROI factor (this actually comes before the pairwise tests above)"
     ]
    },
    {
     "cell_type": "code",
     "collapsed": false,
     "input": [
      "%%R -i ar1_df\n",
      "m.ar1 = lmer(ar1 ~ roi + (roi | subj), ar1_df, REML=FALSE)\n",
      "m.ar1.nest = lmer(ar1 ~ 1 + (roi | subj), ar1_df, REML=FALSE)\n",
      "print(anova(m.ar1))\n",
      "lr_test(m.ar1, m.ar1.nest, \"ROI effect\")"
     ],
     "language": "python",
     "metadata": {},
     "outputs": [
      {
       "metadata": {},
       "output_type": "display_data",
       "text": [
        "Analysis of Variance Table\n",
        "    Df   Sum Sq  Mean Sq F value\n",
        "roi  2 0.036324 0.018162  42.595\n",
        "Likelihood ratio test for ROI effect:\n",
        "  Chisq(2) = 28.48; p = 6.53e-07\n"
       ]
      }
     ],
     "prompt_number": 70
    },
    {
     "cell_type": "heading",
     "level": 3,
     "metadata": {},
     "source": [
      "Temproal profile of context decoding"
     ]
    },
    {
     "cell_type": "markdown",
     "metadata": {},
     "source": [
      "Next we ask about temporal dissociations between the regions. This is hypothesis-driven: we expect that the IFS and IPS will have information about the attended dimensions earlier than the OTC. We're going to operationalize \"time of information\" with \"time of peak information\". There are other measures that might be insightful in different ways, but I think this is the best measurement given the type of data we have.\n",
      "\n",
      "For a potentially more precise test, we are going to use cubic spline interpolation to upsample the *original* timeserieses to 500 ms bins. Then, we'll repeat the decoding analysis on these new timepoints. Finally, we'll fit Gamma probability density functions to the high-res timecourse data and use those to infer on the time of peak information."
     ]
    },
    {
     "cell_type": "code",
     "collapsed": false,
     "input": [
      "def dksort_upsample():\n",
      "    if dv is not None:\n",
      "        dv[\"up_timepoints\"] = up_timepoints\n",
      "    roi_index = moss.product_index([net_rois, subjects], [\"ROI\", \"subj\"])\n",
      "    columns = pd.Series(up_timepoints, name=\"timepoints\")\n",
      "    up_accs = pd.DataFrame(index=roi_index, columns=columns, dtype=float)\n",
      "    up_hrf_info = pd.DataFrame(index=roi_index, columns=[\"peak\", \"r2\"], dtype=float)\n",
      "    up_hrfs = {}\n",
      "    bounds = dict(shape=(2, 8), coef=(0, None), loc=(-2.5, 2.5), scale=(0, 3))\n",
      "    \n",
      "    for roi in net_rois:\n",
      "        mask = \"yeo17_\" + roi.lower()\n",
      "        ds = mvpa.extract_group(\"dimension\", roi + \"_500ms\", mask, frames,\n",
      "                                upsample=4, confounds=\"rt\", dv=dv4)\n",
      "        roi_accs = mvpa.decode_group(ds, model, dv=dv)\n",
      "        up_accs.loc[roi, :] = roi_accs\n",
      "        hrfs = [moss.GammaHRF(loc=-1.5, bounds=bounds) for s in subjects]\n",
      "        mapper = map if dv is None else dv.map_sync\n",
      "        hrfs_ = mapper(lambda h, a: h.fit(up_timepoints, a), hrfs, roi_accs.tolist())\n",
      "        up_hrfs[roi] = hrfs_\n",
      "        for subj, hrf in zip(subjects, hrfs_):\n",
      "            up_hrf_info.loc[(roi, subj)] = hrf.peak_time_, hrf.fit_r2_\n",
      "    \n",
      "    return up_hrfs, up_hrf_info, up_accs\n",
      "\n",
      "up_hrfs, up_hrf_info, up_accs = dksort_upsample()"
     ],
     "language": "python",
     "metadata": {},
     "outputs": [],
     "prompt_number": 71
    },
    {
     "cell_type": "markdown",
     "metadata": {},
     "source": [
      "Report main information about the fits."
     ]
    },
    {
     "cell_type": "code",
     "collapsed": false,
     "input": [
      "def dksort_peak_report():\n",
      "    for roi, info in up_hrf_info.groupby(level=\"ROI\"):\n",
      "        peak_time = info[\"peak\"].mean()\n",
      "        low, high = moss.ci(moss.bootstrap(info[\"peak\"]), 95)\n",
      "        print roi + \"\\n---\"\n",
      "        print \" Mean peak: %.2fs;  95%% CI: (%.2f, %.2f)\" % (peak_time, low, high)\n",
      "        r2 = info[\"r2\"].median()\n",
      "        low, high = moss.ci(moss.bootstrap(info[\"r2\"], func=np.median), 95)\n",
      "        print \" Median R^2: %.2f;  95%% CI: (%.2f, %.2f)\\n\" % (r2, low, high)\n",
      "\n",
      "dksort_peak_report()"
     ],
     "language": "python",
     "metadata": {},
     "outputs": [
      {
       "output_type": "stream",
       "stream": "stdout",
       "text": [
        "IFS\n",
        "---\n",
        " Mean peak: 3.71s;  95% CI: (3.47, 3.95)\n",
        " Median R^2: 0.69;  95% CI: (0.63, 0.87)\n"
       ]
      },
      {
       "output_type": "stream",
       "stream": "stdout",
       "text": [
        "\n",
        "IPS\n",
        "---"
       ]
      },
      {
       "output_type": "stream",
       "stream": "stdout",
       "text": [
        "\n",
        " Mean peak: 3.47s;  95% CI: (3.23, 3.75)\n",
        " Median R^2: 0.87;  95% CI: (0.74, 0.92)\n"
       ]
      },
      {
       "output_type": "stream",
       "stream": "stdout",
       "text": [
        "\n",
        "OTC\n",
        "---"
       ]
      },
      {
       "output_type": "stream",
       "stream": "stdout",
       "text": [
        "\n",
        " Mean peak: 4.42s;  95% CI: (4.19, 4.65)\n",
        " Median R^2: 0.95;  95% CI: (0.92, 0.96)\n"
       ]
      },
      {
       "output_type": "stream",
       "stream": "stdout",
       "text": [
        "\n"
       ]
      }
     ],
     "prompt_number": 72
    },
    {
     "cell_type": "markdown",
     "metadata": {},
     "source": [
      "Define a short function to compute them median and 95% CI for the pairwise differences and apply it to eaach pair."
     ]
    },
    {
     "cell_type": "code",
     "collapsed": false,
     "input": [
      "def up_peak_test(info, roi_a, roi_b):\n",
      "    peaks = np.array(info[\"peak\"].unstack(level=\"ROI\")[[roi_a, roi_b]])\n",
      "    diff = np.diff(peaks, axis=1)\n",
      "    mean_diff = np.mean(diff)\n",
      "    diff_ci = moss.ci(moss.bootstrap(diff), 95)\n",
      "    t, p = stats.ttest_rel(peaks[:, 0], peaks[:, 1])\n",
      "    print \"%s - %s difference:\" % (roi_a, roi_b)\n",
      "    print \"  mean = %.2fs;\" % mean_diff, \n",
      "    print \"95%% CI: %.2f, %.2f\" % tuple(diff_ci)\n",
      "    print \"  t(%d) = %.3f; p = %.3g\" % (len(diff) - 1, t, p)\n",
      "    print \"  %d subjects with positive difference\" % (diff > 0).sum()"
     ],
     "language": "python",
     "metadata": {},
     "outputs": [],
     "prompt_number": 73
    },
    {
     "cell_type": "code",
     "collapsed": false,
     "input": [
      "up_peak_test(up_hrf_info, \"IFS\", \"OTC\")"
     ],
     "language": "python",
     "metadata": {},
     "outputs": [
      {
       "output_type": "stream",
       "stream": "stdout",
       "text": [
        "IFS - OTC difference:\n",
        "  mean = 0.71s; 95% CI: 0.42, 0.99\n",
        "  t(14) = -4.670; p = 0.000361\n",
        "  13 subjects with positive difference\n"
       ]
      }
     ],
     "prompt_number": 74
    },
    {
     "cell_type": "code",
     "collapsed": false,
     "input": [
      "up_peak_test(up_hrf_info, \"IPS\", \"OTC\")"
     ],
     "language": "python",
     "metadata": {},
     "outputs": [
      {
       "output_type": "stream",
       "stream": "stdout",
       "text": [
        "IPS - OTC difference:\n",
        "  mean = 0.95s; 95% CI: 0.77, 1.12\n",
        "  t(14) = -10.358; p = 6.03e-08\n",
        "  15 subjects with positive difference\n"
       ]
      }
     ],
     "prompt_number": 75
    },
    {
     "cell_type": "code",
     "collapsed": false,
     "input": [
      "up_peak_test(up_hrf_info, \"IFS\", \"IPS\")"
     ],
     "language": "python",
     "metadata": {},
     "outputs": [
      {
       "output_type": "stream",
       "stream": "stdout",
       "text": [
        "IFS - IPS difference:\n",
        "  mean = -0.24s; 95% CI: -0.53, 0.04\n",
        "  t(14) = 1.577; p = 0.137\n",
        "  3 subjects with positive difference\n"
       ]
      }
     ],
     "prompt_number": 76
    },
    {
     "cell_type": "heading",
     "level": 4,
     "metadata": {},
     "source": [
      "Posterior Cortex Figures"
     ]
    },
    {
     "cell_type": "code",
     "collapsed": false,
     "input": [
      "def dksort_figure_6():\n",
      "    f = plt.figure(figsize=(4.48, 5.5))\n",
      "\n",
      "    net_colors = [roi_colors[roi] for roi in net_rois]\n",
      "    \n",
      "    # Set up the axes\n",
      "    ax_ts = f.add_axes([.12, .53, .855, .44])\n",
      "    ax_peak = f.add_axes([.12, .07, .16, .35])\n",
      "    ax_ar1 = f.add_axes([.37, .29, .61, .13])\n",
      "    ax_time = f.add_axes([.37, .07, .61, .13])\n",
      "    \n",
      "    # Time-resolved decoding accuracy figure\n",
      "    # Plot the original-resolution accuracy as point estimate and CI\n",
      "    dksort_timecourse_figure(ax_ts, net_dimension, (.3, .66, 5), \"ci_bars\", False, {\"linewidth\": 2}, ms=5)\n",
      "    \n",
      "    # Plot the Gamma HRF modeled-accuracy as a smooth curve\n",
      "    xx = np.linspace(-2, 10, 500)\n",
      "    net_rois_r = list(reversed(net_rois))\n",
      "    fits = [[hrf.predict(xx) for hrf in up_hrfs[roi]] for roi in net_rois_r]\n",
      "    fits = np.transpose(fits, (1, 2, 0))\n",
      "    fit_colors = {roi: sns.desaturate(roi_colors[roi], .75) for roi in net_rois}\n",
      "    sns.tsplot(fits, time=xx, condition=net_rois_r, err_style=None, linewidth=1.75,\n",
      "               color=fit_colors, ax=ax_ts)\n",
      "    \n",
      "    # Remove the old chance line that doesn't span the whole plot\n",
      "    ax_ts.lines[0].remove()\n",
      "    ax_ts.plot([-2, 10], [1 / 3, 1 / 3], ls=\"--\", c=\"k\")\n",
      "\n",
      "    # Peak average decoding accuracy\n",
      "    dksort_point_figure(ax_peak, net_dimension[\"peak\"], .33, (.3, .66, 5), True)\n",
      "\n",
      "    # Spatial autocorrelation of model parameters\n",
      "    box_colors = [sns.set_hls_values(c, l=.5, s=.3) for c in net_colors]\n",
      "    ar1_vals = [df.ar1.values for _, df in ar1_df.groupby(\"roi\")]\n",
      "    sns.boxplot(ar1_vals, vert=False, color=box_colors, linewidth=1, widths=.6, ax=ax_ar1)\n",
      "    ax_ar1.set_yticklabels(net_rois)\n",
      "    ax_ar1.set_xlim(.05, .35)\n",
      "    ax_ar1.set_xticks([.1, .2, .3])\n",
      "    ax_ar1.xaxis.grid(True)\n",
      "    ax_ar1.set_xlabel(\"Spatial autocorrelation of feature weights (r)\")\n",
      "\n",
      "    # Pairwise differences in peak decoding time\n",
      "    time_vals = [up_hrf_info.loc[roi, \"peak\"] - up_hrf_info.loc[\"OTC\", \"peak\"] for roi in [\"IFS\", \"IPS\"]]\n",
      "    sns.boxplot(time_vals, vert=False, ax=ax_time, linewidth=1, widths=.5, color=box_colors[:2])\n",
      "    ax_time.set_xlim(-2.2, .7)\n",
      "    ax_time.xaxis.grid(True)\n",
      "    ax_time.set_yticklabels(net_rois[:2])\n",
      "    ax_time.axvline(0, ls=\":\", c=\"#444444\")\n",
      "    ax_time.set_xlabel(\"Time of peak decoding relative to OTC (s)\")\n",
      "\n",
      "    # Panel labels\n",
      "    text_size = 12\n",
      "    f.text(.01, .97, \"A\", size=text_size)\n",
      "    f.text(.01, .43, \"B\", size=text_size)\n",
      "    f.text(.3, .43, \"C\", size=text_size)\n",
      "    f.text(.3, .20, \"D\", size=text_size)\n",
      "    \n",
      "    save_figure(f, \"figure_6\")\n",
      "\n",
      "dksort_figure_6()"
     ],
     "language": "python",
     "metadata": {},
     "outputs": [
      {
       "metadata": {},
       "output_type": "display_data",
       "png": "[encoded data removed]",
       "text": [
        "<matplotlib.figure.Figure at 0x12def70d0>"
       ]
      }
     ],
     "prompt_number": 95
    },
    {
     "cell_type": "heading",
     "level": 3,
     "metadata": {},
     "source": [
      "Frontoparietal influence on visual selection"
     ]
    },
    {
     "cell_type": "markdown",
     "metadata": {},
     "source": [
      "The next set of analyses focus on the question of influence, or at least interactions, within this network. Our question is, when the representation is stronger in frontoparietal areas (as measured by higher probabilistic prediction for the correct class), is that trial more likely to be classified correctly in OTC? I've actually done this with both binary and continuous DVs; the latter is actually a stronger effect, but the former provides a more interpreteable plot, with probabiltiy of correct prediction as the DV."
     ]
    },
    {
     "cell_type": "code",
     "collapsed": false,
     "input": [
      "def dksort_model_logits():\n",
      "    logits = dict()\n",
      "    preds = dict()\n",
      "    bins = np.arange(-13, 13, 2)\n",
      "    for roi in net_rois:\n",
      "        mask = \"yeo17_\" + roi.lower()\n",
      "        ds = mvpa.extract_group(\"dimension\", roi, mask, frames, peak, \"rt\", dv=dv4)\n",
      "        logits_ = mvpa.decode_group(ds, model, logits=True, trialwise=True, dv=dv)\n",
      "        logits[roi] = np.concatenate(logits_)\n",
      "        preds_ = mvpa.decode_group(ds, model, trialwise=True, dv=dv)\n",
      "        preds[roi] = np.concatenate(preds_)\n",
      "    \n",
      "    logit_df = behav_df[[\"subj\"]]\n",
      "    for roi in net_rois:\n",
      "        logit_df[roi] = logits[roi]\n",
      "        logit_df[roi + \"_acc\"] = preds[roi]\n",
      "        logit_df[roi + \"_bin\"] = bins[np.digitize(logits[roi], bins)] - 1\n",
      "\n",
      "    return logit_df.reset_index(drop=True)\n",
      "logit_df = dksort_model_logits()"
     ],
     "language": "python",
     "metadata": {},
     "outputs": [],
     "prompt_number": 78
    },
    {
     "cell_type": "code",
     "collapsed": false,
     "input": [
      "%%R -i logit_df\n",
      "m.otc = lmer(OTC_acc ~ log_shift_lag + (log_shift_lag | subj), logit_df, family=binomial)\n",
      "m.med = lmer(OTC_acc ~ IFS + IPS + log_shift_lag + (IFS + IPS + log_shift_lag | subj), logit_df, family=binomial)\n",
      "print(m.otc)\n",
      "print(m.med)"
     ],
     "language": "python",
     "metadata": {},
     "outputs": [
      {
       "output_type": "stream",
       "stream": "stdout",
       "text": [
        "Error in eval(expr, envir, enclos) : object 'log_shift_lag' not found\n"
       ]
      }
     ],
     "prompt_number": 79
    },
    {
     "cell_type": "markdown",
     "metadata": {},
     "source": [
      "Set up the main mixed model and the nested models for likelihood ratio tests."
     ]
    },
    {
     "cell_type": "code",
     "collapsed": false,
     "input": [
      "%%R\n",
      "m.logits = lmer(OTC_acc ~ IFS + IPS + (IFS + IPS | subj), logit_df, family=binomial)\n",
      "m.logits.noifs = lmer(OTC_acc ~ IPS + (IFS + IPS | subj), logit_df, family=binomial)\n",
      "m.logits.noips = lmer(OTC_acc ~ IFS + (IFS + IPS | subj), logit_df, family=binomial)"
     ],
     "language": "python",
     "metadata": {},
     "outputs": [],
     "prompt_number": 80
    },
    {
     "cell_type": "markdown",
     "metadata": {},
     "source": [
      "Report on the model."
     ]
    },
    {
     "cell_type": "code",
     "collapsed": false,
     "input": [
      "%%R\n",
      "print(m.logits, corr=FALSE)\n",
      "lr_test(m.logits, m.logits.noifs, \"IFS effect\")\n",
      "lr_test(m.logits, m.logits.noips, \"IPS effect\")"
     ],
     "language": "python",
     "metadata": {},
     "outputs": [
      {
       "metadata": {},
       "output_type": "display_data",
       "text": [
        "Generalized linear mixed model fit by the Laplace approximation \n",
        "Formula: OTC_acc ~ IFS + IPS + (IFS + IPS | subj) \n",
        "   Data: logit_df \n",
        "  AIC  BIC logLik deviance\n",
        " 5062 5118  -2522     5044\n",
        "Random effects:\n",
        " Groups Name        Variance   Std.Dev.  Corr          \n",
        " subj   (Intercept) 4.7257e-02 0.2173867               \n",
        "        IFS         3.0514e-05 0.0055239 -1.000        \n",
        "        IPS         2.4432e-03 0.0494288 -0.353  0.353 \n",
        "Number of obs: 3961, groups: subj, 15\n",
        "\n",
        "Fixed effects:\n",
        "            Estimate Std. Error z value Pr(>|z|)    \n",
        "(Intercept)  0.51027    0.06630   7.697 1.40e-14 ***\n",
        "IFS          0.08242    0.01289   6.396 1.59e-10 ***\n",
        "IPS          0.17603    0.01924   9.151  < 2e-16 ***\n",
        "---\n",
        "Signif. codes:  0 \u2018***\u2019 0.001 \u2018**\u2019 0.01 \u2018*\u2019 0.05 \u2018.\u2019 0.1 \u2018 \u2019 1\n",
        "Likelihood ratio test for IFS effect:\n",
        "  Chisq(1) = 24.49; p = 7.47e-07\n",
        "Likelihood ratio test for IPS effect:\n",
        "  Chisq(1) = 29.10; p = 6.88e-08\n"
       ]
      }
     ],
     "prompt_number": 81
    },
    {
     "cell_type": "markdown",
     "metadata": {},
     "source": [
      "It looks like the regression coefficient for the IPS is larger than the IFS. Is this statistically significant?"
     ]
    },
    {
     "cell_type": "code",
     "collapsed": false,
     "input": [
      "%%R\n",
      "C = matrix(c(0, -1, 1), 1, 3)\n",
      "rownames(C) = \"IPS-IFS\"\n",
      "print(summary(glht(m.logits, C)))"
     ],
     "language": "python",
     "metadata": {},
     "outputs": [
      {
       "metadata": {},
       "output_type": "display_data",
       "text": [
        "\n",
        "\t Simultaneous Tests for General Linear Hypotheses\n",
        "\n",
        "Fit: glmer(formula = OTC_acc ~ IFS + IPS + (IFS + IPS | subj), data = logit_df, \n",
        "    family = binomial)\n",
        "\n",
        "Linear Hypotheses:\n",
        "             Estimate Std. Error z value Pr(>|z|)    \n",
        "IPS-IFS == 0  0.09361    0.02453   3.816 0.000136 ***\n",
        "---\n",
        "Signif. codes:  0 \u2018***\u2019 0.001 \u2018**\u2019 0.01 \u2018*\u2019 0.05 \u2018.\u2019 0.1 \u2018 \u2019 1\n",
        "(Adjusted p values reported -- single-step method)\n",
        "\n"
       ]
      }
     ],
     "prompt_number": 82
    },
    {
     "cell_type": "code",
     "collapsed": false,
     "input": [
      "def dksort_figure_7():\n",
      "    \n",
      "    # Fit a logistic regression for each subject and save predictions\n",
      "    xx = np.linspace(-10, 6, 100)\n",
      "    x_pred = sm.add_constant(xx, prepend=True)\n",
      "    pred_rois = [\"IFS\", \"IPS\"]\n",
      "    models = {roi: np.empty((subjects.size, xx.size)) for roi in pred_rois}\n",
      "    xlim = [-8, 6]\n",
      "\n",
      "    models = dict()\n",
      "    for roi in pred_rois:\n",
      "        x_fit = sm.add_constant(logit_df[roi].values, prepend=True)\n",
      "        fit = sm.GLM(logit_df.OTC_acc.values, x_fit, family=sm.families.Binomial()).fit()\n",
      "        models[roi] = fit.predict(x_pred)\n",
      "    \n",
      "    f = plt.figure(figsize=(3.34, 5.5))\n",
      "    axr = f.add_axes([.15, .38, .8, .58])\n",
      " \n",
      "    # Plot the data for each ROI\n",
      "    for i, roi in enumerate(pred_rois):\n",
      "        color = roi_colors[roi]\n",
      "        \n",
      "        histcolor = sns.set_hls_values(color, l=.5, s=.3)\n",
      "        sns.tsplot(models[roi], time=xx, color=color, label=roi,\n",
      "                   linewidth=1.25, err_style=None, ax=axr)\n",
      "        roi_pivot = pd.pivot_table(logit_df, \"OTC_acc\", \"subj\", roi + \"_bin\").values\n",
      "        bins = np.sort(logit_df[roi + \"_bin\"].unique())\n",
      "        sns.tsplot(roi_pivot, time=bins, err_style=\"ci_bars\", color=color, interpolate=False,\n",
      "                   err_kws={\"linewidth\": 2}, markersize=6, ax=axr)\n",
      "        axh = f.add_axes([.15, .23 - i * .15, .8, .12])\n",
      "        bins = np.linspace(*xlim + [15])\n",
      "        axh.hist(logit_df[roi], bins, rwidth=.95,\n",
      "                 color=histcolor, linewidth=0, label=roi)\n",
      "        axh.set_yticks(np.linspace(0, 900, 3))\n",
      "        axh.set_ylabel(\"Trials\")\n",
      "        if i:\n",
      "            axh.set_xlabel(\"Classifier evidence for target class\")\n",
      "        else:\n",
      "            axh.set_xticklabels([])\n",
      "        axh.legend(loc=\"upper left\")\n",
      "    \n",
      "    # Set the regession axis properties\n",
      "    axr.set_xlim(*xlim)\n",
      "    axr.set_ylim(.15, .85)\n",
      "    axr.set_xticklabels([])\n",
      "    axr.axhline(.33, c=\"k\", ls=\"--\")\n",
      "    axr.set_ylabel(\"OTC classifier accuracy\")\n",
      "    axr.legend(loc=\"upper left\")\n",
      "    \n",
      "    # Label the panels\n",
      "    textsize = 11\n",
      "    f.text(.02, .96, \"A\", size=textsize)\n",
      "    f.text(.02, .35, \"B\", size=textsize)\n",
      "    f.text(.02, .20, \"C\", size=textsize)\n",
      "    \n",
      "    save_figure(f, \"figure_7\")\n",
      "\n",
      "dksort_figure_7()"
     ],
     "language": "python",
     "metadata": {},
     "outputs": [
      {
       "metadata": {},
       "output_type": "display_data",
       "png": "[encoded data removed]",
       "text": [
        "<matplotlib.figure.Figure at 0x12a7e0910>"
       ]
      }
     ],
     "prompt_number": 97
    },
    {
     "cell_type": "heading",
     "level": 2,
     "metadata": {},
     "source": [
      "Task and Stimulus Repetition Effects"
     ]
    },
    {
     "cell_type": "markdown",
     "metadata": {},
     "source": [
      "Now we perform two exploratory analyses to understand how different environmental circumstances influence context representation."
     ]
    },
    {
     "cell_type": "heading",
     "level": 3,
     "metadata": {},
     "source": [
      "Rule Repetition"
     ]
    },
    {
     "cell_type": "markdown",
     "metadata": {},
     "source": [
      "First, we look at the effects of rule repetition. Trials were grouped into mini-blocks of three trials under the same set of rules, so each rule was performed at least 3 times in a row and for as many as 9 trials before switching. However, the 3 block repetitions were very rare, so we'll restrict these analyses to 1-6 repetitions.\n",
      "\n",
      "Fit the models and extract the trialwise prediction accuracy into a longform DataFrame."
     ]
    },
    {
     "cell_type": "code",
     "collapsed": false,
     "input": [
      "def dksort_rule_shift():    \n",
      "    shift_dfs = []\n",
      "    for roi in net_rois:\n",
      "        mask = \"yeo17_\" + roi.lower()\n",
      "        ds = mvpa.extract_group(\"dimension\", roi, mask, frames, peak, \"rt\")\n",
      "        accs = mvpa.decode_group(ds, LogisticRegression(), trialwise=True)\n",
      "        roi_df = behav_df[[\"subj\", \"dim_shift\", \"dim_shift_lag\"]]\n",
      "        roi_df[\"roi\"] = roi\n",
      "        roi_df[\"acc\"] = np.concatenate(accs)\n",
      "        shift_dfs.append(roi_df)\n",
      "    shift_df = pd.concat(shift_dfs, ignore_index=True)\n",
      "    shift_df[\"IFS_logit\"] = np.tile(logit_df.IFS.values, 3)\n",
      "    shift_df[\"IPS_logit\"] = np.tile(logit_df.IPS.values, 3)\n",
      "    \n",
      "    shift_df = shift_df[shift_df.dim_shift_lag < 6]\n",
      "    shift_df[\"log_shift_lag\"] = np.log(shift_df.dim_shift_lag + 1)\n",
      "\n",
      "    return shift_df\n",
      "\n",
      "shift_df = dksort_rule_shift()"
     ],
     "language": "python",
     "metadata": {},
     "outputs": [],
     "prompt_number": 84
    },
    {
     "cell_type": "markdown",
     "metadata": {},
     "source": [
      "Now fit a mixed effects logistic regression predicting classifier accuracy with roi and repetition predictors.\n",
      "\n",
      "Based on plots of the data, we'll fit this using log-transformed number of repetitions."
     ]
    },
    {
     "cell_type": "code",
     "collapsed": false,
     "input": [
      "%%R -i shift_df\n",
      "m.shift.int = lmer(acc ~ roi * log_shift_lag + (roi + log_shift_lag | subj), shift_df, family=binomial)\n",
      "m.shift.add = lmer(acc ~ roi + log_shift_lag + (roi + log_shift_lag | subj), shift_df, family=binomial)\n",
      "lr_test(m.shift.int, m.shift.add, \"ROI X Lag interaction\")"
     ],
     "language": "python",
     "metadata": {},
     "outputs": [
      {
       "metadata": {},
       "output_type": "display_data",
       "text": [
        "Likelihood ratio test for ROI X Lag interaction:\n",
        "  Chisq(2) = 2.18; p = 0.336\n"
       ]
      }
     ],
     "prompt_number": 85
    },
    {
     "cell_type": "code",
     "collapsed": false,
     "input": [
      "%%R\n",
      "print(m.shift.add, corr=FALSE)\n",
      "m.shift.nolag = lmer(acc ~ roi + (roi + log_shift_lag | subj), shift_df, family=binomial)\n",
      "lr_test(m.shift.add, m.shift.nolag, \"Lag main effect\")"
     ],
     "language": "python",
     "metadata": {},
     "outputs": [
      {
       "metadata": {},
       "output_type": "display_data",
       "text": [
        "Generalized linear mixed model fit by the Laplace approximation \n",
        "Formula: acc ~ roi + log_shift_lag + (roi + log_shift_lag | subj) \n",
        "   Data: shift_df \n",
        "   AIC   BIC logLik deviance\n",
        " 15282 15384  -7627    15254\n",
        "Random effects:\n",
        " Groups Name          Variance  Std.Dev. Corr                 \n",
        " subj   (Intercept)   0.0163745 0.12796                       \n",
        "        roiIPS        0.0986636 0.31411  -0.579               \n",
        "        roiOTC        0.0685217 0.26177  -0.709  0.530        \n",
        "        log_shift_lag 0.0012838 0.03583   0.173  0.441  0.477 \n",
        "Number of obs: 11250, groups: subj, 15\n",
        "\n",
        "Fixed effects:\n",
        "              Estimate Std. Error z value Pr(>|z|)    \n",
        "(Intercept)    0.11064    0.05411   2.044 0.040907 *  \n",
        "roiIPS         0.33510    0.09361   3.580 0.000344 ***\n",
        "roiOTC         0.47687    0.08229   5.795 6.84e-09 ***\n",
        "log_shift_lag -0.19760    0.03421  -5.776 7.65e-09 ***\n",
        "---\n",
        "Signif. codes:  0 \u2018***\u2019 0.001 \u2018**\u2019 0.01 \u2018*\u2019 0.05 \u2018.\u2019 0.1 \u2018 \u2019 1\n",
        "Likelihood ratio test for Lag main effect:\n",
        "  Chisq(1) = 18.71; p = 1.52e-05\n"
       ]
      }
     ],
     "prompt_number": 86
    },
    {
     "cell_type": "markdown",
     "metadata": {},
     "source": [
      "Now ask what happens when we add in the IFS and IPS logits as predictors"
     ]
    },
    {
     "cell_type": "code",
     "collapsed": false,
     "input": [
      "%%R\n",
      "m.shift.top = lmer(acc ~ log_shift_lag + IFS_logit + IPS_logit + (log_shift_lag + IFS_logit + IPS_logit | subj),\n",
      "                   shift_df, family=binomial, subset=shift_df$roi == \"OTC\")\n",
      "print(m.shift.top, corr=FALSE)"
     ],
     "language": "python",
     "metadata": {},
     "outputs": [
      {
       "metadata": {},
       "output_type": "display_data",
       "text": [
        "Generalized linear mixed model fit by the Laplace approximation \n",
        "Formula: acc ~ log_shift_lag + IFS_logit + IPS_logit + (log_shift_lag +      IFS_logit + IPS_logit | subj) \n",
        "   Data: shift_df \n",
        " Subset: shift_df$roi == \"OTC\" \n",
        "  AIC  BIC logLik deviance\n",
        " 4792 4879  -2382     4764\n",
        "Random effects:\n",
        " Groups Name          Variance   Std.Dev. Corr                 \n",
        " subj   (Intercept)   0.10354262 0.321780                      \n",
        "        log_shift_lag 0.02410617 0.155262 -0.835               \n",
        "        IFS_logit     0.00023268 0.015254 -0.637  0.956        \n",
        "        IPS_logit     0.00220897 0.047000 -0.168 -0.221 -0.399 \n",
        "Number of obs: 3750, groups: subj, 15\n",
        "\n",
        "Fixed effects:\n",
        "              Estimate Std. Error z value Pr(>|z|)    \n",
        "(Intercept)    0.59512    0.10384   5.731 9.98e-09 ***\n",
        "log_shift_lag -0.09953    0.07211  -1.380    0.168    \n",
        "IFS_logit      0.08510    0.01373   6.196 5.78e-10 ***\n",
        "IPS_logit      0.17476    0.01918   9.113  < 2e-16 ***\n",
        "---\n",
        "Signif. codes:  0 \u2018***\u2019 0.001 \u2018**\u2019 0.01 \u2018*\u2019 0.05 \u2018.\u2019 0.1 \u2018 \u2019 1\n"
       ]
      }
     ],
     "prompt_number": 87
    },
    {
     "cell_type": "code",
     "collapsed": false,
     "input": [
      "%%R\n",
      "m.shift.top.nolag = lmer(acc ~ IFS_logit + IPS_logit + (log_shift_lag + IFS_logit + IPS_logit | subj),\n",
      "                         shift_df, family=binomial, subset=shift_df$roi == \"OTC\")\n",
      "lr_test(m.shift.top, m.shift.top.nolag, \"Lag main effect\")"
     ],
     "language": "python",
     "metadata": {},
     "outputs": [
      {
       "metadata": {},
       "output_type": "display_data",
       "text": [
        "Likelihood ratio test for Lag main effect:\n",
        "  Chisq(1) = 1.81; p = 0.179\n"
       ]
      }
     ],
     "prompt_number": 88
    },
    {
     "cell_type": "code",
     "collapsed": false,
     "input": [
      "def dksort_figure_8():\n",
      "    f, axes = plt.subplots(1, 3, sharey=True, figsize=(4.48, 3.5))\n",
      "    text_pos = [.41, .48, .54]\n",
      "    data = shift_df.groupby([\"roi\", \"subj\", \"dim_shift_lag\"]).acc.mean().unstack()\n",
      "    for i, roi in enumerate(net_rois):\n",
      "        ax = axes[i]\n",
      "        color = roi_colors[roi]\n",
      "        roi_data = data.loc[roi].values\n",
      "        x = range(1, 7)\n",
      "        xx = np.linspace(.7, 6.3, 100)\n",
      "        sns.tsplot(roi_data, time=x, err_style=\"ci_bars\",\n",
      "                   interpolate=False, color=color, ms=5, mec=color,\n",
      "                   err_kws=dict(linewidth=1.5), ax=ax)\n",
      "        y = roi_data.mean(axis=0)\n",
      "        fit = np.polyfit(np.log(x), y, 1)\n",
      "        r2 = r2_score(y, np.polyval(fit, np.log(x)))\n",
      "        yy = np.polyval(fit, np.log(xx))\n",
      "        a, b = 3.1, 3.9\n",
      "        block_break = (xx >=a) & (xx <= b)\n",
      "        lw=1.25\n",
      "        ax.plot(xx[xx < a], yy[xx < a], lw=lw, color=color, label=roi)\n",
      "        ax.plot(xx[block_break], yy[block_break], lw=lw, ls=\":\", color=color)\n",
      "        ax.plot(xx[xx > b], yy[xx > b], lw=lw, color=color)\n",
      "        ax.text(1.6, text_pos[i], \"$R^2 =\\/%.2f$\" % r2, size=8)\n",
      "        ax.xaxis.grid(False)\n",
      "        ax.set_xlim(.7, 6.3)\n",
      "        ax.set_ylim(.3, .7)\n",
      "        ax.set_yticks(np.linspace(.3, .7, 5))\n",
      "        ax.axhline(.33, ls=\"--\", c=\"#444444\")\n",
      "        if i == 1:\n",
      "            ax.set_xlabel(\"Trials since rule switch\")\n",
      "        if not i:\n",
      "            ax.set_ylabel(\"Cross-validated decoding accuracy\")\n",
      "        ax.legend()\n",
      "    \n",
      "    f.subplots_adjust(wspace=.05, bottom=.12, top=.97, left=.1, right=.98)\n",
      "    save_figure(f, \"figure_8\")\n",
      "\n",
      "dksort_figure_8()"
     ],
     "language": "python",
     "metadata": {},
     "outputs": [
      {
       "metadata": {},
       "output_type": "display_data",
       "png": "[encoded data removed]",
       "text": [
        "<matplotlib.figure.Figure at 0x12e3baad0>"
       ]
      }
     ],
     "prompt_number": 89
    },
    {
     "cell_type": "markdown",
     "metadata": {},
     "source": [
      "<div style=\"width:450px;padding-left:120px\" align=\"justify\">\n",
      "<strong>Task and Stimulus Effects on Dimension rule decoding:</strong> (A) Effects of task repetition on rule decoding in IFS, IPS, and OTC. Error bars indicate 68% CI across participants. Fitted line shows log-linear fit to the the mean data, along with the $R^2$ for this fit within each ROI. Dashed line indicates chance performance. (B) Effects of stimulus repetition on rule decoding in these regions. The same data are sorted twice: once by wether the attended features matched (dark plots) and once by whether the unattended features matched (light plots).\n",
      "</div>"
     ]
    },
    {
     "cell_type": "heading",
     "level": 3,
     "metadata": {},
     "source": [
      "Decoding Schematic Figure"
     ]
    },
    {
     "cell_type": "code",
     "collapsed": false,
     "input": [
      "def make_dataset(offset):\n",
      "    a = np.random.randn(50, 3) + [-offset, 0, offset * .5] \n",
      "    b = np.random.randn(50, 3) + [offset, 0, -offset * .5]\n",
      "    return a.T, b.T"
     ],
     "language": "python",
     "metadata": {},
     "outputs": [],
     "prompt_number": 90
    },
    {
     "cell_type": "code",
     "collapsed": false,
     "input": [
      "def plot_plane(ax, normal, color=\"#666666\", grid=False):\n",
      "    point = np.array([0, 0, 0])\n",
      "    d = -point.dot(normal)\n",
      "    steps = np.linspace(-2.5, 2.5, 5) if grid else [-2.5, 2.5]\n",
      "    x, y = np.meshgrid(steps, steps)\n",
      "    a, b, c = normal\n",
      "    z = (-a * x - b * y - d) / c\n",
      "    ax.plot_surface(x, y, z, alpha=.25, shade=False, color=color, rstride=10, cstride=10)\n",
      "    ax.plot_wireframe(x, y, z, color=\"#333333\", linewidths=.05)\n",
      "    return ax"
     ],
     "language": "python",
     "metadata": {},
     "outputs": [],
     "prompt_number": 91
    },
    {
     "cell_type": "code",
     "collapsed": false,
     "input": [
      "def dksort_figure_9():\n",
      "    o, g, p = rule_colors[\"dim\"]\n",
      "    f = plt.figure(figsize=(6.85, 2))\n",
      "    for i, offset in enumerate([2, 1, .5], 1):\n",
      "        ax = f.add_subplot(1, 3, i, projection=\"3d\", axisbg=\"white\")\n",
      "        a, b = make_dataset(offset)\n",
      "        ax.scatter3D(*a, color=g, s=8)\n",
      "        ax.scatter3D(*b, color=p, s=8)\n",
      "        plot_plane(ax, [-1, 0, .5], \"#999989\", True)\n",
      "        for axis in [\"x\", \"y\", \"z\"]:\n",
      "            getattr(ax, \"set_%slim\" % axis)(-4, 4)\n",
      "            getattr(ax, \"set_%sticks\" % axis)([])\n",
      "            getattr(ax, \"set_%sticklabels\" % axis)([])\n",
      "        ax.set_title([\"High\", \"Medium\", \"Low\"][i - 1] + \" control demands\", size=8)\n",
      "    plt.tight_layout()\n",
      "    save_figure(f, \"figure_9\")\n",
      "\n",
      "dksort_figure_9()"
     ],
     "language": "python",
     "metadata": {},
     "outputs": [
      {
       "metadata": {},
       "output_type": "display_data",
       "png": "[encoded data removed]",
       "text": [
        "<matplotlib.figure.Figure at 0x12a7f74d0>"
       ]
      }
     ],
     "prompt_number": 92
    }
   ],
   "metadata": {}
  }
 ]
}