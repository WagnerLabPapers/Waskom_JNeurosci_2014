{
 "metadata": {
  "name": "DKsort_Neuron"
 },
 "nbformat": 3,
 "nbformat_minor": 0,
 "worksheets": [
  {
   "cells": [
    {
     "cell_type": "heading",
     "level": 1,
     "metadata": {},
     "source": [
      "DKsort Neuron Analysis Notebook"
     ]
    },
    {
     "cell_type": "heading",
     "level": 2,
     "metadata": {},
     "source": [
      "Set-up Code"
     ]
    },
    {
     "cell_type": "markdown",
     "metadata": {},
     "source": [
      "First, import external packages that we'll use in this notebook"
     ]
    },
    {
     "cell_type": "code",
     "collapsed": false,
     "input": [
      "import itertools\n",
      "import numpy as np\n",
      "import scipy as sp\n",
      "import pandas as pd\n",
      "import nibabel as nib\n",
      "from scipy import stats\n",
      "from sklearn.linear_model import LogisticRegression\n",
      "from sklearn.pipeline import Pipeline\n",
      "from sklearn.decomposition import PCA\n",
      "from sklearn.metrics import r2_score"
     ],
     "language": "python",
     "metadata": {},
     "outputs": [],
     "prompt_number": 1
    },
    {
     "cell_type": "markdown",
     "metadata": {},
     "source": [
      "Now my personal libraries"
     ]
    },
    {
     "cell_type": "code",
     "collapsed": false,
     "input": [
      "from lyman import mvpa, evoked\n",
      "import seaborn as sns\n",
      "import moss"
     ],
     "language": "python",
     "metadata": {},
     "outputs": [
      {
       "output_type": "stream",
       "stream": "stderr",
       "text": [
        "/Library/Frameworks/EPD64.framework/Versions/7.3/lib/python2.7/site-packages/nose/util.py:14: DeprecationWarning: The compiler package is deprecated and removed in Python 3.x.\n",
        "  from compiler.consts import CO_GENERATOR\n"
       ]
      }
     ],
     "prompt_number": 2
    },
    {
     "cell_type": "markdown",
     "metadata": {},
     "source": [
      "Set up display options for figures and tables"
     ]
    },
    {
     "cell_type": "code",
     "collapsed": false,
     "input": [
      "%pylab inline\n",
      "sns.set(context=\"paper\", font=\"Arial\")\n",
      "pd.set_option('display.precision', 3)"
     ],
     "language": "python",
     "metadata": {},
     "outputs": [
      {
       "output_type": "stream",
       "stream": "stdout",
       "text": [
        "\n",
        "Welcome to pylab, a matplotlib-based Python environment [backend: module://IPython.kernel.zmq.pylab.backend_inline].\n",
        "For more information, type 'help(pylab)'.\n"
       ]
      }
     ],
     "prompt_number": 3
    },
    {
     "cell_type": "markdown",
     "metadata": {},
     "source": [
      "Load the IPython magic extension to use R within this notebook and import external R packages we'll use."
     ]
    },
    {
     "cell_type": "code",
     "collapsed": true,
     "input": [
      "%load_ext rmagic\n",
      "%R library(lme4)\n",
      "%R library(multcomp)\n",
      "%R library(arm)"
     ],
     "language": "python",
     "metadata": {},
     "outputs": [
      {
       "metadata": {},
       "output_type": "display_data",
       "text": [
        "Loading required package: Matrix\n",
        "Loading required package: lattice\n",
        "\n",
        "Attaching package: \u2018lme4\u2019\n",
        "\n",
        "The following object is masked from \u2018package:stats\u2019:\n",
        "\n",
        "    AIC, BIC\n",
        "\n"
       ]
      },
      {
       "metadata": {},
       "output_type": "display_data",
       "text": [
        "Loading required package: mvtnorm\n",
        "Loading required package: survival\n",
        "Loading required package: splines\n"
       ]
      },
      {
       "metadata": {},
       "output_type": "display_data",
       "text": [
        "Loading required package: MASS\n",
        "Loading required package: R2WinBUGS\n",
        "Loading required package: coda\n",
        "\n",
        "Attaching package: \u2018coda\u2019\n",
        "\n",
        "The following object is masked from \u2018package:lme4\u2019:\n",
        "\n",
        "    HPDinterval\n",
        "\n",
        "Loading required package: boot\n",
        "\n",
        "Attaching package: \u2018boot\u2019\n",
        "\n",
        "The following object is masked from \u2018package:survival\u2019:\n",
        "\n",
        "    aml\n",
        "\n",
        "The following object is masked from \u2018package:lattice\u2019:\n",
        "\n",
        "    melanoma\n",
        "\n",
        "Loading required package: abind\n",
        "Loading required package: foreign\n",
        "\n",
        "arm (Version 1.6-05, built: 2013-3-8)\n",
        "\n",
        "Working directory is /Users/mwaskom/Studies/dksort/notebooks\n",
        "\n",
        "\n",
        "Attaching package: \u2018arm\u2019\n",
        "\n",
        "The following object is masked from \u2018package:boot\u2019:\n",
        "\n",
        "    logit\n",
        "\n",
        "The following object is masked from \u2018package:coda\u2019:\n",
        "\n",
        "    traceplot\n",
        "\n"
       ]
      }
     ],
     "prompt_number": 4
    },
    {
     "cell_type": "markdown",
     "metadata": {},
     "source": [
      "Connect to an IPython cluster (this must be started separately) and get two direct view references -- one to all engines (we expect to run this on my 8-core Mac Pro) and one to only 4 engines. We use the `dv4` cluster view with the extraction functions so we can extract data in parallel without killing things by running too many parallel i/o processes."
     ]
    },
    {
     "cell_type": "code",
     "collapsed": false,
     "input": [
      "from IPython.parallel import Client\n",
      "dv = Client()[:]\n",
      "dv4 = Client()[:4]"
     ],
     "language": "python",
     "metadata": {},
     "outputs": [],
     "prompt_number": 5
    },
    {
     "cell_type": "markdown",
     "metadata": {},
     "source": [
      "Control saving figures globally with this function so it is easy to switch between file types and possibly other options."
     ]
    },
    {
     "cell_type": "code",
     "collapsed": false,
     "input": [
      "def save_figure(fig, figname):\n",
      "    fig.savefig(\"figures/%s.pdf\" % figname)"
     ],
     "language": "python",
     "metadata": {},
     "outputs": [],
     "prompt_number": 6
    },
    {
     "cell_type": "markdown",
     "metadata": {},
     "source": [
      "Get the list of subject IDs for all the analyses."
     ]
    },
    {
     "cell_type": "code",
     "collapsed": false,
     "input": [
      "subjects = pd.Series(np.loadtxt(\"subjects.txt\", str), name=\"subj\")"
     ],
     "language": "python",
     "metadata": {},
     "outputs": [],
     "prompt_number": 7
    },
    {
     "cell_type": "markdown",
     "metadata": {},
     "source": [
      "Set some colors globally to use in all figures."
     ]
    },
    {
     "cell_type": "code",
     "collapsed": false,
     "input": [
      "rule_colors = dict(dim=[\"#EE6F25\", \"#4BC75B\", \"#9370DB\"], dec=[\"#6495EB\", \"#FF6347\"])\n",
      "roi_colors = dict(IFS=\"#CC3333\", aMFG=\"#3380CC\", pMFG=\"#33CC80\", pSFS=\"#CC8033\", IFG=\"#6464D8\",\n",
      "                  aIns=\"#F08080\", FPC=\"#CCCC33\", IPS=\"#2A4380\", OTC=\"#24913C\")"
     ],
     "language": "python",
     "metadata": {},
     "outputs": [],
     "prompt_number": 8
    },
    {
     "cell_type": "markdown",
     "metadata": {},
     "source": [
      "Define an R function to facilitate reporting of likelihood ratio test of nested LMEMs."
     ]
    },
    {
     "cell_type": "code",
     "collapsed": false,
     "input": [
      "%%R\n",
      "lr_test = function(m1, m2, name){\n",
      "    out = anova(m1, m2)\n",
      "    chi2 = out$Chisq[2]\n",
      "    dof = out$\"Chi Df\"[2]\n",
      "    p = out$\"Pr(>Chisq)\"[2]\n",
      "    test_str = \"Likelihood ratio test for %s:\\n  Chisq(%d) = %.2f; p = %.3g\"\n",
      "    writeLines(sprintf(test_str, name, dof, chi2, p))\n",
      "}"
     ],
     "language": "python",
     "metadata": {},
     "outputs": [],
     "prompt_number": 9
    },
    {
     "cell_type": "heading",
     "level": 3,
     "metadata": {},
     "source": [
      "Behavioral/design information"
     ]
    },
    {
     "cell_type": "markdown",
     "metadata": {},
     "source": [
      "Read each subject's master behavioral file and build two group DataFrames -- one with all trials (`behav_full`) and one with only trials considered in the fMRI analyses (`behav_df`). The latter exludes incorrect trials as well as trials identified as outliers in the fMRI preprocessing."
     ]
    },
    {
     "cell_type": "code",
     "collapsed": false,
     "input": [
      "behav_temp = \"../data/%s/behav/behav_data.csv\"\n",
      "behav_data = []\n",
      "for subj in subjects:\n",
      "    df = pd.read_csv(behav_temp % subj, index_col=\"trial\")\n",
      "    df[\"subj\"] = repeat(subj, len(df))\n",
      "    behav_data.append(df)\n",
      "behav_full = pd.concat(behav_data)\n",
      "behav_df = behav_full[behav_full[\"clean\"] & behav_full[\"correct\"]]\n",
      "%Rpush behav_df\n",
      "%Rpush behav_full"
     ],
     "language": "python",
     "metadata": {},
     "outputs": [],
     "prompt_number": 10
    },
    {
     "cell_type": "heading",
     "level": 3,
     "metadata": {},
     "source": [
      "fMRI Parameters and Functions"
     ]
    },
    {
     "cell_type": "markdown",
     "metadata": {},
     "source": [
      "Define some parameters shared across fMRI analyses below."
     ]
    },
    {
     "cell_type": "code",
     "collapsed": false,
     "input": [
      "pfc_rois = [\"IFS\", \"aMFG\", \"pMFG\", \"FPC\", \"IFG\", \"aIns\", \"pSFS\"]\n",
      "net_rois = [\"IFS\", \"IPS\", \"OTC\"]"
     ],
     "language": "python",
     "metadata": {},
     "outputs": [],
     "prompt_number": 11
    },
    {
     "cell_type": "code",
     "collapsed": false,
     "input": [
      "other_rois = [\"lh-IFS\", \"rh-IFS\", \"aIFS\", \"pIFS\",\n",
      "              \"AllROIs\", \"IFS-thresh\"]\n",
      "other_masks = [\"lh.yeo17_ifs\", \"rh.yeo17_ifs\",\n",
      "               \"yeo17_aifs\", \"yeo17_pifs\",\n",
      "               \"dksort_all_pfc\", \"yeo17_ifs_thresh0.25\"]"
     ],
     "language": "python",
     "metadata": {},
     "outputs": [],
     "prompt_number": 12
    },
    {
     "cell_type": "code",
     "collapsed": false,
     "input": [
      "frames = np.arange(-1, 5)\n",
      "timepoints = frames * 2\n",
      "model = LogisticRegression()\n",
      "n_shuffle = 1000\n",
      "peak = slice(2, 4)\n",
      "shuffle_seed = sum(map(ord, \"DKsort\"))"
     ],
     "language": "python",
     "metadata": {},
     "outputs": [],
     "prompt_number": 13
    },
    {
     "cell_type": "markdown",
     "metadata": {},
     "source": [
      "Define several functions to perform the same sequence of analyses on different sets of ROIs/events."
     ]
    },
    {
     "cell_type": "code",
     "collapsed": false,
     "input": [
      "def dksort_decode(rois, rule):\n",
      "    \"\"\"Do the all the main decoding steps across sets of ROIs.\"\"\"\n",
      "    \n",
      "    # Set up the DataFrames to hold the persisent outputs\n",
      "    roi_tuples = list(itertools.product(rois, subjects))\n",
      "    roi_index = pd.MultiIndex.from_tuples(roi_tuples, names=[\"ROI\", \"subj\"])\n",
      "    columns = pd.Series(timepoints, name=\"timepoints\")\n",
      "    accs = pd.DataFrame(index=roi_index, columns=columns, dtype=float)\n",
      "\n",
      "    null_tuples = list(itertools.product(subjects, arange(n_shuffle)))\n",
      "    null_index = pd.MultiIndex.from_tuples(null_tuples, names=[\"subj\", \"iter\"])\n",
      "    null = pd.DataFrame(index=null_index, columns=pd.Series(rois, name=\"ROI\"), dtype=float)\n",
      "\n",
      "    peak_df = pd.DataFrame(index=subjects, columns=pd.Series(rois, name=\"ROI\"))\n",
      "    chance = pd.DataFrame(index=roi_index, columns=timepoints, dtype=float)\n",
      "    \n",
      "    # For each ROI load the data, decode, and simulate the null distribution\n",
      "    for roi in rois:\n",
      "        mask = \"yeo17_\" + roi.lower()\n",
      "        ds = mvpa.extract_group(rule, roi, mask, frames, confounds=\"rt\", dv=dv4)\n",
      "        roi_accs = mvpa.decode_group(ds, model, dv=dv)\n",
      "        accs.loc[roi, :] = roi_accs\n",
      "        roi_null = mvpa.classifier_permutations(ds, model, n_iter=n_shuffle,\n",
      "                                                random_seed=shuffle_seed, dv=dv)\n",
      "        chance.loc[roi, :] = roi_null.mean(axis=1)\n",
      "        null[roi] = roi_null.max(axis=-1).ravel()\n",
      "        peak_ds = mvpa.extract_group(rule, roi, mask, frames, peak, \"rt\", dv=dv4)\n",
      "        peak_df[roi] = mvpa.decode_group(peak_ds, model, dv=dv)\n",
      "\n",
      "    # Do the group t tests\n",
      "    wide_accs = accs.unstack(level=\"ROI\")\n",
      "    wide_chance = chance.unstack(level=\"ROI\")\n",
      "    ts, ps = moss.randomize_onesample(wide_accs, h_0=wide_chance)\n",
      "    \n",
      "    t_df = pd.DataFrame(dict(t=ts, p=ps), index=wide_accs.columns, columns=[\"t\", \"p\"])\n",
      "    ttest = t_df.groupby(level=\"ROI\").apply(lambda x: x.loc[x.t.idxmax()])\n",
      "    ttest[\"max_tp\"] = t_df.groupby(level=\"ROI\").t.apply(lambda x: x.idxmax()[0])\n",
      "\n",
      "    # From the null distribution, find the percentile corresponding to the observed score\n",
      "    signif_tuples = list(itertools.product([\"time\", \"omni\"], subjects))\n",
      "    signif_index = pd.MultiIndex.from_tuples(signif_tuples, names=[\"correction\", \"subj\"])    \n",
      "    signif = pd.DataFrame(index=signif_index, columns=rois, dtype=float)\n",
      "    for roi, roi_accs in accs.max(axis=1).groupby(level=\"ROI\"):\n",
      "        for subj, score in roi_accs.groupby(level=\"subj\"):\n",
      "            signif.loc[(\"time\", subj), roi] = stats.percentileofscore(null[roi], score[0])\n",
      "            signif.loc[(\"omni\", subj), roi] = stats.percentileofscore(null.max(axis=1), score[0])    \n",
      "\n",
      "    return dict(rois=rois, accs=accs, chance=chance, peak=peak_df, null=null, ttest=ttest, signif=signif)"
     ],
     "language": "python",
     "metadata": {},
     "outputs": [],
     "prompt_number": 14
    },
    {
     "cell_type": "code",
     "collapsed": false,
     "input": [
      "def dksort_timecourse_figure(data, ts_ticks, save_name=None):\n",
      "    \"\"\"Plot accuracy for different ROIs across time and at peak.\"\"\"\n",
      "    # Set up the figure and axes\n",
      "    f = figure(figsize=(12, 7))\n",
      "    ax_ts = f.add_axes([.05, .05, .75, .9])\n",
      "    ax_pt = f.add_axes([.81, .05, .14, .9], sharey=ax_ts)\n",
      "    \n",
      "    # Draw the main data for each ROI\n",
      "    for i, roi in enumerate(data[\"rois\"]):\n",
      "        accs = data[\"accs\"].loc[roi]\n",
      "        color = roi_colors[roi]\n",
      "        sns.tsplot(timepoints, accs, color=color, label=roi, ax=ax_ts)\n",
      "        peak_data = data[\"peak\"][roi]\n",
      "        peak_ci = moss.ci(moss.bootstrap(peak_data), 68)\n",
      "        ax_pt.plot(i, peak_data.mean(), \"o\", color=color, ms=8, mew=0)\n",
      "        ax_pt.plot([i, i], peak_ci, color, lw=3)\n",
      "\n",
      "    # Represent chance empirically based on the null distribution\n",
      "    chance = array(data[\"chance\"].loc[:, :timepoints.max()].mean(axis=0))\n",
      "    for ax in [ax_ts, ax_pt]:\n",
      "        ax.plot(timepoints, chance, \"k--\")\n",
      "\n",
      "    # Now sort out the supporting plot aesthetics\n",
      "    ax_ts.axvline(0, ls=\":\", c=\"k\")\n",
      "    delta = (ts_ticks[1] - ts_ticks[0]) * .01\n",
      "    stim_chance = chance[1:3]\n",
      "    ax_ts.fill_between([0, 2], stim_chance - delta, stim_chance + delta,\n",
      "                       color=\"black\", alpha=.15)\n",
      "\n",
      "    ax_ts.set_xlim(timepoints.min(), timepoints.max())\n",
      "    ax_ts.set_ylim(ts_ticks[:2])\n",
      "    ax_ts.set_yticks(linspace(*ts_ticks))\n",
      "\n",
      "    ax_ts.set_xlabel(\"Time relative to stimulus onset (s)\")\n",
      "    ax_ts.set_ylabel(\"Cross-validated decoding accuracy\")\n",
      "\n",
      "    ax_ts.legend(frameon=False, title=\"ROI\")\n",
      "\n",
      "    ax_pt.yaxis.tick_right()\n",
      "    ax_pt.yaxis.set_label_position(\"right\")\n",
      "\n",
      "    rois = data[\"rois\"]\n",
      "    margin = len(rois) * .1\n",
      "    ax_pt.set_xlim(-margin, len(rois) - 1 + margin)\n",
      "    ax_pt.set_xticks(range(len(rois)))\n",
      "    ax_pt.set_xticklabels(rois, rotation=70)\n",
      "\n",
      "    # Save the plot\n",
      "    if save_name is not None:\n",
      "        save_figure(f, save_name)"
     ],
     "language": "python",
     "metadata": {},
     "outputs": [],
     "prompt_number": 15
    },
    {
     "cell_type": "code",
     "collapsed": false,
     "input": [
      "def dksort_significance_figure(signif, save_name=None):\n",
      "    \"\"\"Plot the percentile of the null for each subject/ROI.\"\"\"\n",
      "    f, ax = subplots(1, 1, figsize=(12, 7))\n",
      "    width = 1. / 15\n",
      "    xbase = arange(0, 1, width)\n",
      "    rois = signif.columns\n",
      "    \n",
      "    # Plot percentile across ROI/time and time correction\n",
      "    for kind, kind_df in signif.groupby(level=\"correction\"):\n",
      "        for i, roi in enumerate(rois):\n",
      "            height = kind_df[roi]\n",
      "            color = sns.desaturate(roi_colors[roi], .8)\n",
      "            alpha = .4 if kind == \"time\" else 1\n",
      "            ax.bar(xbase + i, np.sort(height), width=width,\n",
      "                   color=color, lw=0.1, alpha=alpha)\n",
      "            if i:\n",
      "                ax.axvline(i, lw=.5, color=\"#555555\")\n",
      "\n",
      "    # Twiddle with aesthetics\n",
      "    ax.set_ylim(0, 100)\n",
      "    ax.axhline(95, c=\"#444444\", ls=\"--\")\n",
      "    ax.set_xticks(arange(len(rois)) + .5)\n",
      "    ax.set_xticklabels(rois)\n",
      "    ax.xaxis.grid(False)\n",
      "    ax.set_xlabel(\"ROI\")\n",
      "    ax.set_ylabel(\"Corrected Null Distribution Percentile\")\n",
      "\n",
      "    # Save the plot\n",
      "    if save_name is not None:\n",
      "        save_figure(f, save_name)"
     ],
     "language": "python",
     "metadata": {},
     "outputs": [],
     "prompt_number": 16
    },
    {
     "cell_type": "heading",
     "level": 2,
     "metadata": {},
     "source": [
      "Behavioral Results"
     ]
    },
    {
     "cell_type": "heading",
     "level": 3,
     "metadata": {},
     "source": [
      "Speed and accuracy summary"
     ]
    },
    {
     "cell_type": "markdown",
     "metadata": {},
     "source": [
      "Summarize overall accuracy and reaction time across subjects. Take medians for RT within subject, but report the group mean over these medians."
     ]
    },
    {
     "cell_type": "code",
     "collapsed": false,
     "input": [
      "subj_accs = behav_df.groupby(\"subj\").mean()[\"correct\"]\n",
      "print \"Accuracy across subjects: Mean %.2g; Std %.2g; Min: %.2g\" % (mean(subj_accs), std(subj_accs), min(subj_accs))"
     ],
     "language": "python",
     "metadata": {},
     "outputs": [
      {
       "output_type": "stream",
       "stream": "stdout",
       "text": [
        "Accuracy across subjects: Mean 1; Std 0; Min: 1\n"
       ]
      }
     ],
     "prompt_number": 17
    },
    {
     "cell_type": "code",
     "collapsed": false,
     "input": [
      "subj_rts = behav_df.groupby(\"subj\").rt.median() * 1000\n",
      "print \"Median RT across subjects (ms) - Mean %.3g; Std %.3g\" % (mean(subj_rts), std(subj_rts)) \n",
      "subj_rt_iqrs = behav_df.groupby(\"subj\").rt.apply(moss.iqr) * 1000\n",
      "print \"RT IQRs across subjects (ms) - Mean: %.3g; Std %.3g\" % (mean(subj_rt_iqrs), std(subj_rt_iqrs))"
     ],
     "language": "python",
     "metadata": {},
     "outputs": [
      {
       "output_type": "stream",
       "stream": "stdout",
       "text": [
        "Median RT across subjects (ms) - Mean 826; Std 202\n",
        "RT IQRs across subjects (ms) - Mean: 307; Std 96.4\n"
       ]
      }
     ],
     "prompt_number": 18
    },
    {
     "cell_type": "heading",
     "level": 3,
     "metadata": {},
     "source": [
      "Speed as a function of rule"
     ]
    },
    {
     "cell_type": "markdown",
     "metadata": {},
     "source": [
      "Next, test whether the task rules influence the speed of responses. We'll perform these analyses in R using linear mixed effects models (LMEMs), which account for both within- and between-subjects variance. To test the significance of the models, we'll use likelihood ratio tests ([Barr et al. 2013](http://idiom.ucsd.edu/~rlevy/papers/barr-etal-2013-jml.pdf)). Also following this paper, we will use random effects structures that model random slopes for all main effect terms considered in the fixed effects structure.\n",
      "\n",
      "First, we fit both an interactive model and additive model (betwen rulesets) predicting RT and use a likelihood ratio test to see whether the interaction is significant."
     ]
    },
    {
     "cell_type": "code",
     "collapsed": false,
     "input": [
      "%%R \n",
      "m.rt.int = lmer(rt ~ dim_rule * dec_rule + (dim_rule + dec_rule | subj), behav_df, REML=F)\n",
      "m.rt.add = lmer(rt ~ dim_rule + dec_rule + (dim_rule + dec_rule | subj), behav_df, REML=F)\n",
      "lr_test(m.rt.int, m.rt.add, \"interaction\")"
     ],
     "language": "python",
     "metadata": {},
     "outputs": [
      {
       "metadata": {},
       "output_type": "display_data",
       "text": [
        "Likelihood ratio test for interaction:\n",
        "  Chisq(2) = 0.72; p = 0.699\n"
       ]
      }
     ],
     "prompt_number": 19
    },
    {
     "cell_type": "markdown",
     "metadata": {},
     "source": [
      "Print the additive model coefficients and standard errors"
     ]
    },
    {
     "cell_type": "code",
     "collapsed": false,
     "input": [
      "%R display(m.rt.add, digits=3)"
     ],
     "language": "python",
     "metadata": {},
     "outputs": [
      {
       "metadata": {},
       "output_type": "display_data",
       "text": [
        "lmer(formula = rt ~ dim_rule + dec_rule + (dim_rule + dec_rule | \n",
        "    subj), data = behav_df, REML = F)\n",
        "                coef.est coef.se\n",
        "(Intercept)      0.924    0.054 \n",
        "dim_rulepattern -0.010    0.014 \n",
        "dim_ruleshape   -0.017    0.013 \n",
        "dec_rulesame    -0.085    0.016 \n",
        "\n",
        "Error terms:\n",
        " Groups   Name            Std.Dev. Corr                 \n",
        " subj     (Intercept)     0.205                         \n",
        "          dim_rulepattern 0.039    -0.381               \n",
        "          dim_ruleshape   0.032    -0.174  0.977        \n",
        "          dec_rulesame    0.054    -0.006  0.143  0.151 \n",
        " Residual                 0.267                         \n",
        "---\n",
        "number of obs: 3973, groups: subj, 15\n",
        "AIC = 928.3, DIC = 898.3\n",
        "deviance = 898.3 \n"
       ]
      }
     ],
     "prompt_number": 20
    },
    {
     "cell_type": "markdown",
     "metadata": {},
     "source": [
      "Report the omnibus test for the additive model and likelihood ratio tests for each main effect."
     ]
    },
    {
     "cell_type": "code",
     "collapsed": false,
     "input": [
      "%%R\n",
      "print(anova(m.rt.add))\n",
      "m.rt.dim = lmer(rt ~ dec_rule + (dim_rule + dec_rule | subj), behav_df, REML=F)\n",
      "m.rt.dec = lmer(rt ~ dim_rule + (dim_rule + dec_rule | subj), behav_df, REML=F)\n",
      "lr_test(m.rt.add, m.rt.dim, \"dimension rule\")\n",
      "lr_test(m.rt.add, m.rt.dec, \"decision rule\")"
     ],
     "language": "python",
     "metadata": {},
     "outputs": [
      {
       "metadata": {},
       "output_type": "display_data",
       "text": [
        "Analysis of Variance Table\n",
        "         Df  Sum Sq Mean Sq F value\n",
        "dim_rule  2 0.07157 0.03579  0.5006\n",
        "dec_rule  1 1.89924 1.89924 26.5680\n",
        "Likelihood ratio test for dimension rule:\n",
        "  Chisq(2) = 1.66; p = 0.435\n",
        "Likelihood ratio test for decision rule:\n",
        "  Chisq(1) = 15.28; p = 9.27e-05\n"
       ]
      }
     ],
     "prompt_number": 21
    },
    {
     "cell_type": "markdown",
     "metadata": {},
     "source": [
      "It's possible that the dimension rules may influence RTs differently for each participant and wash out in the group analysis. To examine this possiblitly, perform a one-way ANOVA across each ruleset within each participant and count the number of subjects with a trending or significant effect."
     ]
    },
    {
     "cell_type": "code",
     "collapsed": false,
     "input": [
      "subj_grouped = behav_df.groupby(\"subj\")\n",
      "dim = subj_grouped.apply(moss.df_oneway, \"dim_rule\", \"rt\", False)\n",
      "dec = subj_grouped.apply(moss.df_oneway, \"dec_rule\", \"rt\", False)\n",
      "f_scores = pd.concat([dim, dec], keys=[\"dimension\", \"decision\"], names=[\"rules\", \"subj\"])\n",
      "print \"Median F score: %.2f\" % f_scores.loc[\"dimension\"][\"F\"].median()\n",
      "f_scores[\"p < 0.05\"] = f_scores.p < 0.05\n",
      "f_scores[\"p < 0.1\"] = f_scores.p < 0.1\n",
      "f_scores.groupby(level=\"rules\")[[\"p < 0.05\", \"p < 0.1\"]].sum()"
     ],
     "language": "python",
     "metadata": {},
     "outputs": [
      {
       "output_type": "stream",
       "stream": "stdout",
       "text": [
        "Median F score: 0.69\n"
       ]
      },
      {
       "html": [
        "<div style=\"max-height:1000px;max-width:1500px;overflow:auto;\">\n",
        "<table border=\"1\" class=\"dataframe\">\n",
        "  <thead>\n",
        "    <tr style=\"text-align: right;\">\n",
        "      <th></th>\n",
        "      <th>p &lt; 0.05</th>\n",
        "      <th>p &lt; 0.1</th>\n",
        "    </tr>\n",
        "    <tr>\n",
        "      <th>rules</th>\n",
        "      <th></th>\n",
        "      <th></th>\n",
        "    </tr>\n",
        "  </thead>\n",
        "  <tbody>\n",
        "    <tr>\n",
        "      <th>dimension</th>\n",
        "      <td> 2</td>\n",
        "      <td>  3</td>\n",
        "    </tr>\n",
        "    <tr>\n",
        "      <th>decision</th>\n",
        "      <td> 8</td>\n",
        "      <td> 10</td>\n",
        "    </tr>\n",
        "  </tbody>\n",
        "</table>\n",
        "</div>"
       ],
       "metadata": {},
       "output_type": "pyout",
       "prompt_number": 22,
       "text": [
        "           p < 0.05  p < 0.1\n",
        "rules                       \n",
        "dimension         2        3\n",
        "decision          8       10"
       ]
      }
     ],
     "prompt_number": 22
    },
    {
     "cell_type": "markdown",
     "metadata": {},
     "source": [
      "Also, to get a measurement of the slowing associated with the 'different' rule, take the difference in medians across the rules within subjects, then report the mean and bootstrapped confidence interval for the mean across subjects."
     ]
    },
    {
     "cell_type": "code",
     "collapsed": false,
     "input": [
      "decision_pivot = pd.pivot_table(behav_df, \"rt\", \"subj\", \"dec_rule\", np.median)\n",
      "diff_rule_cost = np.diff(decision_pivot, axis=1) * 1000\n",
      "diff_rule_boots = moss.bootstrap(diff_rule_cost)\n",
      "ci_low, ci_high = moss.ci(diff_rule_boots, 95)\n",
      "print \"'Different' rule effect (ms): Mean %.3g, CI: [%.3g, %.3g]\" % (diff_rule_boots.mean(), ci_low, ci_high)"
     ],
     "language": "python",
     "metadata": {},
     "outputs": [
      {
       "output_type": "stream",
       "stream": "stdout",
       "text": [
        "'Different' rule effect (ms): Mean -95.5, CI: [-124, -67]\n"
       ]
      }
     ],
     "prompt_number": 23
    },
    {
     "cell_type": "heading",
     "level": 3,
     "metadata": {},
     "source": [
      "Speed as a function of decision rule and match status"
     ]
    },
    {
     "cell_type": "markdown",
     "metadata": {},
     "source": [
      "Next we'll extend the decision rule model by considering whether the feature along the attended dimension in fact matched."
     ]
    },
    {
     "cell_type": "code",
     "collapsed": false,
     "input": [
      "%%R\n",
      "m.match.int = lmer(rt ~ attend_match * dec_rule + (attend_match + dec_rule | subj), behav_df, REML=FALSE)\n",
      "m.match.add = lmer(rt ~ attend_match + dec_rule + (attend_match + dec_rule | subj), behav_df, REML=FALSE)\n",
      "display(m.match.int, detail=TRUE, digits=4)\n",
      "lr_test(m.match.int, m.match.add, \"interaction\")"
     ],
     "language": "python",
     "metadata": {},
     "outputs": [
      {
       "metadata": {},
       "output_type": "display_data",
       "text": [
        "lmer(formula = rt ~ attend_match * dec_rule + (attend_match + \n",
        "    dec_rule | subj), data = behav_df, REML = FALSE)\n",
        "                              coef.est coef.se t value\n",
        "(Intercept)                    0.8704   0.0518 16.8101\n",
        "attend_matchTRUE               0.0890   0.0124  7.1527\n",
        "dec_rulesame                  -0.0084   0.0186 -0.4502\n",
        "attend_matchTRUE:dec_rulesame -0.1519   0.0168 -9.0221\n",
        "\n",
        "Error terms:\n",
        " Groups   Name             Std.Dev. Corr            \n",
        " subj     (Intercept)      0.1978                   \n",
        "          attend_matchTRUE 0.0135    0.3479         \n",
        "          dec_rulesame     0.0550    0.0219 -0.7653 \n",
        " Residual                  0.2651                   \n",
        "---\n",
        "number of obs: 3973, groups: subj, 15\n",
        "AIC = 844.8, DIC = 822.8\n",
        "deviance = 822.8 \n",
        "Likelihood ratio test for interaction:\n",
        "  Chisq(1) = 80.55; p = 2.83e-19\n"
       ]
      }
     ],
     "prompt_number": 24
    },
    {
     "cell_type": "markdown",
     "metadata": {},
     "source": [
      "Characterize the pattern across subjects with mean median RTs in each bin."
     ]
    },
    {
     "cell_type": "code",
     "collapsed": false,
     "input": [
      "pivots = []\n",
      "for s, df_s in behav_df.groupby(\"subj\"):\n",
      "    pivots.append(np.array(pd.pivot_table(df_s, \"rt\", \"dec_rule\", \"attend_match\", np.median)))\n",
      "pd.DataFrame(np.mean(pivots, axis=0), columns=[\"no match\", \"match\"], index=[\"different\", \"same\"]) * 1000"
     ],
     "language": "python",
     "metadata": {},
     "outputs": [
      {
       "html": [
        "<div style=\"max-height:1000px;max-width:1500px;overflow:auto;\">\n",
        "<table border=\"1\" class=\"dataframe\">\n",
        "  <thead>\n",
        "    <tr style=\"text-align: right;\">\n",
        "      <th></th>\n",
        "      <th>no match</th>\n",
        "      <th>match</th>\n",
        "    </tr>\n",
        "  </thead>\n",
        "  <tbody>\n",
        "    <tr>\n",
        "      <th>different</th>\n",
        "      <td> 827.64</td>\n",
        "      <td> 907.88</td>\n",
        "    </tr>\n",
        "    <tr>\n",
        "      <th>same</th>\n",
        "      <td> 804.83</td>\n",
        "      <td> 748.55</td>\n",
        "    </tr>\n",
        "  </tbody>\n",
        "</table>\n",
        "</div>"
       ],
       "metadata": {},
       "output_type": "pyout",
       "prompt_number": 25,
       "text": [
        "           no match   match\n",
        "different    827.64  907.88\n",
        "same         804.83  748.55"
       ]
      }
     ],
     "prompt_number": 25
    },
    {
     "cell_type": "heading",
     "level": 3,
     "metadata": {},
     "source": [
      "Response accuracy as a function of rule"
     ]
    },
    {
     "cell_type": "markdown",
     "metadata": {},
     "source": [
      "Now perform a similar sequence of analyses on response accuracy, here using mixed effects logistic regression models."
     ]
    },
    {
     "cell_type": "code",
     "collapsed": false,
     "input": [
      "%%R\n",
      "m.acc.int = lmer(correct ~ dim_rule * dec_rule +\n",
      "                 (dim_rule + dec_rule | subj), behav_full, family=binomial)\n",
      "m.acc.add = lmer(correct ~ dim_rule + dec_rule +\n",
      "                 (dim_rule + dec_rule | subj), behav_full, family=binomial)\n",
      "lr_test(m.acc.int, m.acc.add, \"interaction\")"
     ],
     "language": "python",
     "metadata": {},
     "outputs": [
      {
       "metadata": {},
       "output_type": "display_data",
       "text": [
        "Likelihood ratio test for interaction:\n",
        "  Chisq(2) = 0.15; p = 0.927\n"
       ]
      }
     ],
     "prompt_number": 26
    },
    {
     "cell_type": "code",
     "collapsed": false,
     "input": [
      "%R display(m.acc.add, detail=TRUE, digits=3)"
     ],
     "language": "python",
     "metadata": {},
     "outputs": [
      {
       "metadata": {},
       "output_type": "display_data",
       "text": [
        "glmer(formula = correct ~ dim_rule + dec_rule + (dim_rule + dec_rule | \n",
        "    subj), data = behav_full, family = binomial)\n",
        "                coef.est coef.se z value Pr(>|z|)\n",
        "(Intercept)      3.098    0.230  13.449   0.000  \n",
        "dim_rulepattern -0.320    0.177  -1.801   0.072  \n",
        "dim_ruleshape   -0.142    0.223  -0.636   0.525  \n",
        "dec_rulesame     0.405    0.180   2.246   0.025  \n",
        "\n",
        "Error terms:\n",
        " Groups   Name            Std.Dev. Corr                 \n",
        " subj     (Intercept)     0.680                         \n",
        "          dim_rulepattern 0.126    -1.000               \n",
        "          dim_ruleshape   0.478    -0.250  0.250        \n",
        "          dec_rulesame    0.395    -0.285  0.285 -0.347 \n",
        " Residual                 1.000                         \n",
        "---\n",
        "number of obs: 4320, groups: subj, 15\n",
        "AIC = 1695.6, DIC = 1667.6\n",
        "deviance = 1667.6 \n"
       ]
      }
     ],
     "prompt_number": 27
    },
    {
     "cell_type": "code",
     "collapsed": false,
     "input": [
      "%%R\n",
      "m.acc.dim = lmer(correct ~ dec_rule + (dim_rule + dec_rule | subj), behav_full, family=binomial)\n",
      "m.acc.dec = lmer(correct ~ dim_rule + (dim_rule + dec_rule | subj), behav_full, family=binomial)\n",
      "lr_test(m.acc.add, m.acc.dim, \"dimension rules\")\n",
      "lr_test(m.acc.add, m.acc.dec, \"decision rules\")"
     ],
     "language": "python",
     "metadata": {},
     "outputs": [
      {
       "metadata": {},
       "output_type": "display_data",
       "text": [
        "Likelihood ratio test for dimension rules:\n",
        "  Chisq(2) = 2.64; p = 0.267\n",
        "Likelihood ratio test for decision rules:\n",
        "  Chisq(1) = 3.85; p = 0.0498\n"
       ]
      }
     ],
     "prompt_number": 28
    },
    {
     "cell_type": "code",
     "collapsed": false,
     "input": [
      "decision_pivot = pd.pivot_table(behav_full, \"correct\", \"subj\", \"dec_rule\")\n",
      "diff_rule_cost = np.diff(decision_pivot, axis=1) * 100\n",
      "diff_rule_boots = moss.bootstrap(diff_rule_cost)\n",
      "ci_low, ci_high = moss.ci(diff_rule_boots, 95)\n",
      "str_args = (diff_rule_cost.mean(), ci_low, ci_high)\n",
      "print \"'Different' rule response accuracy cost: %.2g%%; CI: [%.2g%%, %.2g%%]\" % str_args"
     ],
     "language": "python",
     "metadata": {},
     "outputs": [
      {
       "output_type": "stream",
       "stream": "stdout",
       "text": [
        "'Different' rule response accuracy cost: 1.9%; CI: [0.32%, 3.7%]\n"
       ]
      }
     ],
     "prompt_number": 29
    },
    {
     "cell_type": "heading",
     "level": 3,
     "metadata": {},
     "source": [
      "Rule Switching Analyses"
     ]
    },
    {
     "cell_type": "markdown",
     "metadata": {},
     "source": [
      "Now consider how shifting back and forth between different rulesets influences response speed.\n",
      "\n",
      "First, analyze it as a function of how many trials have elapsed since the rule switch. We'll fit this in two separate models as the lag is frequently identical for each ruleset."
     ]
    },
    {
     "cell_type": "code",
     "collapsed": false,
     "input": [
      "%%R\n",
      "m.lag.dim = lmer(rt ~ dim_shift_lag + (dim_shift_lag | subj), behav_df, REML=FALSE)\n",
      "m.lag.dec = lmer(rt ~ dec_shift_lag + (dec_shift_lag | subj), behav_df, REML=FALSE)"
     ],
     "language": "python",
     "metadata": {},
     "outputs": [],
     "prompt_number": 30
    },
    {
     "cell_type": "code",
     "collapsed": false,
     "input": [
      "%R display(m.lag.dim, digits=3, detail=TRUE)"
     ],
     "language": "python",
     "metadata": {},
     "outputs": [
      {
       "metadata": {},
       "output_type": "display_data",
       "text": [
        "lmer(formula = rt ~ dim_shift_lag + (dim_shift_lag | subj), data = behav_df, \n",
        "    REML = FALSE)\n",
        "              coef.est coef.se t value\n",
        "(Intercept)    0.872    0.052  16.765 \n",
        "dim_shift_lag  0.000    0.002   0.112 \n",
        "\n",
        "Error terms:\n",
        " Groups   Name          Std.Dev. Corr  \n",
        " subj     (Intercept)   0.200          \n",
        "          dim_shift_lag 0.001    1.000 \n",
        " Residual               0.273          \n",
        "---\n",
        "number of obs: 3973, groups: subj, 15\n",
        "AIC = 1038, DIC = 1026\n",
        "deviance = 1026.0 \n"
       ]
      }
     ],
     "prompt_number": 31
    },
    {
     "cell_type": "code",
     "collapsed": false,
     "input": [
      "%R display(m.lag.dec, digits=3, detail=TRUE)"
     ],
     "language": "python",
     "metadata": {},
     "outputs": [
      {
       "metadata": {},
       "output_type": "display_data",
       "text": [
        "lmer(formula = rt ~ dec_shift_lag + (dec_shift_lag | subj), data = behav_df, \n",
        "    REML = FALSE)\n",
        "              coef.est coef.se t value\n",
        "(Intercept)    0.885    0.055  16.076 \n",
        "dec_shift_lag -0.005    0.002  -2.153 \n",
        "\n",
        "Error terms:\n",
        " Groups   Name          Std.Dev. Corr   \n",
        " subj     (Intercept)   0.212           \n",
        "          dec_shift_lag 0.004    -0.909 \n",
        " Residual               0.272           \n",
        "---\n",
        "number of obs: 3973, groups: subj, 15\n",
        "AIC = 1027.9, DIC = 1015.9\n",
        "deviance = 1015.9 \n"
       ]
      }
     ],
     "prompt_number": 32
    },
    {
     "cell_type": "code",
     "collapsed": false,
     "input": [
      "%%R\n",
      "m.lag.nodim = lmer(rt ~ 1 + (dim_shift_lag | subj), behav_df, REML=FALSE)\n",
      "m.lag.nodec = lmer(rt ~ 1 + (dec_shift_lag | subj), behav_df, REML=FALSE)\n",
      "lr_test(m.lag.dim, m.lag.nodim, \"dimension rules\")\n",
      "lr_test(m.lag.dec, m.lag.nodec, \"decision rules\")"
     ],
     "language": "python",
     "metadata": {},
     "outputs": [
      {
       "metadata": {},
       "output_type": "display_data",
       "text": [
        "Likelihood ratio test for dimension rules:\n",
        "  Chisq(1) = 0.01; p = 0.911\n",
        "Likelihood ratio test for decision rules:\n",
        "  Chisq(1) = 3.95; p = 0.0467\n"
       ]
      }
     ],
     "prompt_number": 33
    },
    {
     "cell_type": "markdown",
     "metadata": {},
     "source": [
      "Next, directly test switch costs by analyzing RT on the first trial of each block as a function of rule switches. We can do this in one model."
     ]
    },
    {
     "cell_type": "code",
     "collapsed": false,
     "input": [
      "%%R\n",
      "shift_subset = behav_df$block_pos == 0\n",
      "m.shift.add = lmer(rt ~ dim_shift + dec_shift + (dim_shift + dec_shift | subj),\n",
      "                   behav_df, subset=shift_subset, REML=FALSE)\n",
      "m.shift.int = lmer(rt ~ dim_shift * dec_shift + (dim_shift + dec_shift | subj), behav_df,\n",
      "                   subset=shift_subset, REML=FALSE)\n",
      "lr_test(m.shift.add, m.shift.int, \"interaction\")"
     ],
     "language": "python",
     "metadata": {},
     "outputs": [
      {
       "metadata": {},
       "output_type": "display_data",
       "text": [
        "Likelihood ratio test for interaction:\n",
        "  Chisq(1) = 0.78; p = 0.376\n"
       ]
      }
     ],
     "prompt_number": 34
    },
    {
     "cell_type": "code",
     "collapsed": false,
     "input": [
      "%R display(m.shift.add, digits=4, detail=TRUE)"
     ],
     "language": "python",
     "metadata": {},
     "outputs": [
      {
       "metadata": {},
       "output_type": "display_data",
       "text": [
        "lmer(formula = rt ~ dim_shift + dec_shift + (dim_shift + dec_shift | \n",
        "    subj), data = behav_df, REML = FALSE, subset = shift_subset)\n",
        "              coef.est coef.se t value\n",
        "(Intercept)    0.8622   0.0552 15.6066\n",
        "dim_shiftTRUE  0.0128   0.0172  0.7445\n",
        "dec_shiftTRUE  0.0211   0.0169  1.2452\n",
        "\n",
        "Error terms:\n",
        " Groups   Name          Std.Dev. Corr            \n",
        " subj     (Intercept)   0.2033                   \n",
        "          dim_shiftTRUE 0.0112   -1.0000         \n",
        "          dec_shiftTRUE 0.0265    1.0000 -1.0000 \n",
        " Residual               0.2740                   \n",
        "---\n",
        "number of obs: 1298, groups: subj, 15\n",
        "AIC = 402.2, DIC = 382.2\n",
        "deviance = 382.2 \n"
       ]
      }
     ],
     "prompt_number": 35
    },
    {
     "cell_type": "code",
     "collapsed": false,
     "input": [
      "%%R\n",
      "m.shift.nodim = lmer(rt ~ dec_shift + (dim_shift + dec_shift | subj),\n",
      "                     behav_df, subset=shift_subset, REML=FALSE)\n",
      "m.shift.nodec = lmer(rt ~ dim_shift + (dim_shift + dec_shift | subj),\n",
      "                     behav_df, subset=shift_subset, REML=FALSE)\n",
      "lr_test(m.shift.add, m.shift.nodim, \"dimension rule\")\n",
      "lr_test(m.shift.add, m.shift.nodec, \"decision rule\")"
     ],
     "language": "python",
     "metadata": {},
     "outputs": [
      {
       "metadata": {},
       "output_type": "display_data",
       "text": [
        "Likelihood ratio test for dimension rule:\n",
        "  Chisq(1) = 0.55; p = 0.457\n",
        "Likelihood ratio test for decision rule:\n",
        "  Chisq(1) = 1.52; p = 0.217\n"
       ]
      }
     ],
     "prompt_number": 36
    },
    {
     "cell_type": "heading",
     "level": 3,
     "metadata": {},
     "source": [
      "Behavioral Analysis Figures"
     ]
    },
    {
     "cell_type": "markdown",
     "metadata": {},
     "source": [
      "Here is the main behavioral analysis figure. There is a lot of information packed into this plot, so it is complicated to draw."
     ]
    },
    {
     "cell_type": "code",
     "collapsed": false,
     "input": [
      "# Set up variables shared across subplots\n",
      "dfs = [behav_df, behav_full]\n",
      "measures = [\"rt\", \"correct\"]\n",
      "agg_funcs = [median, mean]\n",
      "xlabels = [\"Dimension Rules\", \"Trials Since Rule Switch\"]\n",
      "ylabels = [\"Reaction Time (s)\", \"Response Accuracy\"]\n",
      "xlims = [[-.5, 2.5], [-.5, 5.5]]\n",
      "ylims = [[.4, 1.2], [.8, 1]]\n",
      "yticks = 5\n",
      "err_kws = dict(elinewidth=2, capsize=5, mew=1.5, zorder=2)\n",
      "ms, mew, lw, capsize = 11, 2.5, 2.5, 5\n",
      "lag_colors = dict(dimension=\"black\", decision=\"lightslategray\")\n",
      "\n",
      "# Draw each plot\n",
      "f, axes = subplots(2, 2, figsize=(9, 9))\n",
      "for i in range(2):\n",
      "\n",
      "    # First analyze RT/accuracy analysis sorted by rule types\n",
      "    pivots = []\n",
      "    for subj, df_subj in dfs[i].groupby(\"subj\"):\n",
      "        pivot = pd.pivot_table(df_subj, measures[i], \"dim_rule\", \"dec_rule\", agg_funcs[i])\n",
      "        pivots.append(np.array(pivot))\n",
      "    pivots = np.array(pivots, float)\n",
      "    means = pivots.mean(axis=0)\n",
      "    cis = moss.ci(moss.bootstrap(pivots, axis=0), 95, axis=0)\n",
      "\n",
      "    # Plot the above results in plot columns\n",
      "    ax = axes[i, 0]\n",
      "    for dim in range(3):\n",
      "        color = rule_colors[\"dim\"][dim]\n",
      "        for dec in range(2):\n",
      "            x = dim + (dec - .5) / 3.5\n",
      "            y = means[dim, dec]\n",
      "            yerr = sns.ci_to_errsize(cis[:, dim, dec], y)\n",
      "            mfc = ax.get_axis_bgcolor() if dec else color\n",
      "            ax.errorbar(x, y, yerr, ecolor=color, lw=lw, mew=mew, ms=ms,\n",
      "                        mfc=mfc, capsize=capsize, marker=\"o\", mec=color)\n",
      "\n",
      "    # Draw two plots out of the axis range to support the legend\n",
      "    for j, rule in enumerate([\"same\", \"different\"]):\n",
      "        ax.plot(-1, -1, \"o\", color=\"#444444\", mec=\"#444444\", ms=ms-3,\n",
      "                mfc=[\"#444444\", \"none\"][j], mew=mew, label=\"'%s' rule\" % rule)\n",
      "    ax.set_xticks(range(3))\n",
      "    ax.set_xticklabels([\"shape\", \"color\", \"pattern\"])\n",
      "\n",
      "    # Now do the analysis as a function of rule switching\n",
      "    for j, ruleset in enumerate([\"dimension\", \"decision\"]):\n",
      "        color = lag_colors[ruleset]\n",
      "        lag_pivot = pd.pivot_table(dfs[i], measures[i], \"subj\", ruleset[:3] + \"_shift_lag\", agg_funcs[i])\n",
      "        ts_kws =  dict(err_style=\"ci_bars\", color=color, ci=95,\n",
      "                       lw=lw, err_kws=err_kws, zorder=2, ax=axes[i, 1])\n",
      "        sns.tsplot([0, 1, 2], lag_pivot.loc[:, :2], **ts_kws)\n",
      "        sns.tsplot([2, 3], lag_pivot.loc[:, (2, 3)], linestyle=\"--\", **ts_kws)\n",
      "        sns.tsplot([3, 4, 5], lag_pivot.loc[:, 3:5], label=ruleset + \" rules\", **ts_kws)\n",
      "\n",
      "    # Finally, iterate through the plots and set more supporting variables\n",
      "    for j in range(2):\n",
      "        ax = axes[i, j]\n",
      "        ax.set_xlim(*xlims[j])\n",
      "        ax.set_ylim(*ylims[i])\n",
      "        ax.set_yticks(linspace(*ylims[i] + [yticks]))\n",
      "        if i:\n",
      "            ax.set_xlabel(xlabels[j])\n",
      "        if not j:\n",
      "            ax.set_ylabel(ylabels[i])\n",
      "        title = [\"Decision Rules\", \"\"][j]\n",
      "        ax.legend(frameon=False, loc=3, numpoints=1, title=title)\n",
      "f.tight_layout()\n",
      "f.subplots_adjust(bottom=.08)\n",
      "save_figure(f, \"behavioral_main\")"
     ],
     "language": "python",
     "metadata": {},
     "outputs": [
      {
       "metadata": {},
       "output_type": "display_data",
       "png": "[encoded data removed]",
       "text": [
        "<matplotlib.figure.Figure at 0x126bcd4d0>"
       ]
      }
     ],
     "prompt_number": 37
    },
    {
     "cell_type": "markdown",
     "metadata": {},
     "source": [
      "<div style=\"width:585px;padding-left:120px\" align=\"justify\">\n",
      "**Main Behavioral Results:** Results of reaction times (top row) and proportion correct responses (bottom row) analyzed as a function of rule type (left column) or trials since rule switch (right column). Reaction times were first collapsed within subject by taking the median in each bin, and are relative to the onset of the second stimulus. All error bars represent bootstrapped 95% confidence intervals for the mean across subjects. Lines in the right column are dashed between trials 2 and 3 to indicate passage through a mini-block boundary, at which point a new rule cue was presented (even when the rules did not switch).\n",
      "</div>"
     ]
    },
    {
     "cell_type": "markdown",
     "metadata": {},
     "source": [
      "Now the supplemental behavioral figure."
     ]
    },
    {
     "cell_type": "code",
     "collapsed": false,
     "input": [
      "fig, axes = subplots(2, 1, figsize=(11, 10))\n",
      "positions = dict(dim=[.25, .5, .75], dec=[.33, .66])\n",
      "widths = dict(dim=.18, dec=.25)\n",
      "rules = dict(dim=[\"shape\", \"color\", \"pattern\"], dec=[\"same\", \"different\"])\n",
      "subj_medians = subj_grouped.rt.median()\n",
      "subj_sorted = subjects[np.argsort(subj_medians)]\n",
      "for ruleset, ax in zip([\"dimension\", \"decision\"], axes):\n",
      "    for i, subj in enumerate(subj_sorted):\n",
      "        df_i = behav_df[behav_df[\"subj\"] == subj]\n",
      "        for j, (rule, df_rule) in enumerate(df_i.groupby(ruleset[:3] + \"_rule\")):\n",
      "            pos = np.array([i + positions[ruleset[:3]][j]])\n",
      "            rule_rt = np.array(df_rule[\"rt\"])\n",
      "            color = sns.desaturate(rule_colors[ruleset[:3]][j], .7)\n",
      "            sns.boxplot([rule_rt], color=color, positions=pos,\n",
      "                        whis=1.75, widths=widths[ruleset[:3]], ax=ax)\n",
      "    ax.set_xlim(0, 15)\n",
      "    ax.set_xticks(arange(15) + 0.5)\n",
      "    rule_fs = f_scores[\"F\"][ruleset].reindex(subj_sorted)\n",
      "    ax.set_xticklabels([\"%.2g\" % f for f in rule_fs])\n",
      "    ax.set_ylabel(\"Reaction Time (s)\")\n",
      "    ax.set_xlabel(\"One-way F Score\")\n",
      "    indiv_rules = rules[ruleset[:3]]\n",
      "    n_rules = len(indiv_rules)\n",
      "    ax.legend(ax.artists[:n_rules], indiv_rules, loc=4,\n",
      "              frameon=False, ncol=n_rules, prop=dict(size=12))\n",
      "fig.tight_layout()\n",
      "save_figure(fig, \"behavioral_supp\")"
     ],
     "language": "python",
     "metadata": {},
     "outputs": [
      {
       "metadata": {},
       "output_type": "display_data",
       "png": "[encoded data removed]",
       "text": [
        "<matplotlib.figure.Figure at 0x128f2d0d0>"
       ]
      }
     ],
     "prompt_number": 38
    },
    {
     "cell_type": "markdown",
     "metadata": {},
     "source": [
      "<div style=\"width:730px;padding-left:120px\" align=\"justify\">\n",
      "**Reaction time distributions by subject and rule type:** Each set of plots displays the reaction time distributions, sorted by rule, for each subject. Top plot sorts by the dimension rules; bottom plot sorts by decision rules. For each plot, the box represents 25th, 50th, and 75th percentile. Whiskers extend 1.75 times the interquartile range past the edge of the box, and points lying outside this range are individually marked as outliers. Plots are sorted on the x axis by median within-subject RT. The *F* score corresponding to the within subject one-way ANOVA over rules is displayed below each subject's set of plots.\n",
      "</div>"
     ]
    },
    {
     "cell_type": "heading",
     "level": 2,
     "metadata": {},
     "source": [
      "ROI Statistics"
     ]
    },
    {
     "cell_type": "heading",
     "level": 3,
     "metadata": {},
     "source": [
      "ROI Sizes"
     ]
    },
    {
     "cell_type": "markdown",
     "metadata": {},
     "source": [
      "For each subject and ROI, load the mask file and count the number of voxels included in the mask."
     ]
    },
    {
     "cell_type": "code",
     "collapsed": false,
     "input": [
      "all_rois = pd.Series(pfc_rois + net_rois[1:], name=\"roi\")\n",
      "roi_sizes = pd.DataFrame(columns=all_rois, index=subjects, dtype=float)\n",
      "mask_template = \"../data/%s/masks/yeo17_%s.nii.gz\"\n",
      "for roi in roi_sizes:\n",
      "    for subj in subjects:\n",
      "        vox_count = nib.load(mask_template % (subj, roi.lower())).get_data().sum()\n",
      "        roi_sizes.loc[subj, roi] = vox_count\n",
      "roi_sizes.describe().loc[[\"mean\", \"std\"]].astype(int)"
     ],
     "language": "python",
     "metadata": {},
     "outputs": [
      {
       "html": [
        "<div style=\"max-height:1000px;max-width:1500px;overflow:auto;\">\n",
        "<table border=\"1\" class=\"dataframe\">\n",
        "  <thead>\n",
        "    <tr style=\"text-align: right;\">\n",
        "      <th>roi</th>\n",
        "      <th>IFS</th>\n",
        "      <th>aMFG</th>\n",
        "      <th>pMFG</th>\n",
        "      <th>FPC</th>\n",
        "      <th>IFG</th>\n",
        "      <th>aIns</th>\n",
        "      <th>pSFS</th>\n",
        "      <th>IPS</th>\n",
        "      <th>OTC</th>\n",
        "    </tr>\n",
        "  </thead>\n",
        "  <tbody>\n",
        "    <tr>\n",
        "      <th>mean</th>\n",
        "      <td> 616</td>\n",
        "      <td> 560</td>\n",
        "      <td> 461</td>\n",
        "      <td> 584</td>\n",
        "      <td> 528</td>\n",
        "      <td> 352</td>\n",
        "      <td> 275</td>\n",
        "      <td> 407</td>\n",
        "      <td> 1869</td>\n",
        "    </tr>\n",
        "    <tr>\n",
        "      <th>std</th>\n",
        "      <td>  84</td>\n",
        "      <td>  68</td>\n",
        "      <td>  60</td>\n",
        "      <td>  62</td>\n",
        "      <td>  57</td>\n",
        "      <td>  38</td>\n",
        "      <td>  57</td>\n",
        "      <td>  48</td>\n",
        "      <td>  224</td>\n",
        "    </tr>\n",
        "  </tbody>\n",
        "</table>\n",
        "</div>"
       ],
       "metadata": {},
       "output_type": "pyout",
       "prompt_number": 39,
       "text": [
        "roi   IFS  aMFG  pMFG  FPC  IFG  aIns  pSFS  IPS   OTC\n",
        "mean  616   560   461  584  528   352   275  407  1869\n",
        "std    84    68    60   62   57    38    57   48   224"
       ]
      }
     ],
     "prompt_number": 39
    },
    {
     "cell_type": "markdown",
     "metadata": {},
     "source": [
      "Extract the PFC ROIs and put them into long-form."
     ]
    },
    {
     "cell_type": "code",
     "collapsed": false,
     "input": [
      "pfc_sizes = roi_sizes[pfc_rois].stack().reset_index()\n",
      "pfc_sizes.columns = [\"subj\", \"roi\", \"size\"]"
     ],
     "language": "python",
     "metadata": {},
     "outputs": [],
     "prompt_number": 40
    },
    {
     "cell_type": "markdown",
     "metadata": {},
     "source": [
      "Run a repeated-measures ANOVA to test whether size differs over ROI."
     ]
    },
    {
     "cell_type": "code",
     "collapsed": false,
     "input": [
      "%%R -i pfc_sizes \n",
      "m.size = lmer(size ~ roi + (roi | subj), pfc_sizes, REML=FALSE)\n",
      "m.size.noroi = lmer(size ~ 1 + (roi | subj), pfc_sizes, REML=FALSE)\n",
      "print(anova(m.size))\n",
      "lr_test(m.size, m.size.noroi, \"main effect of ROI\")"
     ],
     "language": "python",
     "metadata": {},
     "outputs": [
      {
       "metadata": {},
       "output_type": "display_data",
       "text": [
        "Analysis of Variance Table\n",
        "    Df Sum Sq Mean Sq F value\n",
        "roi  6 142074   23679  159.89\n",
        "Likelihood ratio test for main effect of ROI:\n",
        "  Chisq(6) = 62.68; p = 1.28e-11\n"
       ]
      }
     ],
     "prompt_number": 41
    },
    {
     "cell_type": "markdown",
     "metadata": {},
     "source": [
      "Now the same for the \"network\" set of regions."
     ]
    },
    {
     "cell_type": "code",
     "collapsed": false,
     "input": [
      "net_sizes = roi_sizes[net_rois].stack().reset_index()\n",
      "net_sizes.columns = [\"subj\", \"roi\", \"size\"]"
     ],
     "language": "python",
     "metadata": {},
     "outputs": [],
     "prompt_number": 42
    },
    {
     "cell_type": "code",
     "collapsed": false,
     "input": [
      "%%R -i net_sizes\n",
      "m.size = lmer(size ~ roi + (roi | subj), net_sizes, REML=FALSE)\n",
      "m.size.noroi = lmer(size ~ 1 + (roi | subj), net_sizes, REML=FALSE)\n",
      "print(anova(m.size))\n",
      "lr_test(m.size, m.size.noroi, \"main effect of ROI\")"
     ],
     "language": "python",
     "metadata": {},
     "outputs": [
      {
       "metadata": {},
       "output_type": "display_data",
       "text": [
        "Analysis of Variance Table\n",
        "    Df Sum Sq Mean Sq F value\n",
        "roi  2 794287  397144  456.82\n",
        "Likelihood ratio test for main effect of ROI:\n",
        "  Chisq(2) = 93.34; p = 5.39e-21\n"
       ]
      }
     ],
     "prompt_number": 43
    },
    {
     "cell_type": "heading",
     "level": 3,
     "metadata": {},
     "source": [
      "Mean signal"
     ]
    },
    {
     "cell_type": "markdown",
     "metadata": {},
     "source": [
      "Now look at the mean signal across each ROI in the original (preprocessed) timecourse."
     ]
    },
    {
     "cell_type": "code",
     "collapsed": false,
     "input": [
      "roi_signal = pd.DataFrame(columns=all_rois, index=subjects, dtype=float)\n",
      "for roi in all_rois:\n",
      "    signal = evoked.extract_group(\"yeo17_\" + roi.lower(), dv=dv4)\n",
      "    signal = [concatenate(d[\"data\"]).mean() for d in signal]\n",
      "    roi_signal[roi] = signal\n",
      "(roi_signal / 100).describe().loc[[\"mean\", \"std\"]]"
     ],
     "language": "python",
     "metadata": {},
     "outputs": [
      {
       "html": [
        "<div style=\"max-height:1000px;max-width:1500px;overflow:auto;\">\n",
        "<table border=\"1\" class=\"dataframe\">\n",
        "  <thead>\n",
        "    <tr style=\"text-align: right;\">\n",
        "      <th>roi</th>\n",
        "      <th>IFS</th>\n",
        "      <th>aMFG</th>\n",
        "      <th>pMFG</th>\n",
        "      <th>FPC</th>\n",
        "      <th>IFG</th>\n",
        "      <th>aIns</th>\n",
        "      <th>pSFS</th>\n",
        "      <th>IPS</th>\n",
        "      <th>OTC</th>\n",
        "    </tr>\n",
        "  </thead>\n",
        "  <tbody>\n",
        "    <tr>\n",
        "      <th>mean</th>\n",
        "      <td> 116.51</td>\n",
        "      <td> 118.78</td>\n",
        "      <td> 117.50</td>\n",
        "      <td> 102.56</td>\n",
        "      <td> 99.55</td>\n",
        "      <td> 118.01</td>\n",
        "      <td> 116.80</td>\n",
        "      <td> 138.11</td>\n",
        "      <td> 117.82</td>\n",
        "    </tr>\n",
        "    <tr>\n",
        "      <th>std</th>\n",
        "      <td>   2.49</td>\n",
        "      <td>   5.24</td>\n",
        "      <td>   4.71</td>\n",
        "      <td>   7.31</td>\n",
        "      <td>  5.64</td>\n",
        "      <td>   2.91</td>\n",
        "      <td>   3.77</td>\n",
        "      <td>   5.84</td>\n",
        "      <td>   5.17</td>\n",
        "    </tr>\n",
        "  </tbody>\n",
        "</table>\n",
        "</div>"
       ],
       "metadata": {},
       "output_type": "pyout",
       "prompt_number": 44,
       "text": [
        "roi      IFS    aMFG    pMFG     FPC    IFG    aIns    pSFS     IPS     OTC\n",
        "mean  116.51  118.78  117.50  102.56  99.55  118.01  116.80  138.11  117.82\n",
        "std     2.49    5.24    4.71    7.31   5.64    2.91    3.77    5.84    5.17"
       ]
      }
     ],
     "prompt_number": 44
    },
    {
     "cell_type": "markdown",
     "metadata": {},
     "source": [
      "Extract the PFC ROIs and put them into long form."
     ]
    },
    {
     "cell_type": "code",
     "collapsed": false,
     "input": [
      "pfc_signal = roi_signal[pfc_rois].stack().reset_index()\n",
      "pfc_signal.columns = [\"subj\", \"roi\", \"signal\"]"
     ],
     "language": "python",
     "metadata": {},
     "outputs": [],
     "prompt_number": 45
    },
    {
     "cell_type": "markdown",
     "metadata": {},
     "source": [
      "Perform a repeated measures ANOVA to test for the difference in signal over PFC ROIs."
     ]
    },
    {
     "cell_type": "code",
     "collapsed": false,
     "input": [
      "%%R -i pfc_signal \n",
      "m.signal = lmer(signal ~ roi + (roi | subj), pfc_signal, REML=FALSE)\n",
      "m.signal.noroi = lmer(signal ~ 1 + (roi | subj), pfc_signal, REML=FALSE)\n",
      "print(anova(m.signal))\n",
      "lr_test(m.signal, m.signal.noroi, \"main effect of ROI\")"
     ],
     "language": "python",
     "metadata": {},
     "outputs": [
      {
       "metadata": {},
       "output_type": "display_data",
       "text": [
        "Analysis of Variance Table\n",
        "    Df Sum Sq Mean Sq F value\n",
        "roi  6 636574  106096  56.132\n",
        "Likelihood ratio test for main effect of ROI:\n",
        "  Chisq(6) = 47.60; p = 1.42e-08\n"
       ]
      }
     ],
     "prompt_number": 46
    },
    {
     "cell_type": "markdown",
     "metadata": {},
     "source": [
      "Now repeat this analsis for the \"network\" ROIs"
     ]
    },
    {
     "cell_type": "code",
     "collapsed": false,
     "input": [
      "net_signal = roi_signal[net_rois].stack().reset_index()\n",
      "net_signal.columns = [\"subj\", \"roi\", \"signal\"]"
     ],
     "language": "python",
     "metadata": {},
     "outputs": [],
     "prompt_number": 47
    },
    {
     "cell_type": "code",
     "collapsed": false,
     "input": [
      "%%R -i net_signal \n",
      "m.signal = lmer(signal ~ roi + (roi | subj), net_signal, REML=FALSE)\n",
      "m.signal.noroi = lmer(signal ~ 1 + (roi | subj), net_signal, REML=FALSE)\n",
      "print(anova(m.signal))\n",
      "lr_test(m.signal, m.signal.noroi, \"main effect of ROI\")"
     ],
     "language": "python",
     "metadata": {},
     "outputs": [
      {
       "metadata": {},
       "output_type": "display_data",
       "text": [
        "Analysis of Variance Table\n",
        "    Df  Sum Sq Mean Sq F value\n",
        "roi  2 7907699 3953850   126.9\n",
        "Likelihood ratio test for main effect of ROI:\n",
        "  Chisq(2) = 43.29; p = 3.98e-10\n"
       ]
      }
     ],
     "prompt_number": 48
    },
    {
     "cell_type": "heading",
     "level": 2,
     "metadata": {},
     "source": [
      "Context Decoding in Lateral Prefrontal Cortex"
     ]
    },
    {
     "cell_type": "markdown",
     "metadata": {},
     "source": [
      "Now we turn to the central fMRI analyses: multivariate decoding of task variables from voxel populations in our cortical ROIs."
     ]
    },
    {
     "cell_type": "heading",
     "level": 3,
     "metadata": {},
     "source": [
      "Decoding of Dimension Rules"
     ]
    },
    {
     "cell_type": "markdown",
     "metadata": {},
     "source": [
      "First try to decode the Dimension Rules -- that is, whether subjects should attend to the color, shape, or pattern of the multidimensional stimuli. We will fit separate models for each of the six prefrontal ROIs at each of six timepoints from one TR before stimulus onset (during which time there was an anticipatory cue that signlaed only an oncoming stimulus) through five TRs following stimulus onset.\n",
      "\n",
      "We defined a function above that does the heavy lifting on the analysis. We'll run that and then unpack the results over the next few cells."
     ]
    },
    {
     "cell_type": "code",
     "collapsed": false,
     "input": [
      "pfc_dimension = dksort_decode(pfc_rois, \"dimension\")"
     ],
     "language": "python",
     "metadata": {},
     "outputs": [],
     "prompt_number": 49
    },
    {
     "cell_type": "markdown",
     "metadata": {},
     "source": [
      "We calculate a t statistic for each region and timepoint by subtracting a shuffled chance estimate from each subject's accuracy and then using a randomization test against the null hypothesis that the group mean is 0. We then report the maximum t statiatisc across time for each region, along with a p value that is corrected for multiple comparisons across time and region."
     ]
    },
    {
     "cell_type": "code",
     "collapsed": false,
     "input": [
      "pfc_dimension[\"ttest\"]"
     ],
     "language": "python",
     "metadata": {},
     "outputs": [
      {
       "html": [
        "<div style=\"max-height:1000px;max-width:1500px;overflow:auto;\">\n",
        "<table border=\"1\" class=\"dataframe\">\n",
        "  <thead>\n",
        "    <tr style=\"text-align: right;\">\n",
        "      <th></th>\n",
        "      <th>t</th>\n",
        "      <th>p</th>\n",
        "      <th>max_tp</th>\n",
        "    </tr>\n",
        "    <tr>\n",
        "      <th>ROI</th>\n",
        "      <th></th>\n",
        "      <th></th>\n",
        "      <th></th>\n",
        "    </tr>\n",
        "  </thead>\n",
        "  <tbody>\n",
        "    <tr>\n",
        "      <th>FPC</th>\n",
        "      <td> 3.04</td>\n",
        "      <td> 1.21e-01</td>\n",
        "      <td> 2</td>\n",
        "    </tr>\n",
        "    <tr>\n",
        "      <th>IFG</th>\n",
        "      <td> 2.36</td>\n",
        "      <td> 3.45e-01</td>\n",
        "      <td> 2</td>\n",
        "    </tr>\n",
        "    <tr>\n",
        "      <th>IFS</th>\n",
        "      <td> 8.63</td>\n",
        "      <td> 0.00e+00</td>\n",
        "      <td> 4</td>\n",
        "    </tr>\n",
        "    <tr>\n",
        "      <th>aIns</th>\n",
        "      <td> 4.38</td>\n",
        "      <td> 1.31e-02</td>\n",
        "      <td> 2</td>\n",
        "    </tr>\n",
        "    <tr>\n",
        "      <th>aMFG</th>\n",
        "      <td> 5.97</td>\n",
        "      <td> 3.00e-04</td>\n",
        "      <td> 4</td>\n",
        "    </tr>\n",
        "    <tr>\n",
        "      <th>pMFG</th>\n",
        "      <td> 5.81</td>\n",
        "      <td> 9.00e-04</td>\n",
        "      <td> 4</td>\n",
        "    </tr>\n",
        "    <tr>\n",
        "      <th>pSFS</th>\n",
        "      <td> 3.57</td>\n",
        "      <td> 5.12e-02</td>\n",
        "      <td> 6</td>\n",
        "    </tr>\n",
        "  </tbody>\n",
        "</table>\n",
        "</div>"
       ],
       "metadata": {},
       "output_type": "pyout",
       "prompt_number": 50,
       "text": [
        "         t         p  max_tp\n",
        "ROI                         \n",
        "FPC   3.04  1.21e-01       2\n",
        "IFG   2.36  3.45e-01       2\n",
        "IFS   8.63  0.00e+00       4\n",
        "aIns  4.38  1.31e-02       2\n",
        "aMFG  5.97  3.00e-04       4\n",
        "pMFG  5.81  9.00e-04       4\n",
        "pSFS  3.57  5.12e-02       6"
       ]
      }
     ],
     "prompt_number": 50
    },
    {
     "cell_type": "markdown",
     "metadata": {},
     "source": [
      "We also use the shuffled null distribution to assess the significance of the individual subject decoding models. Report here how many subjects have at least one model over time for each region reach \"significance\", where signficiance is defined as p < 0.05, one-tailed, corrected for multiple comparisons either across regions and time or only across time."
     ]
    },
    {
     "cell_type": "code",
     "collapsed": false,
     "input": [
      "pfc_dimension[\"signif\"].groupby(level=\"correction\").apply(lambda x: (x > 95).sum())"
     ],
     "language": "python",
     "metadata": {},
     "outputs": [
      {
       "html": [
        "<div style=\"max-height:1000px;max-width:1500px;overflow:auto;\">\n",
        "<table border=\"1\" class=\"dataframe\">\n",
        "  <thead>\n",
        "    <tr style=\"text-align: right;\">\n",
        "      <th></th>\n",
        "      <th>IFS</th>\n",
        "      <th>aMFG</th>\n",
        "      <th>pMFG</th>\n",
        "      <th>FPC</th>\n",
        "      <th>IFG</th>\n",
        "      <th>aIns</th>\n",
        "      <th>pSFS</th>\n",
        "    </tr>\n",
        "    <tr>\n",
        "      <th>correction</th>\n",
        "      <th></th>\n",
        "      <th></th>\n",
        "      <th></th>\n",
        "      <th></th>\n",
        "      <th></th>\n",
        "      <th></th>\n",
        "      <th></th>\n",
        "    </tr>\n",
        "  </thead>\n",
        "  <tbody>\n",
        "    <tr>\n",
        "      <th>omni</th>\n",
        "      <td> 11</td>\n",
        "      <td> 1</td>\n",
        "      <td> 2</td>\n",
        "      <td> 2</td>\n",
        "      <td> 1</td>\n",
        "      <td> 1</td>\n",
        "      <td> 2</td>\n",
        "    </tr>\n",
        "    <tr>\n",
        "      <th>time</th>\n",
        "      <td> 11</td>\n",
        "      <td> 6</td>\n",
        "      <td> 7</td>\n",
        "      <td> 3</td>\n",
        "      <td> 3</td>\n",
        "      <td> 2</td>\n",
        "      <td> 5</td>\n",
        "    </tr>\n",
        "  </tbody>\n",
        "</table>\n",
        "</div>"
       ],
       "metadata": {},
       "output_type": "pyout",
       "prompt_number": 51,
       "text": [
        "            IFS  aMFG  pMFG  FPC  IFG  aIns  pSFS\n",
        "correction                                       \n",
        "omni         11     1     2    2    1     1     2\n",
        "time         11     6     7    3    3     2     5"
       ]
      }
     ],
     "prompt_number": 51
    },
    {
     "cell_type": "markdown",
     "metadata": {},
     "source": [
      "Now plot the main decoding figure for the PFC ROIs and the Dimension Rules."
     ]
    },
    {
     "cell_type": "code",
     "collapsed": false,
     "input": [
      "dksort_timecourse_figure(pfc_dimension, (.31, .49, 7), \"dimension_main\")"
     ],
     "language": "python",
     "metadata": {},
     "outputs": [
      {
       "metadata": {},
       "output_type": "display_data",
       "png": "[encoded data removed]",
       "text": [
        "<matplotlib.figure.Figure at 0x126bbf290>"
       ]
      }
     ],
     "prompt_number": 52
    },
    {
     "cell_type": "markdown",
     "metadata": {},
     "source": [
      "<div style=\"width:780px;padding-left:120px\" align=\"justify\">\n",
      "**Time-resolved decoding of Dimension Rules in prefrontal cortex:** Timecourses in left panel depict decoding accuracy across the six timepoints, sorted by ROI. Point estimates in right panel represent decoding accuracy for a single model fit to BOLD data averaged across the timepoints 2 and 4 seconds after stimulus onset. Horizontal dashed line in both panels represents an empirical estimate of chance, taken as the mean of the shuffled null distribution across ROIs and subjects for each time point. The vertical dotted line is placed at the onset of the stimulus event, which lasted for 2 seconds (shaded region around chance line). All error bars are bootstrapped 68% confidence intervals for the mean across subjects.\n",
      "</div>"
     ]
    },
    {
     "cell_type": "code",
     "collapsed": false,
     "input": [
      "dksort_significance_figure(pfc_dimension[\"signif\"], \"dimension_supp\")"
     ],
     "language": "python",
     "metadata": {},
     "outputs": [
      {
       "metadata": {},
       "output_type": "display_data",
       "png": "[encoded data removed]",
       "text": [
        "<matplotlib.figure.Figure at 0x137056390>"
       ]
      }
     ],
     "prompt_number": 53
    },
    {
     "cell_type": "markdown",
     "metadata": {},
     "source": [
      "<div style=\"width:670px;padding-left:120px\" align=\"justify\">\n",
      "**Significance of individual subject models for Dimension Rule decoding:** The height of each bar represents the percentile of the shuffled null distribution corresponding to the observed accuracy by subject and region. The fully saturated bars show the percentile of the max distribution across regions and timepoints (effectively correcting for multiple comparisons across those factors), while the desaturated bars show the percentile for the max distribution across time within that region. The horizontal dashed line demarcates the criterion of significance at a (corrected) $\\alpha$ = 0.05. Bars are sorted by height within region. See experimental methods for details.\n",
      "</div>"
     ]
    },
    {
     "cell_type": "markdown",
     "metadata": {},
     "source": [
      "Perform a paired T-test on the \"peak\" decoding accuracy between each PFC region. Use a Bonferroni correction on the P values for the 15-way comparisons.\n",
      "\n",
      "We don't actually use this figure, but the function presents a nice table. (And the plot is fairly striking -- perhaps we could stick it in the supplement but I think the point has mostly been made by the time we get here)."
     ]
    },
    {
     "cell_type": "code",
     "collapsed": false,
     "input": [
      "pfc_paired_t = pd.DataFrame(index=pfc_rois, columns=pfc_rois, dtype=float)\n",
      "pfc_paired_p = pd.DataFrame(index=pfc_rois, columns=pfc_rois, dtype=float)\n",
      "for roi_i, roi_j in itertools.product(pfc_rois, pfc_rois):\n",
      "    peak_i = pfc_dimension[\"peak\"][roi_i]\n",
      "    peak_j = pfc_dimension[\"peak\"][roi_j]\n",
      "    t, p = stats.ttest_rel(peak_i, peak_j)\n",
      "    pfc_paired_t.loc[roi_i, roi_j] = t\n",
      "    pfc_paired_p.loc[roi_i, roi_j] = p\n",
      "pfc_paired_p *= 15\n",
      "sns.symmatplot(array(pfc_paired_t), array(pfc_paired_p),\n",
      "               names=pfc_rois, cmap=\"YlOrRd\", cmap_range=(-10, 0))\n",
      "grid(lw=2.5)"
     ],
     "language": "python",
     "metadata": {},
     "outputs": [
      {
       "metadata": {},
       "output_type": "display_data",
       "png": "[encoded data removed]",
       "text": [
        "<matplotlib.figure.Figure at 0x1370482d0>"
       ]
      }
     ],
     "prompt_number": 54
    },
    {
     "cell_type": "heading",
     "level": 4,
     "metadata": {},
     "source": [
      "Other Dimension ROI Definitions"
     ]
    },
    {
     "cell_type": "markdown",
     "metadata": {},
     "source": [
      "The next set of analyses support the localization claims about dimension context representation in the IFS. This is a bit of a hodepodge, but we a) break up the IFS two ways (lateralization and anterior/posterior division), b) test the IFS against an agglomerative region with all PFC ROIs together, and c) test decoding from a version of the IFS region that has been reduced to 3 orthogonal dimentions by PCA.\n",
      "\n",
      "We do all of these analyses on the \"peak\" data, which averages the BOLD data between the 2s and 4s timepoints before fitting the decoding models."
     ]
    },
    {
     "cell_type": "code",
     "collapsed": false,
     "input": [
      "ifs_full = pfc_dimension[\"peak\"][\"IFS\"]\n",
      "other_df = pd.DataFrame(columns=pd.Series(other_rois, name=\"ROI\"),\n",
      "                        index=subjects, dtype=float)\n",
      "other_ttest = pd.DataFrame(columns=other_rois, index=[\"t\", \"p\"], dtype=float)\n",
      "for roi, mask in zip(other_rois, other_masks):\n",
      "    ds = mvpa.extract_group(\"dimension\", roi, mask, frames,\n",
      "                            confounds=\"rt\", collapse=peak, dv=dv4)\n",
      "    accs = mvpa.decode_group(ds, model, dv=dv).squeeze()\n",
      "    other_df[roi] = accs\n",
      "    other_ttest[roi] = stats.ttest_rel(ifs_full, accs)"
     ],
     "language": "python",
     "metadata": {},
     "outputs": [],
     "prompt_number": 55
    },
    {
     "cell_type": "markdown",
     "metadata": {},
     "source": [
      "The PCA analysis doens't really fit in with the stereotyped decoding function we've been using so far, so do that by hand here.\n",
      "\n",
      "Note how the `Pipeline` object allows the PCA to be fit only on the training data for each fold, to avoid peeking."
     ]
    },
    {
     "cell_type": "code",
     "collapsed": false,
     "input": [
      "pca_model = Pipeline([(\"PCA\", PCA(3)), (\"LR\", model)])\n",
      "ifs_df = mvpa.extract_group(\"dimension\", \"IFS\", \"yeo17_ifs\", frames, peak, \"rt\")\n",
      "pca_accs = mvpa.decode_group(ifs_df, pca_model, dv=dv).squeeze()\n",
      "pca_null = mvpa.classifier_permutations(ifs_df, pca_model, n_shuffle,\n",
      "                                        random_seed=shuffle_seed, dv=dv).squeeze()\n",
      "pca_delta = pca_accs - pca_null.mean(axis=1)\n",
      "pca_thresh = moss.percentiles(pca_null, 95, axis=1)\n",
      "other_df[\"IFS-PCA\"] = pca_accs\n",
      "other_ttest[\"IFS-PCA\"] = stats.ttest_rel(ifs_full, pca_accs)"
     ],
     "language": "python",
     "metadata": {},
     "outputs": [],
     "prompt_number": 56
    },
    {
     "cell_type": "markdown",
     "metadata": {},
     "source": [
      "Look at the summary statistics for these ROIs across subjects."
     ]
    },
    {
     "cell_type": "code",
     "collapsed": false,
     "input": [
      "other_df.describe().T"
     ],
     "language": "python",
     "metadata": {},
     "outputs": [
      {
       "html": [
        "<div style=\"max-height:1000px;max-width:1500px;overflow:auto;\">\n",
        "<table border=\"1\" class=\"dataframe\">\n",
        "  <thead>\n",
        "    <tr style=\"text-align: right;\">\n",
        "      <th></th>\n",
        "      <th>count</th>\n",
        "      <th>mean</th>\n",
        "      <th>std</th>\n",
        "      <th>min</th>\n",
        "      <th>25%</th>\n",
        "      <th>50%</th>\n",
        "      <th>75%</th>\n",
        "      <th>max</th>\n",
        "    </tr>\n",
        "    <tr>\n",
        "      <th>ROI</th>\n",
        "      <th></th>\n",
        "      <th></th>\n",
        "      <th></th>\n",
        "      <th></th>\n",
        "      <th></th>\n",
        "      <th></th>\n",
        "      <th></th>\n",
        "      <th></th>\n",
        "    </tr>\n",
        "  </thead>\n",
        "  <tbody>\n",
        "    <tr>\n",
        "      <th>lh-IFS</th>\n",
        "      <td> 15</td>\n",
        "      <td> 0.46</td>\n",
        "      <td> 0.04</td>\n",
        "      <td> 0.41</td>\n",
        "      <td> 0.43</td>\n",
        "      <td> 0.44</td>\n",
        "      <td> 0.48</td>\n",
        "      <td> 0.54</td>\n",
        "    </tr>\n",
        "    <tr>\n",
        "      <th>rh-IFS</th>\n",
        "      <td> 15</td>\n",
        "      <td> 0.44</td>\n",
        "      <td> 0.05</td>\n",
        "      <td> 0.37</td>\n",
        "      <td> 0.40</td>\n",
        "      <td> 0.44</td>\n",
        "      <td> 0.47</td>\n",
        "      <td> 0.52</td>\n",
        "    </tr>\n",
        "    <tr>\n",
        "      <th>aIFS</th>\n",
        "      <td> 15</td>\n",
        "      <td> 0.43</td>\n",
        "      <td> 0.05</td>\n",
        "      <td> 0.36</td>\n",
        "      <td> 0.39</td>\n",
        "      <td> 0.43</td>\n",
        "      <td> 0.48</td>\n",
        "      <td> 0.53</td>\n",
        "    </tr>\n",
        "    <tr>\n",
        "      <th>pIFS</th>\n",
        "      <td> 15</td>\n",
        "      <td> 0.45</td>\n",
        "      <td> 0.03</td>\n",
        "      <td> 0.40</td>\n",
        "      <td> 0.43</td>\n",
        "      <td> 0.45</td>\n",
        "      <td> 0.47</td>\n",
        "      <td> 0.52</td>\n",
        "    </tr>\n",
        "    <tr>\n",
        "      <th>AllROIs</th>\n",
        "      <td> 15</td>\n",
        "      <td> 0.43</td>\n",
        "      <td> 0.04</td>\n",
        "      <td> 0.35</td>\n",
        "      <td> 0.41</td>\n",
        "      <td> 0.42</td>\n",
        "      <td> 0.47</td>\n",
        "      <td> 0.50</td>\n",
        "    </tr>\n",
        "    <tr>\n",
        "      <th>IFS-thresh</th>\n",
        "      <td> 15</td>\n",
        "      <td> 0.46</td>\n",
        "      <td> 0.05</td>\n",
        "      <td> 0.38</td>\n",
        "      <td> 0.44</td>\n",
        "      <td> 0.46</td>\n",
        "      <td> 0.48</td>\n",
        "      <td> 0.54</td>\n",
        "    </tr>\n",
        "    <tr>\n",
        "      <th>IFS-PCA</th>\n",
        "      <td> 15</td>\n",
        "      <td> 0.36</td>\n",
        "      <td> 0.03</td>\n",
        "      <td> 0.30</td>\n",
        "      <td> 0.35</td>\n",
        "      <td> 0.35</td>\n",
        "      <td> 0.39</td>\n",
        "      <td> 0.41</td>\n",
        "    </tr>\n",
        "  </tbody>\n",
        "</table>\n",
        "</div>"
       ],
       "metadata": {},
       "output_type": "pyout",
       "prompt_number": 57,
       "text": [
        "            count  mean   std   min   25%   50%   75%   max\n",
        "ROI                                                        \n",
        "lh-IFS         15  0.46  0.04  0.41  0.43  0.44  0.48  0.54\n",
        "rh-IFS         15  0.44  0.05  0.37  0.40  0.44  0.47  0.52\n",
        "aIFS           15  0.43  0.05  0.36  0.39  0.43  0.48  0.53\n",
        "pIFS           15  0.45  0.03  0.40  0.43  0.45  0.47  0.52\n",
        "AllROIs        15  0.43  0.04  0.35  0.41  0.42  0.47  0.50\n",
        "IFS-thresh     15  0.46  0.05  0.38  0.44  0.46  0.48  0.54\n",
        "IFS-PCA        15  0.36  0.03  0.30  0.35  0.35  0.39  0.41"
       ]
      }
     ],
     "prompt_number": 57
    },
    {
     "cell_type": "code",
     "collapsed": false,
     "input": [
      "other_df.apply(lambda d: pd.Series(moss.ci(moss.bootstrap(d), 95), index=[2.5, 97.5]), axis=0)"
     ],
     "language": "python",
     "metadata": {},
     "outputs": [
      {
       "html": [
        "<div style=\"max-height:1000px;max-width:1500px;overflow:auto;\">\n",
        "<table border=\"1\" class=\"dataframe\">\n",
        "  <thead>\n",
        "    <tr style=\"text-align: right;\">\n",
        "      <th>ROI</th>\n",
        "      <th>lh-IFS</th>\n",
        "      <th>rh-IFS</th>\n",
        "      <th>aIFS</th>\n",
        "      <th>pIFS</th>\n",
        "      <th>AllROIs</th>\n",
        "      <th>IFS-thresh</th>\n",
        "      <th>IFS-PCA</th>\n",
        "    </tr>\n",
        "  </thead>\n",
        "  <tbody>\n",
        "    <tr>\n",
        "      <th>2.5 </th>\n",
        "      <td> 0.44</td>\n",
        "      <td> 0.42</td>\n",
        "      <td> 0.41</td>\n",
        "      <td> 0.44</td>\n",
        "      <td> 0.41</td>\n",
        "      <td> 0.44</td>\n",
        "      <td> 0.34</td>\n",
        "    </tr>\n",
        "    <tr>\n",
        "      <th>97.5</th>\n",
        "      <td> 0.48</td>\n",
        "      <td> 0.46</td>\n",
        "      <td> 0.46</td>\n",
        "      <td> 0.46</td>\n",
        "      <td> 0.45</td>\n",
        "      <td> 0.49</td>\n",
        "      <td> 0.37</td>\n",
        "    </tr>\n",
        "  </tbody>\n",
        "</table>\n",
        "</div>"
       ],
       "metadata": {},
       "output_type": "pyout",
       "prompt_number": 58,
       "text": [
        "ROI   lh-IFS  rh-IFS  aIFS  pIFS  AllROIs  IFS-thresh  IFS-PCA\n",
        "2.5     0.44    0.42  0.41  0.44     0.41        0.44     0.34\n",
        "97.5    0.48    0.46  0.46  0.46     0.45        0.49     0.37"
       ]
      }
     ],
     "prompt_number": 58
    },
    {
     "cell_type": "markdown",
     "metadata": {},
     "source": [
      "Look at the paired T test for each \"other\" ROI against the original IFS data."
     ]
    },
    {
     "cell_type": "code",
     "collapsed": false,
     "input": [
      "other_ttest.T"
     ],
     "language": "python",
     "metadata": {},
     "outputs": [
      {
       "html": [
        "<div style=\"max-height:1000px;max-width:1500px;overflow:auto;\">\n",
        "<table border=\"1\" class=\"dataframe\">\n",
        "  <thead>\n",
        "    <tr style=\"text-align: right;\">\n",
        "      <th></th>\n",
        "      <th>t</th>\n",
        "      <th>p</th>\n",
        "    </tr>\n",
        "  </thead>\n",
        "  <tbody>\n",
        "    <tr>\n",
        "      <th>lh-IFS</th>\n",
        "      <td> 2.48</td>\n",
        "      <td> 2.65e-02</td>\n",
        "    </tr>\n",
        "    <tr>\n",
        "      <th>rh-IFS</th>\n",
        "      <td> 4.44</td>\n",
        "      <td> 5.58e-04</td>\n",
        "    </tr>\n",
        "    <tr>\n",
        "      <th>aIFS</th>\n",
        "      <td> 4.94</td>\n",
        "      <td> 2.17e-04</td>\n",
        "    </tr>\n",
        "    <tr>\n",
        "      <th>pIFS</th>\n",
        "      <td> 3.19</td>\n",
        "      <td> 6.60e-03</td>\n",
        "    </tr>\n",
        "    <tr>\n",
        "      <th>AllROIs</th>\n",
        "      <td> 6.28</td>\n",
        "      <td> 2.02e-05</td>\n",
        "    </tr>\n",
        "    <tr>\n",
        "      <th>IFS-thresh</th>\n",
        "      <td> 1.85</td>\n",
        "      <td> 8.58e-02</td>\n",
        "    </tr>\n",
        "    <tr>\n",
        "      <th>IFS-PCA</th>\n",
        "      <td> 9.25</td>\n",
        "      <td> 2.45e-07</td>\n",
        "    </tr>\n",
        "  </tbody>\n",
        "</table>\n",
        "</div>"
       ],
       "metadata": {},
       "output_type": "pyout",
       "prompt_number": 59,
       "text": [
        "               t         p\n",
        "lh-IFS      2.48  2.65e-02\n",
        "rh-IFS      4.44  5.58e-04\n",
        "aIFS        4.94  2.17e-04\n",
        "pIFS        3.19  6.60e-03\n",
        "AllROIs     6.28  2.02e-05\n",
        "IFS-thresh  1.85  8.58e-02\n",
        "IFS-PCA     9.25  2.45e-07"
       ]
      }
     ],
     "prompt_number": 59
    },
    {
     "cell_type": "markdown",
     "metadata": {},
     "source": [
      "Directly test for laterality."
     ]
    },
    {
     "cell_type": "code",
     "collapsed": false,
     "input": [
      "lat_diff = other_df[\"lh-IFS\"] - other_df[\"rh-IFS\"]\n",
      "lat_diff_mean = lat_diff.mean()\n",
      "lat_diff_low, lat_diff_high = moss.ci(moss.bootstrap(lat_diff), 95)\n",
      "lat_diff_t, lat_diff_p = stats.ttest_1samp(lat_diff, 0)\n",
      "args = (lat_diff_mean, lat_diff_low, lat_diff_high, lat_diff_t, lat_diff_p)\n",
      "print \"Test for laterality: mean difference = %.3f; 95%% CI: %.3f, %.3f, t = %.2f; p = %.3g \" % args"
     ],
     "language": "python",
     "metadata": {},
     "outputs": [
      {
       "output_type": "stream",
       "stream": "stdout",
       "text": [
        "Test for laterality: mean difference = 0.017; 95% CI: -0.003, 0.037, t = 1.58; p = 0.137 \n"
       ]
      }
     ],
     "prompt_number": 60
    },
    {
     "cell_type": "markdown",
     "metadata": {},
     "source": [
      "Directly test for a rostro-caudal difference in decoding performance."
     ]
    },
    {
     "cell_type": "code",
     "collapsed": false,
     "input": [
      "yax_diff = other_df[\"aIFS\"] - other_df[\"pIFS\"]\n",
      "yax_diff_mean = yax_diff.mean()\n",
      "yax_diff_low, yax_diff_high = moss.ci(moss.bootstrap(yax_diff), 95)\n",
      "yax_diff_t, yax_diff_p = stats.ttest_1samp(yax_diff, 0)\n",
      "args = (yax_diff_low, yax_diff_high, yax_diff_t, yax_diff_p)\n",
      "print \"Test for rosto-caudal organization: mean difference = %.3f; \" % yax_diff_mean,\n",
      "print \"95%% CI: %.3f, %.3f, t = %.2f; p = %.3g \" % args"
     ],
     "language": "python",
     "metadata": {},
     "outputs": [
      {
       "output_type": "stream",
       "stream": "stdout",
       "text": [
        "Test for rosto-caudal organization: mean difference = -0.015;  95% CI: -0.042, 0.012, t = -1.09; p = 0.296 \n"
       ]
      }
     ],
     "prompt_number": 61
    },
    {
     "cell_type": "markdown",
     "metadata": {},
     "source": [
      "Test the reduced dimensionality dataset against chance."
     ]
    },
    {
     "cell_type": "code",
     "collapsed": false,
     "input": [
      "pca_mean = pca_accs.mean()\n",
      "pca_low, pca_high = moss.ci(moss.bootstrap(pca_accs), 95)\n",
      "pca_t, pca_p = moss.randomize_onesample(pca_delta)\n",
      "pca_chance = pca_null.mean()\n",
      "args = (pca_mean, pca_low, pca_high, pca_chance, pca_t, pca_p)\n",
      "print \"PCA ROI: mean accuracy = %.3f; 95%% CI: %.3f, %.3f; chance = %.3f; t = %.2f; p = %.3g \" % args"
     ],
     "language": "python",
     "metadata": {},
     "outputs": [
      {
       "output_type": "stream",
       "stream": "stdout",
       "text": [
        "PCA ROI: mean accuracy = 0.359; 95% CI: 0.344, 0.374; chance = 0.338; t = 2.56; p = 0.0143 \n"
       ]
      }
     ],
     "prompt_number": 62
    },
    {
     "cell_type": "code",
     "collapsed": false,
     "input": [
      "pca_thresh = moss.percentiles(pca_null, 95, axis=1)\n",
      "pca_signif = pca_accs > pca_thresh\n",
      "print \"%d/15 significant PCA models\" % pca_signif.sum()"
     ],
     "language": "python",
     "metadata": {},
     "outputs": [
      {
       "output_type": "stream",
       "stream": "stdout",
       "text": [
        "2/15 significant PCA models\n"
       ]
      }
     ],
     "prompt_number": 63
    },
    {
     "cell_type": "heading",
     "level": 4,
     "metadata": {},
     "source": [
      "Dimension Decoding During Cue Period"
     ]
    },
    {
     "cell_type": "markdown",
     "metadata": {},
     "source": [
      "Now quickly test whether we can decode the Dimension Rules during the cue period. This is both a) possibly interesting on its own and b) serves as a control against certain interpretations of our main results."
     ]
    },
    {
     "cell_type": "code",
     "collapsed": true,
     "input": [
      "pfc_cue = dksort_decode([\"IFS\"], \"dimension_cue\")"
     ],
     "language": "python",
     "metadata": {},
     "outputs": [],
     "prompt_number": 64
    },
    {
     "cell_type": "markdown",
     "metadata": {},
     "source": [
      "Take the mean accuracy across subjects and look at the maximum over time."
     ]
    },
    {
     "cell_type": "code",
     "collapsed": false,
     "input": [
      "print \"Max accuracy: %.3f\" % pfc_cue[\"accs\"].mean(axis=0).max()"
     ],
     "language": "python",
     "metadata": {},
     "outputs": [
      {
       "output_type": "stream",
       "stream": "stdout",
       "text": [
        "Max accuracy: 0.355\n"
       ]
      }
     ],
     "prompt_number": 65
    },
    {
     "cell_type": "markdown",
     "metadata": {},
     "source": [
      "Now look at the maximum t statistic across time. The p value is corrected for multiple comparisons, here just across time."
     ]
    },
    {
     "cell_type": "code",
     "collapsed": false,
     "input": [
      "pfc_cue[\"ttest\"]"
     ],
     "language": "python",
     "metadata": {},
     "outputs": [
      {
       "html": [
        "<div style=\"max-height:1000px;max-width:1500px;overflow:auto;\">\n",
        "<table border=\"1\" class=\"dataframe\">\n",
        "  <thead>\n",
        "    <tr style=\"text-align: right;\">\n",
        "      <th></th>\n",
        "      <th>t</th>\n",
        "      <th>p</th>\n",
        "      <th>max_tp</th>\n",
        "    </tr>\n",
        "    <tr>\n",
        "      <th>ROI</th>\n",
        "      <th></th>\n",
        "      <th></th>\n",
        "      <th></th>\n",
        "    </tr>\n",
        "  </thead>\n",
        "  <tbody>\n",
        "    <tr>\n",
        "      <th>IFS</th>\n",
        "      <td> 1.37</td>\n",
        "      <td> 0.33</td>\n",
        "      <td> 6</td>\n",
        "    </tr>\n",
        "  </tbody>\n",
        "</table>\n",
        "</div>"
       ],
       "metadata": {},
       "output_type": "pyout",
       "prompt_number": 66,
       "text": [
        "        t     p  max_tp\n",
        "ROI                    \n",
        "IFS  1.37  0.33       6"
       ]
      }
     ],
     "prompt_number": 66
    },
    {
     "cell_type": "heading",
     "level": 3,
     "metadata": {},
     "source": [
      "Decoding of Decision Rules"
     ]
    },
    {
     "cell_type": "markdown",
     "metadata": {},
     "source": [
      "Next we turn to the Decision Rules (i.e. whether \"yes\" means \"same\" or \"different\"). We just repeat the main steps from above. First load up all the data and do the heavy lifting on the analysis side of things."
     ]
    },
    {
     "cell_type": "code",
     "collapsed": false,
     "input": [
      "pfc_decision = dksort_decode(pfc_rois, \"decision\")"
     ],
     "language": "python",
     "metadata": {},
     "outputs": [],
     "prompt_number": 67
    },
    {
     "cell_type": "markdown",
     "metadata": {},
     "source": [
      "Print the results of the group t test against chance."
     ]
    },
    {
     "cell_type": "code",
     "collapsed": false,
     "input": [
      "pfc_decision[\"ttest\"]"
     ],
     "language": "python",
     "metadata": {},
     "outputs": [
      {
       "html": [
        "<div style=\"max-height:1000px;max-width:1500px;overflow:auto;\">\n",
        "<table border=\"1\" class=\"dataframe\">\n",
        "  <thead>\n",
        "    <tr style=\"text-align: right;\">\n",
        "      <th></th>\n",
        "      <th>t</th>\n",
        "      <th>p</th>\n",
        "      <th>max_tp</th>\n",
        "    </tr>\n",
        "    <tr>\n",
        "      <th>ROI</th>\n",
        "      <th></th>\n",
        "      <th></th>\n",
        "      <th></th>\n",
        "    </tr>\n",
        "  </thead>\n",
        "  <tbody>\n",
        "    <tr>\n",
        "      <th>FPC</th>\n",
        "      <td>-0.97</td>\n",
        "      <td> 1.00</td>\n",
        "      <td>-2</td>\n",
        "    </tr>\n",
        "    <tr>\n",
        "      <th>IFG</th>\n",
        "      <td>-0.93</td>\n",
        "      <td> 1.00</td>\n",
        "      <td> 0</td>\n",
        "    </tr>\n",
        "    <tr>\n",
        "      <th>IFS</th>\n",
        "      <td> 0.16</td>\n",
        "      <td> 0.95</td>\n",
        "      <td> 2</td>\n",
        "    </tr>\n",
        "    <tr>\n",
        "      <th>aIns</th>\n",
        "      <td>-0.50</td>\n",
        "      <td> 1.00</td>\n",
        "      <td> 4</td>\n",
        "    </tr>\n",
        "    <tr>\n",
        "      <th>aMFG</th>\n",
        "      <td>-0.27</td>\n",
        "      <td> 0.99</td>\n",
        "      <td> 2</td>\n",
        "    </tr>\n",
        "    <tr>\n",
        "      <th>pMFG</th>\n",
        "      <td> 0.12</td>\n",
        "      <td> 0.96</td>\n",
        "      <td> 2</td>\n",
        "    </tr>\n",
        "    <tr>\n",
        "      <th>pSFS</th>\n",
        "      <td>-0.09</td>\n",
        "      <td> 0.98</td>\n",
        "      <td> 6</td>\n",
        "    </tr>\n",
        "  </tbody>\n",
        "</table>\n",
        "</div>"
       ],
       "metadata": {},
       "output_type": "pyout",
       "prompt_number": 68,
       "text": [
        "         t     p  max_tp\n",
        "ROI                     \n",
        "FPC  -0.97  1.00      -2\n",
        "IFG  -0.93  1.00       0\n",
        "IFS   0.16  0.95       2\n",
        "aIns -0.50  1.00       4\n",
        "aMFG -0.27  0.99       2\n",
        "pMFG  0.12  0.96       2\n",
        "pSFS -0.09  0.98       6"
       ]
      }
     ],
     "prompt_number": 68
    },
    {
     "cell_type": "markdown",
     "metadata": {},
     "source": [
      "Now also look at whether any individual models were significant."
     ]
    },
    {
     "cell_type": "code",
     "collapsed": false,
     "input": [
      "pfc_decision[\"signif\"].groupby(level=\"correction\").apply(lambda x: (x > 95).sum())"
     ],
     "language": "python",
     "metadata": {},
     "outputs": [
      {
       "html": [
        "<div style=\"max-height:1000px;max-width:1500px;overflow:auto;\">\n",
        "<table border=\"1\" class=\"dataframe\">\n",
        "  <thead>\n",
        "    <tr style=\"text-align: right;\">\n",
        "      <th></th>\n",
        "      <th>IFS</th>\n",
        "      <th>aMFG</th>\n",
        "      <th>pMFG</th>\n",
        "      <th>FPC</th>\n",
        "      <th>IFG</th>\n",
        "      <th>aIns</th>\n",
        "      <th>pSFS</th>\n",
        "    </tr>\n",
        "    <tr>\n",
        "      <th>correction</th>\n",
        "      <th></th>\n",
        "      <th></th>\n",
        "      <th></th>\n",
        "      <th></th>\n",
        "      <th></th>\n",
        "      <th></th>\n",
        "      <th></th>\n",
        "    </tr>\n",
        "  </thead>\n",
        "  <tbody>\n",
        "    <tr>\n",
        "      <th>omni</th>\n",
        "      <td> 0</td>\n",
        "      <td> 0</td>\n",
        "      <td> 1</td>\n",
        "      <td> 0</td>\n",
        "      <td> 0</td>\n",
        "      <td> 1</td>\n",
        "      <td> 0</td>\n",
        "    </tr>\n",
        "    <tr>\n",
        "      <th>time</th>\n",
        "      <td> 2</td>\n",
        "      <td> 2</td>\n",
        "      <td> 1</td>\n",
        "      <td> 0</td>\n",
        "      <td> 0</td>\n",
        "      <td> 2</td>\n",
        "      <td> 0</td>\n",
        "    </tr>\n",
        "  </tbody>\n",
        "</table>\n",
        "</div>"
       ],
       "metadata": {},
       "output_type": "pyout",
       "prompt_number": 69,
       "text": [
        "            IFS  aMFG  pMFG  FPC  IFG  aIns  pSFS\n",
        "correction                                       \n",
        "omni          0     0     1    0    0     1     0\n",
        "time          2     2     1    0    0     2     0"
       ]
      }
     ],
     "prompt_number": 69
    },
    {
     "cell_type": "markdown",
     "metadata": {},
     "source": [
      "Plot the spatiotemporal decoding figure."
     ]
    },
    {
     "cell_type": "code",
     "collapsed": false,
     "input": [
      "dksort_timecourse_figure(pfc_decision, (.42, .66, 7), \"decision_main\")"
     ],
     "language": "python",
     "metadata": {},
     "outputs": [
      {
       "metadata": {},
       "output_type": "display_data",
       "png": "[encoded data removed]",
       "text": [
        "<matplotlib.figure.Figure at 0x112a53950>"
       ]
      }
     ],
     "prompt_number": 70
    },
    {
     "cell_type": "markdown",
     "metadata": {},
     "source": [
      "<div style=\"width:780px;padding-left:120px\" align=\"justify\">\n",
      "**Time-resolved decoding of Decision Rules in prefrontal cortex:** Conventions are as in the Dimension Rules plot. The y-axis is scaled to span similar binomial probabilities as the Dimension Rules plot.\n",
      "</div>"
     ]
    },
    {
     "cell_type": "markdown",
     "metadata": {},
     "source": [
      "And its corresponding supplemental figure."
     ]
    },
    {
     "cell_type": "code",
     "collapsed": false,
     "input": [
      "dksort_significance_figure(pfc_decision[\"signif\"], \"decision_supp\")"
     ],
     "language": "python",
     "metadata": {},
     "outputs": [
      {
       "metadata": {},
       "output_type": "display_data",
       "png": "[encoded data removed]",
       "text": [
        "<matplotlib.figure.Figure at 0x137066250>"
       ]
      }
     ],
     "prompt_number": 71
    },
    {
     "cell_type": "markdown",
     "metadata": {},
     "source": [
      "<div style=\"width:670px;padding-left:120px\" align=\"justify\">\n",
      "**Significance of individual subject models for Decision Rule decoding:** Conventions are as in the Dimension Rules significance plot.\n",
      "</div>"
     ]
    },
    {
     "cell_type": "heading",
     "level": 2,
     "metadata": {},
     "source": [
      "Decoding in Posterior Cortex"
     ]
    },
    {
     "cell_type": "markdown",
     "metadata": {},
     "source": [
      "We now return to the Dimension rules and build decoding models to predict these rules from patterns in posterior cortex ROIS (specifically IPS and OTC). We'll carry forward the IFS ROI as we are interested in how the profile of information in this region is similar or different to the other regions. Lacking a good name for this collection of ROIs, we'll call them `net` as they form a sort of goal-directed attention network."
     ]
    },
    {
     "cell_type": "heading",
     "level": 3,
     "metadata": {},
     "source": [
      "Spatiotemporal Decoding in IPS and Visual Cortex"
     ]
    },
    {
     "cell_type": "markdown",
     "metadata": {},
     "source": [
      "First perform the basic procedure of analyses to get significance counts and values for each region. This doesn't get plotted yet, as there is more information to comput that goes on the plots."
     ]
    },
    {
     "cell_type": "code",
     "collapsed": true,
     "input": [
      "net_dimension = dksort_decode(net_rois, \"dimension\")"
     ],
     "language": "python",
     "metadata": {},
     "outputs": [],
     "prompt_number": 72
    },
    {
     "cell_type": "code",
     "collapsed": false,
     "input": [
      "net_dimension[\"signif\"].groupby(level=\"correction\").apply(lambda x: (x > 95).sum())"
     ],
     "language": "python",
     "metadata": {},
     "outputs": [
      {
       "html": [
        "<div style=\"max-height:1000px;max-width:1500px;overflow:auto;\">\n",
        "<table border=\"1\" class=\"dataframe\">\n",
        "  <thead>\n",
        "    <tr style=\"text-align: right;\">\n",
        "      <th></th>\n",
        "      <th>IFS</th>\n",
        "      <th>IPS</th>\n",
        "      <th>OTC</th>\n",
        "    </tr>\n",
        "    <tr>\n",
        "      <th>correction</th>\n",
        "      <th></th>\n",
        "      <th></th>\n",
        "      <th></th>\n",
        "    </tr>\n",
        "  </thead>\n",
        "  <tbody>\n",
        "    <tr>\n",
        "      <th>omni</th>\n",
        "      <td> 11</td>\n",
        "      <td> 15</td>\n",
        "      <td> 15</td>\n",
        "    </tr>\n",
        "    <tr>\n",
        "      <th>time</th>\n",
        "      <td> 11</td>\n",
        "      <td> 15</td>\n",
        "      <td> 15</td>\n",
        "    </tr>\n",
        "  </tbody>\n",
        "</table>\n",
        "</div>"
       ],
       "metadata": {},
       "output_type": "pyout",
       "prompt_number": 73,
       "text": [
        "            IFS  IPS  OTC\n",
        "correction               \n",
        "omni         11   15   15\n",
        "time         11   15   15"
       ]
      }
     ],
     "prompt_number": 73
    },
    {
     "cell_type": "code",
     "collapsed": false,
     "input": [
      "net_dimension[\"ttest\"]"
     ],
     "language": "python",
     "metadata": {},
     "outputs": [
      {
       "html": [
        "<div style=\"max-height:1000px;max-width:1500px;overflow:auto;\">\n",
        "<table border=\"1\" class=\"dataframe\">\n",
        "  <thead>\n",
        "    <tr style=\"text-align: right;\">\n",
        "      <th></th>\n",
        "      <th>t</th>\n",
        "      <th>p</th>\n",
        "      <th>max_tp</th>\n",
        "    </tr>\n",
        "    <tr>\n",
        "      <th>ROI</th>\n",
        "      <th></th>\n",
        "      <th></th>\n",
        "      <th></th>\n",
        "    </tr>\n",
        "  </thead>\n",
        "  <tbody>\n",
        "    <tr>\n",
        "      <th>IFS</th>\n",
        "      <td>  8.63</td>\n",
        "      <td> 0</td>\n",
        "      <td> 4</td>\n",
        "    </tr>\n",
        "    <tr>\n",
        "      <th>IPS</th>\n",
        "      <td>  8.25</td>\n",
        "      <td> 0</td>\n",
        "      <td> 4</td>\n",
        "    </tr>\n",
        "    <tr>\n",
        "      <th>OTC</th>\n",
        "      <td> 14.27</td>\n",
        "      <td> 0</td>\n",
        "      <td> 4</td>\n",
        "    </tr>\n",
        "  </tbody>\n",
        "</table>\n",
        "</div>"
       ],
       "metadata": {},
       "output_type": "pyout",
       "prompt_number": 74,
       "text": [
        "         t  p  max_tp\n",
        "ROI                  \n",
        "IFS   8.63  0       4\n",
        "IPS   8.25  0       4\n",
        "OTC  14.27  0       4"
       ]
      }
     ],
     "prompt_number": 74
    },
    {
     "cell_type": "code",
     "collapsed": false,
     "input": [
      "dksort_timecourse_figure(net_dimension, (.3, .7, 5), \"posterior_main\")"
     ],
     "language": "python",
     "metadata": {},
     "outputs": [
      {
       "metadata": {},
       "output_type": "display_data",
       "png": "[encoded data removed]",
       "text": [
        "<matplotlib.figure.Figure at 0x11539e210>"
       ]
      }
     ],
     "prompt_number": 75
    },
    {
     "cell_type": "markdown",
     "metadata": {},
     "source": [
      "<div style=\"width:780px;padding-left:120px\" align=\"justify\">\n",
      "**Time-resolved decoding of Dimension Rules in posterior cortex:** Conventions are as in the Dimension Rules plot.\n",
      "</div>"
     ]
    },
    {
     "cell_type": "heading",
     "level": 3,
     "metadata": {},
     "source": [
      "Spatial scale of context information"
     ]
    },
    {
     "cell_type": "markdown",
     "metadata": {},
     "source": [
      "We are interested in dissociating the information within this network. First we inquire about its spatial resolution. We do so by computing the first-order spatial autocorrelation on the maps of learned coefficients. Basically, what happens is that you extract the coefficients and put them in the native image space. Then, shift the map one voxel along each axis and compute the correlation with itself (ignoring the voxels that get pushed outside of the mask). Because there are Dimension rules, the Logistic Regression model actually has three binary models with associated weights. So we end up with correlation value for each axis/model, which we average to obtain a score for each subject and ROI."
     ]
    },
    {
     "cell_type": "code",
     "collapsed": false,
     "input": [
      "roi_tuples = list(itertools.product(net_rois, subjects))\n",
      "roi_index = pd.MultiIndex.from_tuples(roi_tuples, names=[\"roi\", \"subj\"])\n",
      "ar1s = pd.Series(index=roi_index, name=\"ar1\", dtype=float)\n",
      "shifters = [(0, 0, 1), (0, 1, 0), (1, 0, 0)]\n",
      "\n",
      "for roi in net_rois:\n",
      "    mask_name = \"yeo17_\" + roi.lower()\n",
      "    ds = mvpa.extract_group(\"dimension\", roi, mask_name, frames, peak, \"rt\")\n",
      "    coefs = mvpa.model_coefs(ds, model, mask_name, flat=False)\n",
      "    for subj, coef_s in zip(subjects, coefs):\n",
      "        ar1_vals = []\n",
      "        for coef_c in coef_s.transpose(3, 0, 1, 2):\n",
      "            mask = ~np.isnan(coef_c)\n",
      "            orig = coef_c[mask]\n",
      "            locs = np.argwhere(mask)\n",
      "            for shifter in shifters:\n",
      "                x, y, z = (locs + shifter).T\n",
      "                shifted = coef_c[x, y, z]\n",
      "                notnan = ~np.isnan(shifted)\n",
      "                r, p = stats.pearsonr(orig[notnan], shifted[notnan])\n",
      "                ar1_vals.append(r)\n",
      "        ar1s.loc[(roi, subj)] = np.mean(ar1_vals)\n",
      "ar1_df = ar1s.reset_index()"
     ],
     "language": "python",
     "metadata": {},
     "outputs": [],
     "prompt_number": 76
    },
    {
     "cell_type": "markdown",
     "metadata": {},
     "source": [
      "Now test the dissociation using a mixed model and pairwise t tests."
     ]
    },
    {
     "cell_type": "code",
     "collapsed": false,
     "input": [
      "%%R -i ar1_df\n",
      "m.ar1 = lmer(ar1 ~ roi + (roi | subj), ar1_df, REML=FALSE)\n",
      "m.ar1.nest = lmer(ar1 ~ 1 + (roi | subj), ar1_df, REML=FALSE)\n",
      "print(anova(m.ar1))\n",
      "lr_test(m.ar1, m.ar1.nest, \"ROI effect\")"
     ],
     "language": "python",
     "metadata": {},
     "outputs": [
      {
       "metadata": {},
       "output_type": "display_data",
       "text": [
        "Analysis of Variance Table\n",
        "    Df   Sum Sq  Mean Sq F value\n",
        "roi  2 0.044165 0.022083   48.58\n",
        "Likelihood ratio test for ROI effect:\n",
        "  Chisq(2) = 30.18; p = 2.8e-07\n"
       ]
      }
     ],
     "prompt_number": 77
    },
    {
     "cell_type": "code",
     "collapsed": false,
     "input": [
      "for roi in net_rois:\n",
      "    m, sd = ar1s.loc[roi].describe()[[\"mean\", \"std\"]]\n",
      "    print \"%s Spatial AR1: M = %.3g (SD = %.2g)\" % (roi, m, sd)"
     ],
     "language": "python",
     "metadata": {},
     "outputs": [
      {
       "output_type": "stream",
       "stream": "stdout",
       "text": [
        "IFS Spatial AR1: M = 0.151 (SD = 0.035)\n",
        "IPS Spatial AR1: M = 0.149 (SD = 0.046)\n",
        "OTC Spatial AR1: M = 0.252 (SD = 0.033)\n"
       ]
      }
     ],
     "prompt_number": 78
    },
    {
     "cell_type": "code",
     "collapsed": false,
     "input": [
      "for roi_a, roi_b in itertools.combinations(net_rois, 2):\n",
      "    t, p = stats.ttest_rel(ar1s.loc[roi_a], ar1s.loc[roi_b])\n",
      "    dof = len(ar1s.loc[roi_a]) - 1\n",
      "    print \"Test for %s vs. %s: t(%d) = %.3f; p = %.3g\" % (roi_a, roi_b, dof, t, p)"
     ],
     "language": "python",
     "metadata": {},
     "outputs": [
      {
       "output_type": "stream",
       "stream": "stdout",
       "text": [
        "Test for IFS vs. IPS: t(14) = 0.139; p = 0.891\n",
        "Test for IFS vs. OTC: t(14) = -9.378; p = 2.06e-07\n",
        "Test for IPS vs. OTC: t(14) = -6.879; p = 7.58e-06\n"
       ]
      }
     ],
     "prompt_number": 79
    },
    {
     "cell_type": "heading",
     "level": 3,
     "metadata": {},
     "source": [
      "Temproal profile of context decoding"
     ]
    },
    {
     "cell_type": "markdown",
     "metadata": {},
     "source": [
      "Next we ask about temporal dissociations between the regions. This is hypothesis-driven: we expect that the IFS and IPS will have information about the attended dimensions earlier than the OTC. We're going to operationalize \"time of information\" with \"time of peak information\". There are other measures that might be insightful in different ways, but I think this is the best measurement given the type of data we have.\n",
      "\n",
      "We will examine the temporal profile two different ways. First, at the original temporal resolution, we'll perform a permutation test for each pair (IFS - OTC and IPS - OTC) that asks whether the proportion of subjects in which the frontal/parietal region peaks first is higher than what we would expect by chance."
     ]
    },
    {
     "cell_type": "code",
     "collapsed": false,
     "input": [
      "def peak_test(accs, roi_a, roi_b):\n",
      "    \"\"\"Permutation-based test that roi_a peaks earlier than roi_b.\"\"\"\n",
      "    peak_a = accs.loc[roi_a].idxmax(axis=1)\n",
      "    peak_b = accs.loc[roi_b].idxmax(axis=1)\n",
      "    real_prop = np.mean(peak_a < peak_b)\n",
      "    null_dist = []\n",
      "    n = len(peak_a)\n",
      "    for _ in xrange(10000):\n",
      "        arr_i = np.row_stack([peak_a, peak_b])\n",
      "        mask = np.random.rand(n) < .5\n",
      "        arr_i[:, mask] = np.flipud(arr_i[:, mask])\n",
      "        null_dist.append((arr_i[0] < arr_i[1]).mean())\n",
      "    p = 1 - .01 * stats.percentileofscore(null_dist, real_prop)\n",
      "    return real_prop, p"
     ],
     "language": "python",
     "metadata": {},
     "outputs": [],
     "prompt_number": 80
    },
    {
     "cell_type": "code",
     "collapsed": false,
     "input": [
      "ifs_score = peak_test(net_dimension[\"accs\"], \"IFS\", \"OTC\")\n",
      "print \"IFS Proportion: %.2f; p = %.3g\" % ifs_score"
     ],
     "language": "python",
     "metadata": {},
     "outputs": [
      {
       "output_type": "stream",
       "stream": "stdout",
       "text": [
        "IFS Proportion: 0.53; p = 0.0105\n"
       ]
      }
     ],
     "prompt_number": 81
    },
    {
     "cell_type": "code",
     "collapsed": false,
     "input": [
      "ips_score = peak_test(net_dimension[\"accs\"], \"IPS\", \"OTC\")\n",
      "print \"IPS Proportion: %.2f; p = %.3g\" % ips_score"
     ],
     "language": "python",
     "metadata": {},
     "outputs": [
      {
       "output_type": "stream",
       "stream": "stdout",
       "text": [
        "IPS Proportion: 0.53; p = 0.0019\n"
       ]
      }
     ],
     "prompt_number": 82
    },
    {
     "cell_type": "markdown",
     "metadata": {},
     "source": [
      "For a potentially more precise test, we are going to use cubic spline interpolation to upsample the *original* timeserieses to 500 ms bins. Then, we'll repeat the decoding analysis on these new timepoints. Finally, we'll fit Gamma probability density functions to the high-res timecourse data and use those to infer on the time of peak information."
     ]
    },
    {
     "cell_type": "code",
     "collapsed": false,
     "input": [
      "up_timepoints = up_timepoints = np.linspace(-2, 9.5, 24)\n",
      "dv[\"up_timepoints\"] = up_timepoints\n",
      "roi_tuples = list(itertools.product(net_rois, subjects))\n",
      "roi_index = pd.MultiIndex.from_tuples(roi_tuples, names=[\"ROI\", \"subj\"])\n",
      "columns = pd.Series(up_timepoints, name=\"timepoints\")\n",
      "up_accs = pd.DataFrame(index=roi_index, columns=columns, dtype=float)\n",
      "up_hrf_info = pd.DataFrame(index=roi_index, columns=[\"peak\", \"r2\"], dtype=float)\n",
      "up_hrfs = {}\n",
      "bounds = dict(shape=(2, 20), coef=(0, None), loc=(-2.5, 2.5), scale=(0, 3))\n",
      "\n",
      "for roi in net_rois:\n",
      "    mask = \"yeo17_\" + roi.lower()\n",
      "    ds = mvpa.extract_group(\"dimension\", roi + \"_500ms\", mask, frames,\n",
      "                            upsample=4, confounds=\"rt\", dv=dv4)\n",
      "    roi_accs = mvpa.decode_group(ds, model, dv=dv)\n",
      "    up_accs.loc[roi, :] = roi_accs\n",
      "    hrfs = [moss.GammaHRF(loc=-1.5, bounds=bounds) for s in subjects]\n",
      "    hrfs_ = dv.map_sync(lambda h, a: h.fit(up_timepoints, a), hrfs, roi_accs.tolist())\n",
      "    up_hrfs[roi] = hrfs_\n",
      "    for subj, hrf in zip(subjects, hrfs_):\n",
      "        up_hrf_info.loc[(roi, subj)] = hrf.peak_time_, hrf.fit_r2_"
     ],
     "language": "python",
     "metadata": {},
     "outputs": [],
     "prompt_number": 83
    },
    {
     "cell_type": "markdown",
     "metadata": {},
     "source": [
      "Report main information about the fits."
     ]
    },
    {
     "cell_type": "code",
     "collapsed": false,
     "input": [
      "for roi, info in up_hrf_info.groupby(level=\"ROI\"):\n",
      "    peak_time = info[\"peak\"].mean()\n",
      "    low, high = moss.ci(moss.bootstrap(info[\"peak\"]), 95)\n",
      "    print roi + \"\\n---\"\n",
      "    print \" Mean peak: %.2fs;  95%% CI: (%.2f, %.2f)\" % (peak_time, low, high)\n",
      "    r2 = info[\"r2\"].median()\n",
      "    low, high = moss.ci(moss.bootstrap(info[\"r2\"], func=np.median), 95)\n",
      "    print \" Median R^2: %.2f;  95%% CI: (%.2f, %.2f)\\n\" % (r2, low, high)"
     ],
     "language": "python",
     "metadata": {},
     "outputs": [
      {
       "output_type": "stream",
       "stream": "stdout",
       "text": [
        "IFS\n",
        "---\n",
        " Mean peak: 2.67s;  95% CI: (2.43, 2.89)\n",
        " Median R^2: 0.72;  95% CI: (0.66, 0.84)\n"
       ]
      },
      {
       "output_type": "stream",
       "stream": "stdout",
       "text": [
        "\n",
        "IPS\n",
        "---"
       ]
      },
      {
       "output_type": "stream",
       "stream": "stdout",
       "text": [
        "\n",
        " Mean peak: 2.63s;  95% CI: (2.29, 3.00)\n",
        " Median R^2: 0.90;  95% CI: (0.76, 0.94)\n"
       ]
      },
      {
       "output_type": "stream",
       "stream": "stdout",
       "text": [
        "\n",
        "OTC\n",
        "---"
       ]
      },
      {
       "output_type": "stream",
       "stream": "stdout",
       "text": [
        "\n",
        " Mean peak: 3.45s;  95% CI: (3.25, 3.64)\n",
        " Median R^2: 0.93;  95% CI: (0.92, 0.96)\n"
       ]
      },
      {
       "output_type": "stream",
       "stream": "stdout",
       "text": [
        "\n"
       ]
      }
     ],
     "prompt_number": 84
    },
    {
     "cell_type": "markdown",
     "metadata": {},
     "source": [
      "Define a short function to compute them median and 95% CI for the pairwise differences and apply it to eaach pair."
     ]
    },
    {
     "cell_type": "code",
     "collapsed": false,
     "input": [
      "def up_peak_test(info, roi_a, roi_b):\n",
      "    peaks = np.array(info[\"peak\"].unstack(level=\"ROI\")[[roi_a, roi_b]])\n",
      "    diff = np.diff(peaks, axis=1)\n",
      "    mean_diff = np.mean(diff)\n",
      "    diff_ci = moss.ci(moss.bootstrap(diff), 95)\n",
      "    t, p = stats.ttest_rel(peaks[:, 0], peaks[:, 1])\n",
      "    print \"%s - %s difference:\" % (roi_a, roi_b)\n",
      "    print \"  mean = %.2fs;\" % mean_diff, \n",
      "    print \"95%% CI: %.2f, %.2f\" % tuple(diff_ci)\n",
      "    print \"  t(%d) = %.3f; p = %.3g\" % (len(diff) - 1, t, p)\n",
      "    print \"  %d subjects with positive difference\" % (diff > 0).sum()"
     ],
     "language": "python",
     "metadata": {},
     "outputs": [],
     "prompt_number": 85
    },
    {
     "cell_type": "code",
     "collapsed": false,
     "input": [
      "up_peak_test(up_hrf_info, \"IFS\", \"OTC\")"
     ],
     "language": "python",
     "metadata": {},
     "outputs": [
      {
       "output_type": "stream",
       "stream": "stdout",
       "text": [
        "IFS - OTC difference:\n",
        "  mean = 0.78s; 95% CI: 0.48, 1.04\n",
        "  t(14) = -5.205; p = 0.000133\n",
        "  13 subjects with positive difference\n"
       ]
      }
     ],
     "prompt_number": 86
    },
    {
     "cell_type": "code",
     "collapsed": false,
     "input": [
      "up_peak_test(up_hrf_info, \"IPS\", \"OTC\")"
     ],
     "language": "python",
     "metadata": {},
     "outputs": [
      {
       "output_type": "stream",
       "stream": "stdout",
       "text": [
        "IPS - OTC difference:\n",
        "  mean = 0.82s; 95% CI: 0.54, 1.08\n",
        "  t(14) = -5.857; p = 4.17e-05\n",
        "  13 subjects with positive difference\n"
       ]
      }
     ],
     "prompt_number": 87
    },
    {
     "cell_type": "code",
     "collapsed": false,
     "input": [
      "up_peak_test(up_hrf_info, \"IFS\", \"IPS\")"
     ],
     "language": "python",
     "metadata": {},
     "outputs": [
      {
       "output_type": "stream",
       "stream": "stdout",
       "text": [
        "IFS - IPS difference:\n",
        "  mean = -0.04s; 95% CI: -0.40, 0.30\n",
        "  t(14) = 0.247; p = 0.809\n",
        "  6 subjects with positive difference\n"
       ]
      }
     ],
     "prompt_number": 88
    },
    {
     "cell_type": "markdown",
     "metadata": {},
     "source": [
      "We'll also make a supplemental plot with the high-resolution timecourse decoding along with the fitted Gamma PDF model. The right panel adds the distribution of pairwise differences."
     ]
    },
    {
     "cell_type": "code",
     "collapsed": false,
     "input": [
      "f = figure(figsize=(12, 7))\n",
      "ax_ts = f.add_axes([.05, .05, .75, .9])\n",
      "ax_box = f.add_axes([.81, .05, .14, .9])\n",
      "xx = np.linspace(-2, 9.5, 100)\n",
      "for roi in net_rois:\n",
      "    color = roi_colors[roi]\n",
      "    accs = up_accs.loc[roi]\n",
      "    sns.tsplot(up_timepoints, accs, err_style=\"ci_bars\",\n",
      "               interpolate=False, color=color, mec=color,\n",
      "               err_kws={\"mew\": 0, \"elinewidth\": 2}, ax=ax_ts)\n",
      "    fits = [hrf.predict(xx) for hrf in up_hrfs[roi]]\n",
      "    sns.tsplot(xx, fits, [], color=color, lw=2.5, label=roi, ax=ax_ts)\n",
      "    sns.rugplot(up_hrf_info.loc[roi][\"peak\"], color=color, height=.015, lw=1.25, ax=ax_ts)\n",
      "\n",
      "ax_ts.legend(frameon=False, title=\"ROI\")\n",
      "ax_ts.set_xlim(-2, 9.5)\n",
      "ax_ts.set_yticks(np.linspace(.3, .7, 5))\n",
      "ax_ts.set_xlabel(\"Time relavtive to stimulus onset (s)\")\n",
      "ax_ts.set_ylabel(\"Cross-validated decoding accuracy\")\n",
      "ax_ts.axhline(1. / 3, ls=\"--\", c=\"k\")\n",
      "ax_ts.axvline(0, ls=\":\", c=\"k\")\n",
      "\n",
      "for i, roi in enumerate([\"IFS\", \"IPS\"]):\n",
      "    diff = (up_hrf_info.loc[roi] - up_hrf_info.loc[\"OTC\"]).peak\n",
      "    sns.violin(diff, \"points\", color=sns.desaturate(roi_colors[roi], .5 - i * .25),\n",
      "               widths=.8, position=i, kde_thresh=0.035, ax=ax_box)\n",
      "ax_box.axhline(0, ls=\"--\", c=\"k\")\n",
      "ax_box.set_xlim(-.5, 1.5)\n",
      "ax_box.set_xticks([0, 1])\n",
      "ax_box.set_xticklabels([\"IFS\", \"IPS\"])\n",
      "ax_box.yaxis.tick_right()\n",
      "ax_box.yaxis.set_label_position(\"right\")\n",
      "ax_box.set_ylabel(\"Peak time relative to OTC ROI (s)\", rotation=270)\n",
      "save_figure(f, \"posterior_supp\")"
     ],
     "language": "python",
     "metadata": {},
     "outputs": [
      {
       "metadata": {},
       "output_type": "display_data",
       "png": "[encoded data removed]",
       "text": [
        "<matplotlib.figure.Figure at 0x137037850>"
       ]
      }
     ],
     "prompt_number": 89
    },
    {
     "cell_type": "markdown",
     "metadata": {},
     "source": [
      "<div style=\"width:780px;padding-left:120px\" align=\"justify\">\n",
      "**Upsampled spatiotemporal decoding of Dimension Rules in posterior cortex:** Left panel plots the mean and 68% confidence intervals for cross-validated decoding accuracy on the upsampled timecourses (points and error bars) along with the mean predicted response taken from the gamma PDF fits (solid traces). The estimated peak for each subject and ROI is plotted with a tick on the x axis. Right panel plots the distribution of estimated peak times for the IFS and IPS relative to the OTC (earlier frontoparietal peaks correspond to negative numbers). Each point represents an individual subject superimposed on the kernel densiy estimate of the population.\n",
      "</div>"
     ]
    },
    {
     "cell_type": "heading",
     "level": 3,
     "metadata": {},
     "source": [
      "Frontoparietal influence on visual selection"
     ]
    },
    {
     "cell_type": "markdown",
     "metadata": {},
     "source": [
      "The next set of analysis focus on the question of influence, or at least interactions, within this network. Our question is, when the representation is stronger in frontoparietal areas (as measured by higher probabilistic prediction for the correct class), is that trials more likely to be classified correctly in OTC? I've actually done this with both binary and continuous DVs; the latter is actually a stronger effect, but the former is perfectly solid and possibly more robust, as well as more inline with the logistic regressions below."
     ]
    },
    {
     "cell_type": "code",
     "collapsed": false,
     "input": [
      "logits = dict()\n",
      "preds = dict()\n",
      "for roi in net_rois:\n",
      "    mask = \"yeo17_\" + roi.lower()\n",
      "    ds = mvpa.extract_group(\"dimension\", roi, mask, frames, peak, \"rt\", dv=dv4)\n",
      "    logits_ = mvpa.decode_group(ds, model, logits=True, trialwise=True, dv=dv)\n",
      "    logits[roi] = np.concatenate(logits_)\n",
      "    preds_ = mvpa.decode_group(ds, model, trialwise=True, dv=dv)\n",
      "    preds[roi] = np.concatenate(preds_)"
     ],
     "language": "python",
     "metadata": {},
     "outputs": [],
     "prompt_number": 90
    },
    {
     "cell_type": "code",
     "collapsed": false,
     "input": [
      "logit_df = behav_df[[\"subj\"]]\n",
      "for roi in net_rois:\n",
      "    logit_df[roi] = logits[roi]\n",
      "    logit_df[roi + \"_acc\"] = preds[roi]\n",
      "%Rpush logit_df"
     ],
     "language": "python",
     "metadata": {},
     "outputs": [],
     "prompt_number": 91
    },
    {
     "cell_type": "markdown",
     "metadata": {},
     "source": [
      "Set up the main mixed model and the nested models for likelihood ratio tests."
     ]
    },
    {
     "cell_type": "code",
     "collapsed": false,
     "input": [
      "%%R\n",
      "m.logits = lmer(OTC_acc ~ IFS + IPS + (IFS + IPS | subj), logit_df, family=binomial)\n",
      "m.logits.noifs = lmer(OTC_acc ~ IPS + (IFS + IPS | subj), logit_df, family=binomial)\n",
      "m.logits.noips = lmer(OTC_acc ~ IFS + (IFS + IPS | subj), logit_df, family=binomial)"
     ],
     "language": "python",
     "metadata": {},
     "outputs": [],
     "prompt_number": 92
    },
    {
     "cell_type": "markdown",
     "metadata": {},
     "source": [
      "Report on the model."
     ]
    },
    {
     "cell_type": "code",
     "collapsed": false,
     "input": [
      "%%R\n",
      "display(m.logits, detail=TRUE, digits=4)\n",
      "lr_test(m.logits, m.logits.noifs, \"IFS effect\")\n",
      "lr_test(m.logits, m.logits.noips, \"IPS effect\")"
     ],
     "language": "python",
     "metadata": {},
     "outputs": [
      {
       "metadata": {},
       "output_type": "display_data",
       "text": [
        "glmer(formula = OTC_acc ~ IFS + IPS + (IFS + IPS | subj), data = logit_df, \n",
        "    family = binomial)\n",
        "            coef.est coef.se z value Pr(>|z|)\n",
        "(Intercept) 0.5455   0.0665  8.2078  0.0000  \n",
        "IFS         0.0813   0.0139  5.8425  0.0000  \n",
        "IPS         0.1598   0.0209  7.6421  0.0000  \n",
        "\n",
        "Error terms:\n",
        " Groups   Name        Std.Dev. Corr            \n",
        " subj     (Intercept) 0.2180                   \n",
        "          IFS         0.0220   -1.0000         \n",
        "          IPS         0.0596    0.2017 -0.2017 \n",
        " Residual             1.0000                   \n",
        "---\n",
        "number of obs: 3973, groups: subj, 15\n",
        "AIC = 5075.3, DIC = 5057.3\n",
        "deviance = 5057.3 \n",
        "Likelihood ratio test for IFS effect:\n",
        "  Chisq(1) = 20.36; p = 6.43e-06\n",
        "Likelihood ratio test for IPS effect:\n",
        "  Chisq(1) = 24.16; p = 8.86e-07\n"
       ]
      }
     ],
     "prompt_number": 93
    },
    {
     "cell_type": "markdown",
     "metadata": {},
     "source": [
      "It looks like the regression coefficient for the IPS is larger than the IFS. Is this statistically significant?"
     ]
    },
    {
     "cell_type": "code",
     "collapsed": false,
     "input": [
      "%%R\n",
      "C = matrix(c(0, -1, 1), 1, 3)\n",
      "rownames(C) = \"IPS-IFS\"\n",
      "print(summary(glht(m.logits, C)))"
     ],
     "language": "python",
     "metadata": {},
     "outputs": [
      {
       "metadata": {},
       "output_type": "display_data",
       "text": [
        "\n",
        "\t Simultaneous Tests for General Linear Hypotheses\n",
        "\n",
        "Fit: glmer(formula = OTC_acc ~ IFS + IPS + (IFS + IPS | subj), data = logit_df, \n",
        "    family = binomial)\n",
        "\n",
        "Linear Hypotheses:\n",
        "             Estimate Std. Error z value Pr(>|z|)   \n",
        "IPS-IFS == 0  0.07849    0.02723   2.883  0.00394 **\n",
        "---\n",
        "Signif. codes:  0 \u2018***\u2019 0.001 \u2018**\u2019 0.01 \u2018*\u2019 0.05 \u2018.\u2019 0.1 \u2018 \u2019 1\n",
        "(Adjusted p values reported -- single-step method)\n",
        "\n"
       ]
      }
     ],
     "prompt_number": 94
    },
    {
     "cell_type": "heading",
     "level": 2,
     "metadata": {},
     "source": [
      "Environmental Influences on Context Representation"
     ]
    },
    {
     "cell_type": "heading",
     "level": 3,
     "metadata": {},
     "source": [
      "Rule Switching"
     ]
    },
    {
     "cell_type": "code",
     "collapsed": false,
     "input": [
      "preds = dict()\n",
      "for roi in net_rois:\n",
      "    mask = \"yeo17_\" + roi.lower()\n",
      "    ds = mvpa.extract_group(\"dimension\", roi, mask, frames, collapse=peak, confounds=\"rt\", dv=dv4)\n",
      "    preds[roi] = mvpa.decode_group(ds, LogisticRegression(), trialwise=True, dv=dv)"
     ],
     "language": "python",
     "metadata": {},
     "outputs": [],
     "prompt_number": 95
    },
    {
     "cell_type": "code",
     "collapsed": false,
     "input": [
      "shift_df_ = behav_df[[\"subj\", \"dim_shift\", \"dim_shift_lag\", \"dim_rule\"]]\n",
      "total_trials = len(shift_df_)"
     ],
     "language": "python",
     "metadata": {},
     "outputs": [],
     "prompt_number": 96
    },
    {
     "cell_type": "code",
     "collapsed": false,
     "input": [
      "shift_df = pd.concat([shift_df_, shift_df_, shift_df_])\n",
      "shift_df[\"roi\"] = concatenate([repeat(roi, total_trials) for roi in net_rois])\n",
      "shift_df[\"acc\"] = concatenate([concatenate(preds[roi]) for roi in net_rois])\n",
      "shift_df = shift_df[shift_df.dim_shift_lag < 6]\n",
      "shift_df[\"log_shift_lag\"] = np.log(shift_df.dim_shift_lag + 1)"
     ],
     "language": "python",
     "metadata": {},
     "outputs": [],
     "prompt_number": 97
    },
    {
     "cell_type": "code",
     "collapsed": false,
     "input": [
      "%%R -i shift_df \n",
      "m.add = lmer(acc ~ roi + log_shift_lag + dim_rule +\n",
      "             (roi + log_shift_lag + dim_rule | subj), shift_df, family=binomial)\n",
      "m.int = lmer(acc ~ roi * log_shift_lag + dim_rule +\n",
      "       (roi + log_shift_lag + dim_rule | subj), shift_df, family=binomial)\n",
      "display(m.int, digits=4, detail=TRUE)"
     ],
     "language": "python",
     "metadata": {},
     "outputs": [
      {
       "metadata": {},
       "output_type": "display_data",
       "text": [
        "glmer(formula = acc ~ roi * log_shift_lag + dim_rule + (roi + \n",
        "    log_shift_lag + dim_rule | subj), data = shift_df, family = binomial)\n",
        "                     coef.est coef.se z value Pr(>|z|)\n",
        "(Intercept)           0.1550   0.0635  2.4414  0.0146 \n",
        "roiIPS                0.4413   0.0949  4.6503  0.0000 \n",
        "roiOTC                0.5506   0.1048  5.2529  0.0000 \n",
        "log_shift_lag        -0.1959   0.0606 -3.2322  0.0012 \n",
        "dim_rulepattern      -0.3032   0.0569 -5.3280  0.0000 \n",
        "dim_ruleshape         0.0214   0.0613  0.3486  0.7274 \n",
        "roiIPS:log_shift_lag -0.0962   0.0802 -1.1990  0.2305 \n",
        "roiOTC:log_shift_lag  0.0169   0.0808  0.2096  0.8340 \n",
        "\n",
        "Error terms:\n",
        " Groups   Name            Std.Dev. Corr                                    \n",
        " subj     (Intercept)     0.0000                                           \n",
        "          roiIPS          0.1830       NaN                                 \n",
        "          roiOTC          0.2483       NaN  0.3219                         \n",
        "          log_shift_lag   0.0873       NaN  0.1851  0.1785                 \n",
        "          dim_rulepattern 0.1237       NaN  0.1050 -0.8908  0.0795         \n",
        "          dim_ruleshape   0.1520       NaN  0.2804 -0.0469 -0.8912 -0.0071 \n",
        " Residual                 1.0000                                           \n",
        "---\n",
        "number of obs: 11283, groups: subj, 15\n",
        "AIC = 15268.7, DIC = 15210.7\n",
        "deviance = 15210.7 \n"
       ]
      }
     ],
     "prompt_number": 98
    },
    {
     "cell_type": "code",
     "collapsed": false,
     "input": [
      "%%R -i shift_df\n",
      "m.shift.int = lmer(acc ~ roi * log_shift_lag + (roi + log_shift_lag | subj), shift_df, family=binomial)\n",
      "m.shift.add = lmer(acc ~ roi + log_shift_lag + (roi + log_shift_lag | subj), shift_df, family=binomial)"
     ],
     "language": "python",
     "metadata": {},
     "outputs": [],
     "prompt_number": 99
    },
    {
     "cell_type": "code",
     "collapsed": false,
     "input": [
      "%R lr_test(m.shift.int, m.shift.add, \"ROI X Lag interaction\")"
     ],
     "language": "python",
     "metadata": {},
     "outputs": [
      {
       "metadata": {},
       "output_type": "display_data",
       "text": [
        "Likelihood ratio test for ROI X Lag interaction:\n",
        "  Chisq(2) = 2.17; p = 0.338\n"
       ]
      }
     ],
     "prompt_number": 100
    },
    {
     "cell_type": "code",
     "collapsed": false,
     "input": [
      "%R display(m.shift.add, detail=TRUE, digits=4)"
     ],
     "language": "python",
     "metadata": {},
     "outputs": [
      {
       "metadata": {},
       "output_type": "display_data",
       "text": [
        "glmer(formula = acc ~ roi + log_shift_lag + (roi + log_shift_lag | \n",
        "    subj), data = shift_df, family = binomial)\n",
        "              coef.est coef.se z value Pr(>|z|)\n",
        "(Intercept)    0.0893   0.0427  2.0906  0.0366 \n",
        "roiIPS         0.3566   0.0665  5.3647  0.0000 \n",
        "roiOTC         0.5607   0.0725  7.7344  0.0000 \n",
        "log_shift_lag -0.2246   0.0362 -6.1996  0.0000 \n",
        "\n",
        "Error terms:\n",
        " Groups   Name          Std.Dev. Corr                 \n",
        " subj     (Intercept)   0.0000                        \n",
        "          roiIPS        0.1837      NaN               \n",
        "          roiOTC        0.2138      NaN 0.2085        \n",
        "          log_shift_lag 0.0591      NaN 0.5374 0.1130 \n",
        " Residual               1.0000                        \n",
        "---\n",
        "number of obs: 11283, groups: subj, 15\n",
        "AIC = 15314.5, DIC = 15286.5\n",
        "deviance = 15286.5 \n"
       ]
      }
     ],
     "prompt_number": 101
    },
    {
     "cell_type": "code",
     "collapsed": false,
     "input": [
      "%%R\n",
      "m.shift.nolag = lmer(acc ~ roi + (roi + log_shift_lag | subj), shift_df, family=binomial)\n",
      "lr_test(m.shift.add, m.shift.nolag, \"Lag main effect\")"
     ],
     "language": "python",
     "metadata": {},
     "outputs": [
      {
       "metadata": {},
       "output_type": "display_data",
       "text": [
        "Likelihood ratio test for Lag main effect:\n",
        "  Chisq(1) = 22.60; p = 2e-06\n"
       ]
      }
     ],
     "prompt_number": 102
    },
    {
     "cell_type": "heading",
     "level": 3,
     "metadata": {},
     "source": [
      "Stimulus Repetition"
     ]
    },
    {
     "cell_type": "code",
     "collapsed": false,
     "input": [
      "prime_df_ = behav_df[[\"subj\", \"attend_match\", \"distract_match\"]]\n",
      "total_trials = len(prime_df_)\n",
      "prime_df = pd.concat([prime_df_, prime_df_, prime_df_])\n",
      "prime_df[\"roi\"] = concatenate([repeat(roi, total_trials) for roi in net_rois])\n",
      "prime_df[\"acc\"] = concatenate([concatenate(preds[roi]) for roi in net_rois])\n",
      "prime_df[\"distract_nonmatch\"] = ~prime_df[\"distract_match\"]\n",
      "%Rpush prime_df"
     ],
     "language": "python",
     "metadata": {},
     "outputs": [],
     "prompt_number": 103
    },
    {
     "cell_type": "code",
     "collapsed": false,
     "input": [
      "%%R \n",
      "m.int = lmer(acc ~ attend_match * roi + (attend_match + roi | subj), prime_df, family=binomial)\n",
      "m.add = lmer(acc ~ attend_match + roi + (attend_match + roi | subj), prime_df, family=binomial)\n",
      "lr_test(m.int, m.add, \"roi X match\")"
     ],
     "language": "python",
     "metadata": {},
     "outputs": [
      {
       "metadata": {},
       "output_type": "display_data",
       "text": [
        "Likelihood ratio test for roi X match:\n",
        "  Chisq(2) = 6.21; p = 0.0448\n"
       ]
      }
     ],
     "prompt_number": 104
    },
    {
     "cell_type": "code",
     "collapsed": false,
     "input": [
      "%%R\n",
      "m.otc = lmer(acc ~ attend_match + (attend_match | subj), prime_df,\n",
      "             subset=prime_df$\"roi\" == \"OTC\", family=binomial)\n",
      "m.mean = lmer(acc ~ 1 + (attend_match | subj), prime_df,\n",
      "             subset=prime_df$\"roi\" == \"OTC\", family=binomial)              \n",
      "display(m.otc, detail=TRUE, digits=4)\n",
      "lr_test(m.otc, m.mean, \"OTC model\")"
     ],
     "language": "python",
     "metadata": {},
     "outputs": [
      {
       "metadata": {},
       "output_type": "display_data",
       "text": [
        "glmer(formula = acc ~ attend_match + (attend_match | subj), data = prime_df, \n",
        "    family = binomial, subset = prime_df$roi == \"OTC\")\n",
        "                 coef.est coef.se z value Pr(>|z|)\n",
        "(Intercept)       0.5816   0.0884  6.5799  0.0000 \n",
        "attend_matchTRUE -0.2417   0.0724 -3.3372  0.0008 \n",
        "\n",
        "Error terms:\n",
        " Groups   Name             Std.Dev. Corr    \n",
        " subj     (Intercept)      0.2893           \n",
        "          attend_matchTRUE 0.1189   -1.0000 \n",
        " Residual                  1.0000           \n",
        "---\n",
        "number of obs: 3973, groups: subj, 15\n",
        "AIC = 5280.3, DIC = 5270.3\n",
        "deviance = 5270.3 \n",
        "Likelihood ratio test for OTC model:\n",
        "  Chisq(1) = 9.35; p = 0.00223\n"
       ]
      }
     ],
     "prompt_number": 105
    },
    {
     "cell_type": "code",
     "collapsed": false,
     "input": [
      "%%R\n",
      "m.ips = lmer(acc ~ attend_match + (attend_match | subj), prime_df,\n",
      "             subset=prime_df$\"roi\" == \"IPS\", family=binomial)\n",
      "m.ips.mean = lmer(acc ~ 1 + (attend_match | subj), prime_df,\n",
      "                  subset=prime_df$\"roi\" == \"IPS\", family=binomial)              \n",
      "display(m.ips, detail=TRUE, digits=4)\n",
      "lr_test(m.ips, m.ips.mean, \"IPS model\")"
     ],
     "language": "python",
     "metadata": {},
     "outputs": [
      {
       "metadata": {},
       "output_type": "display_data",
       "text": [
        "glmer(formula = acc ~ attend_match + (attend_match | subj), data = prime_df, \n",
        "    family = binomial, subset = prime_df$roi == \"IPS\")\n",
        "                 coef.est coef.se z value Pr(>|z|)\n",
        "(Intercept)       0.3220   0.0650  4.9526  0.0000 \n",
        "attend_matchTRUE -0.1420   0.0688 -2.0647  0.0390 \n",
        "\n",
        "Error terms:\n",
        " Groups   Name             Std.Dev. Corr   \n",
        " subj     (Intercept)      0.1791          \n",
        "          attend_matchTRUE 0.0945   0.7310 \n",
        " Residual                  1.0000          \n",
        "---\n",
        "number of obs: 3973, groups: subj, 15\n",
        "AIC = 5426.5, DIC = 5416.5\n",
        "deviance = 5416.5 \n",
        "Likelihood ratio test for IPS model:\n",
        "  Chisq(1) = 3.73; p = 0.0536\n"
       ]
      }
     ],
     "prompt_number": 106
    },
    {
     "cell_type": "code",
     "collapsed": false,
     "input": [
      "%%R\n",
      "m.ifs = lmer(acc ~ attend_match + (attend_match | subj), prime_df,\n",
      "             subset=prime_df$\"roi\" == \"IFS\", family=binomial)\n",
      "m.ifs.mean = lmer(acc ~ 1 + (attend_match | subj), prime_df,\n",
      "                  subset=prime_df$\"roi\" == \"IFS\", family=binomial)              \n",
      "display(m.ifs, detail=TRUE, digits=4)\n",
      "lr_test(m.ifs, m.ifs.mean, \"IFS model\")"
     ],
     "language": "python",
     "metadata": {},
     "outputs": [
      {
       "metadata": {},
       "output_type": "display_data",
       "text": [
        "glmer(formula = acc ~ attend_match + (attend_match | subj), data = prime_df, \n",
        "    family = binomial, subset = prime_df$roi == \"IFS\")\n",
        "                 coef.est coef.se z value Pr(>|z|)\n",
        "(Intercept)      -0.0933   0.0456 -2.0448  0.0409 \n",
        "attend_matchTRUE -0.0122   0.0645 -0.1890  0.8501 \n",
        "\n",
        "Error terms:\n",
        " Groups   Name             Std.Dev. Corr   \n",
        " subj     (Intercept)      0.0277          \n",
        "          attend_matchTRUE 0.0420   1.0000 \n",
        " Residual                  1.0000          \n",
        "---\n",
        "number of obs: 3973, groups: subj, 15\n",
        "AIC = 5507.7, DIC = 5497.7\n",
        "deviance = 5497.7 \n",
        "Likelihood ratio test for IFS model:\n",
        "  Chisq(1) = 0.04; p = 0.85\n"
       ]
      }
     ],
     "prompt_number": 107
    },
    {
     "cell_type": "code",
     "collapsed": false,
     "input": [
      "%%R\n",
      "otc.both = lmer(acc ~ attend_match + distract_nonmatch + (attend_match + distract_nonmatch | subj),\n",
      "                prime_df, subset=prime_df$\"roi\" == \"OTC\", family=binomial)\n",
      "display(otc.both, digits=4, detail=TRUE)\n",
      "C = matrix(c(0, 1, -1), 1, 3)\n",
      "rownames(C) = \"attend - distract\"\n",
      "print(summary(glht(otc.both, C, alternative=\"less\")))"
     ],
     "language": "python",
     "metadata": {},
     "outputs": [
      {
       "metadata": {},
       "output_type": "display_data",
       "text": [
        "glmer(formula = acc ~ attend_match + distract_nonmatch + (attend_match + \n",
        "    distract_nonmatch | subj), data = prime_df, family = binomial, \n",
        "    subset = prime_df$roi == \"OTC\")\n",
        "                      coef.est coef.se z value Pr(>|z|)\n",
        "(Intercept)            0.6224   0.0987  6.3027  0.0000 \n",
        "attend_matchTRUE      -0.2415   0.0723 -3.3411  0.0008 \n",
        "distract_nonmatchTRUE -0.0820   0.0665 -1.2326  0.2177 \n",
        "\n",
        "Error terms:\n",
        " Groups   Name                  Std.Dev. Corr            \n",
        " subj     (Intercept)           0.3106                   \n",
        "          attend_matchTRUE      0.1175   -1.0000         \n",
        "          distract_nonmatchTRUE 0.0449   -1.0000  1.0000 \n",
        " Residual                       1.0000                   \n",
        "---\n",
        "number of obs: 3973, groups: subj, 15\n",
        "AIC = 5286.5, DIC = 5268.5\n",
        "deviance = 5268.5 \n",
        "\n",
        "\t Simultaneous Tests for General Linear Hypotheses\n",
        "\n",
        "Fit: glmer(formula = acc ~ attend_match + distract_nonmatch + (attend_match + \n",
        "    distract_nonmatch | subj), data = prime_df, family = binomial, \n",
        "    subset = prime_df$roi == \"OTC\")\n",
        "\n",
        "Linear Hypotheses:\n",
        "                       Estimate Std. Error z value Pr(<z)  \n",
        "attend - distract >= 0 -0.15952    0.09446  -1.689 0.0456 *\n",
        "---\n",
        "Signif. codes:  0 \u2018***\u2019 0.001 \u2018**\u2019 0.01 \u2018*\u2019 0.05 \u2018.\u2019 0.1 \u2018 \u2019 1\n",
        "(Adjusted p values reported -- single-step method)\n",
        "\n"
       ]
      }
     ],
     "prompt_number": 108
    },
    {
     "cell_type": "code",
     "collapsed": false,
     "input": [
      "%%R\n",
      "otc.att = lmer(acc ~ attend_match  + (attend_match + distract_nonmatch | subj),\n",
      "               prime_df, subset=prime_df$\"roi\" == \"OTC\", family=binomial)\n",
      "lr_test(otc.both, otc.att, \"distract repitition effect\")"
     ],
     "language": "python",
     "metadata": {},
     "outputs": [
      {
       "metadata": {},
       "output_type": "display_data",
       "text": [
        "Likelihood ratio test for distract repitition effect:\n",
        "  Chisq(1) = 1.51; p = 0.219\n"
       ]
      }
     ],
     "prompt_number": 109
    },
    {
     "cell_type": "code",
     "collapsed": false,
     "input": [
      "f, axes = subplots(2, 3, sharey=True, figsize=(7, 11))\n",
      "\n",
      "data = shift_df.groupby([\"roi\", \"subj\", \"dim_shift_lag\"]).acc.mean().unstack()\n",
      "for i, roi in enumerate(net_rois):\n",
      "    ax = axes[0, i]\n",
      "    color = roi_colors[roi]\n",
      "    roi_data = np.array(data.loc[roi])\n",
      "    x = range(1, 7)\n",
      "    xx = linspace(.7, 6.3, 100)\n",
      "    sns.tsplot(x, roi_data, err_style=\"ci_bars\",\n",
      "               interpolate=False, color=color, ms=8, mec=color,\n",
      "               err_kws=dict(mew=0, elinewidth=2.5), ax=ax)\n",
      "    y = roi_data.mean(axis=0)\n",
      "    fit = np.polyfit(log(x), y, 1)\n",
      "    r2 = r2_score(y, np.polyval(fit, log(x)))\n",
      "    yy = np.polyval(fit, log(xx))\n",
      "    a, b = 3.15, 3.85\n",
      "    block_break = (xx >=a) & (xx <= b)\n",
      "    ax.plot(xx[xx < a], yy[xx < a], lw=2, color=color)\n",
      "    ax.plot(xx[block_break], yy[block_break], lw=2, ls=\":\", color=color)\n",
      "    ax.plot(xx[xx > b], yy[xx > b], lw=2, color=color)\n",
      "    ax.text(3.2, y.mean() + .04,\n",
      "            \"$R^2 = %.2f$\" % r2, size=14)\n",
      "    ax.xaxis.grid(False)\n",
      "    ax.set_xlim(.7, 6.3)\n",
      "    ax.set_ylim(.3, .7)\n",
      "    ax.set_yticks(np.linspace(.3, .7, 5))\n",
      "    ax.axhline(.33, ls=\"--\", c=\"#444444\")\n",
      "    if i == 1:\n",
      "        ax.set_xlabel(\"Trials Since Rule Switch\")\n",
      "    if not i:\n",
      "        ax.set_ylabel(\"Cross-Validated Decoding Accuracy\")\n",
      "    ax.set_title(roi)\n",
      "\n",
      "x = arange(2)\n",
      "labels = [\"unattended\", \"attended\"]\n",
      "for i, (roi, roi_df) in enumerate(prime_df.groupby(\"roi\")):\n",
      "    ax = axes[1, i]\n",
      "    for j, cond in enumerate([\"distract\", \"attend\"]):\n",
      "        effect = pd.pivot_table(roi_df, \"acc\", \"subj\", cond + \"_match\")\n",
      "        color = roi_colors[roi]\n",
      "        if not j:\n",
      "            color = sns.set_hls_values(color, s=.3, l=.65)\n",
      "        sns.tsplot(x, effect, \"ci_bars\", color=color, interpolate=False,\n",
      "                   err_kws={\"lw\": 2.5, \"mew\": 0, \"mc\": \"none\"},\n",
      "                   marker=\"o\", ms=8, mec=color, ax=ax)\n",
      "        ax.plot([0, 1], effect.mean(), color=color, lw=2.5, label=labels[j])\n",
      "\n",
      "    ax.xaxis.grid(False)\n",
      "    ax.set_xlim(-.2, 1.2)\n",
      "    ax.set_xticks([.2, .8])\n",
      "    ax.set_xticklabels([\"Nonmatch\", \"     Match\"])\n",
      "    ax.set_ylim(.3, .7)\n",
      "    ax.set_yticks(np.linspace(.3, .7, 5))\n",
      "    ax.axhline(.33, ls=\"--\", c=\"#444444\")\n",
      "    if i == 1:\n",
      "        ax.set_xlabel(\"Feature Relationship\")\n",
      "    if not i:\n",
      "        ax.set_ylabel(\"Cross-Validated Decoding Accuracy\")\n",
      "    ax.legend(frameon=False, title=\"Dimensions\", bbox_to_anchor=(.9, .26))\n",
      "    \n",
      "tight_layout()\n",
      "save_figure(f, \"environment_main\")"
     ],
     "language": "python",
     "metadata": {},
     "outputs": [
      {
       "metadata": {},
       "output_type": "display_data",
       "png": "[encoded data removed]",
       "text": [
        "<matplotlib.figure.Figure at 0x14e7bd790>"
       ]
      }
     ],
     "prompt_number": 110
    },
    {
     "cell_type": "code",
     "collapsed": false,
     "input": [],
     "language": "python",
     "metadata": {},
     "outputs": [],
     "prompt_number": 110
    }
   ],
   "metadata": {}
  }
 ]
}