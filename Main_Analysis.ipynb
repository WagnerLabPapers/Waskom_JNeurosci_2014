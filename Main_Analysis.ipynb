{
 "metadata": {
  "name": ""
 },
 "nbformat": 3,
 "nbformat_minor": 0,
 "worksheets": [
  {
   "cells": [
    {
     "cell_type": "heading",
     "level": 1,
     "metadata": {},
     "source": [
      "DKsort Neuron Analysis Notebook"
     ]
    },
    {
     "cell_type": "markdown",
     "metadata": {},
     "source": [
      "<h2>Contents</h2>\n",
      "<ul class=ult>\n",
      "  <li><a href=\"#Imports,-Definitions,-and-Project-Specific-Functions\">Imports, Definitions and Project-Specific Functions</a></li>\n",
      "  <li><a href=\"#Behavioral-Results\">Behavioral Analyses</a></li>\n",
      "  <li><a href=\"#ROI-and-Artifact-Statistics\">ROI and Artifact Statistics</a></li>\n",
      "  <li><a href=\"#Context-Decoding-in-Lateral-Prefrontal-Cortex\">Context Decoding in Lateral Prefrontal Cortex</a></li>\n",
      "  <li><a href=\"#Decoding-in-Posterior-Cortex\">Decoding in Posterior Cortex</a></li>\n",
      "  <li><a href=\"#Task-and-Stimulus-Repetition-Effects\">Task and Stimulus Repetition Effects</a></li>\n",
      "</ul>"
     ]
    },
    {
     "cell_type": "heading",
     "level": 2,
     "metadata": {},
     "source": [
      "Imports, Definitions, and Project Specific Functions"
     ]
    },
    {
     "cell_type": "markdown",
     "metadata": {},
     "source": [
      "First, import external packages that we'll use in this notebook"
     ]
    },
    {
     "cell_type": "code",
     "collapsed": false,
     "input": [
      "from __future__ import division\n",
      "import itertools\n",
      "import numpy as np\n",
      "import scipy as sp\n",
      "import pandas as pd\n",
      "import nibabel as nib\n",
      "from scipy import stats\n",
      "import statsmodels.api as sm\n",
      "from sklearn.linear_model import LogisticRegression\n",
      "from sklearn.metrics import r2_score"
     ],
     "language": "python",
     "metadata": {},
     "outputs": [],
     "prompt_number": 1
    },
    {
     "cell_type": "markdown",
     "metadata": {},
     "source": [
      "Pandas 0.12 prints a very annoying deprecation warning every time an HTML representation is created for a DataFrame. We're going to silence those here:"
     ]
    },
    {
     "cell_type": "code",
     "collapsed": false,
     "input": [
      "import warnings\n",
      "warnings.filterwarnings(\"ignore\", category=DeprecationWarning) "
     ],
     "language": "python",
     "metadata": {},
     "outputs": [],
     "prompt_number": 2
    },
    {
     "cell_type": "markdown",
     "metadata": {},
     "source": [
      "Now my personal libraries"
     ]
    },
    {
     "cell_type": "code",
     "collapsed": false,
     "input": [
      "import lyman\n",
      "from lyman import mvpa, evoked\n",
      "import seaborn as sns\n",
      "import moss"
     ],
     "language": "python",
     "metadata": {},
     "outputs": [],
     "prompt_number": 3
    },
    {
     "cell_type": "markdown",
     "metadata": {},
     "source": [
      "Set up display options for figures and tables"
     ]
    },
    {
     "cell_type": "code",
     "collapsed": false,
     "input": [
      "%pylab inline\n",
      "sns.set(context=\"paper\", font=\"Arial\")\n",
      "pd.set_option('display.precision', 3)"
     ],
     "language": "python",
     "metadata": {},
     "outputs": [
      {
       "output_type": "stream",
       "stream": "stdout",
       "text": [
        "Populating the interactive namespace from numpy and matplotlib\n"
       ]
      }
     ],
     "prompt_number": 4
    },
    {
     "cell_type": "markdown",
     "metadata": {},
     "source": [
      "Load the IPython magic extension to use R within this notebook and import external R packages we'll use."
     ]
    },
    {
     "cell_type": "code",
     "collapsed": false,
     "input": [
      "%load_ext rmagic\n",
      "%R library(lme4)\n",
      "%R library(multcomp)"
     ],
     "language": "python",
     "metadata": {},
     "outputs": [
      {
       "metadata": {},
       "output_type": "display_data",
       "text": [
        "Loading required package: Matrix\n",
        "Loading required package: lattice\n",
        "\n",
        "Attaching package: \u2018lme4\u2019\n",
        "\n",
        "The following object is masked from \u2018package:stats\u2019:\n",
        "\n",
        "    AIC, BIC\n",
        "\n"
       ]
      },
      {
       "metadata": {},
       "output_type": "display_data",
       "text": [
        "Loading required package: mvtnorm\n",
        "Loading required package: survival\n",
        "Loading required package: splines\n"
       ]
      }
     ],
     "prompt_number": 5
    },
    {
     "cell_type": "markdown",
     "metadata": {},
     "source": [
      "Connect to an IPython cluster (this must be started separately) and get two direct view references -- one to all engines (we expect to run this on my 8-core Mac Pro) and one to only 4 engines. We use the `dv4` cluster view with the extraction functions so we can extract data in parallel without killing things by running too many parallel i/o processes."
     ]
    },
    {
     "cell_type": "code",
     "collapsed": false,
     "input": [
      "from IPython.parallel import Client\n",
      "try:\n",
      "    dv = Client()[:]\n",
      "    dv4 = Client()[:4]\n",
      "except IOError:\n",
      "    dv = None\n",
      "    dv4 = None"
     ],
     "language": "python",
     "metadata": {},
     "outputs": [],
     "prompt_number": 6
    },
    {
     "cell_type": "markdown",
     "metadata": {},
     "source": [
      "Control saving figures globally with this function so it is easy to switch between file types and possibly other options."
     ]
    },
    {
     "cell_type": "code",
     "collapsed": false,
     "input": [
      "def save_figure(fig, figname):\n",
      "    fig.savefig(\"figures/%s.pdf\" % figname, dpi=300)"
     ],
     "language": "python",
     "metadata": {},
     "outputs": [],
     "prompt_number": 37
    },
    {
     "cell_type": "markdown",
     "metadata": {},
     "source": [
      "Get the list of subject IDs for all the analyses."
     ]
    },
    {
     "cell_type": "code",
     "collapsed": false,
     "input": [
      "subjects = pd.Series(lyman.determine_subjects(), name=\"subj\")"
     ],
     "language": "python",
     "metadata": {},
     "outputs": [],
     "prompt_number": 9
    },
    {
     "cell_type": "markdown",
     "metadata": {},
     "source": [
      "Set some colors globally to use in all figures."
     ]
    },
    {
     "cell_type": "code",
     "collapsed": false,
     "input": [
      "rule_colors = dict(dim=[\"#EE6F25\", \"#4BC75B\", \"#9370DB\"], dec=[\"#6495EB\", \"#FF6347\"])\n",
      "roi_colors = dict(IFS=\"#CC3333\", aMFG=\"#3380CC\", pMFG=\"#33CC80\", pSFS=\"#CC8732\", IFG=\"#6464D8\",\n",
      "                  aIns=\"#F08080\", FPC=\"#CCCC33\", IPS=\"#2A4380\", OTC=\"#24913C\")\n",
      "roi_colors.update({\"aIFS\": \"#863D3d\", \"pIFS\": \"#7A5252\",\n",
      "                   \"lh-IFS\": \"#D19494\", \"rh-IFS\": \"#C2A3A3\"})"
     ],
     "language": "python",
     "metadata": {},
     "outputs": [],
     "prompt_number": 702
    },
    {
     "cell_type": "markdown",
     "metadata": {},
     "source": [
      "Define an R function to facilitate reporting of likelihood ratio test of nested LMEMs."
     ]
    },
    {
     "cell_type": "code",
     "collapsed": false,
     "input": [
      "%%R\n",
      "lr_test = function(m1, m2, name){\n",
      "    out = anova(m1, m2)\n",
      "    chi2 = out$Chisq[2]\n",
      "    dof = out$\"Chi Df\"[2]\n",
      "    p = out$\"Pr(>Chisq)\"[2]\n",
      "    test_str = \"Likelihood ratio test for %s:\\n  Chisq(%d) = %.2f; p = %.3g\"\n",
      "    writeLines(sprintf(test_str, name, dof, chi2, p))\n",
      "}"
     ],
     "language": "python",
     "metadata": {},
     "outputs": [],
     "prompt_number": 11
    },
    {
     "cell_type": "heading",
     "level": 3,
     "metadata": {},
     "source": [
      "Behavioral/design information"
     ]
    },
    {
     "cell_type": "markdown",
     "metadata": {},
     "source": [
      "Read each subject's master behavioral file and build two group DataFrames -- one with all trials (`behav_full`) and one with only trials considered in the fMRI analyses (`behav_df`). The latter exludes incorrect trials as well as trials identified as artifacts in the fMRI preprocessing."
     ]
    },
    {
     "cell_type": "code",
     "collapsed": false,
     "input": [
      "behav_temp = \"../data/%s/behav/behav_data.csv\"\n",
      "behav_data = []\n",
      "for subj in subjects:\n",
      "    df = pd.read_csv(behav_temp % subj, index_col=\"trial\")\n",
      "    df[\"subj\"] = repeat(subj, len(df))\n",
      "    behav_data.append(df)\n",
      "behav_full = pd.concat(behav_data)\n",
      "behav_df = behav_full[behav_full[\"clean\"] & behav_full[\"correct\"]]\n",
      "%Rpush behav_df\n",
      "%Rpush behav_full"
     ],
     "language": "python",
     "metadata": {},
     "outputs": [],
     "prompt_number": 12
    },
    {
     "cell_type": "heading",
     "level": 3,
     "metadata": {},
     "source": [
      "fMRI Parameters and Functions"
     ]
    },
    {
     "cell_type": "markdown",
     "metadata": {},
     "source": [
      "Define some parameters shared across fMRI analyses below."
     ]
    },
    {
     "cell_type": "code",
     "collapsed": false,
     "input": [
      "pfc_rois = [\"IFS\", \"aMFG\", \"pMFG\", \"FPC\", \"IFG\", \"aIns\", \"pSFS\"]\n",
      "net_rois = [\"IFS\", \"IPS\", \"OTC\"]"
     ],
     "language": "python",
     "metadata": {},
     "outputs": [],
     "prompt_number": 13
    },
    {
     "cell_type": "code",
     "collapsed": false,
     "input": [
      "other_rois = [\"lh-IFS\", \"rh-IFS\", \"aIFS\", \"pIFS\", \"AllROIs\"]\n",
      "other_masks = [\"lh.yeo17_ifs\", \"rh.yeo17_ifs\", \"yeo17_aifs\", \"yeo17_pifs\", \"dksort_all_pfc\"]"
     ],
     "language": "python",
     "metadata": {},
     "outputs": [],
     "prompt_number": 174
    },
    {
     "cell_type": "code",
     "collapsed": false,
     "input": [
      "frames = np.arange(-1, 5)\n",
      "timepoints = frames * 2 + 1\n",
      "up_timepoints = np.linspace(-1, 10.5, 24)\n",
      "model = LogisticRegression()\n",
      "n_shuffle = 1000\n",
      "peak = slice(2, 4)\n",
      "shuffle_seed = sum(map(ord, \"DKsort\"))"
     ],
     "language": "python",
     "metadata": {},
     "outputs": [],
     "prompt_number": 15
    },
    {
     "cell_type": "markdown",
     "metadata": {},
     "source": [
      "Define several functions to perform the same sequence of analyses on different sets of ROIs/events."
     ]
    },
    {
     "cell_type": "code",
     "collapsed": false,
     "input": [
      "pfc_dimension[\"signif\"].head()"
     ],
     "language": "python",
     "metadata": {},
     "outputs": [
      {
       "html": [
        "<div style=\"max-height:1000px;max-width:1500px;overflow:auto;\">\n",
        "<table border=\"1\" class=\"dataframe\">\n",
        "  <thead>\n",
        "    <tr style=\"text-align: right;\">\n",
        "      <th></th>\n",
        "      <th></th>\n",
        "      <th>IFS</th>\n",
        "      <th>aMFG</th>\n",
        "      <th>pMFG</th>\n",
        "      <th>FPC</th>\n",
        "      <th>IFG</th>\n",
        "      <th>aIns</th>\n",
        "      <th>pSFS</th>\n",
        "    </tr>\n",
        "    <tr>\n",
        "      <th>correction</th>\n",
        "      <th>subj</th>\n",
        "      <th></th>\n",
        "      <th></th>\n",
        "      <th></th>\n",
        "      <th></th>\n",
        "      <th></th>\n",
        "      <th></th>\n",
        "      <th></th>\n",
        "    </tr>\n",
        "  </thead>\n",
        "  <tbody>\n",
        "    <tr>\n",
        "      <th rowspan=\"5\" valign=\"top\">time</th>\n",
        "      <th>dk02</th>\n",
        "      <td>  99.72</td>\n",
        "      <td> 94.46</td>\n",
        "      <td> 90.30</td>\n",
        "      <td> 74.95</td>\n",
        "      <td> 88.75</td>\n",
        "      <td> 14.33</td>\n",
        "      <td> 87.71</td>\n",
        "    </tr>\n",
        "    <tr>\n",
        "      <th>dk03</th>\n",
        "      <td>  96.26</td>\n",
        "      <td> 93.83</td>\n",
        "      <td> 88.97</td>\n",
        "      <td> 53.39</td>\n",
        "      <td> 38.83</td>\n",
        "      <td> 57.45</td>\n",
        "      <td> 91.71</td>\n",
        "    </tr>\n",
        "    <tr>\n",
        "      <th>dk04</th>\n",
        "      <td>  99.99</td>\n",
        "      <td> 70.98</td>\n",
        "      <td> 47.51</td>\n",
        "      <td> 26.62</td>\n",
        "      <td> 98.41</td>\n",
        "      <td> 98.09</td>\n",
        "      <td> 97.57</td>\n",
        "    </tr>\n",
        "    <tr>\n",
        "      <th>dk05</th>\n",
        "      <td>  99.96</td>\n",
        "      <td> 59.50</td>\n",
        "      <td> 95.71</td>\n",
        "      <td> 36.97</td>\n",
        "      <td> 65.71</td>\n",
        "      <td> 58.89</td>\n",
        "      <td> 73.89</td>\n",
        "    </tr>\n",
        "    <tr>\n",
        "      <th>dk06</th>\n",
        "      <td> 100.00</td>\n",
        "      <td> 92.35</td>\n",
        "      <td> 98.95</td>\n",
        "      <td> 74.44</td>\n",
        "      <td> 44.16</td>\n",
        "      <td> 61.55</td>\n",
        "      <td> 71.67</td>\n",
        "    </tr>\n",
        "  </tbody>\n",
        "</table>\n",
        "</div>"
       ],
       "metadata": {},
       "output_type": "pyout",
       "prompt_number": 503,
       "text": [
        "                    IFS   aMFG   pMFG    FPC    IFG   aIns   pSFS\n",
        "correction subj                                                  \n",
        "time       dk02   99.72  94.46  90.30  74.95  88.75  14.33  87.71\n",
        "           dk03   96.26  93.83  88.97  53.39  38.83  57.45  91.71\n",
        "           dk04   99.99  70.98  47.51  26.62  98.41  98.09  97.57\n",
        "           dk05   99.96  59.50  95.71  36.97  65.71  58.89  73.89\n",
        "           dk06  100.00  92.35  98.95  74.44  44.16  61.55  71.67"
       ]
      }
     ],
     "prompt_number": 503
    },
    {
     "cell_type": "code",
     "collapsed": false,
     "input": [
      "def dksort_decode(rois, rule):\n",
      "    \"\"\"Do the all the main decoding steps across sets of ROIs.\n",
      "    \n",
      "    Parameters\n",
      "    ----------\n",
      "    rois: list of strings\n",
      "        list of ROI names that can be easily mapped to a mask name\n",
      "    rule: string\n",
      "        name of rule type corresponding to design file in data dir\n",
      "\n",
      "    Returns\n",
      "    -------\n",
      "    dictionary with the following entries\n",
      "        rois: list of roi names\n",
      "        accs: DataFrame with decoding accuracy. index is hierarchical with\n",
      "              (ROI, subject) and columns are timepoint\n",
      "        chance: DataFrame in same shape as `accs` with the mean value from\n",
      "                the shuffled null distribution for each test\n",
      "        peak: DataFrame with decoding accuracy from data averaged over 3s\n",
      "              and 5s. index is subject id and column is ROI\n",
      "        null: DataFrame with maximum shuffled accuracy across timepoints.\n",
      "              index is hierarchical with (subj, iteration) and columns\n",
      "              are ROIS\n",
      "        ttest: DataFrame with ROIs in the index and (t, p, max_tp) for the\n",
      "               group average test against empirical chance in the\n",
      "               columns. `t` is the largest t statistic observed across time,\n",
      "               and `p` is the corresponding p value corrected for multiple\n",
      "               comparisons across region and timepoint. max_tp is in seconds\n",
      "               relative to stimulus onset\n",
      "        signif: DataFrame with the null distribution percentiles corresponding\n",
      "                to the best observed accuracy for each subject/ROI. index is\n",
      "                hierarchical with (correction, subject) where correction can be\n",
      "                `time` or `omni` for the space of tests the percentile is corrected\n",
      "                against. columns are ROIs.\n",
      "                \n",
      "    \"\"\"    \n",
      "    # Set up the DataFrames to hold the persisent outputs\n",
      "    roi_index = moss.product_index([rois, subjects], [\"ROI\", \"subj\"])\n",
      "    columns = pd.Series(timepoints, name=\"timepoints\")\n",
      "    accs = pd.DataFrame(index=roi_index, columns=columns, dtype=float)\n",
      "\n",
      "    null_index = moss.product_index([subjects, np.arange(n_shuffle)], [\"subj\", \"iter\"])\n",
      "    null = pd.DataFrame(index=null_index, columns=pd.Series(rois, name=\"ROI\"), dtype=float)\n",
      "\n",
      "    peak_df = pd.DataFrame(index=subjects, columns=pd.Series(rois, name=\"ROI\"))\n",
      "    chance = pd.DataFrame(index=roi_index, columns=timepoints, dtype=float)\n",
      "    \n",
      "    # For each ROI load the data, decode, and simulate the null distribution\n",
      "    for roi in rois:\n",
      "        mask = \"yeo17_\" + roi.lower()\n",
      "        \n",
      "        # Load the dataset and do the basic time-resolved decoding\n",
      "        ds = mvpa.extract_group(rule, roi, mask, frames, confounds=\"rt\", dv=dv4)\n",
      "        roi_accs = mvpa.decode_group(ds, model, dv=dv)\n",
      "        accs.loc[roi, :] = roi_accs\n",
      "        \n",
      "        # Now do the shuffling and save the partially transformed null distribution\n",
      "        roi_null = mvpa.classifier_permutations(ds, model, n_iter=n_shuffle,\n",
      "                                                random_seed=shuffle_seed, dv=dv)\n",
      "        chance.loc[roi, :] = roi_null.mean(axis=1)\n",
      "        null[roi] = roi_null.max(axis=-1).ravel()\n",
      "\n",
      "        # Finally re-load the data averaging over the peak timepoints and decode\n",
      "        peak_ds = mvpa.extract_group(rule, roi, mask, frames, peak, \"rt\", dv=dv4)\n",
      "        peak_df[roi] = mvpa.decode_group(peak_ds, model, dv=dv)\n",
      "\n",
      "    # Do the group t tests\n",
      "    wide_accs = accs.unstack(level=\"ROI\")\n",
      "    wide_chance = chance.unstack(level=\"ROI\")\n",
      "    ts, ps = moss.randomize_onesample(wide_accs, h_0=wide_chance)\n",
      "\n",
      "    # Build the t test output\n",
      "    t_df = pd.DataFrame(dict(t=ts, p=ps), index=wide_accs.columns, columns=[\"t\", \"p\"])\n",
      "    ttest = t_df.groupby(level=\"ROI\").apply(lambda x: x.loc[x.t.idxmax()])\n",
      "    ttest[\"max_tp\"] = t_df.groupby(level=\"ROI\").t.apply(lambda x: x.idxmax()[0])\n",
      "\n",
      "    # From the null distribution, find the percentile corresponding to the observed score\n",
      "    signif_index = moss.product_index([[\"time\", \"omni\"], subjects], [\"correction\", \"subj\"])    \n",
      "    signif = pd.DataFrame(index=signif_index, columns=rois, dtype=float)\n",
      "    for roi, roi_accs in accs.max(axis=1).groupby(level=\"ROI\"):\n",
      "        for subj, score in roi_accs.groupby(level=\"subj\"):\n",
      "            signif.loc[(\"time\", subj), roi] = stats.percentileofscore(null[roi], score[0])\n",
      "            signif.loc[(\"omni\", subj), roi] = stats.percentileofscore(null.max(axis=1), score[0])    \n",
      "\n",
      "    return dict(rois=rois, accs=accs, chance=chance, peak=peak_df,\n",
      "                null=null, ttest=ttest, signif=signif)"
     ],
     "language": "python",
     "metadata": {},
     "outputs": [],
     "prompt_number": 28
    },
    {
     "cell_type": "code",
     "collapsed": false,
     "input": [
      "def dksort_timecourse_figure(ax, data, ytick_args):\n",
      "    \"\"\"Plot time-resolved decoding accuracies for multiple ROIs\"\"\"\n",
      "    # Represent chance empirically based on the null distribution\n",
      "    chance = array(data[\"chance\"].mean(axis=0))\n",
      "    ax.plot(timepoints, chance, \"k--\")\n",
      "\n",
      "    # Plot the stimulus onset\n",
      "    ax.plot([0, 0], ytick_args[:2], ls=\":\", c=\"k\")\n",
      "    \n",
      "    # Draw the accuracy timecourse for each ROI\n",
      "    for i, roi in enumerate(data[\"rois\"]):\n",
      "        accs = data[\"accs\"].loc[roi]\n",
      "        color = roi_colors[roi]\n",
      "        zorder = len(data[\"rois\"]) - i\n",
      "        sns.tsplot(timepoints, accs, color=color, label=roi, zorder=zorder, ax=ax)\n",
      "\n",
      "    # Adjust the axis scales and tick labels\n",
      "    ylim = ytick_args[:2]\n",
      "    yticks = np.linspace(*ytick_args)\n",
      "    \n",
      "    ax.set_xlim(timepoints.min(), timepoints.max())\n",
      "    ax.set_ylim(ylim)\n",
      "    ax.set_yticks(yticks)\n",
      "\n",
      "    # Label the axes\n",
      "    ax.set_xlabel(\"Time relative to stimulus onset (s)\")\n",
      "    ax.set_ylabel(\"Cross-validated decoding accuracy\")\n",
      "    \n",
      "    # Make a legend with the ROIs\n",
      "    ax.legend(frameon=False, loc=\"upper right\")"
     ],
     "language": "python",
     "metadata": {},
     "outputs": [],
     "prompt_number": 718
    },
    {
     "cell_type": "code",
     "collapsed": false,
     "input": [
      "def dksort_peak_figure(ax, data, chance, ytick_args, yaxis_label):\n",
      "    \"\"\"Plot a point estimate and CI for the 3-5s accuracy by ROI.\"\"\"\n",
      "    # Plot the chance line\n",
      "    ax.axhline(chance, color=\"k\", ls=\"--\")\n",
      "\n",
      "    # Plot each accuracy and confidence interval\n",
      "    for i, roi in enumerate(data.columns):\n",
      "        color = roi_colors[roi]\n",
      "        accs = data[roi].values\n",
      "        ci = moss.ci(moss.bootstrap(accs), 68)\n",
      "        ax.plot(i, accs.mean(), \"o\", color=color, ms=6, mew=0, mec=color)\n",
      "        ax.plot([i, i], ci, color=color, lw=2, solid_capstyle=\"round\")\n",
      "\n",
      "    # Set the axis limits\n",
      "    ax.set_xlim(-.5, data.shape[1] - .5)\n",
      "    ax.set_ylim(*ytick_args[:2])\n",
      "    yticks = np.linspace(*ytick_args)\n",
      "    ax.set_yticks(yticks)\n",
      "    ax.set_yticklabels([\"%.2f\" % t for t in yticks])\n",
      "\n",
      "    # Set the axis labels\n",
      "    ax.set_xticks(np.arange(len(data.columns)))\n",
      "    ax.set_xticklabels(data.columns, rotation=60)\n",
      "    if yaxis_label:\n",
      "        ax.set_ylabel(\"Cross-validated Decoding Accuracy\")\n",
      "    else:\n",
      "        ax.set_yticklabels([])"
     ],
     "language": "python",
     "metadata": {},
     "outputs": [],
     "prompt_number": 716
    },
    {
     "cell_type": "code",
     "collapsed": false,
     "input": [
      "def dksort_significance_figure(ax, data):\n",
      "    \"\"\"Plot the percentile of the null for each ROI by subject.\"\"\"\n",
      "    width = 2 / len(data)\n",
      "    xbase = np.arange(0, 1, width)\n",
      "    rois = data.columns\n",
      "    \n",
      "    # Plot percentile across ROI/time and time correction\n",
      "    for kind, kind_df in data.groupby(level=\"correction\"):\n",
      "        if kind == \"time\": continue\n",
      "        for i, roi in enumerate(rois):\n",
      "            height = kind_df[roi]\n",
      "            color = sns.desaturate(roi_colors[roi], .75)\n",
      "            edgecolor = sns.desaturate(color, .5)\n",
      "            alpha = .25 if kind == \"time\" else .7\n",
      "            \n",
      "            ax.bar(xbase + i, np.sort(height), width=width,\n",
      "                   color=color, edgecolor=edgecolor, lw=0.1, alpha=alpha)\n",
      "            if i:\n",
      "                ax.axvline(i, lw=.5, color=\"#555555\")\n",
      "\n",
      "    # Set the other plot aesthetics\n",
      "    ax.set_ylim(0, 100)\n",
      "    ax.axhline(95, c=\"#444444\", ls=\":\")\n",
      "    ax.set_xticks(np.arange(data.shape[1]) + .5)\n",
      "    ax.set_xticklabels(rois, rotation=60)\n",
      "    ax.xaxis.grid(False)\n",
      "    ax.set_ylabel(\"Percentile of Corrected Null Distribution\")"
     ],
     "language": "python",
     "metadata": {},
     "outputs": [],
     "prompt_number": 704
    },
    {
     "cell_type": "heading",
     "level": 2,
     "metadata": {},
     "source": [
      "Behavioral Results"
     ]
    },
    {
     "cell_type": "heading",
     "level": 3,
     "metadata": {},
     "source": [
      "Speed and accuracy summary"
     ]
    },
    {
     "cell_type": "markdown",
     "metadata": {},
     "source": [
      "Summarize overall accuracy and reaction time across subjects. Take medians for RT within subject, but report the group mean over these medians."
     ]
    },
    {
     "cell_type": "code",
     "collapsed": false,
     "input": [
      "subj_accs = behav_full.groupby(\"subj\").correct.mean()\n",
      "print \"Accuracy across subjects: Mean %.2g; Std %.2g; Min: %.2g\" % (mean(subj_accs), std(subj_accs), min(subj_accs))"
     ],
     "language": "python",
     "metadata": {},
     "outputs": [
      {
       "output_type": "stream",
       "stream": "stdout",
       "text": [
        "Accuracy across subjects: Mean 0.95; Std 0.032; Min: 0.87\n"
       ]
      }
     ],
     "prompt_number": 19
    },
    {
     "cell_type": "code",
     "collapsed": false,
     "input": [
      "subj_rts = behav_df.groupby(\"subj\").rt.median() * 1000\n",
      "print \"Median RT across subjects (ms) - Mean %.3g; Std %.3g\" % (mean(subj_rts), std(subj_rts)) \n",
      "subj_rt_iqrs = behav_df.groupby(\"subj\").rt.apply(moss.iqr) * 1000\n",
      "print \"RT IQRs across subjects (ms) - Mean: %.3g; Std %.3g\" % (mean(subj_rt_iqrs), std(subj_rt_iqrs))"
     ],
     "language": "python",
     "metadata": {},
     "outputs": [
      {
       "output_type": "stream",
       "stream": "stdout",
       "text": [
        "Median RT across subjects (ms) - Mean 826; Std 202\n",
        "RT IQRs across subjects (ms) - Mean: 307; Std 97.5\n"
       ]
      }
     ],
     "prompt_number": 20
    },
    {
     "cell_type": "heading",
     "level": 3,
     "metadata": {},
     "source": [
      "Speed as a function of rule"
     ]
    },
    {
     "cell_type": "markdown",
     "metadata": {},
     "source": [
      "Next, test whether the task rules influence the speed of responses. We'll perform these analyses in R using linear mixed effects models (LMEMs), which account for both within- and between-subjects variance. To test the significance of the models, we'll use likelihood ratio tests ([Barr et al. 2013](http://idiom.ucsd.edu/~rlevy/papers/barr-etal-2013-jml.pdf)). Also following this paper, we will use random effects structures that model random slopes for all main effect terms considered in the fixed effects structure.\n",
      "\n",
      "First, we fit both an interactive model and additive model (betwen rulesets) predicting RT and use a likelihood ratio test to see whether the interaction is significant."
     ]
    },
    {
     "cell_type": "code",
     "collapsed": false,
     "input": [
      "%%R \n",
      "m.rt.int = lmer(rt ~ dim_rule * dec_rule + (dim_rule + dec_rule | subj), behav_df, REML=F)\n",
      "m.rt.add = lmer(rt ~ dim_rule + dec_rule + (dim_rule + dec_rule | subj), behav_df, REML=F)\n",
      "lr_test(m.rt.int, m.rt.add, \"interaction\")"
     ],
     "language": "python",
     "metadata": {},
     "outputs": [],
     "prompt_number": "*"
    },
    {
     "cell_type": "markdown",
     "metadata": {},
     "source": [
      "Print the additive model coefficients and standard errors"
     ]
    },
    {
     "cell_type": "code",
     "collapsed": false,
     "input": [
      "%R print(m.rt.add, corr=FALSE)"
     ],
     "language": "python",
     "metadata": {},
     "outputs": [
      {
       "metadata": {},
       "output_type": "display_data",
       "text": [
        "lmer(formula = rt ~ dim_rule + dec_rule + (dim_rule + dec_rule | \n",
        "    subj), data = behav_df, REML = F)\n",
        "                coef.est coef.se\n",
        "(Intercept)      0.924    0.054 \n",
        "dim_rulepattern -0.010    0.014 \n",
        "dim_ruleshape   -0.017    0.013 \n",
        "dec_rulesame    -0.085    0.016 \n",
        "\n",
        "Error terms:\n",
        " Groups   Name            Std.Dev. Corr                 \n",
        " subj     (Intercept)     0.205                         \n",
        "          dim_rulepattern 0.039    -0.381               \n",
        "          dim_ruleshape   0.032    -0.174  0.977        \n",
        "          dec_rulesame    0.054    -0.006  0.143  0.151 \n",
        " Residual                 0.267                         \n",
        "---\n",
        "number of obs: 3973, groups: subj, 15\n",
        "AIC = 928.3, DIC = 898.3\n",
        "deviance = 898.3 \n"
       ]
      }
     ],
     "prompt_number": 20
    },
    {
     "cell_type": "markdown",
     "metadata": {},
     "source": [
      "Report the omnibus test for the additive model and likelihood ratio tests for each main effect."
     ]
    },
    {
     "cell_type": "code",
     "collapsed": false,
     "input": [
      "%%R\n",
      "print(anova(m.rt.add))\n",
      "m.rt.dim = lmer(rt ~ dec_rule + (dim_rule + dec_rule | subj), behav_df, REML=F)\n",
      "m.rt.dec = lmer(rt ~ dim_rule + (dim_rule + dec_rule | subj), behav_df, REML=F)\n",
      "lr_test(m.rt.add, m.rt.dim, \"dimension rule\")\n",
      "lr_test(m.rt.add, m.rt.dec, \"decision rule\")"
     ],
     "language": "python",
     "metadata": {},
     "outputs": [
      {
       "metadata": {},
       "output_type": "display_data",
       "text": [
        "Analysis of Variance Table\n",
        "         Df  Sum Sq Mean Sq F value\n",
        "dim_rule  2 0.07157 0.03579  0.5006\n",
        "dec_rule  1 1.89924 1.89924 26.5680\n",
        "Likelihood ratio test for dimension rule:\n",
        "  Chisq(2) = 1.66; p = 0.435\n",
        "Likelihood ratio test for decision rule:\n",
        "  Chisq(1) = 15.28; p = 9.27e-05\n"
       ]
      }
     ],
     "prompt_number": 21
    },
    {
     "cell_type": "markdown",
     "metadata": {},
     "source": [
      "It's possible that the dimension rules may influence RTs differently for each participant and wash out in the group analysis. To examine this possiblitly, perform a one-way ANOVA across each ruleset within each participant and count the number of subjects with a trending or significant effect."
     ]
    },
    {
     "cell_type": "code",
     "collapsed": false,
     "input": [
      "subj_grouped = behav_df.groupby(\"subj\")\n",
      "dim = subj_grouped.apply(moss.df_oneway, \"dim_rule\", \"rt\", False)\n",
      "dec = subj_grouped.apply(moss.df_oneway, \"dec_rule\", \"rt\", False)\n",
      "f_scores = pd.concat([dim, dec], keys=[\"dimension\", \"decision\"], names=[\"rules\", \"subj\"])\n",
      "print \"Median F score: %.2f\" % f_scores.loc[\"dimension\"][\"F\"].median()\n",
      "f_scores[\"p < 0.05\"] = f_scores.p < 0.05\n",
      "f_scores[\"p < 0.1\"] = f_scores.p < 0.1\n",
      "f_scores.groupby(level=\"rules\")[[\"p < 0.05\", \"p < 0.1\"]].sum()"
     ],
     "language": "python",
     "metadata": {},
     "outputs": [
      {
       "output_type": "stream",
       "stream": "stdout",
       "text": [
        "Median F score: 0.67\n"
       ]
      },
      {
       "html": [
        "<div style=\"max-height:1000px;max-width:1500px;overflow:auto;\">\n",
        "<table border=\"1\" class=\"dataframe\">\n",
        "  <thead>\n",
        "    <tr style=\"text-align: right;\">\n",
        "      <th></th>\n",
        "      <th>p &lt; 0.05</th>\n",
        "      <th>p &lt; 0.1</th>\n",
        "    </tr>\n",
        "    <tr>\n",
        "      <th>rules</th>\n",
        "      <th></th>\n",
        "      <th></th>\n",
        "    </tr>\n",
        "  </thead>\n",
        "  <tbody>\n",
        "    <tr>\n",
        "      <th>dimension</th>\n",
        "      <td> 2</td>\n",
        "      <td>  2</td>\n",
        "    </tr>\n",
        "    <tr>\n",
        "      <th>decision</th>\n",
        "      <td> 8</td>\n",
        "      <td> 10</td>\n",
        "    </tr>\n",
        "  </tbody>\n",
        "</table>\n",
        "</div>"
       ],
       "metadata": {},
       "output_type": "pyout",
       "prompt_number": 224,
       "text": [
        "           p < 0.05  p < 0.1\n",
        "rules                       \n",
        "dimension         2        2\n",
        "decision          8       10"
       ]
      }
     ],
     "prompt_number": 224
    },
    {
     "cell_type": "markdown",
     "metadata": {},
     "source": [
      "Also, to get a measurement of the slowing associated with the 'different' rule, take the difference in medians across the rules within subjects, then report the mean and bootstrapped confidence interval for the mean across subjects."
     ]
    },
    {
     "cell_type": "code",
     "collapsed": false,
     "input": [
      "decision_pivot = pd.pivot_table(behav_df, \"rt\", \"subj\", \"dec_rule\", np.median)\n",
      "diff_rule_cost = np.diff(decision_pivot, axis=1) * 1000\n",
      "diff_rule_boots = moss.bootstrap(diff_rule_cost)\n",
      "ci_low, ci_high = moss.ci(diff_rule_boots, 95)\n",
      "print \"'Different' rule effect (ms): Mean %.3g, CI: [%.3g, %.3g]\" % (diff_rule_boots.mean(), ci_low, ci_high)"
     ],
     "language": "python",
     "metadata": {},
     "outputs": [
      {
       "output_type": "stream",
       "stream": "stdout",
       "text": [
        "'Different' rule effect (ms): Mean -95.5, CI: [-124, -67]\n"
       ]
      }
     ],
     "prompt_number": 23
    },
    {
     "cell_type": "heading",
     "level": 3,
     "metadata": {},
     "source": [
      "Speed as a function of attended feature matching"
     ]
    },
    {
     "cell_type": "markdown",
     "metadata": {},
     "source": [
      "Next we'll ask whether RT is modulated by whether the attended features match"
     ]
    },
    {
     "cell_type": "code",
     "collapsed": false,
     "input": [
      "%%R\n",
      "m.match = lmer(rt ~ attend_match + (attend_match | subj), behav_df, REML=FALSE)\n",
      "m.match.drop = lmer(rt ~ (attend_match | subj), behav_df, REML=FALSE)\n",
      "display(m.match, detail=TRUE, digits=4)\n",
      "lr_test(m.match, m.match.drop, \"attended matching\")"
     ],
     "language": "python",
     "metadata": {},
     "outputs": [
      {
       "metadata": {},
       "output_type": "display_data",
       "text": [
        "lmer(formula = rt ~ attend_match + (attend_match | subj), data = behav_df, \n",
        "    REML = FALSE)\n",
        "                 coef.est coef.se t value\n",
        "(Intercept)       0.8658   0.0521 16.6306\n",
        "attend_matchTRUE  0.0128   0.0091  1.4050\n",
        "\n",
        "Error terms:\n",
        " Groups   Name             Std.Dev. Corr   \n",
        " subj     (Intercept)      0.2002          \n",
        "          attend_matchTRUE 0.0112   0.2268 \n",
        " Residual                  0.2726          \n",
        "---\n",
        "number of obs: 3973, groups: subj, 15\n",
        "AIC = 1035.7, DIC = 1023.7\n",
        "deviance = 1023.7 \n",
        "Likelihood ratio test for attended matching:\n",
        "  Chisq(1) = 1.86; p = 0.173\n"
       ]
      }
     ],
     "prompt_number": 96
    },
    {
     "cell_type": "markdown",
     "metadata": {},
     "source": [
      "We'll also ask whether this interacts with the decision rule."
     ]
    },
    {
     "cell_type": "code",
     "collapsed": false,
     "input": [
      "%%R\n",
      "m.match.int = lmer(rt ~ attend_match * dec_rule + (attend_match + dec_rule | subj), behav_df, REML=FALSE)\n",
      "m.match.add = lmer(rt ~ attend_match + dec_rule + (attend_match + dec_rule | subj), behav_df, REML=FALSE)\n",
      "display(m.match.int, detail=TRUE, digits=4)\n",
      "lr_test(m.match.int, m.match.add, \"interaction\")"
     ],
     "language": "python",
     "metadata": {},
     "outputs": [
      {
       "metadata": {},
       "output_type": "display_data",
       "text": [
        "lmer(formula = rt ~ attend_match * dec_rule + (attend_match + \n",
        "    dec_rule | subj), data = behav_df, REML = FALSE)\n",
        "                              coef.est coef.se t value\n",
        "(Intercept)                    0.8704   0.0518 16.8101\n",
        "attend_matchTRUE               0.0890   0.0124  7.1527\n",
        "dec_rulesame                  -0.0084   0.0186 -0.4502\n",
        "attend_matchTRUE:dec_rulesame -0.1519   0.0168 -9.0221\n",
        "\n",
        "Error terms:\n",
        " Groups   Name             Std.Dev. Corr            \n",
        " subj     (Intercept)      0.1978                   \n",
        "          attend_matchTRUE 0.0135    0.3479         \n",
        "          dec_rulesame     0.0550    0.0219 -0.7653 \n",
        " Residual                  0.2651                   \n",
        "---\n",
        "number of obs: 3973, groups: subj, 15\n",
        "AIC = 844.8, DIC = 822.8\n",
        "deviance = 822.8 \n",
        "Likelihood ratio test for interaction:\n",
        "  Chisq(1) = 80.55; p = 2.83e-19\n"
       ]
      }
     ],
     "prompt_number": 24
    },
    {
     "cell_type": "markdown",
     "metadata": {},
     "source": [
      "Characterize the pattern across subjects with mean median RTs in each bin."
     ]
    },
    {
     "cell_type": "code",
     "collapsed": false,
     "input": [
      "pivots = []\n",
      "for s, df_s in behav_df.groupby(\"subj\"):\n",
      "    pivots.append(np.array(pd.pivot_table(df_s, \"rt\", \"dec_rule\", \"attend_match\", np.median)))\n",
      "pd.DataFrame(np.mean(pivots, axis=0), columns=[\"no match\", \"match\"], index=[\"different\", \"same\"]) * 1000"
     ],
     "language": "python",
     "metadata": {},
     "outputs": [
      {
       "html": [
        "<div style=\"max-height:1000px;max-width:1500px;overflow:auto;\">\n",
        "<table border=\"1\" class=\"dataframe\">\n",
        "  <thead>\n",
        "    <tr style=\"text-align: right;\">\n",
        "      <th></th>\n",
        "      <th>no match</th>\n",
        "      <th>match</th>\n",
        "    </tr>\n",
        "  </thead>\n",
        "  <tbody>\n",
        "    <tr>\n",
        "      <th>different</th>\n",
        "      <td> 827.64</td>\n",
        "      <td> 907.88</td>\n",
        "    </tr>\n",
        "    <tr>\n",
        "      <th>same</th>\n",
        "      <td> 804.83</td>\n",
        "      <td> 748.55</td>\n",
        "    </tr>\n",
        "  </tbody>\n",
        "</table>\n",
        "</div>"
       ],
       "metadata": {},
       "output_type": "pyout",
       "prompt_number": 25,
       "text": [
        "           no match   match\n",
        "different    827.64  907.88\n",
        "same         804.83  748.55"
       ]
      }
     ],
     "prompt_number": 25
    },
    {
     "cell_type": "heading",
     "level": 3,
     "metadata": {},
     "source": [
      "Response accuracy as a function of rule"
     ]
    },
    {
     "cell_type": "markdown",
     "metadata": {},
     "source": [
      "Now perform a similar sequence of analyses on response accuracy, here using mixed effects logistic regression models."
     ]
    },
    {
     "cell_type": "code",
     "collapsed": false,
     "input": [
      "%%R\n",
      "m.acc.int = lmer(correct ~ dim_rule * dec_rule +\n",
      "                 (dim_rule + dec_rule | subj), behav_full, family=binomial)\n",
      "m.acc.add = lmer(correct ~ dim_rule + dec_rule +\n",
      "                 (dim_rule + dec_rule | subj), behav_full, family=binomial)\n",
      "lr_test(m.acc.int, m.acc.add, \"interaction\")"
     ],
     "language": "python",
     "metadata": {},
     "outputs": [
      {
       "metadata": {},
       "output_type": "display_data",
       "text": [
        "Likelihood ratio test for interaction:\n",
        "  Chisq(2) = 0.15; p = 0.927\n"
       ]
      }
     ],
     "prompt_number": 26
    },
    {
     "cell_type": "code",
     "collapsed": false,
     "input": [
      "%R display(m.acc.add, detail=TRUE, digits=3)"
     ],
     "language": "python",
     "metadata": {},
     "outputs": [
      {
       "metadata": {},
       "output_type": "display_data",
       "text": [
        "glmer(formula = correct ~ dim_rule + dec_rule + (dim_rule + dec_rule | \n",
        "    subj), data = behav_full, family = binomial)\n",
        "                coef.est coef.se z value Pr(>|z|)\n",
        "(Intercept)      3.098    0.230  13.449   0.000  \n",
        "dim_rulepattern -0.320    0.177  -1.801   0.072  \n",
        "dim_ruleshape   -0.142    0.223  -0.636   0.525  \n",
        "dec_rulesame     0.405    0.180   2.246   0.025  \n",
        "\n",
        "Error terms:\n",
        " Groups   Name            Std.Dev. Corr                 \n",
        " subj     (Intercept)     0.680                         \n",
        "          dim_rulepattern 0.126    -1.000               \n",
        "          dim_ruleshape   0.478    -0.250  0.250        \n",
        "          dec_rulesame    0.395    -0.285  0.285 -0.347 \n",
        " Residual                 1.000                         \n",
        "---\n",
        "number of obs: 4320, groups: subj, 15\n",
        "AIC = 1695.6, DIC = 1667.6\n",
        "deviance = 1667.6 \n"
       ]
      }
     ],
     "prompt_number": 27
    },
    {
     "cell_type": "code",
     "collapsed": false,
     "input": [
      "%%R\n",
      "m.acc.dim = lmer(correct ~ dec_rule + (dim_rule + dec_rule | subj), behav_full, family=binomial)\n",
      "m.acc.dec = lmer(correct ~ dim_rule + (dim_rule + dec_rule | subj), behav_full, family=binomial)\n",
      "lr_test(m.acc.add, m.acc.dim, \"dimension rules\")\n",
      "lr_test(m.acc.add, m.acc.dec, \"decision rules\")"
     ],
     "language": "python",
     "metadata": {},
     "outputs": [
      {
       "metadata": {},
       "output_type": "display_data",
       "text": [
        "Likelihood ratio test for dimension rules:\n",
        "  Chisq(2) = 2.64; p = 0.267\n",
        "Likelihood ratio test for decision rules:\n",
        "  Chisq(1) = 3.85; p = 0.0498\n"
       ]
      }
     ],
     "prompt_number": 28
    },
    {
     "cell_type": "code",
     "collapsed": false,
     "input": [
      "decision_pivot = pd.pivot_table(behav_full, \"correct\", \"subj\", \"dec_rule\")\n",
      "diff_rule_cost = np.diff(decision_pivot, axis=1) * 100\n",
      "diff_rule_boots = moss.bootstrap(diff_rule_cost)\n",
      "ci_low, ci_high = moss.ci(diff_rule_boots, 95)\n",
      "str_args = (diff_rule_cost.mean(), ci_low, ci_high)\n",
      "print \"'Different' rule response accuracy cost: %.2g%%; CI: [%.2g%%, %.2g%%]\" % str_args"
     ],
     "language": "python",
     "metadata": {},
     "outputs": [
      {
       "output_type": "stream",
       "stream": "stdout",
       "text": [
        "'Different' rule response accuracy cost: 1.9%; CI: [0.32%, 3.7%]\n"
       ]
      }
     ],
     "prompt_number": 29
    },
    {
     "cell_type": "heading",
     "level": 3,
     "metadata": {},
     "source": [
      "Rule Switching Analyses"
     ]
    },
    {
     "cell_type": "markdown",
     "metadata": {},
     "source": [
      "Now consider how shifting back and forth between different rulesets influences response speed.\n",
      "\n",
      "First, analyze it as a function of how many trials have elapsed since the rule switch. We'll fit this in two separate models as the lag is frequently identical for each ruleset."
     ]
    },
    {
     "cell_type": "code",
     "collapsed": false,
     "input": [
      "%%R\n",
      "m.lag.dim = lmer(rt ~ dim_shift_lag + (dim_shift_lag | subj), behav_df, REML=FALSE)\n",
      "m.lag.dec = lmer(rt ~ dec_shift_lag + (dec_shift_lag | subj), behav_df, REML=FALSE)"
     ],
     "language": "python",
     "metadata": {},
     "outputs": [],
     "prompt_number": 30
    },
    {
     "cell_type": "code",
     "collapsed": false,
     "input": [
      "%R display(m.lag.dim, digits=3, detail=TRUE)"
     ],
     "language": "python",
     "metadata": {},
     "outputs": [
      {
       "metadata": {},
       "output_type": "display_data",
       "text": [
        "lmer(formula = rt ~ dim_shift_lag + (dim_shift_lag | subj), data = behav_df, \n",
        "    REML = FALSE)\n",
        "              coef.est coef.se t value\n",
        "(Intercept)    0.872    0.052  16.765 \n",
        "dim_shift_lag  0.000    0.002   0.112 \n",
        "\n",
        "Error terms:\n",
        " Groups   Name          Std.Dev. Corr  \n",
        " subj     (Intercept)   0.200          \n",
        "          dim_shift_lag 0.001    1.000 \n",
        " Residual               0.273          \n",
        "---\n",
        "number of obs: 3973, groups: subj, 15\n",
        "AIC = 1038, DIC = 1026\n",
        "deviance = 1026.0 \n"
       ]
      }
     ],
     "prompt_number": 31
    },
    {
     "cell_type": "code",
     "collapsed": false,
     "input": [
      "%R display(m.lag.dec, digits=3, detail=TRUE)"
     ],
     "language": "python",
     "metadata": {},
     "outputs": [
      {
       "metadata": {},
       "output_type": "display_data",
       "text": [
        "lmer(formula = rt ~ dec_shift_lag + (dec_shift_lag | subj), data = behav_df, \n",
        "    REML = FALSE)\n",
        "              coef.est coef.se t value\n",
        "(Intercept)    0.885    0.055  16.076 \n",
        "dec_shift_lag -0.005    0.002  -2.153 \n",
        "\n",
        "Error terms:\n",
        " Groups   Name          Std.Dev. Corr   \n",
        " subj     (Intercept)   0.212           \n",
        "          dec_shift_lag 0.004    -0.909 \n",
        " Residual               0.272           \n",
        "---\n",
        "number of obs: 3973, groups: subj, 15\n",
        "AIC = 1027.9, DIC = 1015.9\n",
        "deviance = 1015.9 \n"
       ]
      }
     ],
     "prompt_number": 32
    },
    {
     "cell_type": "code",
     "collapsed": false,
     "input": [
      "%%R\n",
      "m.lag.nodim = lmer(rt ~ 1 + (dim_shift_lag | subj), behav_df, REML=FALSE)\n",
      "m.lag.nodec = lmer(rt ~ 1 + (dec_shift_lag | subj), behav_df, REML=FALSE)\n",
      "lr_test(m.lag.dim, m.lag.nodim, \"dimension rules\")\n",
      "lr_test(m.lag.dec, m.lag.nodec, \"decision rules\")"
     ],
     "language": "python",
     "metadata": {},
     "outputs": [
      {
       "metadata": {},
       "output_type": "display_data",
       "text": [
        "Likelihood ratio test for dimension rules:\n",
        "  Chisq(1) = 0.01; p = 0.911\n",
        "Likelihood ratio test for decision rules:\n",
        "  Chisq(1) = 3.95; p = 0.0467\n"
       ]
      }
     ],
     "prompt_number": 33
    },
    {
     "cell_type": "markdown",
     "metadata": {},
     "source": [
      "Next, directly test switch costs by analyzing RT on the first trial of each block as a function of rule switches. We can do this in one model."
     ]
    },
    {
     "cell_type": "code",
     "collapsed": false,
     "input": [
      "%%R\n",
      "shift_subset = behav_df$block_pos == 0\n",
      "m.shift.add = lmer(rt ~ dim_shift + dec_shift + (dim_shift + dec_shift | subj),\n",
      "                   behav_df, subset=shift_subset, REML=FALSE)\n",
      "m.shift.int = lmer(rt ~ dim_shift * dec_shift + (dim_shift + dec_shift | subj), behav_df,\n",
      "                   subset=shift_subset, REML=FALSE)\n",
      "lr_test(m.shift.add, m.shift.int, \"interaction\")"
     ],
     "language": "python",
     "metadata": {},
     "outputs": [
      {
       "metadata": {},
       "output_type": "display_data",
       "text": [
        "Likelihood ratio test for interaction:\n",
        "  Chisq(1) = 0.78; p = 0.376\n"
       ]
      }
     ],
     "prompt_number": 34
    },
    {
     "cell_type": "code",
     "collapsed": false,
     "input": [
      "%R display(m.shift.add, digits=4, detail=TRUE)"
     ],
     "language": "python",
     "metadata": {},
     "outputs": [
      {
       "metadata": {},
       "output_type": "display_data",
       "text": [
        "lmer(formula = rt ~ dim_shift + dec_shift + (dim_shift + dec_shift | \n",
        "    subj), data = behav_df, REML = FALSE, subset = shift_subset)\n",
        "              coef.est coef.se t value\n",
        "(Intercept)    0.8622   0.0552 15.6066\n",
        "dim_shiftTRUE  0.0128   0.0172  0.7445\n",
        "dec_shiftTRUE  0.0211   0.0169  1.2452\n",
        "\n",
        "Error terms:\n",
        " Groups   Name          Std.Dev. Corr            \n",
        " subj     (Intercept)   0.2033                   \n",
        "          dim_shiftTRUE 0.0112   -1.0000         \n",
        "          dec_shiftTRUE 0.0265    1.0000 -1.0000 \n",
        " Residual               0.2740                   \n",
        "---\n",
        "number of obs: 1298, groups: subj, 15\n",
        "AIC = 402.2, DIC = 382.2\n",
        "deviance = 382.2 \n"
       ]
      }
     ],
     "prompt_number": 35
    },
    {
     "cell_type": "code",
     "collapsed": false,
     "input": [
      "%%R\n",
      "m.shift.nodim = lmer(rt ~ dec_shift + (dim_shift + dec_shift | subj),\n",
      "                     behav_df, subset=shift_subset, REML=FALSE)\n",
      "m.shift.nodec = lmer(rt ~ dim_shift + (dim_shift + dec_shift | subj),\n",
      "                     behav_df, subset=shift_subset, REML=FALSE)\n",
      "lr_test(m.shift.add, m.shift.nodim, \"dimension rule\")\n",
      "lr_test(m.shift.add, m.shift.nodec, \"decision rule\")"
     ],
     "language": "python",
     "metadata": {},
     "outputs": [
      {
       "metadata": {},
       "output_type": "display_data",
       "text": [
        "Likelihood ratio test for dimension rule:\n",
        "  Chisq(1) = 0.55; p = 0.457\n",
        "Likelihood ratio test for decision rule:\n",
        "  Chisq(1) = 1.52; p = 0.217\n"
       ]
      }
     ],
     "prompt_number": 36
    },
    {
     "cell_type": "heading",
     "level": 3,
     "metadata": {},
     "source": [
      "Behavioral Analysis Figures"
     ]
    },
    {
     "cell_type": "markdown",
     "metadata": {},
     "source": [
      "Here is the main behavioral analysis figure. There is a lot of information packed into this plot, so it is complicated to draw."
     ]
    },
    {
     "cell_type": "code",
     "collapsed": true,
     "input": [
      "# Set up variables shared across subplots\n",
      "dfs = [behav_df, behav_full]\n",
      "measures = [\"rt\", \"correct\"]\n",
      "agg_funcs = [median, mean, mean]\n",
      "ci = 68\n",
      "xlabels = [\"Dimension Rules\", \"Attended Features\", \"Trials Since Rule Switch\"]\n",
      "ylabels = [\"Reaction Time (s)\", \"Response Accuracy\"]\n",
      "xticks = [range(3), range(2), range(1, 7)]\n",
      "xticklabels = [[\"Shape\", \"Color\", \"Pattern\"], [\"Mismatch\", \"Match\"], range(1, 7)]\n",
      "xlims = [[-.5, 2.5], [-.5, 1.5], [.25, 6.75]]\n",
      "ylims = [[.65, 1.05], [.65, 1.05]]\n",
      "yticks = [[.7, 1, 4], [.7, 1, 4]]\n",
      "ms, mew, lw, capsize = 4, 1.2, 1.2, 2\n",
      "err_kws = dict(elinewidth=lw, capsize=capsize, mew=mew)\n",
      "lag_colors = dict(Dimension=\"black\", Decision=\"lightslategray\")\n",
      "text_offset = (0.0075, -0.01)\n",
      "text_size = 12\n",
      "\n",
      "# Draw each plot\n",
      "f, axes = subplots(2, 3, figsize=(4.48, 3))\n",
      "for i in range(2):\n",
      "    \n",
      "    if i:\n",
      "        ms *= .75\n",
      "        mew *= .75\n",
      "\n",
      "    # First analyze RT/accuracy analysis sorted by rule types\n",
      "    pivots = []\n",
      "    for subj, df_subj in dfs[i].groupby(\"subj\"):\n",
      "        pivot = pd.pivot_table(df_subj, measures[i], \"dim_rule\", \"dec_rule\", agg_funcs[i])\n",
      "        pivots.append(np.array(pivot))\n",
      "    pivots = np.array(pivots, float)\n",
      "    means = pivots.mean(axis=0)\n",
      "    cis = moss.ci(moss.bootstrap(pivots, axis=0), ci, axis=0)\n",
      "\n",
      "    # Plot the above results in plot columns\n",
      "    ax = axes[i, 0]\n",
      "    for dim in range(3):\n",
      "        color = rule_colors[\"dim\"][dim]\n",
      "        for dec in range(2):\n",
      "            x = dim + (dec - .5) / 3.5\n",
      "            y = means[dim, dec]\n",
      "            yerr = sns.ci_to_errsize(cis[:, dim, dec], y)\n",
      "            mfc = ax.get_axis_bgcolor() if dec else color\n",
      "            ax.errorbar(x, y, yerr, ecolor=color, lw=lw, mew=mew, ms=ms,\n",
      "                        mfc=mfc, capsize=capsize, marker=\"o\", mec=color)\n",
      "\n",
      "    # Draw two plots out of the axis range to support the legend\n",
      "    for j, rule in enumerate([\"Same\", \"Different\"]):\n",
      "        ax.plot(-1, -1, \"o\", color=\"#444444\", mec=\"#444444\", ms=ms * 1.33,\n",
      "                mfc=[\"none\", \"#444444\"][j], mew=mew, label=\"'%s' rule\" % rule)\n",
      "\n",
      "    # Next plot the decision rule by feature matching analysis\n",
      "    pivots = []\n",
      "    for subj, df_subj in dfs[i].groupby(\"subj\"):\n",
      "        pivot = pd.pivot_table(df_subj, measures[i], \"attend_match\", \"dec_rule\", agg_funcs[i])\n",
      "        pivots.append(np.array(pivot))\n",
      "    pivots = np.array(pivots, float)\n",
      "    means = pivots.mean(axis=0)\n",
      "    cis = moss.ci(moss.bootstrap(pivots, axis=0), ci, axis=0)\n",
      "    \n",
      "    ax  = axes[i, 1]\n",
      "    for k, rule in enumerate([\"Same\", \"Different\"]):\n",
      "        color = rule_colors[\"dec\"][k]\n",
      "        x = np.array([0, 1])\n",
      "        sns.tsplot(x, pivots[..., 1 - k], \"ci_bars\", ci=ci, color=color, ax=ax,\n",
      "                   marker=\"o\", mec=color, label=\"'%s' rule\" % rule,\n",
      "                   ms=ms, mfc=color, mew=mew, lw=lw, err_kws=err_kws)\n",
      "\n",
      "    # Now do the analysis as a function of rule switching\n",
      "    for j, ruleset in enumerate([\"Dimension\", \"Decision\"]):\n",
      "        color = lag_colors[ruleset]\n",
      "        pivot_cols = ruleset[:3].lower() + \"_shift_lag\"\n",
      "        lag_pivot = pd.pivot_table(dfs[i], measures[i], \"subj\", pivot_cols, agg_funcs[i])\n",
      "        ts_kws =  dict(err_style=\"ci_bars\", color=color, ci=ci,\n",
      "                       lw=lw, err_kws=err_kws, ax=axes[i, 2])\n",
      "        sns.tsplot([1, 2, 3], lag_pivot.loc[:, :2], **ts_kws)\n",
      "        sns.tsplot([3, 4], lag_pivot.loc[:, (2, 3)], linestyle=\":\", **ts_kws)\n",
      "        sns.tsplot([4, 5, 6], lag_pivot.loc[:, 3:5], label=ruleset + \" rules\", **ts_kws)\n",
      "\n",
      "    # Finally, iterate through the plots and set more supporting variables\n",
      "    for j in range(3):\n",
      "        ax = axes[i, j]\n",
      "        yticks_ = np.linspace(*yticks[i])\n",
      "        ax.set_xticks(xticks[j])\n",
      "        ax.set_yticks(yticks_)\n",
      "        ax.set_xlim(*xlims[j])\n",
      "        ax.set_ylim(ylims[i])\n",
      "        if i:\n",
      "            ax.set_xlabel(xlabels[j])\n",
      "            ax.set_xticklabels(xticklabels[j])\n",
      "        else:\n",
      "            ax.set_xticklabels([])\n",
      "        if not j:\n",
      "            ax.set_ylabel(ylabels[i])\n",
      "            ax.set_yticklabels(yticks_)\n",
      "        else:\n",
      "            ax.set_yticklabels([])\n",
      "        if i:\n",
      "            ax.legend(loc=\"lower left\")\n",
      "        \n",
      "f.subplots_adjust(wspace=.05, hspace=.05, left=.1, bottom=.12, top=.98, right=.98) \n",
      "\n",
      "# Label the facets\n",
      "for ax, s in zip(f.axes, \"ACEBDF\"):\n",
      "    (x, _), (_, y) = ax.bbox.transformed(f.transFigure.inverted()).get_points()\n",
      "    x += text_offset[0]\n",
      "    y += text_offset[1]\n",
      "    f.text(x, y, s, size=text_size, ha=\"left\", va=\"top\")\n",
      "\n",
      "save_figure(f, \"figure_2\")"
     ],
     "language": "python",
     "metadata": {},
     "outputs": [
      {
       "metadata": {},
       "output_type": "display_data",
       "png": "[encoded data removed]",
       "text": [
        "<matplotlib.figure.Figure at 0x1397bd810>"
       ]
      }
     ],
     "prompt_number": 739
    },
    {
     "cell_type": "markdown",
     "metadata": {},
     "source": [
      "<div style=\"width:585px;padding-left:120px\" align=\"justify\">\n",
      "**Main Behavioral Results:** Results of RTs on correct trials (top row) and proportion correct responses (bottom row) analyzed as a function of rule type (left column) or trials since rule switch (right column). Reaction times were first collapsed within subject by taking the median in each bin, and are relative to the onset of the second stimulus. All error bars represent bootstrapped 68% confidence intervals for the mean across subjects. Lines in the right column are dashed between trials 2 and 3 to indicate passage through a mini-block boundary, at which point a new rule cue was presented (even when the rules did not switch).\n",
      "</div>"
     ]
    },
    {
     "cell_type": "markdown",
     "metadata": {},
     "source": [
      "Now the supplemental behavioral figure."
     ]
    },
    {
     "cell_type": "code",
     "collapsed": false,
     "input": [
      "f, axes = subplots(2, 1, figsize=(6.85, 6.3))\n",
      "\n",
      "positions = dict(dim=[.25, .5, .75], dec=[.33, .66])\n",
      "widths = dict(dim=.18, dec=.25)\n",
      "rules = dict(dim=[\"shape\", \"color\", \"pattern\"], dec=[\"same\", \"different\"])\n",
      "\n",
      "text_offset = (.01, -.015)\n",
      "text_size = 12\n",
      "\n",
      "subj_medians = subj_grouped.rt.median()\n",
      "subj_sorted = subjects[np.argsort(subj_medians)]\n",
      "for ruleset, ax in zip([\"dimension\", \"decision\"], axes):\n",
      "    rs = ruleset[:3]\n",
      "    for i, subj in enumerate(subj_sorted):\n",
      "        df_i = behav_df[behav_df[\"subj\"] == subj]\n",
      "        for j, rule in enumerate(rules[rs]):\n",
      "            df_rule = df_i[df_i[rs + \"_rule\"] == rule]\n",
      "            pos = np.array([i + positions[rs][j]])\n",
      "            rule_rt = np.array(df_rule[\"rt\"])\n",
      "            color = sns.desaturate(rule_colors[rs][j], .7)\n",
      "            sns.boxplot([rule_rt], color=color, positions=pos, fliersize=2,\n",
      "                        whis=1.75, linewidth=1, widths=widths[rs], ax=ax)\n",
      "    ax.set_xlim(0, 15)\n",
      "    ax.set_xticks(arange(15) + 0.5)\n",
      "    rule_fs = f_scores[\"F\"][ruleset].reindex(subj_sorted)\n",
      "    ax.set_xticklabels([\"%.2g\" % _f for _f in rule_fs])\n",
      "    ax.set_ylabel(\"Reaction Time (s)\")\n",
      "    ax.set_xlabel(\"One-way F Score Over Rules\")\n",
      "    indiv_rules = rules[ruleset[:3]]\n",
      "    n_rules = len(indiv_rules)\n",
      "    ax.legend(ax.artists[:n_rules], indiv_rules, loc=4,\n",
      "              ncol=n_rules)\n",
      "f.tight_layout()\n",
      "\n",
      "# Label the facets\n",
      "for ax, s in zip(f.axes, \"AB\"):\n",
      "    (x, _), (_, y) = ax.bbox.transformed(f.transFigure.inverted()).get_points()\n",
      "    x += text_offset[0]\n",
      "    y += text_offset[1]\n",
      "    f.text(x, y, s, size=text_size, ha=\"left\", va=\"top\")\n",
      "\n",
      "save_figure(f, \"supplemental_figure_1\")"
     ],
     "language": "python",
     "metadata": {},
     "outputs": [
      {
       "metadata": {},
       "output_type": "display_data",
       "png": "[encoded data removed]",
       "text": [
        "<matplotlib.figure.Figure at 0x1325c6290>"
       ]
      }
     ],
     "prompt_number": 417
    },
    {
     "cell_type": "markdown",
     "metadata": {},
     "source": [
      "<div style=\"width:730px;padding-left:120px\" align=\"justify\">\n",
      "**Reaction time distributions by subject and rule type:** Each set of plots displays the reaction time distributions, sorted by rule, for each subject. Top plot sorts by the dimension rules; bottom plot sorts by decision rules. For each plot, the box represents 25th, 50th, and 75th percentile. Whiskers extend 1.75 times the interquartile range past the edge of the box, and points lying outside this range are individually marked as outliers. Plots are sorted on the x axis by median within-subject RT. The *F* score corresponding to the within subject one-way ANOVA over rules is displayed below each subject's set of plots.\n",
      "</div>"
     ]
    },
    {
     "cell_type": "heading",
     "level": 2,
     "metadata": {},
     "source": [
      "ROI and Artifact Statistics"
     ]
    },
    {
     "cell_type": "heading",
     "level": 3,
     "metadata": {},
     "source": [
      "ROI Sizes"
     ]
    },
    {
     "cell_type": "markdown",
     "metadata": {},
     "source": [
      "For each subject and ROI, load the mask file and count the number of voxels included in the mask."
     ]
    },
    {
     "cell_type": "code",
     "collapsed": false,
     "input": [
      "all_rois = pd.Series(pfc_rois + net_rois[1:], name=\"roi\")\n",
      "roi_sizes = pd.DataFrame(columns=all_rois, index=subjects, dtype=float)\n",
      "mask_template = \"../data/%s/masks/yeo17_%s.nii.gz\"\n",
      "for roi in roi_sizes:\n",
      "    for subj in subjects:\n",
      "        vox_count = nib.load(mask_template % (subj, roi.lower())).get_data().sum()\n",
      "        roi_sizes.loc[subj, roi] = vox_count\n",
      "roi_sizes.describe().loc[[\"mean\", \"std\"]].astype(int)"
     ],
     "language": "python",
     "metadata": {},
     "outputs": [
      {
       "html": [
        "<div style=\"max-height:1000px;max-width:1500px;overflow:auto;\">\n",
        "<table border=\"1\" class=\"dataframe\">\n",
        "  <thead>\n",
        "    <tr style=\"text-align: right;\">\n",
        "      <th>roi</th>\n",
        "      <th>IFS</th>\n",
        "      <th>aMFG</th>\n",
        "      <th>pMFG</th>\n",
        "      <th>FPC</th>\n",
        "      <th>IFG</th>\n",
        "      <th>aIns</th>\n",
        "      <th>pSFS</th>\n",
        "      <th>IPS</th>\n",
        "      <th>OTC</th>\n",
        "    </tr>\n",
        "  </thead>\n",
        "  <tbody>\n",
        "    <tr>\n",
        "      <th>mean</th>\n",
        "      <td> 626</td>\n",
        "      <td> 573</td>\n",
        "      <td> 468</td>\n",
        "      <td> 595</td>\n",
        "      <td> 534</td>\n",
        "      <td> 356</td>\n",
        "      <td> 277</td>\n",
        "      <td> 409</td>\n",
        "      <td> 1865</td>\n",
        "    </tr>\n",
        "    <tr>\n",
        "      <th>std</th>\n",
        "      <td>  83</td>\n",
        "      <td>  77</td>\n",
        "      <td>  68</td>\n",
        "      <td>  70</td>\n",
        "      <td>  63</td>\n",
        "      <td>  37</td>\n",
        "      <td>  61</td>\n",
        "      <td>  52</td>\n",
        "      <td>  218</td>\n",
        "    </tr>\n",
        "  </tbody>\n",
        "</table>\n",
        "</div>"
       ],
       "metadata": {},
       "output_type": "pyout",
       "prompt_number": 494,
       "text": [
        "roi   IFS  aMFG  pMFG  FPC  IFG  aIns  pSFS  IPS   OTC\n",
        "mean  626   573   468  595  534   356   277  409  1865\n",
        "std    83    77    68   70   63    37    61   52   218"
       ]
      }
     ],
     "prompt_number": "*"
    },
    {
     "cell_type": "heading",
     "level": 3,
     "metadata": {},
     "source": [
      "Mean signal"
     ]
    },
    {
     "cell_type": "markdown",
     "metadata": {},
     "source": [
      "Now look at the mean signal across each ROI in the original (preprocessed) timecourse."
     ]
    },
    {
     "cell_type": "code",
     "collapsed": false,
     "input": [
      "roi_signal = pd.DataFrame(columns=all_rois, index=subjects, dtype=float)\n",
      "for roi in all_rois:\n",
      "    signal = evoked.extract_group(\"yeo17_\" + roi.lower(), dv=dv4)\n",
      "    signal = [concatenate(d[\"data\"]).mean() for d in signal]\n",
      "    roi_signal[roi] = signal\n",
      "(roi_signal / 100).describe().loc[[\"mean\", \"std\"]]"
     ],
     "language": "python",
     "metadata": {},
     "outputs": [],
     "prompt_number": "*"
    },
    {
     "cell_type": "heading",
     "level": 3,
     "metadata": {},
     "source": [
      "Functional Artifacts"
     ]
    },
    {
     "cell_type": "code",
     "collapsed": true,
     "input": [
      "artifacts = []\n",
      "for subj in subjects:\n",
      "    subj_artifacts = 0\n",
      "    for run in range(1, 5):\n",
      "        art = pd.read_csv(\"../analysis/dksort/%s/preproc/run_%d/artifacts.csv\" % (subj, run))\n",
      "        art = art.max(axis=1)\n",
      "        subj_artifacts += art.sum()\n",
      "    artifacts.append(subj_artifacts)"
     ],
     "language": "python",
     "metadata": {},
     "outputs": [],
     "prompt_number": 65
    },
    {
     "cell_type": "code",
     "collapsed": false,
     "input": [
      "print \"Mean number of artifacts: %d\" % np.mean(artifacts)\n",
      "print \"Percent artifact scans: %.1f%%\" % (np.mean(artifacts) / 2328 * 100)"
     ],
     "language": "python",
     "metadata": {},
     "outputs": [
      {
       "output_type": "stream",
       "stream": "stdout",
       "text": [
        "Mean number of artifacts: 23\n",
        "Percent artifact scans: 1.0%\n"
       ]
      }
     ],
     "prompt_number": 72
    },
    {
     "cell_type": "heading",
     "level": 2,
     "metadata": {},
     "source": [
      "Context Decoding in Lateral Prefrontal Cortex"
     ]
    },
    {
     "cell_type": "markdown",
     "metadata": {},
     "source": [
      "Now we turn to the central fMRI analyses: multivariate decoding of task variables from voxel populations in our cortical ROIs."
     ]
    },
    {
     "cell_type": "heading",
     "level": 3,
     "metadata": {},
     "source": [
      "Decoding of Dimension Rules"
     ]
    },
    {
     "cell_type": "markdown",
     "metadata": {},
     "source": [
      "First try to decode the Dimension Rules -- that is, whether subjects should attend to the color, shape, or pattern of the multidimensional stimuli. We will fit separate models for each of the six prefrontal ROIs at each of six timepoints from one TR before stimulus onset (during which time there was an anticipatory cue that signlaed only an oncoming stimulus) through five TRs following stimulus onset.\n",
      "\n",
      "We defined a function above that does the heavy lifting on the analysis. We'll run that and then unpack the results over the next few cells."
     ]
    },
    {
     "cell_type": "code",
     "collapsed": false,
     "input": [
      "pfc_dimension = dksort_decode(pfc_rois, \"dimension\")"
     ],
     "language": "python",
     "metadata": {},
     "outputs": [],
     "prompt_number": 30
    },
    {
     "cell_type": "markdown",
     "metadata": {},
     "source": [
      "We calculate a t statistic for each region and timepoint by subtracting a shuffled chance estimate from each subject's accuracy and then using a randomization test against the null hypothesis that the group mean is 0. We then report the maximum t statiatisc across time for each region, along with a p value that is corrected for multiple comparisons across time and region."
     ]
    },
    {
     "cell_type": "code",
     "collapsed": false,
     "input": [
      "pfc_dimension[\"ttest\"]"
     ],
     "language": "python",
     "metadata": {},
     "outputs": [
      {
       "html": [
        "<div style=\"max-height:1000px;max-width:1500px;overflow:auto;\">\n",
        "<table border=\"1\" class=\"dataframe\">\n",
        "  <thead>\n",
        "    <tr style=\"text-align: right;\">\n",
        "      <th></th>\n",
        "      <th>t</th>\n",
        "      <th>p</th>\n",
        "      <th>max_tp</th>\n",
        "    </tr>\n",
        "    <tr>\n",
        "      <th>ROI</th>\n",
        "      <th></th>\n",
        "      <th></th>\n",
        "      <th></th>\n",
        "    </tr>\n",
        "  </thead>\n",
        "  <tbody>\n",
        "    <tr>\n",
        "      <th>FPC</th>\n",
        "      <td> 3.31</td>\n",
        "      <td> 7.44e-02</td>\n",
        "      <td> 7</td>\n",
        "    </tr>\n",
        "    <tr>\n",
        "      <th>IFG</th>\n",
        "      <td> 2.44</td>\n",
        "      <td> 3.03e-01</td>\n",
        "      <td> 3</td>\n",
        "    </tr>\n",
        "    <tr>\n",
        "      <th>IFS</th>\n",
        "      <td> 8.02</td>\n",
        "      <td> 0.00e+00</td>\n",
        "      <td> 5</td>\n",
        "    </tr>\n",
        "    <tr>\n",
        "      <th>aIns</th>\n",
        "      <td> 4.48</td>\n",
        "      <td> 8.80e-03</td>\n",
        "      <td> 3</td>\n",
        "    </tr>\n",
        "    <tr>\n",
        "      <th>aMFG</th>\n",
        "      <td> 6.60</td>\n",
        "      <td> 3.00e-04</td>\n",
        "      <td> 5</td>\n",
        "    </tr>\n",
        "    <tr>\n",
        "      <th>pMFG</th>\n",
        "      <td> 8.69</td>\n",
        "      <td> 0.00e+00</td>\n",
        "      <td> 5</td>\n",
        "    </tr>\n",
        "    <tr>\n",
        "      <th>pSFS</th>\n",
        "      <td> 5.92</td>\n",
        "      <td> 8.00e-04</td>\n",
        "      <td> 5</td>\n",
        "    </tr>\n",
        "  </tbody>\n",
        "</table>\n",
        "</div>"
       ],
       "metadata": {},
       "output_type": "pyout",
       "prompt_number": 31,
       "text": [
        "         t         p  max_tp\n",
        "ROI                         \n",
        "FPC   3.31  7.44e-02       7\n",
        "IFG   2.44  3.03e-01       3\n",
        "IFS   8.02  0.00e+00       5\n",
        "aIns  4.48  8.80e-03       3\n",
        "aMFG  6.60  3.00e-04       5\n",
        "pMFG  8.69  0.00e+00       5\n",
        "pSFS  5.92  8.00e-04       5"
       ]
      }
     ],
     "prompt_number": 31
    },
    {
     "cell_type": "markdown",
     "metadata": {},
     "source": [
      "We also use the shuffled null distribution to assess the significance of the individual subject decoding models. Report here how many subjects have at least one model over time for each region reach \"significance\", where signficiance is defined as p < 0.05, one-tailed, corrected for multiple comparisons either across regions and time or only across time."
     ]
    },
    {
     "cell_type": "code",
     "collapsed": false,
     "input": [
      "pfc_dimension[\"signif\"].groupby(level=\"correction\").apply(lambda x: (x > 95).sum())"
     ],
     "language": "python",
     "metadata": {},
     "outputs": [
      {
       "html": [
        "<div style=\"max-height:1000px;max-width:1500px;overflow:auto;\">\n",
        "<table border=\"1\" class=\"dataframe\">\n",
        "  <thead>\n",
        "    <tr style=\"text-align: right;\">\n",
        "      <th></th>\n",
        "      <th>IFS</th>\n",
        "      <th>aMFG</th>\n",
        "      <th>pMFG</th>\n",
        "      <th>FPC</th>\n",
        "      <th>IFG</th>\n",
        "      <th>aIns</th>\n",
        "      <th>pSFS</th>\n",
        "    </tr>\n",
        "    <tr>\n",
        "      <th>correction</th>\n",
        "      <th></th>\n",
        "      <th></th>\n",
        "      <th></th>\n",
        "      <th></th>\n",
        "      <th></th>\n",
        "      <th></th>\n",
        "      <th></th>\n",
        "    </tr>\n",
        "  </thead>\n",
        "  <tbody>\n",
        "    <tr>\n",
        "      <th>omni</th>\n",
        "      <td> 11</td>\n",
        "      <td> 2</td>\n",
        "      <td> 0</td>\n",
        "      <td> 3</td>\n",
        "      <td> 1</td>\n",
        "      <td> 1</td>\n",
        "      <td> 1</td>\n",
        "    </tr>\n",
        "    <tr>\n",
        "      <th>time</th>\n",
        "      <td> 13</td>\n",
        "      <td> 4</td>\n",
        "      <td> 6</td>\n",
        "      <td> 4</td>\n",
        "      <td> 4</td>\n",
        "      <td> 3</td>\n",
        "      <td> 4</td>\n",
        "    </tr>\n",
        "  </tbody>\n",
        "</table>\n",
        "</div>"
       ],
       "metadata": {},
       "output_type": "pyout",
       "prompt_number": 35,
       "text": [
        "            IFS  aMFG  pMFG  FPC  IFG  aIns  pSFS\n",
        "correction                                       \n",
        "omni         11     2     0    3    1     1     1\n",
        "time         13     4     6    4    4     3     4"
       ]
      }
     ],
     "prompt_number": 35
    },
    {
     "cell_type": "markdown",
     "metadata": {},
     "source": [
      "Now plot the main decoding figure for the PFC ROIs and the Dimension Rules."
     ]
    },
    {
     "cell_type": "code",
     "collapsed": false,
     "input": [
      "f = figure(figsize=(4.48, 5.5))\n",
      "\n",
      "ax_ts = f.add_axes([.105, .53, .875, .45])\n",
      "dksort_timecourse_figure(ax_ts, pfc_dimension, (.32, .48, 9))\n",
      "\n",
      "ax_sig = f.add_axes([.105, .07, .34, .37])\n",
      "dksort_significance_figure(ax_sig, pfc_dimension[\"signif\"])\n",
      "\n",
      "ax_pfc_peak = f.add_axes([.57, .07, .24, .37])\n",
      "dksort_peak_figure(ax_pfc_peak, pfc_dimension[\"peak\"], .33, (.32, .5, 7), True)\n",
      "\n",
      "ax_ifs_peak = f.add_axes([.845, .07, .135, .37])\n",
      "dksort_peak_figure(ax_ifs_peak, other_df.filter(regex=\"IFS$\"), .33, (.32, .5, 7), False)\n",
      "\n",
      "f.text(.01, .97, \"A\", size=12)\n",
      "f.text(.01, .44, \"B\", size=12)\n",
      "f.text(.47, .44, \"C\", size=12)\n",
      "f.text(.815, .44, \"D\", size=12)\n",
      "\n",
      "save_figure(f, \"figure_4\")"
     ],
     "language": "python",
     "metadata": {},
     "outputs": [
      {
       "metadata": {},
       "output_type": "display_data",
       "png": "[encoded data removed]",
       "text": [
        "<matplotlib.figure.Figure at 0x13311ad50>"
       ]
      }
     ],
     "prompt_number": 740
    },
    {
     "cell_type": "markdown",
     "metadata": {},
     "source": [
      "<div style=\"width:780px;padding-left:120px\" align=\"justify\">\n",
      "**Time-resolved decoding of Dimension Rules in prefrontal cortex:** Timecourses in left panel depict decoding accuracy across the six timepoints, sorted by ROI. Point estimates in right panel represent decoding accuracy for a single model fit to BOLD data averaged across the timepoints 3 and 5 seconds after stimulus onset. Horizontal dashed line in both panels represents an empirical estimate of chance, taken as the mean of the shuffled null distribution across ROIs and subjects for each time point. The vertical dotted line is placed at the onset of the stimulus event, which lasted for 2 seconds (shaded region around chance line). All error bars are bootstrapped 68% confidence intervals for the mean across subjects.\n",
      "</div>"
     ]
    },
    {
     "cell_type": "markdown",
     "metadata": {},
     "source": [
      "<div style=\"width:670px;padding-left:120px\" align=\"justify\">\n",
      "**Significance of individual subject models for Dimension Rule decoding:** The height of each bar represents the percentile of the shuffled null distribution corresponding to the observed accuracy by subject and region. The fully saturated bars show the percentile of the max distribution across regions and timepoints (effectively correcting for multiple comparisons across those factors), while the desaturated bars show the percentile for the max distribution across time within that region. The horizontal dashed line demarcates the criterion of significance at a (corrected) $\\alpha$ = 0.05. Bars are sorted by height within region. See experimental methods for details.\n",
      "</div>"
     ]
    },
    {
     "cell_type": "markdown",
     "metadata": {},
     "source": [
      "Perform a paired T-test on the \"peak\" decoding accuracy between each PFC region. Use a Bonferroni correction on the P values for the 15-way comparisons.\n",
      "\n",
      "We don't actually use this figure, but the function presents a nice table. (And the plot is fairly striking -- perhaps we could stick it in the supplement but I think the point has mostly been made by the time we get here)."
     ]
    },
    {
     "cell_type": "code",
     "collapsed": false,
     "input": [
      "pfc_paired_t = pd.DataFrame(index=pfc_rois, columns=pfc_rois, dtype=float)\n",
      "pfc_paired_p = pd.DataFrame(index=pfc_rois, columns=pfc_rois, dtype=float)\n",
      "for roi_i, roi_j in itertools.product(pfc_rois, pfc_rois):\n",
      "    peak_i = pfc_dimension[\"peak\"][roi_i]\n",
      "    peak_j = pfc_dimension[\"peak\"][roi_j]\n",
      "    t, p = stats.ttest_rel(peak_i, peak_j)\n",
      "    pfc_paired_t.loc[roi_i, roi_j] = t\n",
      "    pfc_paired_p.loc[roi_i, roi_j] = p\n",
      "pfc_paired_p *= 15\n",
      "sns.symmatplot(pfc_paired_t.values, pfc_paired_p.values,\n",
      "               names=pfc_rois, cmap=\"YlOrRd\", cmap_range=(-10, 0))\n",
      "grid(lw=2.5)"
     ],
     "language": "python",
     "metadata": {},
     "outputs": [
      {
       "metadata": {},
       "output_type": "display_data",
       "png": "[encoded data removed]",
       "text": [
        "<matplotlib.figure.Figure at 0x127fcacd0>"
       ]
      }
     ],
     "prompt_number": 243
    },
    {
     "cell_type": "heading",
     "level": 4,
     "metadata": {},
     "source": [
      "Other Dimension ROI Definitions"
     ]
    },
    {
     "cell_type": "markdown",
     "metadata": {},
     "source": [
      "The next set of analyses support the localization claims about dimension context representation in the IFS. This is a bit of a hodepodge, but we a) break up the IFS two ways (lateralization and anterior/posterior division), b) test the IFS against an agglomerative region with all PFC ROIs together, and c) test decoding after averaging the IFS signal across the voxels.\n",
      "\n",
      "We do all of these analyses on the \"peak\" data, which averages the BOLD data between the 3s and 5s timepoints before fitting the decoding models."
     ]
    },
    {
     "cell_type": "code",
     "collapsed": false,
     "input": [
      "ifs_full = pfc_dimension[\"peak\"][\"IFS\"]\n",
      "other_df = pd.DataFrame(columns=pd.Series(other_rois, name=\"ROI\"),\n",
      "                        index=subjects, dtype=float)\n",
      "other_ttest = pd.DataFrame(columns=other_rois, index=[\"t\", \"p\"], dtype=float)\n",
      "for roi, mask in zip(other_rois, other_masks):\n",
      "    ds = mvpa.extract_group(\"dimension\", roi, mask, frames,\n",
      "                            confounds=\"rt\", collapse=peak, dv=dv4)\n",
      "    accs = mvpa.decode_group(ds, model, dv=dv).squeeze()\n",
      "    other_df[roi] = accs\n",
      "    other_ttest[roi] = stats.ttest_rel(ifs_full, accs)"
     ],
     "language": "python",
     "metadata": {},
     "outputs": [],
     "prompt_number": 187
    },
    {
     "cell_type": "code",
     "collapsed": false,
     "input": [
      "ifs_mean = mvpa.extract_group(\"dimension\", \"IFS\", \"yeo17_ifs\", frames, peak, \"rt\")\n",
      "for ds in ifs_mean:\n",
      "    ds[\"X\"] = ds[\"X\"].mean(axis=1).reshape(-1, 1)\n",
      "    ds[\"roi_name\"] = \"IFS_mean\"\n",
      "ifs_mean_accs = mvpa.decode_group(ifs_mean, model, dv=dv).squeeze()\n",
      "ifs_mean_null = mvpa.classifier_permutations(ifs_mean, model, n_shuffle,\n",
      "                                             random_seed=shuffle_seed, dv=dv).squeeze()\n",
      "ifs_mean_delta = ifs_mean_accs - ifs_mean_null.mean(axis=1)\n",
      "ifs_mean_thresh = moss.percentiles(ifs_mean_null, 95, axis=1)\n",
      "other_df[\"IFS_mean\"] = ifs_mean_accs\n",
      "other_ttest[\"IFS_mean\"] = stats.ttest_rel(ifs_full, ifs_mean_accs)"
     ],
     "language": "python",
     "metadata": {},
     "outputs": [],
     "prompt_number": 195
    },
    {
     "cell_type": "markdown",
     "metadata": {},
     "source": [
      "Look at the summary statistics for these ROIs across subjects."
     ]
    },
    {
     "cell_type": "code",
     "collapsed": false,
     "input": [
      "other_df.describe().T"
     ],
     "language": "python",
     "metadata": {},
     "outputs": [
      {
       "html": [
        "<div style=\"max-height:1000px;max-width:1500px;overflow:auto;\">\n",
        "<table border=\"1\" class=\"dataframe\">\n",
        "  <thead>\n",
        "    <tr style=\"text-align: right;\">\n",
        "      <th></th>\n",
        "      <th>count</th>\n",
        "      <th>mean</th>\n",
        "      <th>std</th>\n",
        "      <th>min</th>\n",
        "      <th>25%</th>\n",
        "      <th>50%</th>\n",
        "      <th>75%</th>\n",
        "      <th>max</th>\n",
        "    </tr>\n",
        "    <tr>\n",
        "      <th>ROI</th>\n",
        "      <th></th>\n",
        "      <th></th>\n",
        "      <th></th>\n",
        "      <th></th>\n",
        "      <th></th>\n",
        "      <th></th>\n",
        "      <th></th>\n",
        "      <th></th>\n",
        "    </tr>\n",
        "  </thead>\n",
        "  <tbody>\n",
        "    <tr>\n",
        "      <th>lh-IFS</th>\n",
        "      <td> 15</td>\n",
        "      <td> 0.45</td>\n",
        "      <td> 0.05</td>\n",
        "      <td> 0.37</td>\n",
        "      <td> 0.41</td>\n",
        "      <td> 0.43</td>\n",
        "      <td> 0.48</td>\n",
        "      <td> 0.57</td>\n",
        "    </tr>\n",
        "    <tr>\n",
        "      <th>rh-IFS</th>\n",
        "      <td> 15</td>\n",
        "      <td> 0.44</td>\n",
        "      <td> 0.05</td>\n",
        "      <td> 0.38</td>\n",
        "      <td> 0.39</td>\n",
        "      <td> 0.45</td>\n",
        "      <td> 0.48</td>\n",
        "      <td> 0.52</td>\n",
        "    </tr>\n",
        "    <tr>\n",
        "      <th>aIFS</th>\n",
        "      <td> 15</td>\n",
        "      <td> 0.45</td>\n",
        "      <td> 0.06</td>\n",
        "      <td> 0.35</td>\n",
        "      <td> 0.40</td>\n",
        "      <td> 0.45</td>\n",
        "      <td> 0.50</td>\n",
        "      <td> 0.55</td>\n",
        "    </tr>\n",
        "    <tr>\n",
        "      <th>pIFS</th>\n",
        "      <td> 15</td>\n",
        "      <td> 0.45</td>\n",
        "      <td> 0.04</td>\n",
        "      <td> 0.39</td>\n",
        "      <td> 0.43</td>\n",
        "      <td> 0.45</td>\n",
        "      <td> 0.47</td>\n",
        "      <td> 0.53</td>\n",
        "    </tr>\n",
        "    <tr>\n",
        "      <th>AllROIs</th>\n",
        "      <td> 15</td>\n",
        "      <td> 0.44</td>\n",
        "      <td> 0.05</td>\n",
        "      <td> 0.36</td>\n",
        "      <td> 0.40</td>\n",
        "      <td> 0.44</td>\n",
        "      <td> 0.47</td>\n",
        "      <td> 0.54</td>\n",
        "    </tr>\n",
        "    <tr>\n",
        "      <th>IFS_mean</th>\n",
        "      <td> 15</td>\n",
        "      <td> 0.35</td>\n",
        "      <td> 0.03</td>\n",
        "      <td> 0.30</td>\n",
        "      <td> 0.32</td>\n",
        "      <td> 0.36</td>\n",
        "      <td> 0.37</td>\n",
        "      <td> 0.39</td>\n",
        "    </tr>\n",
        "  </tbody>\n",
        "</table>\n",
        "</div>"
       ],
       "metadata": {},
       "output_type": "pyout",
       "prompt_number": 189,
       "text": [
        "          count  mean   std   min   25%   50%   75%   max\n",
        "ROI                                                      \n",
        "lh-IFS       15  0.45  0.05  0.37  0.41  0.43  0.48  0.57\n",
        "rh-IFS       15  0.44  0.05  0.38  0.39  0.45  0.48  0.52\n",
        "aIFS         15  0.45  0.06  0.35  0.40  0.45  0.50  0.55\n",
        "pIFS         15  0.45  0.04  0.39  0.43  0.45  0.47  0.53\n",
        "AllROIs      15  0.44  0.05  0.36  0.40  0.44  0.47  0.54\n",
        "IFS_mean     15  0.35  0.03  0.30  0.32  0.36  0.37  0.39"
       ]
      }
     ],
     "prompt_number": 189
    },
    {
     "cell_type": "code",
     "collapsed": false,
     "input": [
      "other_df.apply(lambda d: pd.Series(moss.ci(moss.bootstrap(d), 95), index=[2.5, 97.5]), axis=0)"
     ],
     "language": "python",
     "metadata": {},
     "outputs": [
      {
       "html": [
        "<div style=\"max-height:1000px;max-width:1500px;overflow:auto;\">\n",
        "<table border=\"1\" class=\"dataframe\">\n",
        "  <thead>\n",
        "    <tr style=\"text-align: right;\">\n",
        "      <th>ROI</th>\n",
        "      <th>lh-IFS</th>\n",
        "      <th>rh-IFS</th>\n",
        "      <th>aIFS</th>\n",
        "      <th>pIFS</th>\n",
        "      <th>AllROIs</th>\n",
        "      <th>IFS_mean</th>\n",
        "    </tr>\n",
        "  </thead>\n",
        "  <tbody>\n",
        "    <tr>\n",
        "      <th>2.5 </th>\n",
        "      <td> 0.42</td>\n",
        "      <td> 0.42</td>\n",
        "      <td> 0.42</td>\n",
        "      <td> 0.43</td>\n",
        "      <td> 0.41</td>\n",
        "      <td> 0.34</td>\n",
        "    </tr>\n",
        "    <tr>\n",
        "      <th>97.5</th>\n",
        "      <td> 0.47</td>\n",
        "      <td> 0.47</td>\n",
        "      <td> 0.48</td>\n",
        "      <td> 0.47</td>\n",
        "      <td> 0.46</td>\n",
        "      <td> 0.36</td>\n",
        "    </tr>\n",
        "  </tbody>\n",
        "</table>\n",
        "</div>"
       ],
       "metadata": {},
       "output_type": "pyout",
       "prompt_number": 190,
       "text": [
        "ROI   lh-IFS  rh-IFS  aIFS  pIFS  AllROIs  IFS_mean\n",
        "2.5     0.42    0.42  0.42  0.43     0.41      0.34\n",
        "97.5    0.47    0.47  0.48  0.47     0.46      0.36"
       ]
      }
     ],
     "prompt_number": 190
    },
    {
     "cell_type": "markdown",
     "metadata": {},
     "source": [
      "Look at the paired T test for each \"other\" ROI against the original IFS data."
     ]
    },
    {
     "cell_type": "code",
     "collapsed": false,
     "input": [
      "other_ttest.T"
     ],
     "language": "python",
     "metadata": {},
     "outputs": [
      {
       "html": [
        "<div style=\"max-height:1000px;max-width:1500px;overflow:auto;\">\n",
        "<table border=\"1\" class=\"dataframe\">\n",
        "  <thead>\n",
        "    <tr style=\"text-align: right;\">\n",
        "      <th></th>\n",
        "      <th>t</th>\n",
        "      <th>p</th>\n",
        "    </tr>\n",
        "  </thead>\n",
        "  <tbody>\n",
        "    <tr>\n",
        "      <th>lh-IFS</th>\n",
        "      <td> 4.25</td>\n",
        "      <td> 8.11e-04</td>\n",
        "    </tr>\n",
        "    <tr>\n",
        "      <th>rh-IFS</th>\n",
        "      <td> 5.31</td>\n",
        "      <td> 1.10e-04</td>\n",
        "    </tr>\n",
        "    <tr>\n",
        "      <th>aIFS</th>\n",
        "      <td> 3.82</td>\n",
        "      <td> 1.87e-03</td>\n",
        "    </tr>\n",
        "    <tr>\n",
        "      <th>pIFS</th>\n",
        "      <td> 4.14</td>\n",
        "      <td> 1.01e-03</td>\n",
        "    </tr>\n",
        "    <tr>\n",
        "      <th>AllROIs</th>\n",
        "      <td> 4.71</td>\n",
        "      <td> 3.33e-04</td>\n",
        "    </tr>\n",
        "    <tr>\n",
        "      <th>IFS_mean</th>\n",
        "      <td> 9.24</td>\n",
        "      <td> 2.46e-07</td>\n",
        "    </tr>\n",
        "  </tbody>\n",
        "</table>\n",
        "</div>"
       ],
       "metadata": {},
       "output_type": "pyout",
       "prompt_number": 191,
       "text": [
        "             t         p\n",
        "lh-IFS    4.25  8.11e-04\n",
        "rh-IFS    5.31  1.10e-04\n",
        "aIFS      3.82  1.87e-03\n",
        "pIFS      4.14  1.01e-03\n",
        "AllROIs   4.71  3.33e-04\n",
        "IFS_mean  9.24  2.46e-07"
       ]
      }
     ],
     "prompt_number": 191
    },
    {
     "cell_type": "markdown",
     "metadata": {},
     "source": [
      "Directly test for laterality."
     ]
    },
    {
     "cell_type": "code",
     "collapsed": false,
     "input": [
      "lat_diff = other_df[\"lh-IFS\"] - other_df[\"rh-IFS\"]\n",
      "lat_diff_mean = lat_diff.mean()\n",
      "lat_diff_low, lat_diff_high = moss.ci(moss.bootstrap(lat_diff), 95)\n",
      "lat_diff_t, lat_diff_p = stats.ttest_1samp(lat_diff, 0)\n",
      "args = (lat_diff_mean, lat_diff_low, lat_diff_high, lat_diff_t, lat_diff_p)\n",
      "print \"Test for laterality: mean difference = %.3f; 95%% CI: %.3f, %.3f, t = %.2f; p = %.3g \" % args"
     ],
     "language": "python",
     "metadata": {},
     "outputs": [
      {
       "output_type": "stream",
       "stream": "stdout",
       "text": [
        "Test for laterality: mean difference = 0.004; 95% CI: -0.023, 0.028, t = 0.29; p = 0.775 \n"
       ]
      }
     ],
     "prompt_number": 192
    },
    {
     "cell_type": "markdown",
     "metadata": {},
     "source": [
      "Directly test for a rostro-caudal difference in decoding performance."
     ]
    },
    {
     "cell_type": "code",
     "collapsed": false,
     "input": [
      "yax_diff = other_df[\"aIFS\"] - other_df[\"pIFS\"]\n",
      "yax_diff_mean = yax_diff.mean()\n",
      "yax_diff_low, yax_diff_high = moss.ci(moss.bootstrap(yax_diff), 95)\n",
      "yax_diff_t, yax_diff_p = stats.ttest_1samp(yax_diff, 0)\n",
      "args = (yax_diff_low, yax_diff_high, yax_diff_t, yax_diff_p)\n",
      "print \"Test for rosto-caudal organization: mean difference = %.3f; \" % yax_diff_mean,\n",
      "print \"95%% CI: %.3f, %.3f, t = %.2f; p = %.3g \" % args"
     ],
     "language": "python",
     "metadata": {},
     "outputs": [
      {
       "output_type": "stream",
       "stream": "stdout",
       "text": [
        "Test for rosto-caudal organization: mean difference = 0.002;  95% CI: -0.022, 0.024, t = 0.13; p = 0.896 \n"
       ]
      }
     ],
     "prompt_number": 193
    },
    {
     "cell_type": "markdown",
     "metadata": {},
     "source": [
      "Test the reduced dimensionality dataset against chance."
     ]
    },
    {
     "cell_type": "code",
     "collapsed": false,
     "input": [
      "ifs_mean_mean = ifs_mean_accs.mean()\n",
      "ifs_mean_low, ifs_mean_high = moss.ci(moss.bootstrap(ifs_mean_accs), 95)\n",
      "ifs_mean_t, ifs_mean_p = moss.randomize_onesample(ifs_mean_delta)\n",
      "ifs_mean_chance = ifs_mean_null.mean()\n",
      "args = (ifs_mean_mean, ifs_mean_low, ifs_mean_high, ifs_mean_chance, ifs_mean_t, ifs_mean_p)\n",
      "print \"IFS_Mean ROI: mean accuracy = %.3f; 95%% CI: %.3f, %.3f; chance = %.3f; t = %.2f; p = %.3g \" % args"
     ],
     "language": "python",
     "metadata": {},
     "outputs": [
      {
       "output_type": "stream",
       "stream": "stdout",
       "text": [
        "Mean IFS ROI: mean accuracy = 0.350; 95% CI: 0.336, 0.364; chance = 0.339; t = 1.31; p = 0.0953 \n"
       ]
      }
     ],
     "prompt_number": 194
    },
    {
     "cell_type": "code",
     "collapsed": false,
     "input": [
      "ifs_mean_signif = ifs_mean_accs > ifs_mean_thresh\n",
      "print \"%d/15 significant IFS_Mean models\" % ifs_mean_signif.sum()"
     ],
     "language": "python",
     "metadata": {},
     "outputs": [
      {
       "output_type": "stream",
       "stream": "stdout",
       "text": [
        "2/15 significant IFS_Mean models\n"
       ]
      }
     ],
     "prompt_number": 196
    },
    {
     "cell_type": "heading",
     "level": 4,
     "metadata": {},
     "source": [
      "Dimension Decoding During Cue Period"
     ]
    },
    {
     "cell_type": "markdown",
     "metadata": {},
     "source": [
      "Now test whether we can decode the Dimension Rules during the cue period. This is both a) possibly interesting on its own and b) serves as a control against certain interpretations of our main results."
     ]
    },
    {
     "cell_type": "code",
     "collapsed": true,
     "input": [
      "pfc_cue = dksort_decode([\"IFS\"], \"dimension_cue\")"
     ],
     "language": "python",
     "metadata": {},
     "outputs": [],
     "prompt_number": 197
    },
    {
     "cell_type": "markdown",
     "metadata": {},
     "source": [
      "Take the mean accuracy across subjects and look at the maximum over time."
     ]
    },
    {
     "cell_type": "code",
     "collapsed": false,
     "input": [
      "max_cue_acc = pfc_cue[\"accs\"].mean(axis=0).max()\n",
      "max_cue_data = pfc_cue[\"accs\"][pfc_cue[\"accs\"].mean(axis=0).idxmax()]\n",
      "max_cue_ci_low, max_cue_ci_high = moss.ci(moss.bootstrap(max_cue_data), 95)\n",
      "args = max_cue_acc, max_cue_ci_low, max_cue_ci_high\n",
      "print \"Max accuracy: %.3f; 95%% CI: %.3f, %.3f\" % args"
     ],
     "language": "python",
     "metadata": {},
     "outputs": [
      {
       "output_type": "stream",
       "stream": "stdout",
       "text": [
        "Max accuracy: 0.363; 95% CI: 0.338, 0.390\n"
       ]
      }
     ],
     "prompt_number": 201
    },
    {
     "cell_type": "markdown",
     "metadata": {},
     "source": [
      "Now look at the maximum t statistic across time. The p value is corrected for multiple comparisons, here just across time."
     ]
    },
    {
     "cell_type": "code",
     "collapsed": false,
     "input": [
      "pfc_cue[\"ttest\"]"
     ],
     "language": "python",
     "metadata": {},
     "outputs": [
      {
       "html": [
        "<div style=\"max-height:1000px;max-width:1500px;overflow:auto;\">\n",
        "<table border=\"1\" class=\"dataframe\">\n",
        "  <thead>\n",
        "    <tr style=\"text-align: right;\">\n",
        "      <th></th>\n",
        "      <th>t</th>\n",
        "      <th>p</th>\n",
        "      <th>max_tp</th>\n",
        "    </tr>\n",
        "    <tr>\n",
        "      <th>ROI</th>\n",
        "      <th></th>\n",
        "      <th></th>\n",
        "      <th></th>\n",
        "    </tr>\n",
        "  </thead>\n",
        "  <tbody>\n",
        "    <tr>\n",
        "      <th>IFS</th>\n",
        "      <td> 2.12</td>\n",
        "      <td> 0.12</td>\n",
        "      <td> 5</td>\n",
        "    </tr>\n",
        "  </tbody>\n",
        "</table>\n",
        "</div>"
       ],
       "metadata": {},
       "output_type": "pyout",
       "prompt_number": 199,
       "text": [
        "        t     p  max_tp\n",
        "ROI                    \n",
        "IFS  2.12  0.12       5"
       ]
      }
     ],
     "prompt_number": 199
    },
    {
     "cell_type": "heading",
     "level": 3,
     "metadata": {},
     "source": [
      "Decoding of Decision Rules"
     ]
    },
    {
     "cell_type": "markdown",
     "metadata": {},
     "source": [
      "Next we turn to the Decision Rules (i.e. whether \"yes\" means \"same\" or \"different\"). We just repeat the main steps from above. First load up all the data and do the heavy lifting on the analysis side of things."
     ]
    },
    {
     "cell_type": "code",
     "collapsed": false,
     "input": [
      "pfc_decision = dksort_decode(pfc_rois, \"decision\")"
     ],
     "language": "python",
     "metadata": {},
     "outputs": [],
     "prompt_number": 125
    },
    {
     "cell_type": "markdown",
     "metadata": {},
     "source": [
      "Print the results of the group t test against chance."
     ]
    },
    {
     "cell_type": "code",
     "collapsed": false,
     "input": [
      "pfc_decision[\"ttest\"]"
     ],
     "language": "python",
     "metadata": {},
     "outputs": [
      {
       "output_type": "stream",
       "stream": "stderr",
       "text": [
        "/home/mwaskom/.local/lib/python2.7/site-packages/pandas-0.12.0-py2.7-linux-x86_64.egg/pandas/core/config.py:570: DeprecationWarning: height has been deprecated.\n",
        "\n",
        "  warnings.warn(d.msg, DeprecationWarning)\n",
        "/home/mwaskom/.local/lib/python2.7/site-packages/pandas-0.12.0-py2.7-linux-x86_64.egg/pandas/core/config.py:570: DeprecationWarning: height has been deprecated.\n",
        "\n",
        "  warnings.warn(d.msg, DeprecationWarning)\n"
       ]
      },
      {
       "html": [
        "<div style=\"max-height:1000px;max-width:1500px;overflow:auto;\">\n",
        "<table border=\"1\" class=\"dataframe\">\n",
        "  <thead>\n",
        "    <tr style=\"text-align: right;\">\n",
        "      <th></th>\n",
        "      <th>t</th>\n",
        "      <th>p</th>\n",
        "      <th>max_tp</th>\n",
        "    </tr>\n",
        "    <tr>\n",
        "      <th>ROI</th>\n",
        "      <th></th>\n",
        "      <th></th>\n",
        "      <th></th>\n",
        "    </tr>\n",
        "  </thead>\n",
        "  <tbody>\n",
        "    <tr>\n",
        "      <th>FPC</th>\n",
        "      <td>-0.97</td>\n",
        "      <td> 1.00</td>\n",
        "      <td> 1</td>\n",
        "    </tr>\n",
        "    <tr>\n",
        "      <th>IFG</th>\n",
        "      <td>-1.45</td>\n",
        "      <td> 1.00</td>\n",
        "      <td> 1</td>\n",
        "    </tr>\n",
        "    <tr>\n",
        "      <th>IFS</th>\n",
        "      <td> 0.40</td>\n",
        "      <td> 0.93</td>\n",
        "      <td> 5</td>\n",
        "    </tr>\n",
        "    <tr>\n",
        "      <th>aIns</th>\n",
        "      <td> 0.24</td>\n",
        "      <td> 0.96</td>\n",
        "      <td>-1</td>\n",
        "    </tr>\n",
        "    <tr>\n",
        "      <th>aMFG</th>\n",
        "      <td>-0.32</td>\n",
        "      <td> 1.00</td>\n",
        "      <td> 5</td>\n",
        "    </tr>\n",
        "    <tr>\n",
        "      <th>pMFG</th>\n",
        "      <td> 0.11</td>\n",
        "      <td> 0.97</td>\n",
        "      <td> 5</td>\n",
        "    </tr>\n",
        "    <tr>\n",
        "      <th>pSFS</th>\n",
        "      <td>-0.02</td>\n",
        "      <td> 0.98</td>\n",
        "      <td> 3</td>\n",
        "    </tr>\n",
        "  </tbody>\n",
        "</table>\n",
        "</div>"
       ],
       "metadata": {},
       "output_type": "pyout",
       "prompt_number": 126,
       "text": [
        "         t     p  max_tp\n",
        "ROI                     \n",
        "FPC  -0.97  1.00       1\n",
        "IFG  -1.45  1.00       1\n",
        "IFS   0.40  0.93       5\n",
        "aIns  0.24  0.96      -1\n",
        "aMFG -0.32  1.00       5\n",
        "pMFG  0.11  0.97       5\n",
        "pSFS -0.02  0.98       3"
       ]
      }
     ],
     "prompt_number": 126
    },
    {
     "cell_type": "markdown",
     "metadata": {},
     "source": [
      "Now also look at whether any individual models were significant."
     ]
    },
    {
     "cell_type": "code",
     "collapsed": false,
     "input": [
      "pfc_decision[\"signif\"].groupby(level=\"correction\").apply(lambda x: (x > 95).sum())"
     ],
     "language": "python",
     "metadata": {},
     "outputs": [
      {
       "output_type": "stream",
       "stream": "stderr",
       "text": [
        "/home/mwaskom/.local/lib/python2.7/site-packages/pandas-0.12.0-py2.7-linux-x86_64.egg/pandas/core/config.py:570: DeprecationWarning: height has been deprecated.\n",
        "\n",
        "  warnings.warn(d.msg, DeprecationWarning)\n",
        "/home/mwaskom/.local/lib/python2.7/site-packages/pandas-0.12.0-py2.7-linux-x86_64.egg/pandas/core/config.py:570: DeprecationWarning: height has been deprecated.\n",
        "\n",
        "  warnings.warn(d.msg, DeprecationWarning)\n"
       ]
      },
      {
       "html": [
        "<div style=\"max-height:1000px;max-width:1500px;overflow:auto;\">\n",
        "<table border=\"1\" class=\"dataframe\">\n",
        "  <thead>\n",
        "    <tr style=\"text-align: right;\">\n",
        "      <th></th>\n",
        "      <th>IFS</th>\n",
        "      <th>aMFG</th>\n",
        "      <th>pMFG</th>\n",
        "      <th>FPC</th>\n",
        "      <th>IFG</th>\n",
        "      <th>aIns</th>\n",
        "      <th>pSFS</th>\n",
        "    </tr>\n",
        "    <tr>\n",
        "      <th>correction</th>\n",
        "      <th></th>\n",
        "      <th></th>\n",
        "      <th></th>\n",
        "      <th></th>\n",
        "      <th></th>\n",
        "      <th></th>\n",
        "      <th></th>\n",
        "    </tr>\n",
        "  </thead>\n",
        "  <tbody>\n",
        "    <tr>\n",
        "      <th>omni</th>\n",
        "      <td> 1</td>\n",
        "      <td> 0</td>\n",
        "      <td> 0</td>\n",
        "      <td> 0</td>\n",
        "      <td> 0</td>\n",
        "      <td> 1</td>\n",
        "      <td> 0</td>\n",
        "    </tr>\n",
        "    <tr>\n",
        "      <th>time</th>\n",
        "      <td> 3</td>\n",
        "      <td> 1</td>\n",
        "      <td> 1</td>\n",
        "      <td> 0</td>\n",
        "      <td> 0</td>\n",
        "      <td> 4</td>\n",
        "      <td> 1</td>\n",
        "    </tr>\n",
        "  </tbody>\n",
        "</table>\n",
        "</div>"
       ],
       "metadata": {},
       "output_type": "pyout",
       "prompt_number": 127,
       "text": [
        "            IFS  aMFG  pMFG  FPC  IFG  aIns  pSFS\n",
        "correction                                       \n",
        "omni          1     0     0    0    0     1     0\n",
        "time          3     1     1    0    0     4     1"
       ]
      }
     ],
     "prompt_number": 127
    },
    {
     "cell_type": "markdown",
     "metadata": {},
     "source": [
      "Plot the spatiotemporal decoding figure."
     ]
    },
    {
     "cell_type": "code",
     "collapsed": false,
     "input": [
      "dksort_timecourse_figure(pfc_decision, (.43, .67, 7), \"figure_5\")"
     ],
     "language": "python",
     "metadata": {},
     "outputs": [
      {
       "metadata": {},
       "output_type": "display_data",
       "png": "[encoded data removed]",
       "text": [
        "<matplotlib.figure.Figure at 0x110acfd0>"
       ]
      }
     ],
     "prompt_number": 137
    },
    {
     "cell_type": "markdown",
     "metadata": {},
     "source": [
      "<div style=\"width:780px;padding-left:120px\" align=\"justify\">\n",
      "**Time-resolved decoding of Decision Rules in prefrontal cortex:** Conventions are as in the Dimension Rules plot. The y-axis is scaled to span similar binomial probabilities as the Dimension Rules plot.\n",
      "</div>"
     ]
    },
    {
     "cell_type": "markdown",
     "metadata": {},
     "source": [
      "And its corresponding supplemental figure."
     ]
    },
    {
     "cell_type": "code",
     "collapsed": false,
     "input": [
      "dksort_significance_figure(pfc_decision[\"signif\"], \"supplemental_figure_3\")"
     ],
     "language": "python",
     "metadata": {},
     "outputs": [
      {
       "metadata": {},
       "output_type": "display_data",
       "png": "[encoded data removed]",
       "text": [
        "<matplotlib.figure.Figure at 0xd896150>"
       ]
      }
     ],
     "prompt_number": 129
    },
    {
     "cell_type": "markdown",
     "metadata": {},
     "source": [
      "<div style=\"width:670px;padding-left:120px\" align=\"justify\">\n",
      "**Significance of individual subject models for Decision Rule decoding:** Conventions are as in the Dimension Rules significance plot.\n",
      "</div>"
     ]
    },
    {
     "cell_type": "heading",
     "level": 2,
     "metadata": {},
     "source": [
      "Decoding in Posterior Cortex"
     ]
    },
    {
     "cell_type": "markdown",
     "metadata": {},
     "source": [
      "We now return to the Dimension rules and build decoding models to predict these rules from patterns in posterior cortex ROIS (specifically IPS and OTC). We'll carry forward the IFS ROI as we are interested in how the profile of information in this region is similar or different to the other regions. Lacking a good name for this collection of ROIs, we'll call them `net` as they form a sort of goal-directed attention network."
     ]
    },
    {
     "cell_type": "heading",
     "level": 3,
     "metadata": {},
     "source": [
      "Spatiotemporal Decoding in IPS and Visual Cortex"
     ]
    },
    {
     "cell_type": "code",
     "collapsed": true,
     "input": [
      "net_dimension = dksort_decode(net_rois, \"dimension\")"
     ],
     "language": "python",
     "metadata": {},
     "outputs": [],
     "prompt_number": 239
    },
    {
     "cell_type": "code",
     "collapsed": false,
     "input": [
      "net_dimension[\"signif\"].groupby(level=\"correction\").apply(lambda x: (x > 95).sum())"
     ],
     "language": "python",
     "metadata": {},
     "outputs": [
      {
       "html": [
        "<div style=\"max-height:1000px;max-width:1500px;overflow:auto;\">\n",
        "<table border=\"1\" class=\"dataframe\">\n",
        "  <thead>\n",
        "    <tr style=\"text-align: right;\">\n",
        "      <th></th>\n",
        "      <th>IFS</th>\n",
        "      <th>IPS</th>\n",
        "      <th>OTC</th>\n",
        "    </tr>\n",
        "    <tr>\n",
        "      <th>correction</th>\n",
        "      <th></th>\n",
        "      <th></th>\n",
        "      <th></th>\n",
        "    </tr>\n",
        "  </thead>\n",
        "  <tbody>\n",
        "    <tr>\n",
        "      <th>omni</th>\n",
        "      <td> 11</td>\n",
        "      <td> 15</td>\n",
        "      <td> 15</td>\n",
        "    </tr>\n",
        "    <tr>\n",
        "      <th>time</th>\n",
        "      <td> 13</td>\n",
        "      <td> 15</td>\n",
        "      <td> 15</td>\n",
        "    </tr>\n",
        "  </tbody>\n",
        "</table>\n",
        "</div>"
       ],
       "metadata": {},
       "output_type": "pyout",
       "prompt_number": 240,
       "text": [
        "            IFS  IPS  OTC\n",
        "correction               \n",
        "omni         11   15   15\n",
        "time         13   15   15"
       ]
      }
     ],
     "prompt_number": 240
    },
    {
     "cell_type": "code",
     "collapsed": false,
     "input": [
      "net_dimension[\"ttest\"]"
     ],
     "language": "python",
     "metadata": {},
     "outputs": [
      {
       "html": [
        "<div style=\"max-height:1000px;max-width:1500px;overflow:auto;\">\n",
        "<table border=\"1\" class=\"dataframe\">\n",
        "  <thead>\n",
        "    <tr style=\"text-align: right;\">\n",
        "      <th></th>\n",
        "      <th>t</th>\n",
        "      <th>p</th>\n",
        "      <th>max_tp</th>\n",
        "    </tr>\n",
        "    <tr>\n",
        "      <th>ROI</th>\n",
        "      <th></th>\n",
        "      <th></th>\n",
        "      <th></th>\n",
        "    </tr>\n",
        "  </thead>\n",
        "  <tbody>\n",
        "    <tr>\n",
        "      <th>IFS</th>\n",
        "      <td>  8.02</td>\n",
        "      <td> 0</td>\n",
        "      <td> 5</td>\n",
        "    </tr>\n",
        "    <tr>\n",
        "      <th>IPS</th>\n",
        "      <td>  8.87</td>\n",
        "      <td> 0</td>\n",
        "      <td> 3</td>\n",
        "    </tr>\n",
        "    <tr>\n",
        "      <th>OTC</th>\n",
        "      <td> 14.76</td>\n",
        "      <td> 0</td>\n",
        "      <td> 5</td>\n",
        "    </tr>\n",
        "  </tbody>\n",
        "</table>\n",
        "</div>"
       ],
       "metadata": {},
       "output_type": "pyout",
       "prompt_number": 241,
       "text": [
        "         t  p  max_tp\n",
        "ROI                  \n",
        "IFS   8.02  0       5\n",
        "IPS   8.87  0       3\n",
        "OTC  14.76  0       5"
       ]
      }
     ],
     "prompt_number": 241
    },
    {
     "cell_type": "code",
     "collapsed": false,
     "input": [
      "dksort_timecourse_figure(net_dimension, (.3, .65, 8), \"figure_6\")"
     ],
     "language": "python",
     "metadata": {},
     "outputs": [
      {
       "metadata": {},
       "output_type": "display_data",
       "png": "[encoded data removed]",
       "text": [
        "<matplotlib.figure.Figure at 0x12edcff90>"
       ]
      }
     ],
     "prompt_number": 242
    },
    {
     "cell_type": "markdown",
     "metadata": {},
     "source": [
      "<div style=\"width:780px;padding-left:120px\" align=\"justify\">\n",
      "**Time-resolved decoding of Dimension Rules in posterior cortex:** Conventions are as in the Dimension Rules plot.\n",
      "</div>"
     ]
    },
    {
     "cell_type": "heading",
     "level": 3,
     "metadata": {},
     "source": [
      "Spatial scale of context information"
     ]
    },
    {
     "cell_type": "markdown",
     "metadata": {},
     "source": [
      "We are interested in dissociating the information within this network. First we inquire about its spatial resolution. We do so by computing the first-order spatial autocorrelation on the maps of learned coefficients. Basically, what happens is that you extract the coefficients and put them in the native image space. Then, shift the map one voxel along each axis and compute the correlation with itself (ignoring the voxels that get pushed outside of the mask). Because there are three Dimension rules, the Logistic Regression model actually has three binary models with associated weights. So we end up with correlation value for each axis/model, which we average to obtain a score for each subject and ROI."
     ]
    },
    {
     "cell_type": "code",
     "collapsed": false,
     "input": [
      "roi_index = moss.product_index([net_rois, subjects], [\"roi\", \"subj\"])\n",
      "ar1s = pd.Series(index=roi_index, name=\"ar1\", dtype=float)\n",
      "shifters = [(0, 0, 1), (0, 1, 0), (1, 0, 0)]\n",
      "\n",
      "for roi in net_rois:\n",
      "    mask_name = \"yeo17_\" + roi.lower()\n",
      "    ds = mvpa.extract_group(\"dimension\", roi, mask_name, frames, peak, \"rt\")\n",
      "    coefs = mvpa.model_coefs(ds, model, flat=False)\n",
      "    for subj, coef_s in zip(subjects, coefs):\n",
      "        ar1_vals = []\n",
      "        for coef_c in coef_s.transpose(3, 0, 1, 2):\n",
      "            mask = ~np.isnan(coef_c)\n",
      "            orig = coef_c[mask]\n",
      "            locs = np.argwhere(mask)\n",
      "            for shifter in shifters:\n",
      "                x, y, z = (locs + shifter).T\n",
      "                shifted = coef_c[x, y, z]\n",
      "                notnan = ~np.isnan(shifted)\n",
      "                r, p = stats.pearsonr(orig[notnan], shifted[notnan])\n",
      "                ar1_vals.append(r)\n",
      "        ar1s.loc[(roi, subj)] = np.mean(ar1_vals)\n",
      "ar1_df = ar1s.reset_index()"
     ],
     "language": "python",
     "metadata": {},
     "outputs": [],
     "prompt_number": 219
    },
    {
     "cell_type": "markdown",
     "metadata": {},
     "source": [
      "Now test the dissociation using a mixed model and pairwise t tests."
     ]
    },
    {
     "cell_type": "code",
     "collapsed": false,
     "input": [
      "%%R -i ar1_df\n",
      "m.ar1 = lmer(ar1 ~ roi + (roi | subj), ar1_df, REML=FALSE)\n",
      "m.ar1.nest = lmer(ar1 ~ 1 + (roi | subj), ar1_df, REML=FALSE)\n",
      "print(anova(m.ar1))\n",
      "lr_test(m.ar1, m.ar1.nest, \"ROI effect\")"
     ],
     "language": "python",
     "metadata": {},
     "outputs": [
      {
       "metadata": {},
       "output_type": "display_data",
       "text": [
        "Analysis of Variance Table\n",
        "    Df   Sum Sq  Mean Sq F value\n",
        "roi  2 0.044165 0.022083   48.58\n",
        "Likelihood ratio test for ROI effect:\n",
        "  Chisq(2) = 30.18; p = 2.8e-07\n"
       ]
      }
     ],
     "prompt_number": 77
    },
    {
     "cell_type": "code",
     "collapsed": false,
     "input": [
      "for roi in net_rois:\n",
      "    m, sd = ar1s.loc[roi].describe()[[\"mean\", \"std\"]]\n",
      "    print \"%s Spatial AR1: M = %.3g (SD = %.2g)\" % (roi, m, sd)"
     ],
     "language": "python",
     "metadata": {},
     "outputs": [
      {
       "output_type": "stream",
       "stream": "stdout",
       "text": [
        "IFS Spatial AR1: M = 0.153 (SD = 0.035)\n",
        "IPS Spatial AR1: M = 0.151 (SD = 0.043)\n",
        "OTC Spatial AR1: M = 0.249 (SD = 0.034)\n"
       ]
      }
     ],
     "prompt_number": 223
    },
    {
     "cell_type": "code",
     "collapsed": false,
     "input": [
      "for roi_a, roi_b in itertools.combinations(net_rois, 2):\n",
      "    t, p = stats.ttest_rel(ar1s.loc[roi_a], ar1s.loc[roi_b])\n",
      "    dof = len(ar1s.loc[roi_a]) - 1\n",
      "    print \"Test for %s vs. %s: t(%d) = %.3f; p = %.3g\" % (roi_a, roi_b, dof, t, p)"
     ],
     "language": "python",
     "metadata": {},
     "outputs": [
      {
       "output_type": "stream",
       "stream": "stdout",
       "text": [
        "Test for IFS vs. IPS: t(14) = 0.133; p = 0.896\n",
        "Test for IFS vs. OTC: t(14) = -8.835; p = 4.23e-07\n",
        "Test for IPS vs. OTC: t(14) = -6.498; p = 1.41e-05\n"
       ]
      }
     ],
     "prompt_number": 224
    },
    {
     "cell_type": "heading",
     "level": 3,
     "metadata": {},
     "source": [
      "Temproal profile of context decoding"
     ]
    },
    {
     "cell_type": "markdown",
     "metadata": {},
     "source": [
      "Next we ask about temporal dissociations between the regions. This is hypothesis-driven: we expect that the IFS and IPS will have information about the attended dimensions earlier than the OTC. We're going to operationalize \"time of information\" with \"time of peak information\". There are other measures that might be insightful in different ways, but I think this is the best measurement given the type of data we have.\n",
      "\n",
      "For a potentially more precise test, we are going to use cubic spline interpolation to upsample the *original* timeserieses to 500 ms bins. Then, we'll repeat the decoding analysis on these new timepoints. Finally, we'll fit Gamma probability density functions to the high-res timecourse data and use those to infer on the time of peak information."
     ]
    },
    {
     "cell_type": "code",
     "collapsed": false,
     "input": [
      "if dv is not None:\n",
      "    dv[\"up_timepoints\"] = up_timepoints\n",
      "roi_index = moss.product_index([net_rois, subjects], [\"ROI\", \"subj\"])\n",
      "columns = pd.Series(up_timepoints, name=\"timepoints\")\n",
      "up_accs = pd.DataFrame(index=roi_index, columns=columns, dtype=float)\n",
      "up_hrf_info = pd.DataFrame(index=roi_index, columns=[\"peak\", \"r2\"], dtype=float)\n",
      "up_hrfs = {}\n",
      "bounds = dict(shape=(2, 20), coef=(0, None), loc=(-2.5, 2.5), scale=(0, 3))\n",
      "\n",
      "for roi in net_rois:\n",
      "    mask = \"yeo17_\" + roi.lower()\n",
      "    ds = mvpa.extract_group(\"dimension\", roi + \"_500ms\", mask, frames,\n",
      "                            upsample=4, confounds=\"rt\", dv=dv4)\n",
      "    roi_accs = mvpa.decode_group(ds, model, dv=dv)\n",
      "    up_accs.loc[roi, :] = roi_accs\n",
      "    hrfs = [moss.GammaHRF(loc=-1.5, bounds=bounds) for s in subjects]\n",
      "    mapper = map if dv is None else dv.map_sync\n",
      "    hrfs_ = mapper(lambda h, a: h.fit(up_timepoints, a), hrfs, roi_accs.tolist())\n",
      "    up_hrfs[roi] = hrfs_\n",
      "    for subj, hrf in zip(subjects, hrfs_):\n",
      "        up_hrf_info.loc[(roi, subj)] = hrf.peak_time_, hrf.fit_r2_"
     ],
     "language": "python",
     "metadata": {},
     "outputs": [],
     "prompt_number": 138
    },
    {
     "cell_type": "markdown",
     "metadata": {},
     "source": [
      "Report main information about the fits."
     ]
    },
    {
     "cell_type": "code",
     "collapsed": false,
     "input": [
      "for roi, info in up_hrf_info.groupby(level=\"ROI\"):\n",
      "    peak_time = info[\"peak\"].mean()\n",
      "    low, high = moss.ci(moss.bootstrap(info[\"peak\"]), 95)\n",
      "    print roi + \"\\n---\"\n",
      "    print \" Mean peak: %.2fs;  95%% CI: (%.2f, %.2f)\" % (peak_time, low, high)\n",
      "    r2 = info[\"r2\"].median()\n",
      "    low, high = moss.ci(moss.bootstrap(info[\"r2\"], func=np.median), 95)\n",
      "    print \" Median R^2: %.2f;  95%% CI: (%.2f, %.2f)\\n\" % (r2, low, high)"
     ],
     "language": "python",
     "metadata": {},
     "outputs": [
      {
       "output_type": "stream",
       "stream": "stdout",
       "text": [
        "IFS\n",
        "---\n",
        " Mean peak: 4.65s;  95% CI: (4.33, 4.99)\n",
        " Median R^2: 0.70;  95% CI: (0.54, 0.88)\n"
       ]
      },
      {
       "output_type": "stream",
       "stream": "stdout",
       "text": [
        "\n",
        "IPS\n",
        "---"
       ]
      },
      {
       "output_type": "stream",
       "stream": "stdout",
       "text": [
        "\n",
        " Mean peak: 4.59s;  95% CI: (4.25, 4.94)\n",
        " Median R^2: 0.82;  95% CI: (0.70, 0.90)\n"
       ]
      },
      {
       "output_type": "stream",
       "stream": "stdout",
       "text": [
        "\n",
        "OTC\n",
        "---"
       ]
      },
      {
       "output_type": "stream",
       "stream": "stdout",
       "text": [
        "\n",
        " Mean peak: 5.42s;  95% CI: (5.20, 5.65)\n",
        " Median R^2: 0.95;  95% CI: (0.91, 0.95)\n"
       ]
      },
      {
       "output_type": "stream",
       "stream": "stdout",
       "text": [
        "\n"
       ]
      }
     ],
     "prompt_number": 139
    },
    {
     "cell_type": "markdown",
     "metadata": {},
     "source": [
      "Define a short function to compute them median and 95% CI for the pairwise differences and apply it to eaach pair."
     ]
    },
    {
     "cell_type": "code",
     "collapsed": false,
     "input": [
      "def up_peak_test(info, roi_a, roi_b):\n",
      "    peaks = np.array(info[\"peak\"].unstack(level=\"ROI\")[[roi_a, roi_b]])\n",
      "    diff = np.diff(peaks, axis=1)\n",
      "    mean_diff = np.mean(diff)\n",
      "    diff_ci = moss.ci(moss.bootstrap(diff), 95)\n",
      "    t, p = stats.ttest_rel(peaks[:, 0], peaks[:, 1])\n",
      "    print \"%s - %s difference:\" % (roi_a, roi_b)\n",
      "    print \"  mean = %.2fs;\" % mean_diff, \n",
      "    print \"95%% CI: %.2f, %.2f\" % tuple(diff_ci)\n",
      "    print \"  t(%d) = %.3f; p = %.3g\" % (len(diff) - 1, t, p)\n",
      "    print \"  %d subjects with positive difference\" % (diff > 0).sum()"
     ],
     "language": "python",
     "metadata": {},
     "outputs": [],
     "prompt_number": 83
    },
    {
     "cell_type": "code",
     "collapsed": false,
     "input": [
      "up_peak_test(up_hrf_info, \"IFS\", \"OTC\")"
     ],
     "language": "python",
     "metadata": {},
     "outputs": [
      {
       "output_type": "stream",
       "stream": "stdout",
       "text": [
        "IFS - OTC difference:\n",
        "  mean = 0.77s; 95% CI: 0.41, 1.10\n",
        "  t(14) = -4.237; p = 0.000829\n",
        "  13 subjects with positive difference\n"
       ]
      }
     ],
     "prompt_number": 84
    },
    {
     "cell_type": "code",
     "collapsed": false,
     "input": [
      "up_peak_test(up_hrf_info, \"IPS\", \"OTC\")"
     ],
     "language": "python",
     "metadata": {},
     "outputs": [
      {
       "output_type": "stream",
       "stream": "stdout",
       "text": [
        "IPS - OTC difference:\n",
        "  mean = 0.84s; 95% CI: 0.61, 1.06\n",
        "  t(14) = -7.052; p = 5.76e-06\n",
        "  15 subjects with positive difference\n"
       ]
      }
     ],
     "prompt_number": 85
    },
    {
     "cell_type": "code",
     "collapsed": false,
     "input": [
      "up_peak_test(up_hrf_info, \"IFS\", \"IPS\")"
     ],
     "language": "python",
     "metadata": {},
     "outputs": [
      {
       "output_type": "stream",
       "stream": "stdout",
       "text": [
        "IFS - IPS difference:\n",
        "  mean = -0.07s; 95% CI: -0.50, 0.36\n",
        "  t(14) = 0.328; p = 0.748\n",
        "  6 subjects with positive difference\n"
       ]
      }
     ],
     "prompt_number": 86
    },
    {
     "cell_type": "markdown",
     "metadata": {},
     "source": [
      "We'll also make a supplemental plot with the high-resolution timecourse decoding along with the fitted Gamma PDF model. The right panel adds the distribution of pairwise differences."
     ]
    },
    {
     "cell_type": "code",
     "collapsed": false,
     "input": [
      "f = figure(figsize=(12, 7))\n",
      "ax_ts = f.add_axes([.05, .05, .75, .9])\n",
      "ax_box = f.add_axes([.81, .05, .14, .9])\n",
      "xx = np.linspace(-1, 10.5, 100)\n",
      "\n",
      "for i, roi in enumerate(net_rois):\n",
      "    color = roi_colors[roi]\n",
      "    accs = up_accs.loc[roi]\n",
      "    sns.tsplot(up_timepoints, accs, err_style=\"ci_bars\",\n",
      "               interpolate=False, color=color, mec=color,\n",
      "               err_kws={\"mew\": 0, \"elinewidth\": 2}, ax=ax_ts)\n",
      "    fits = [hrf.predict(xx) for hrf in up_hrfs[roi]]\n",
      "    sns.tsplot(xx, fits, [], color=color, lw=2.5, label=roi, ax=ax_ts)\n",
      "    ax_ts.set_ylim(.3, .65)\n",
      "    ax_ts.plot(up_hrf_info.loc[roi, \"peak\"], [.305 + i / 100] * len(subjects), \"o\",\n",
      "               color=color, mec=color, mew=0, ms=5, alpha=.5)\n",
      "    #sns.rugplot(up_hrf_info.loc[roi][\"peak\"], color=color, height=.015, lw=1.25, ax=ax_ts)\n",
      "\n",
      "ax_ts.legend(frameon=False, title=\"ROI\")\n",
      "ax_ts.set_xlim(-1, 10.5)\n",
      "ax_ts.set_yticks(np.linspace(.3, .65, 8))\n",
      "ax_ts.set_xlabel(\"Time relavtive to stimulus onset (s)\")\n",
      "ax_ts.set_ylabel(\"Cross-validated decoding accuracy\")\n",
      "ax_ts.axhline(1. / 3, ls=\"--\", c=\"k\")\n",
      "ax_ts.axvline(0, ls=\":\", c=\"k\")\n",
      "\n",
      "diff = up_hrf_info.loc[[\"IFS\", \"IPS\"], \"peak\"].unstack() - up_hrf_info.loc[\"OTC\", \"peak\"]\n",
      "colors = [sns.desaturate(roi_colors[roi], .5 - i * .25) for i, roi in enumerate([\"IFS\", \"IPS\"])]\n",
      "sns.violin(diff.values.T, \"points\", color=colors, kde_thresh=0.015, ax=ax_box)\n",
      "\n",
      "ax_box.axhline(0, ls=\"--\", c=\"k\")\n",
      "ax_box.set_xlim(.5, 2.5)\n",
      "ax_box.set_xticks([1, 2])\n",
      "ax_box.set_xticklabels([\"IFS\", \"IPS\"])\n",
      "ax_box.yaxis.tick_right()\n",
      "ax_box.yaxis.set_label_position(\"right\")\n",
      "ax_box.set_ylabel(\"Peak time relative to OTC ROI (s)\", rotation=270)\n",
      "save_figure(f, \"supplemental_figure_4\")"
     ],
     "language": "python",
     "metadata": {},
     "outputs": [
      {
       "metadata": {},
       "output_type": "display_data",
       "png": "[encoded data removed]",
       "text": [
        "<matplotlib.figure.Figure at 0x6be8c90>"
       ]
      }
     ],
     "prompt_number": 150
    },
    {
     "cell_type": "markdown",
     "metadata": {},
     "source": [
      "<div style=\"width:780px;padding-left:120px\" align=\"justify\">\n",
      "**Upsampled spatiotemporal decoding of Dimension Rules in posterior cortex:** Left panel plots the mean and 68% confidence intervals for cross-validated decoding accuracy on the upsampled timecourses (points and error bars) along with the mean predicted response taken from the gamma PDF fits (solid traces). The estimated peak for each subject and ROI is plotted with a tick on the x axis. Right panel plots the distribution of estimated peak times for the IFS and IPS relative to the OTC (earlier frontoparietal peaks correspond to negative numbers). Each point represents an individual subject superimposed on the kernel densiy estimate of the population.\n",
      "</div>"
     ]
    },
    {
     "cell_type": "heading",
     "level": 3,
     "metadata": {},
     "source": [
      "Frontoparietal influence on visual selection"
     ]
    },
    {
     "cell_type": "markdown",
     "metadata": {},
     "source": [
      "The next set of analyses focus on the question of influence, or at least interactions, within this network. Our question is, when the representation is stronger in frontoparietal areas (as measured by higher probabilistic prediction for the correct class), is that trial more likely to be classified correctly in OTC? I've actually done this with both binary and continuous DVs; the latter is actually a stronger effect, but the former provides a more interpreteable plot, with probabiltiy of correct prediction as the DV."
     ]
    },
    {
     "cell_type": "code",
     "collapsed": false,
     "input": [
      "logits = dict()\n",
      "preds = dict()\n",
      "for roi in net_rois:\n",
      "    mask = \"yeo17_\" + roi.lower()\n",
      "    ds = mvpa.extract_group(\"dimension\", roi, mask, frames, peak, \"rt\", dv=dv4)\n",
      "    logits_ = mvpa.decode_group(ds, model, logits=True, trialwise=True, dv=dv)\n",
      "    logits[roi] = np.concatenate(logits_)\n",
      "    preds_ = mvpa.decode_group(ds, model, trialwise=True, dv=dv)\n",
      "    preds[roi] = np.concatenate(preds_)"
     ],
     "language": "python",
     "metadata": {},
     "outputs": [],
     "prompt_number": 56
    },
    {
     "cell_type": "code",
     "collapsed": false,
     "input": [
      "logit_df = behav_df[[\"subj\"]]\n",
      "for roi in net_rois:\n",
      "    logit_df[roi] = logits[roi]\n",
      "    logit_df[roi + \"_acc\"] = preds[roi]\n",
      "    logit_df[\"log_shift_lag\"] = log(behav_df.dim_shift_lag + 1)\n",
      "%Rpush logit_df"
     ],
     "language": "python",
     "metadata": {},
     "outputs": [],
     "prompt_number": 65
    },
    {
     "cell_type": "code",
     "collapsed": false,
     "input": [
      "%%R\n",
      "m.otc = lmer(OTC_acc ~ log_shift_lag + (log_shift_lag | subj), logit_df, family=binomial)\n",
      "m.med = lmer(OTC_acc ~ IFS + IPS + log_shift_lag + (IFS + IPS + log_shift_lag | subj), logit_df, family=binomial)\n",
      "print(m.otc)\n",
      "print(m.med)"
     ],
     "language": "python",
     "metadata": {},
     "outputs": [
      {
       "metadata": {},
       "output_type": "display_data",
       "text": [
        "Generalized linear mixed model fit by the Laplace approximation \n",
        "Formula: OTC_acc ~ log_shift_lag + (log_shift_lag | subj) \n",
        "   Data: logit_df \n",
        "  AIC  BIC logLik deviance\n",
        " 5302 5334  -2646     5292\n",
        "Random effects:\n",
        " Groups Name          Variance  Std.Dev. Corr   \n",
        " subj   (Intercept)   0.0833435 0.288693        \n",
        "        log_shift_lag 0.0075745 0.087032 -1.000 \n",
        "Number of obs: 3961, groups: subj, 15\n",
        "\n",
        "Fixed effects:\n",
        "              Estimate Std. Error z value Pr(>|z|)    \n",
        "(Intercept)    0.55430    0.09430   5.878 4.14e-09 ***\n",
        "log_shift_lag -0.14570    0.05638  -2.584  0.00976 ** \n",
        "---\n",
        "Signif. codes:  0 \u2018***\u2019 0.001 \u2018**\u2019 0.01 \u2018*\u2019 0.05 \u2018.\u2019 0.1 \u2018 \u2019 1\n",
        "\n",
        "Correlation of Fixed Effects:\n",
        "            (Intr)\n",
        "log_shft_lg -0.778\n",
        "Generalized linear mixed model fit by the Laplace approximation \n",
        "Formula: OTC_acc ~ IFS + IPS + log_shift_lag + (IFS + IPS + log_shift_lag |      subj) \n",
        "   Data: logit_df \n",
        "  AIC  BIC logLik deviance\n",
        " 5067 5155  -2520     5039\n",
        "Random effects:\n",
        " Groups Name          Variance   Std.Dev.  Corr                 \n",
        " subj   (Intercept)   9.6180e-02 0.3101282                      \n",
        "        IFS           6.0616e-05 0.0077857 -1.000               \n",
        "        IPS           2.4044e-03 0.0490347 -0.173  0.173        \n",
        "        log_shift_lag 1.3921e-02 0.1179889 -0.917  0.917 -0.236 \n",
        "Number of obs: 3961, groups: subj, 15\n",
        "\n",
        "Fixed effects:\n",
        "              Estimate Std. Error z value Pr(>|z|)    \n",
        "(Intercept)    0.58073    0.10022   5.794 6.86e-09 ***\n",
        "IFS            0.08388    0.01300   6.453 1.09e-10 ***\n",
        "IPS            0.17420    0.01920   9.073  < 2e-16 ***\n",
        "log_shift_lag -0.07673    0.06172  -1.243    0.214    \n",
        "---\n",
        "Signif. codes:  0 \u2018***\u2019 0.001 \u2018**\u2019 0.01 \u2018*\u2019 0.05 \u2018.\u2019 0.1 \u2018 \u2019 1\n",
        "\n",
        "Correlation of Fixed Effects:\n",
        "            (Intr) IFS    IPS   \n",
        "IFS         -0.050              \n",
        "IPS         -0.105 -0.138       \n",
        "log_shft_lg -0.785  0.096 -0.033\n"
       ]
      }
     ],
     "prompt_number": 67
    },
    {
     "cell_type": "markdown",
     "metadata": {},
     "source": [
      "Set up the main mixed model and the nested models for likelihood ratio tests."
     ]
    },
    {
     "cell_type": "code",
     "collapsed": false,
     "input": [
      "%%R\n",
      "m.logits = lmer(OTC_acc ~ IFS + IPS + (IFS + IPS | subj), logit_df, family=binomial)\n",
      "m.logits.noifs = lmer(OTC_acc ~ IPS + (IFS + IPS | subj), logit_df, family=binomial)\n",
      "m.logits.noips = lmer(OTC_acc ~ IFS + (IFS + IPS | subj), logit_df, family=binomial)"
     ],
     "language": "python",
     "metadata": {},
     "outputs": [],
     "prompt_number": 92
    },
    {
     "cell_type": "markdown",
     "metadata": {},
     "source": [
      "Report on the model."
     ]
    },
    {
     "cell_type": "code",
     "collapsed": false,
     "input": [
      "%%R\n",
      "display(m.logits, detail=TRUE, digits=4)\n",
      "lr_test(m.logits, m.logits.noifs, \"IFS effect\")\n",
      "lr_test(m.logits, m.logits.noips, \"IPS effect\")"
     ],
     "language": "python",
     "metadata": {},
     "outputs": [
      {
       "metadata": {},
       "output_type": "display_data",
       "text": [
        "glmer(formula = OTC_acc ~ IFS + IPS + (IFS + IPS | subj), data = logit_df, \n",
        "    family = binomial)\n",
        "            coef.est coef.se z value Pr(>|z|)\n",
        "(Intercept) 0.5455   0.0665  8.2078  0.0000  \n",
        "IFS         0.0813   0.0139  5.8425  0.0000  \n",
        "IPS         0.1598   0.0209  7.6421  0.0000  \n",
        "\n",
        "Error terms:\n",
        " Groups   Name        Std.Dev. Corr            \n",
        " subj     (Intercept) 0.2180                   \n",
        "          IFS         0.0220   -1.0000         \n",
        "          IPS         0.0596    0.2017 -0.2017 \n",
        " Residual             1.0000                   \n",
        "---\n",
        "number of obs: 3973, groups: subj, 15\n",
        "AIC = 5075.3, DIC = 5057.3\n",
        "deviance = 5057.3 \n",
        "Likelihood ratio test for IFS effect:\n",
        "  Chisq(1) = 20.36; p = 6.43e-06\n",
        "Likelihood ratio test for IPS effect:\n",
        "  Chisq(1) = 24.16; p = 8.86e-07\n"
       ]
      }
     ],
     "prompt_number": 93
    },
    {
     "cell_type": "markdown",
     "metadata": {},
     "source": [
      "It looks like the regression coefficient for the IPS is larger than the IFS. Is this statistically significant?"
     ]
    },
    {
     "cell_type": "code",
     "collapsed": false,
     "input": [
      "%%R\n",
      "C = matrix(c(0, -1, 1), 1, 3)\n",
      "rownames(C) = \"IPS-IFS\"\n",
      "print(summary(glht(m.logits, C)))"
     ],
     "language": "python",
     "metadata": {},
     "outputs": [
      {
       "metadata": {},
       "output_type": "display_data",
       "text": [
        "\n",
        "\t Simultaneous Tests for General Linear Hypotheses\n",
        "\n",
        "Fit: glmer(formula = OTC_acc ~ IFS + IPS + (IFS + IPS | subj), data = logit_df, \n",
        "    family = binomial)\n",
        "\n",
        "Linear Hypotheses:\n",
        "             Estimate Std. Error z value Pr(>|z|)   \n",
        "IPS-IFS == 0  0.07849    0.02723   2.883  0.00394 **\n",
        "---\n",
        "Signif. codes:  0 \u2018***\u2019 0.001 \u2018**\u2019 0.01 \u2018*\u2019 0.05 \u2018.\u2019 0.1 \u2018 \u2019 1\n",
        "(Adjusted p values reported -- single-step method)\n",
        "\n"
       ]
      }
     ],
     "prompt_number": 94
    },
    {
     "cell_type": "code",
     "collapsed": false,
     "input": [
      "xx = linspace(-10, 6, 100)\n",
      "x_pred = sm.add_constant(xx, prepend=True)\n",
      "pred_rois = [\"IFS\", \"IPS\"]\n",
      "models = {roi: empty((subjects.size, xx.size)) for roi in pred_rois}\n",
      "\n",
      "for i, subj in enumerate(subjects):\n",
      "    df = logit_df[logit_df.subj == subj]\n",
      "    y_ = df.OTC_acc\n",
      "    for roi in pred_rois:\n",
      "        x_fit = sm.add_constant(df[roi].values, prepend=True)\n",
      "        fit = sm.GLM(y_, x_fit, family=sm.families.Binomial()).fit()\n",
      "        models[roi][i] = fit.predict(x_pred)"
     ],
     "language": "python",
     "metadata": {},
     "outputs": [],
     "prompt_number": 110
    },
    {
     "cell_type": "code",
     "collapsed": false,
     "input": [
      "f = figure(figsize=(3.5, 7.5))\n",
      "axr = f.add_axes([.15, .325, .8, .65])\n",
      "for i, roi in enumerate(pred_rois):\n",
      "    color = roi_colors[roi]\n",
      "    sns.tsplot(xx, models[roi], color=color, label=roi, ax=axr)\n",
      "    axh = f.add_axes([.15, .05 + i * .13, .8, .1])\n",
      "    axh.hist(logit_df[roi], np.linspace(-10, 6, 15), alpha=.7, color=color)\n",
      "    axh.set_yticks(np.linspace(0, 900, 3))\n",
      "    axh.set_ylabel(\"Trials\")\n",
      "    axh.set_title(roi + \" Evidence Distribution\", size=10)\n",
      "    if not i:\n",
      "        axh.set_xlabel(\"Classifier Evidence\")\n",
      "    else:\n",
      "        axh.set_xticklabels([])\n",
      "axr.set_xlim(-10, 6)\n",
      "axr.set_ylim(.15, .9)\n",
      "axr.set_xticklabels([])\n",
      "axr.axhline(.33, c=\"k\", ls=\"--\")\n",
      "axr.set_ylabel(\"OTC Classifier Accuracy\")\n",
      "axr.legend(loc=\"upper left\")\n",
      "save_figure(f, \"figure_7\")"
     ],
     "language": "python",
     "metadata": {},
     "outputs": [
      {
       "metadata": {},
       "output_type": "display_data",
       "png": "[encoded data removed]",
       "text": [
        "<matplotlib.figure.Figure at 0x5b4a790>"
       ]
      }
     ],
     "prompt_number": 111
    },
    {
     "cell_type": "heading",
     "level": 2,
     "metadata": {},
     "source": [
      "Task and Stimulus Repetition Effects"
     ]
    },
    {
     "cell_type": "markdown",
     "metadata": {},
     "source": [
      "Now we perform two exploratory analyses to understand how different environmental circumstances influence context representation."
     ]
    },
    {
     "cell_type": "heading",
     "level": 3,
     "metadata": {},
     "source": [
      "Rule Repetition"
     ]
    },
    {
     "cell_type": "markdown",
     "metadata": {},
     "source": [
      "First, we look at the effects of rule repetition. Trials were grouped into mini-blocks of three trials under the same set of rules, so each rule was performed at least 3 times in a row and for as many as 9 trials before switching. However, the 3 block repetitions were very rare, so we'll restrict these analyses to 1-6 repetitions.\n",
      "\n",
      "Fit the models and extract the trialwise prediction accuracy into a longform DataFrame."
     ]
    },
    {
     "cell_type": "code",
     "collapsed": false,
     "input": [
      "shift_dfs = []\n",
      "for roi in net_rois:\n",
      "    mask = \"yeo17_\" + roi.lower()\n",
      "    ds = mvpa.extract_group(\"dimension\", roi, mask, frames, peak, \"rt\")\n",
      "    accs = mvpa.decode_group(ds, LogisticRegression(), trialwise=True)\n",
      "    roi_df = behav_df[[\"subj\", \"dim_shift\", \"dim_shift_lag\"]]\n",
      "    roi_df[\"roi\"] = roi\n",
      "    roi_df[\"acc\"] = concatenate(accs)\n",
      "    shift_dfs.append(roi_df)\n",
      "shift_df = pd.concat(shift_dfs, ignore_index=True)\n",
      "shift_df = shift_df[shift_df.dim_shift_lag < 6]\n",
      "shift_df[\"log_shift_lag\"] = log(shift_df.dim_shift_lag + 1)"
     ],
     "language": "python",
     "metadata": {},
     "outputs": [],
     "prompt_number": 112
    },
    {
     "cell_type": "markdown",
     "metadata": {},
     "source": [
      "Now fit a mixed effects logistic regression predicting classifier accuracy with roi and repetition predictors.\n",
      "\n",
      "Based on plots of the data, we'll fit this using log-transformed number of repetitions."
     ]
    },
    {
     "cell_type": "code",
     "collapsed": false,
     "input": [
      "%%R -i shift_df\n",
      "m.shift.int = lmer(acc ~ roi * log_shift_lag + (roi + log_shift_lag | subj), shift_df, family=binomial)\n",
      "m.shift.add = lmer(acc ~ roi + log_shift_lag + (roi + log_shift_lag | subj), shift_df, family=binomial)\n",
      "lr_test(m.shift.int, m.shift.add, \"ROI X Lag interaction\")"
     ],
     "language": "python",
     "metadata": {},
     "outputs": [
      {
       "metadata": {},
       "output_type": "display_data",
       "text": [
        "Likelihood ratio test for ROI X Lag interaction:\n",
        "  Chisq(2) = 2.17; p = 0.338\n"
       ]
      }
     ],
     "prompt_number": 85
    },
    {
     "cell_type": "code",
     "collapsed": false,
     "input": [
      "%%R\n",
      "display(m.shift.add, detail=TRUE, digits=4)\n",
      "m.shift.nolag = lmer(acc ~ roi + (roi + log_shift_lag | subj), shift_df, family=binomial)\n",
      "lr_test(m.shift.add, m.shift.nolag, \"Lag main effect\")"
     ],
     "language": "python",
     "metadata": {},
     "outputs": [
      {
       "metadata": {},
       "output_type": "display_data",
       "text": [
        "glmer(formula = acc ~ roi + log_shift_lag + (roi + log_shift_lag | \n",
        "    subj), data = shift_df, family = binomial)\n",
        "              coef.est coef.se z value Pr(>|z|)\n",
        "(Intercept)    0.0893   0.0427  2.0906  0.0366 \n",
        "roiIPS         0.3566   0.0665  5.3647  0.0000 \n",
        "roiOTC         0.5607   0.0725  7.7344  0.0000 \n",
        "log_shift_lag -0.2246   0.0362 -6.1996  0.0000 \n",
        "\n",
        "Error terms:\n",
        " Groups   Name          Std.Dev. Corr                 \n",
        " subj     (Intercept)   0.0000                        \n",
        "          roiIPS        0.1837      NaN               \n",
        "          roiOTC        0.2138      NaN 0.2085        \n",
        "          log_shift_lag 0.0591      NaN 0.5374 0.1130 \n",
        " Residual               1.0000                        \n",
        "---\n",
        "number of obs: 11283, groups: subj, 15\n",
        "AIC = 15314.5, DIC = 15286.5\n",
        "deviance = 15286.5 \n",
        "Likelihood ratio test for Lag main effect:\n",
        "  Chisq(1) = 22.60; p = 2e-06\n"
       ]
      }
     ],
     "prompt_number": 86
    },
    {
     "cell_type": "heading",
     "level": 3,
     "metadata": {},
     "source": [
      "Stimulus Repetition"
     ]
    },
    {
     "cell_type": "markdown",
     "metadata": {},
     "source": [
      "We'll also look at the effects of stimulus repetition on a within-trial basis. As there were two feature loadings per dimension, the feature along the attended dimension repeated on half of trials and was different on the other half. The same was true for the unattended dimensions, and these dimensions were linked such that they either both repeated or both differed."
     ]
    },
    {
     "cell_type": "code",
     "collapsed": false,
     "input": [
      "prime_dfs = []\n",
      "for roi in net_rois:\n",
      "    mask = \"yeo17_\" + roi.lower()\n",
      "    ds = mvpa.extract_group(\"dimension\", roi, mask, frames, peak, \"rt\")\n",
      "    accs = mvpa.decode_group(ds, LogisticRegression(), trialwise=True)\n",
      "    roi_df = behav_df[[\"subj\", \"attend_match\", \"distract_match\"]]\n",
      "    roi_df[\"roi\"] = roi\n",
      "    roi_df[\"acc\"] = concatenate(accs)\n",
      "    prime_dfs.append(roi_df)\n",
      "prime_df = pd.concat(prime_dfs, ignore_index=True)\n",
      "prime_df[\"distract_nonmatch\"] = ~prime_df.distract_match"
     ],
     "language": "python",
     "metadata": {},
     "outputs": [],
     "prompt_number": 113
    },
    {
     "cell_type": "markdown",
     "metadata": {},
     "source": [
      "As before, fit one large model and test for an interaction. First, just look at matching along the attended dimension."
     ]
    },
    {
     "cell_type": "code",
     "collapsed": false,
     "input": [
      "%%R -i prime_df\n",
      "m.int = lmer(acc ~ attend_match * roi + (attend_match + roi | subj), prime_df, family=binomial)\n",
      "m.add = lmer(acc ~ attend_match + roi + (attend_match + roi | subj), prime_df, family=binomial)\n",
      "lr_test(m.int, m.add, \"roi X match interaction\")"
     ],
     "language": "python",
     "metadata": {},
     "outputs": [
      {
       "metadata": {},
       "output_type": "display_data",
       "text": [
        "Likelihood ratio test for roi X match interaction:\n",
        "  Chisq(2) = 6.21; p = 0.0448\n"
       ]
      }
     ],
     "prompt_number": 67
    },
    {
     "cell_type": "markdown",
     "metadata": {},
     "source": [
      "As we have a significant interaction, break the model down by ROI and test the main effect of repeats along the attended dimension in each ROI separately."
     ]
    },
    {
     "cell_type": "code",
     "collapsed": false,
     "input": [
      "%%R\n",
      "m.otc = lmer(acc ~ attend_match + (attend_match | subj), prime_df,\n",
      "             subset=prime_df$\"roi\" == \"OTC\", family=binomial)\n",
      "m.mean = lmer(acc ~ 1 + (attend_match | subj), prime_df,\n",
      "             subset=prime_df$\"roi\" == \"OTC\", family=binomial)              \n",
      "display(m.otc, detail=TRUE, digits=4)\n",
      "lr_test(m.otc, m.mean, \"OTC model\")"
     ],
     "language": "python",
     "metadata": {},
     "outputs": [
      {
       "metadata": {},
       "output_type": "display_data",
       "text": [
        "glmer(formula = acc ~ attend_match + (attend_match | subj), data = prime_df, \n",
        "    family = binomial, subset = prime_df$roi == \"OTC\")\n",
        "                 coef.est coef.se z value Pr(>|z|)\n",
        "(Intercept)       0.5816   0.0884  6.5799  0.0000 \n",
        "attend_matchTRUE -0.2417   0.0724 -3.3372  0.0008 \n",
        "\n",
        "Error terms:\n",
        " Groups   Name             Std.Dev. Corr    \n",
        " subj     (Intercept)      0.2893           \n",
        "          attend_matchTRUE 0.1189   -1.0000 \n",
        " Residual                  1.0000           \n",
        "---\n",
        "number of obs: 3973, groups: subj, 15\n",
        "AIC = 5280.3, DIC = 5270.3\n",
        "deviance = 5270.3 \n",
        "Likelihood ratio test for OTC model:\n",
        "  Chisq(1) = 9.35; p = 0.00223\n"
       ]
      }
     ],
     "prompt_number": 68
    },
    {
     "cell_type": "code",
     "collapsed": false,
     "input": [
      "%%R\n",
      "m.ips = lmer(acc ~ attend_match + (attend_match | subj), prime_df,\n",
      "             subset=prime_df$\"roi\" == \"IPS\", family=binomial)\n",
      "m.ips.mean = lmer(acc ~ 1 + (attend_match | subj), prime_df,\n",
      "                  subset=prime_df$\"roi\" == \"IPS\", family=binomial)              \n",
      "display(m.ips, detail=TRUE, digits=4)\n",
      "lr_test(m.ips, m.ips.mean, \"IPS model\")"
     ],
     "language": "python",
     "metadata": {},
     "outputs": [
      {
       "metadata": {},
       "output_type": "display_data",
       "text": [
        "glmer(formula = acc ~ attend_match + (attend_match | subj), data = prime_df, \n",
        "    family = binomial, subset = prime_df$roi == \"IPS\")\n",
        "                 coef.est coef.se z value Pr(>|z|)\n",
        "(Intercept)       0.3220   0.0650  4.9526  0.0000 \n",
        "attend_matchTRUE -0.1420   0.0688 -2.0647  0.0390 \n",
        "\n",
        "Error terms:\n",
        " Groups   Name             Std.Dev. Corr   \n",
        " subj     (Intercept)      0.1791          \n",
        "          attend_matchTRUE 0.0945   0.7310 \n",
        " Residual                  1.0000          \n",
        "---\n",
        "number of obs: 3973, groups: subj, 15\n",
        "AIC = 5426.5, DIC = 5416.5\n",
        "deviance = 5416.5 \n",
        "Likelihood ratio test for IPS model:\n",
        "  Chisq(1) = 3.73; p = 0.0536\n"
       ]
      }
     ],
     "prompt_number": 69
    },
    {
     "cell_type": "code",
     "collapsed": false,
     "input": [
      "%%R\n",
      "m.ifs = lmer(acc ~ attend_match + (attend_match | subj), prime_df,\n",
      "             subset=prime_df$\"roi\" == \"IFS\", family=binomial)\n",
      "m.ifs.mean = lmer(acc ~ 1 + (attend_match | subj), prime_df,\n",
      "                  subset=prime_df$\"roi\" == \"IFS\", family=binomial)              \n",
      "display(m.ifs, detail=TRUE, digits=4)\n",
      "lr_test(m.ifs, m.ifs.mean, \"IFS model\")"
     ],
     "language": "python",
     "metadata": {},
     "outputs": [
      {
       "metadata": {},
       "output_type": "display_data",
       "text": [
        "glmer(formula = acc ~ attend_match + (attend_match | subj), data = prime_df, \n",
        "    family = binomial, subset = prime_df$roi == \"IFS\")\n",
        "                 coef.est coef.se z value Pr(>|z|)\n",
        "(Intercept)      -0.0933   0.0456 -2.0448  0.0409 \n",
        "attend_matchTRUE -0.0122   0.0645 -0.1890  0.8501 \n",
        "\n",
        "Error terms:\n",
        " Groups   Name             Std.Dev. Corr   \n",
        " subj     (Intercept)      0.0277          \n",
        "          attend_matchTRUE 0.0420   1.0000 \n",
        " Residual                  1.0000          \n",
        "---\n",
        "number of obs: 3973, groups: subj, 15\n",
        "AIC = 5507.7, DIC = 5497.7\n",
        "deviance = 5497.7 \n",
        "Likelihood ratio test for IFS model:\n",
        "  Chisq(1) = 0.04; p = 0.85\n"
       ]
      }
     ],
     "prompt_number": 70
    },
    {
     "cell_type": "markdown",
     "metadata": {},
     "source": [
      "Within the OTC, now add in repeats along the distracting dimension (this isn't a factor; they're two separate predictors)"
     ]
    },
    {
     "cell_type": "code",
     "collapsed": false,
     "input": [
      "%%R\n",
      "otc.att = lmer(acc ~ attend_match + distract_match + (attend_match + distract_match | subj),\n",
      "                prime_df, subset=prime_df$\"roi\" == \"OTC\", family=binomial)\n",
      "otc.att.nodist = lmer(acc ~ attend_match + (attend_match + distract_match | subj),\n",
      "                      prime_df, subset=prime_df$\"roi\" == \"OTC\", family=binomial)\n",
      "display(otc.att, detail=TRUE, digits=4)\n",
      "lr_test(otc.att, otc.att.nodist, \"distract repitition effect\")"
     ],
     "language": "python",
     "metadata": {},
     "outputs": [
      {
       "metadata": {},
       "output_type": "display_data",
       "text": [
        "glmer(formula = acc ~ attend_match + distract_match + (attend_match + \n",
        "    distract_match | subj), data = prime_df, family = binomial, \n",
        "    subset = prime_df$roi == \"OTC\")\n",
        "                   coef.est coef.se z value Pr(>|z|)\n",
        "(Intercept)         0.5404   0.0895  6.0409  0.0000 \n",
        "attend_matchTRUE   -0.2415   0.0723 -3.3411  0.0008 \n",
        "distract_matchTRUE  0.0819   0.0665  1.2302  0.2186 \n",
        "\n",
        "Error terms:\n",
        " Groups   Name               Std.Dev. Corr            \n",
        " subj     (Intercept)        0.2656                   \n",
        "          attend_matchTRUE   0.1175   -1.0000         \n",
        "          distract_matchTRUE 0.0449    1.0000 -1.0000 \n",
        " Residual                    1.0000                   \n",
        "---\n",
        "number of obs: 3973, groups: subj, 15\n",
        "AIC = 5286.5, DIC = 5268.5\n",
        "deviance = 5268.5 \n",
        "Likelihood ratio test for distract repitition effect:\n",
        "  Chisq(1) = 1.51; p = 0.219\n"
       ]
      }
     ],
     "prompt_number": 78
    },
    {
     "cell_type": "markdown",
     "metadata": {},
     "source": [
      "Unattended repeats are assocaited with a small and nonsignificant increase in decoding accuracy. To test whether the slope for attended matches is more negative than the slope for the unattended dimensions is positive, recode the latter and then test using a linear contrast."
     ]
    },
    {
     "cell_type": "code",
     "collapsed": false,
     "input": [
      "%%R\n",
      "otc.both = lmer(acc ~ attend_match + distract_nonmatch + (attend_match + distract_nonmatch | subj),\n",
      "                prime_df, subset=prime_df$\"roi\" == \"OTC\", family=binomial)\n",
      "C = matrix(c(0, 1, -1), 1, 3)\n",
      "rownames(C) = \"attend - distract\"\n",
      "print(summary(glht(otc.both, C, alternative=\"less\")))"
     ],
     "language": "python",
     "metadata": {},
     "outputs": [
      {
       "metadata": {},
       "output_type": "display_data",
       "text": [
        "\n",
        "\t Simultaneous Tests for General Linear Hypotheses\n",
        "\n",
        "Fit: glmer(formula = acc ~ attend_match + distract_nonmatch + (attend_match + \n",
        "    distract_nonmatch | subj), data = prime_df, family = binomial, \n",
        "    subset = prime_df$roi == \"OTC\")\n",
        "\n",
        "Linear Hypotheses:\n",
        "                       Estimate Std. Error z value Pr(<z)  \n",
        "attend - distract >= 0 -0.15952    0.09446  -1.689 0.0456 *\n",
        "---\n",
        "Signif. codes:  0 \u2018***\u2019 0.001 \u2018**\u2019 0.01 \u2018*\u2019 0.05 \u2018.\u2019 0.1 \u2018 \u2019 1\n",
        "(Adjusted p values reported -- single-step method)\n",
        "\n"
       ]
      }
     ],
     "prompt_number": 81
    },
    {
     "cell_type": "markdown",
     "metadata": {},
     "source": [
      "Now plot these data. This could probably be compressed a little bit (I just glued two previously existing functions together) but it's fine."
     ]
    },
    {
     "cell_type": "code",
     "collapsed": false,
     "input": [
      "f, axes = subplots(2, 3, sharey=True, figsize=(7, 11))\n",
      "\n",
      "data = shift_df.groupby([\"roi\", \"subj\", \"dim_shift_lag\"]).acc.mean().unstack()\n",
      "for i, roi in enumerate(net_rois):\n",
      "    ax = axes[0, i]\n",
      "    color = roi_colors[roi]\n",
      "    roi_data = np.array(data.loc[roi])\n",
      "    x = range(1, 7)\n",
      "    xx = linspace(.7, 6.3, 100)\n",
      "    sns.tsplot(x, roi_data, err_style=\"ci_bars\",\n",
      "               interpolate=False, color=color, ms=8, mec=color,\n",
      "               err_kws=dict(mew=0, elinewidth=2.5), ax=ax)\n",
      "    y = roi_data.mean(axis=0)\n",
      "    fit = np.polyfit(log(x), y, 1)\n",
      "    r2 = r2_score(y, np.polyval(fit, log(x)))\n",
      "    yy = np.polyval(fit, log(xx))\n",
      "    a, b = 3.15, 3.85\n",
      "    block_break = (xx >=a) & (xx <= b)\n",
      "    ax.plot(xx[xx < a], yy[xx < a], lw=2, color=color)\n",
      "    ax.plot(xx[block_break], yy[block_break], lw=2, ls=\":\", color=color)\n",
      "    ax.plot(xx[xx > b], yy[xx > b], lw=2, color=color)\n",
      "    ax.text(3.2, y.mean() + .06,\n",
      "            \"$R^2 = %.2f$\" % r2, size=14)\n",
      "    ax.xaxis.grid(False)\n",
      "    ax.set_xlim(.7, 6.3)\n",
      "    ax.set_ylim(.3, .7)\n",
      "    ax.set_yticks(np.linspace(.3, .7, 5))\n",
      "    ax.axhline(.33, ls=\"--\", c=\"#444444\")\n",
      "    if i == 1:\n",
      "        ax.set_xlabel(\"Trials Since Rule Switch\")\n",
      "    if not i:\n",
      "        ax.set_ylabel(\"Cross-Validated Decoding Accuracy\")\n",
      "    ax.set_title(roi)\n",
      "\n",
      "x = arange(2)\n",
      "labels = [\"unattended\", \"attended\"]\n",
      "for i, (roi, roi_df) in enumerate(prime_df.groupby(\"roi\")):\n",
      "    ax = axes[1, i]\n",
      "    for j, cond in enumerate([\"distract\", \"attend\"]):\n",
      "        effect = pd.pivot_table(roi_df, \"acc\", \"subj\", cond + \"_match\")\n",
      "        color = roi_colors[roi]\n",
      "        if not j:\n",
      "            color = sns.set_hls_values(color, s=.3, l=.65)\n",
      "        sns.tsplot(x, effect, \"ci_bars\", color=color, interpolate=False,\n",
      "                   err_kws={\"lw\": 2.5, \"mew\": 0, \"mc\": \"none\"},\n",
      "                   marker=\"o\", ms=8, mec=color, ax=ax)\n",
      "        ax.plot([0, 1], effect.mean(), color=color, lw=2.5, label=labels[j])\n",
      "\n",
      "    ax.xaxis.grid(False)\n",
      "    ax.set_xlim(-.2, 1.2)\n",
      "    ax.set_xticks([.2, .8])\n",
      "    ax.set_xticklabels([\"Nonmatch\", \"     Match\"])\n",
      "    ax.set_ylim(.3, .7)\n",
      "    ax.set_yticks(np.linspace(.3, .7, 5))\n",
      "    ax.axhline(.33, ls=\"--\", c=\"#444444\")\n",
      "    if i == 1:\n",
      "        ax.set_xlabel(\"Feature Relationship\")\n",
      "    if not i:\n",
      "        ax.set_ylabel(\"Cross-Validated Decoding Accuracy\")\n",
      "    ax.legend(frameon=False, title=\"Dimensions\", bbox_to_anchor=(.9, .26))\n",
      "    \n",
      "tight_layout()\n",
      "save_figure(f, \"figure_8\")"
     ],
     "language": "python",
     "metadata": {},
     "outputs": [
      {
       "metadata": {},
       "output_type": "display_data",
       "png": "[encoded data removed]",
       "text": [
        "<matplotlib.figure.Figure at 0xd881c10>"
       ]
      }
     ],
     "prompt_number": 115
    },
    {
     "cell_type": "markdown",
     "metadata": {},
     "source": [
      "<div style=\"width:450px;padding-left:120px\" align=\"justify\">\n",
      "<strong>Task and Stimulus Effects on Dimension rule decoding:</strong> (A) Effects of task repetition on rule decoding in IFS, IPS, and OTC. Error bars indicate 68% CI across participants. Fitted line shows log-linear fit to the the mean data, along with the $R^2$ for this fit within each ROI. Dashed line indicates chance performance. (B) Effects of stimulus repetition on rule decoding in these regions. The same data are sorted twice: once by wether the attended features matched (dark plots) and once by whether the unattended features matched (light plots).\n",
      "</div>"
     ]
    }
   ],
   "metadata": {}
  }
 ]
}