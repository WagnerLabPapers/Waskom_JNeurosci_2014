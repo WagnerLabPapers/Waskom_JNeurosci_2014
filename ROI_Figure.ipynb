{
 "metadata": {
  "name": "ROI_Figure"
 },
 "nbformat": 3,
 "nbformat_minor": 0,
 "worksheets": [
  {
   "cells": [
    {
     "cell_type": "heading",
     "level": 1,
     "metadata": {},
     "source": [
      "DKsort ROI Figure Notebook"
     ]
    },
    {
     "cell_type": "markdown",
     "metadata": {},
     "source": [
      "This notebook is used to create the figure displaying the parcellation used in these analyses."
     ]
    },
    {
     "cell_type": "code",
     "collapsed": false,
     "input": [
      "%pylab wx"
     ],
     "language": "python",
     "metadata": {},
     "outputs": []
    },
    {
     "cell_type": "code",
     "collapsed": false,
     "input": [
      "from surfer import Brain\n",
      "from mayavi import mlab\n",
      "from scipy import ndimage, misc"
     ],
     "language": "python",
     "metadata": {},
     "outputs": []
    },
    {
     "cell_type": "code",
     "collapsed": false,
     "input": [
      "views = dict(pfc=dict(lh=[135, 80, 290, [20, 15, -5]],\n",
      "                      rh=[45, 80, 290, [-20, 15, -5]]),\n",
      "             net=dict(lh=[230, 65, 335, [40, 15, -20]],\n",
      "                      rh=[310, 65, 335, [-40, 15, -20]]))"
     ],
     "language": "python",
     "metadata": {},
     "outputs": []
    },
    {
     "cell_type": "code",
     "collapsed": false,
     "input": [
      "screenshots = []\n",
      "for hemi in [\"lh\", \"rh\"]:\n",
      "    b = Brain(\"fsaverage\", hemi, \"semi7\",\n",
      "              config_opts={\"size\": 600, \"background\": \"white\"})\n",
      "    b.add_annotation(\"dksort\", alpha=.8, borders=False)\n",
      "    for view in [\"pfc\", \"net\"]:\n",
      "        mlab.view(*views[view][hemi])\n",
      "        screenshots.append(mlab.screenshot())\n",
      "    b.close()"
     ],
     "language": "python",
     "metadata": {},
     "outputs": []
    },
    {
     "cell_type": "code",
     "collapsed": false,
     "input": [
      "crop = slice(25, -25)\n",
      "wide_view = np.concatenate([screenshots[2],\n",
      "                            screenshots[0],\n",
      "                            screenshots[1][:, crop],\n",
      "                            screenshots[3][:, crop]],\n",
      "                           axis=1)"
     ],
     "language": "python",
     "metadata": {},
     "outputs": []
    },
    {
     "cell_type": "code",
     "collapsed": false,
     "input": [
      "misc.imsave(\"figures/dksort_parcellation.pdf\", wide_view)"
     ],
     "language": "python",
     "metadata": {},
     "outputs": []
    },
    {
     "cell_type": "code",
     "collapsed": false,
     "input": [],
     "language": "python",
     "metadata": {},
     "outputs": []
    }
   ],
   "metadata": {}
  }
 ]
}