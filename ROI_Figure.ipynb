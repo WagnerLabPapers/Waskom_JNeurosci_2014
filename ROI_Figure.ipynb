{
 "metadata": {
  "name": ""
 },
 "nbformat": 3,
 "nbformat_minor": 0,
 "worksheets": [
  {
   "cells": [
    {
     "cell_type": "heading",
     "level": 1,
     "metadata": {},
     "source": [
      "DKsort ROI Figure Notebook"
     ]
    },
    {
     "cell_type": "markdown",
     "metadata": {},
     "source": [
      "This notebook is used to create the figure displaying the parcellation used in these analyses."
     ]
    },
    {
     "cell_type": "code",
     "collapsed": false,
     "input": [
      "%pylab wx"
     ],
     "language": "python",
     "metadata": {},
     "outputs": []
    },
    {
     "cell_type": "code",
     "collapsed": false,
     "input": [
      "from surfer import Brain\n",
      "from mayavi import mlab"
     ],
     "language": "python",
     "metadata": {},
     "outputs": []
    },
    {
     "cell_type": "code",
     "collapsed": false,
     "input": [
      "views = dict(pfc=dict(lh=[135, 80, 290, [20, 15, -5]],\n",
      "                      rh=[45, 80, 290, [-20, 15, -5]]),\n",
      "             net=dict(lh=[230, 65, 335, [40, 15, -20]],\n",
      "                      rh=[-105, 105, 290, [0, -15, 0]]))"
     ],
     "language": "python",
     "metadata": {},
     "outputs": []
    },
    {
     "cell_type": "markdown",
     "metadata": {},
     "source": [
      "Copy the partially-inflated fsaverage surfaces into the SUBJECTS_DIR. NOTE: this may require sudo."
     ]
    },
    {
     "cell_type": "code",
     "collapsed": false,
     "input": [
      "!cp rois/?h.semi7 $SUBJECTS_DIR/fsaverage/surf/"
     ],
     "language": "python",
     "metadata": {},
     "outputs": []
    },
    {
     "cell_type": "markdown",
     "metadata": {},
     "source": [
      "Use PySurfer to draw the surfaces"
     ]
    },
    {
     "cell_type": "code",
     "collapsed": false,
     "input": [
      "screenshots = []\n",
      "for hemi in [\"lh\", \"rh\"]:\n",
      "    b = Brain(\"fsaverage\", hemi, \"semi7\",\n",
      "              config_opts={\"width\": 600, \"height\": 600, \"background\": \"white\"})\n",
      "    b.add_annotation(\"dksort\", alpha=.8, borders=False)\n",
      "    for view in [\"pfc\", \"net\"]:\n",
      "        mlab.view(*views[view][hemi])\n",
      "        screenshots.append(mlab.screenshot())\n",
      "    b.close()"
     ],
     "language": "python",
     "metadata": {},
     "outputs": []
    },
    {
     "cell_type": "markdown",
     "metadata": {},
     "source": [
      "Assemble each view into the full figure"
     ]
    },
    {
     "cell_type": "code",
     "collapsed": false,
     "input": [
      "wide_view = np.concatenate([screenshots[2],\n",
      "                            screenshots[0],\n",
      "                            screenshots[1][:, 25:-25],\n",
      "                            screenshots[3][:, 100:-100]],\n",
      "                           axis=1)\n",
      "shape = [50]\n",
      "shape.extend(wide_view.shape[1:])\n",
      "wide_view = np.concatenate([wide_view, np.ones(shape) * 255], axis=0)"
     ],
     "language": "python",
     "metadata": {},
     "outputs": []
    },
    {
     "cell_type": "markdown",
     "metadata": {},
     "source": [
      "Load the lookup table for the ROI colors"
     ]
    },
    {
     "cell_type": "code",
     "collapsed": false,
     "input": [
      "lut = np.genfromtxt(\"rois/dksort.lut\", object)\n",
      "rois = lut[1:, 1]\n",
      "colors = np.array(lut[1:, 2:5], np.float) / 255."
     ],
     "language": "python",
     "metadata": {},
     "outputs": []
    },
    {
     "cell_type": "markdown",
     "metadata": {},
     "source": [
      "Add a legend to the plot and save"
     ]
    },
    {
     "cell_type": "code",
     "collapsed": false,
     "input": [
      "f, ax = subplots(1, 1, figsize=(30, 8))\n",
      "ax.imshow(wide_view / 255.)\n",
      "xlim = ax.get_xlim()\n",
      "ylim = ax.get_ylim()\n",
      "for roi, color in zip(rois, colors):\n",
      "    ax.bar(max(ylim), 0, color=color, label=roi, edgecolor=color)\n",
      "ax.set_xlim(*xlim)\n",
      "ax.set_ylim(*ylim)\n",
      "ax.set_xticks([])\n",
      "ax.set_yticks([])\n",
      "ax.legend(loc=8, ncol=len(rois), frameon=False, fontsize=16)\n",
      "f.savefig(\"figures/figure_3.pdf\", bbox_inches=\"tight\", edgecolor=\"w\")\n",
      "plt.close(f)"
     ],
     "language": "python",
     "metadata": {},
     "outputs": []
    }
   ],
   "metadata": {}
  }
 ]
}