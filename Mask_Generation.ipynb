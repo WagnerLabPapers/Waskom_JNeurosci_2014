{
 "metadata": {
  "name": "Mask_Generation"
 },
 "nbformat": 3,
 "nbformat_minor": 0,
 "worksheets": [
  {
   "cells": [
    {
     "cell_type": "heading",
     "level": 1,
     "metadata": {},
     "source": [
      "ROI Mask Generation for DKSort"
     ]
    },
    {
     "cell_type": "markdown",
     "metadata": {},
     "source": [
      "This notebook contains the scripts for generating masks defining ROIs used for decoding analyses in the DKsort experiment.\n",
      "\n",
      "It actaully consistes of a number of bash scripts executing the [`make_masks.py`](https://github.com/mwaskom/lyman/blob/master/scripts/make_masks.py) program that is part of [lyman](http://github.com/mwaskom/lyman).\n",
      "\n",
      "All of the ROIs for this project are originally defined on the cortical surface of the Freesurfer average subject (`fsaverage`).\n",
      "\n",
      "The ROIs are mapped to individual subjects using the following steps:\n",
      "    \n",
      "- Warp the ROI labsls to the native surfaces using a curvature-based warp\n",
      "\n",
      "- Project half the cortical thickness from each vertex in the ROI and labell all intersected voxels in the native functional space\n",
      "\n",
      "Ideally, this approach generates ROIs that best represent the location of the region in each subject's brain and minmizes the inclusion of voxels from outside gray matter. The first objective is, of course, dependant on the relationship between the functional region and the macroanatomical structures used in the surface transformation. Note that for adjacent labels, this method does not gaurntee disjoint masks in the native functional space."
     ]
    },
    {
     "cell_type": "code",
     "collapsed": false,
     "input": [
      "%%bash\n",
      "rois=\"ifs amfg pmfg fpc ifg psfs\"\n",
      "for roi in $rois\n",
      "    do\n",
      "    make_masks.py -s subjects.txt -roi yeo17_$roi -label yeo17_$roi -sample graymid -save_native\n",
      "    done"
     ],
     "language": "python",
     "metadata": {},
     "outputs": [],
     "prompt_number": 12
    },
    {
     "cell_type": "code",
     "collapsed": false,
     "input": [
      "%%bash\n",
      "rois=\"ips otc\"\n",
      "for roi in $rois\n",
      "    do\n",
      "    make_masks.py -s subjects.txt -roi yeo17_$roi -label yeo17_$roi -sample graymid -save_native\n",
      "    done"
     ],
     "language": "python",
     "metadata": {},
     "outputs": [],
     "prompt_number": 19
    },
    {
     "cell_type": "code",
     "collapsed": false,
     "input": [
      "%%bash\n",
      "rois=\"dksort_pfc yeo17_ifs_thresh0.25\"\n",
      "for roi in $rois\n",
      "    do\n",
      "    make_masks.py -s subjects.txt -roi $roi -label $roi -sample graymid -save_native\n",
      "    done"
     ],
     "language": "python",
     "metadata": {},
     "outputs": [],
     "prompt_number": 24
    },
    {
     "cell_type": "code",
     "collapsed": false,
     "input": [
      "%%bash\n",
      "make_masks.py -s subjects.txt -roi yeo17_lh-aifs_thresh0.25 -label yeo17_aifs_thresh0.25 -sample graymid -save_native -hemi lh\n",
      "make_masks.py -s subjects.txt -roi yeo17_rh-aifs_thresh0.25 -label yeo17_aifs_thresh0.25 -sample graymid -save_native -hemi rh\n",
      "make_masks.py -s subjects.txt -roi yeo17_lh-pifs_thresh0.25 -label yeo17_pifs_thresh0.25 -sample graymid -save_native -hemi lh"
     ],
     "language": "python",
     "metadata": {},
     "outputs": [],
     "prompt_number": 31
    },
    {
     "cell_type": "code",
     "collapsed": false,
     "input": [],
     "language": "python",
     "metadata": {},
     "outputs": []
    }
   ],
   "metadata": {}
  }
 ]
}